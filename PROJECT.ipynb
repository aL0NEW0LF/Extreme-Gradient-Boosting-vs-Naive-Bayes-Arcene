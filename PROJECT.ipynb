{
 "cells": [
  {
   "cell_type": "markdown",
   "source": [
    "# FAKHRE-EDDINE MOHAMED AMINE - ZAOUI HANANE - EL GHAZI LOUBNA"
   ],
   "metadata": {
    "collapsed": false
   },
   "id": "677da00ce56cf9eb"
  },
  {
   "cell_type": "markdown",
   "source": [
    "Pour ce projet, nous allons utiliser l'algorithme XGBoost et l'algorithme Naive Bayes pour classer les données de l'ensemble de validation.\n",
    "\n",
    "Nous allons comparer les resultats obtenus avec notre algorithme avec ceux obtenus avec l'algorithme Naive Bayes de sklearn.\n",
    "\n",
    "XGBoost et Naive bayes sont utilisés pour les questions d'apprentissage supervisé dans lesquelles nous prédisons une variable cible $y_i$ en utilisant des données d'apprentissage $x_i$ (avec de nombreuses caractéristiques). Avant d'aborder les spécificités des arbres, passons en revue les principes fondamentaux de l'apprentissage supervisé.\n",
    "\n",
    "Pour les comprendre, vous devez d'abord comprendre les idées et les méthodes d'apprentissage automatique sur lesquelles il est basé : l'apprentissage automatique supervisé.\n",
    "\n",
    "Les concepts que nous allons aborder ici sont fondamentaux pour l'apprentissage supervisé et servent de blocs de construction naturels pour les boîtes à outils d'apprentissage automatique. Vous devriez être en mesure de définir les différences et les similitudes entre les arbres boostés par le gradient et les forêts aléatoires, par exemple. Comprendre le processus d'une manière formalisée nous aide également à comprendre l'objectif que nous apprenons ainsi que le raisonnement derrière les heuristiques telles que l'élagage et le lissage."
   ],
   "metadata": {
    "collapsed": false
   },
   "id": "27648d9759492956"
  },
  {
   "cell_type": "markdown",
   "source": [
    "# **Apprentissage supervisé**\n",
    "### **Modèle et paramètres**\n",
    "L'apprentissage supervisé fait référence au cadre mathématique utilisé pour former des prédictions à partir de données d'entrée. Un modèle linéaire est un exemple courant, la valeur prédictive étant $\\hat{y}_i = \\sum_j \\theta_j x_{ij}$. La valeur de prédiction peut avoir plusieurs significations, telles que la conversion logistique pour la probabilité d'une classe positive ou le score de classement pour les évaluations de sortie. Les paramètres, les inconnues apprises à partir des données, sont les coefficients thêta dans les questions de régression linéaire. La description des paramètres est imprécise en raison des nombreux paramètres d'un modèle."
   ],
   "metadata": {
    "collapsed": false
   },
   "id": "9208444a56ca1752"
  },
  {
   "cell_type": "markdown",
   "source": [
    "### **Fonction objective : Perte d'entraînement + régularisation**\n",
    "Les sélections prudentes de $y_i$ peuvent être utilisées pour des tâches telles que la régression, la classification et le classement. La formation d'un modèle implique de trouver les paramètres optimaux $\\theta$ pour les données de formation $x_i$ et les étiquettes $y_i$. Pour former le modèle, une fonction objective est établie, qui mesure l'adéquation du modèle aux données d'apprentissage. Les fonctions objectives se composent d'une perte d'apprentissage et d'un terme de régularisation:\n",
    "\n",
    "$\\text{obj}(\\theta) = L(\\theta) + \\Omega(\\theta)$\n",
    "\n",
    "où $L$ représente la fonction de perte d'apprentissage et $\\Omega$ représente le terme de régularisation. La perte d'apprentissage quantifie le degré de prédiction de notre modèle par rapport aux données d'apprentissage. Une option populaire pour $L$ est l'erreur quadratique moyenne, qui est donnée par :\n",
    "\n",
    "$L(\\theta) = \\sum_i (y_i-\\hat{y}_i)^2$\n",
    "\n",
    "Une autre fonction de perte couramment utilisée est la perte logistique, utilisée pour la régression logistique :\n",
    "\n",
    "$L(\\theta) = \\sum_i[ y_i\\ln (1+e^{-\\hat{y}_i}) + (1-y_i)\\ln (1+e^{\\hat{y}_i})]$\n",
    "\n",
    "L'expression \"régularisation\" est souvent négligée. Le terme de régularisation régule la complexité du modèle, ce qui permet d'éviter l'ajustement excessif."
   ],
   "metadata": {
    "collapsed": false
   },
   "id": "19b45ebb0dd0e114"
  },
  {
   "cell_type": "markdown",
   "source": [
    "# **Naive Bayes**\n",
    "### **Principe du classificateur Naive Bayes :**\n",
    "Un classificateur Naive Bayes est un modèle d'apprentissage automatique probabiliste utilisé pour les tâches de classification. Le cœur du classificateur est basé sur le théorème de Bayes."
   ],
   "metadata": {
    "collapsed": false
   },
   "id": "4077f50d411e4990"
  },
  {
   "cell_type": "markdown",
   "source": [
    "### **Théorème de Bayes :**\n",
    "$P(A|B) = \\frac{P(B|A) P(A)}{P(B)}$\n",
    "\n",
    "En utilisant le théorème de Bayes, nous pouvons trouver la probabilité que A se produise, étant donné que B s'est produit. Ici, B est la preuve et A est l'hypothèse. L'hypothèse faite ici est que les prédicteurs/caractéristiques sont indépendants. En d'autres termes, la présence d'une caractéristique particulière n'affecte pas l'autre. C'est pourquoi cette méthode est qualifiée de naïve.\n",
    "\n",
    "Le théorème de Bayes peut être réécrit comme suit :\n",
    "$P(w_i|X) = \\frac{P(X|w_i) P(w_i)}{P(X)}$\n",
    "\n",
    "X est donné comme suit:\n",
    "$X = (x_1, x_2, \\cdots, x_n)$\n",
    "\n",
    "$P(w_j|X) = \\frac{P(X|w_j) P(w_j)}{P(X)} = \\frac{P(X|w_j) P(w_j)}{\\sum_{i=1}^C P(X|w_i) P(w_i)}$\n",
    "\n",
    "En supposant que les varaibles sont indepentantes, nous pouvons réécrire l'équation comme suit : \\\n",
    "$P(X|w_j) = \\prod_{i=1}^N P(x_i|w_j)$"
   ],
   "metadata": {
    "collapsed": false
   },
   "id": "e1f2e36314fb76af"
  },
  {
   "cell_type": "markdown",
   "source": [
    "##### **Types de classificateurs Naive Bayes :**\n",
    "###### Multinomial Naive Bayes : \n",
    "Cette méthode est couramment utilisée pour les problèmes de classification de documents, par exemple pour déterminer si un document appartient aux catégories sport, politique ou technologie. Le classificateur utilise la fréquence des termes dans le document comme caractéristiques/prédicteurs.\n",
    "\n",
    "###### Bernoulli Naive Bayes : \n",
    "Comme le multinomial Naive Bayes, sauf que les prédicteurs sont des variables booléennes. Les paramètres que nous utilisons pour prévoir la variable de classe n'acceptent que des réponses oui ou non, par exemple si un mot apparaît ou non dans le texte.\n",
    "\n",
    "###### Bayes naïf gaussien : \n",
    "Lorsque les prédicteurs sont continus et non discrets, nous supposons qu'ils sont tirés d'une distribution gaussienne. \\\n",
    "$P(x_i|w_j) = {\\frac{1}{\\sigma_j \\sqrt {2\\pi}} e^{-\\frac{(x_i - \\mu_j)^2}{2{\\sigma_j}^2}\\\\$"
   ],
   "metadata": {
    "collapsed": false
   },
   "id": "a142a1591c8a0c72"
  },
  {
   "cell_type": "markdown",
   "source": [
    "La probabilité d'une classe est calculée comme suit : \\\n",
    "$P(X|w_j) = \\prod_{i=1}^N P(x_i|w_j) = \\prod_{i=1}^N {\\frac{1}{\\sigma_j \\sqrt {2\\pi}} e^{-\\frac{(x_i - \\mu_j)^2}{2{\\sigma_j}^2}$"
   ],
   "metadata": {
    "collapsed": false
   },
   "id": "35b76969c4dca97"
  },
  {
   "cell_type": "markdown",
   "source": [
    "# **Extreme Gradient Boosting (XGBoost)**\n",
    "### **Decision trees (arbres de decision)**\n",
    "L’apprentissage de l’arbre des décisions est une méthode d’enseignement supervisé qui est utilisée dans les statistiques, l’exploitation minière de données et le machine learning . Il s’agit d’une approche non paramétrique qui peut être utilisée pour la classification ainsi que pour la régression. Le but de l'utilisation d'un arbre décisionnel est d'apprendre les règles de décision de base déduites des attributs de données pour produire un modèle de formation qui peut être utilisé pour prédire la classe ou la valeur de la variable cible."
   ],
   "metadata": {
    "collapsed": false
   },
   "id": "56712a63472ba795"
  },
  {
   "cell_type": "markdown",
   "source": [
    "### **Gradient Boosting Decision Trees (GBDT)**\n",
    "Gradient Boosting Decision Trees (GBDT) sont une approche d'apprentissage d'ensemble d'arbres de décision pour la classification et la régression qui est comparable au Random forest. Pour créer un meilleur modèle, les techniques d'apprentissage d'ensemble mélangent différentes méthodes d'apprentissage automatique.\n",
    "\n",
    "Random forest et le GBDT construisent tous deux un modèle à partir de plusieurs arbres de décision. La différence réside dans la manière dont les arbres sont construits et reliés."
   ],
   "metadata": {
    "collapsed": false
   },
   "id": "97a01571698da6a7"
  },
  {
   "cell_type": "markdown",
   "source": [
    "Random forest construit des arbres de décision entiers en parallèle à l'aide d'échantillons bootstrap aléatoires de l'ensemble de données, selon un processus connu sous le nom de \"bagging\". La prévision finale est une moyenne pondérée de toutes les prédictions des arbres de décision. Mathématiquement, nous pouvons écrire notre modèle sous la forme suivante :\n",
    "\n",
    "$\\hat{y}_i = \\sum_{k=1}^K f_k(x_i), f_k \\in \\mathcal{F}$\n",
    "\n",
    "où $K$ est le nombre d'arbres, $f_k$ est une fonction dans l'espace fonctionnel $\\mathcal{F}$, et $\\mathcal{F}$ est l'ensemble de tous les CART possibles. La fonction objective à optimiser est donnée par la formule suivante:\n",
    "\n",
    "$\\text{obj}(\\theta) = \\sum_i^n l(y_i, \\hat{y}_i) + \\sum_{k=1}^K \\omega(f_k)$\n",
    "\n",
    "où $\\omega(f_k)$ est la complexité de l'arbre $f_k$, définie en détail plus loin."
   ],
   "metadata": {
    "collapsed": false
   },
   "id": "54113a19c9296120"
  },
  {
   "cell_type": "markdown",
   "source": [
    "### **Tree Boosting**\n",
    "L'expression \"gradient boosting\" est dérivée du concept de \"boosting\" ou d'amélioration d'un modèle faible unique en le fusionnant avec un certain nombre de modèles faibles supplémentaires pour former un modèle collectivement fort. Le \"gradient boosting\" est une extension du \"boosting\" dans laquelle le processus de production additive de modèles faibles est formalisé sous la forme d'un algorithme de descente de gradient sur une fonction objective. L'amplification par gradient cible les résultats du modèle suivant afin de réduire les erreurs. Les résultats ciblés pour chaque instance sont déterminés par le gradient de l'erreur par rapport à la prédiction (d'où le nom de \"gradient boosting\").\n",
    "\n",
    "Les GBDT forment un ensemble d'arbres de décision peu profonds de manière répétée, chaque itération utilisant les résidus d'erreur du modèle précédent pour ajuster le modèle suivant. La prévision finale est la moyenne pondérée de toutes les prédictions des arbres. Le \"bagging\" des forêts aléatoires réduit la variance et le surajustement, tandis que le \"boosting\" des GBDT réduit le biais et le sous-ajustement.\n",
    "\n",
    "XGBoost est une solution de gradient boosting évolutive et très précise qui repousse les limites de la puissance de traitement pour les algorithmes d'arbres boostés. Il a été conçu principalement pour améliorer les performances des modèles d'apprentissage automatique et la vitesse de calcul. Les arbres sont construits en parallèle avec XGBoost plutôt que séquentiellement comme avec GBDT. Il utilise une technique par niveau, en balayant les valeurs de gradient et en évaluant la qualité des divisions à chaque division potentielle de l'ensemble d'apprentissage à l'aide de ces sommes partielles."
   ],
   "metadata": {
    "collapsed": false
   },
   "id": "c3b5eb66493facd8"
  },
  {
   "cell_type": "markdown",
   "source": [
    "Maintenant que nous avons établi le modèle, passons à la formation : Comment devons-nous enseigner aux arbres ? La réponse, comme pour tout modèle d'apprentissage supervisé, consiste à créer une fonction objective et à l'optimiser !\n",
    "\n",
    "Supposons que la fonction objective soit la suivante (notez qu'elle doit toujours inclure la perte d'apprentissage et la régularisation) :\n",
    "\n",
    "$\\text{obj} = \\sum_{i=1}^n l(y_i, \\hat{y}_i^{(t)}) + \\sum_{i=1}^t\\omega(f_i)$"
   ],
   "metadata": {
    "collapsed": false
   },
   "id": "a1032db7c0048ce5"
  },
  {
   "cell_type": "markdown",
   "source": [
    "Les paramètres des arbres sont déterminés par les fonctions $f_i$, qui comprennent la structure de l'arbre et les scores des feuilles. L'apprentissage de la structure des arbres est plus difficile que les problèmes d'optimisation traditionnels. Au lieu de cela, une technique additive est employée, en ajoutant un nouvel arbre à la fois. La valeur prévisionnelle s'écrit alors $\\hat{y}_i^{(t)}$.\n",
    "\n",
    "$\\hat{y}_i^{(0)} = 0\\\\\n",
    "\\hat{y}_i^{(1)} = f_1(x_i) = \\hat{y}_i^{(0)} + f_1(x_i)\\\\\n",
    "\\hat{y}_i^{(2)} = f_1(x_i) + f_2(x_i)= \\hat{y}_i^{(1)} + f_2(x_i)\\\\\n",
    "\\\\\n",
    "\\dots\\\\\n",
    "\\hat{y}_i^{(t)} = \\sum_{k=1}^t f_k(x_i)= \\hat{y}_i^{(t-1)} + f_t(x_i)$\n",
    "\n",
    "Il faut voir quel arbre nous désirons à chaque étape. Il est naturel d'inclure celui qui permet le mieux d'atteindre notre objectif.\n",
    "\n",
    "$\\text{obj}^{(t)} = \\sum_{i=1}^n l(y_i, \\hat{y}_i^{(t)}) + \\sum_{i=1}^t\\omega(f_i) \\\\\n",
    "                = \\sum_{i=1}^n l(y_i, \\hat{y}_i^{(t-1)} + f_t(x_i)) + \\omega(f_t) + \\mathrm{constant}$\n",
    "                \n",
    "Si nous utilisons l'erreur quadratique moyenne (MSE) comme fonction de perte, l'objectif devient:\n",
    "\n",
    "$\\text{obj}^{(t)} = \\sum_{i=1}^n (y_i - (\\hat{y}_i^{(t-1)} + f_t(x_i)))^2 + \\sum_{i=1}^t\\omega(f_i) \\\\\n",
    "          = \\sum_{i=1}^n [2(\\hat{y}_i^{(t-1)} - y_i)f_t(x_i) + f_t(x_i)^2] + \\omega(f_t) + \\mathrm{constant}$\n",
    "          \n",
    "MSE a une forme agréable, avec un terme de premier ordre (communément appelé résidu) et un terme quadratique. Il est plus difficile d'obtenir une forme aussi agréable pour d'autres types de pertes intéressantes (par exemple, la perte logistique). En général, nous utilisons l'expansion de Taylor de la fonction de perte jusqu'au deuxième ordre :\n",
    "\n",
    "$\\text{obj}^{(t)} = \\sum_{i=1}^n [l(y_i, \\hat{y}_i^{(t-1)}) + g_i f_t(x_i) + \\frac{1}{2} h_i f_t^2(x_i)] + \\omega(f_t) + \\mathrm{constant}$\n",
    "\n",
    "où $g_i$ et $h_i$ sont définis comme suit :\n",
    "\n",
    "$g_i = \\partial_{\\hat{y}_i^{(t-1)}} l(y_i, \\hat{y}_i^{(t-1)})\\\\\n",
    "h_i = \\partial_{\\hat{y}_i^{(t-1)}}^2 l(y_i, \\hat{y}_i^{(t-1)})$\n",
    "\n",
    "Après avoir supprimé toutes les constantes, l'objectif spécifique à l'étape $t$ devient :\n",
    "\n",
    "$\\sum_{i=1}^n [g_i f_t(x_i) + \\frac{1}{2} h_i f_t^2(x_i)] + \\omega(f_t)$\n",
    "\n",
    "Cela devient l'objectif d'optimisation de notre nouvel arbre. Un avantage significatif de cette approche est que la valeur de la fonction objective est uniquement déterminée par $g_i$ et $h_i$. XGBoost autorise les fonctions de perte personnalisées de cette manière. En utilisant le même solveur qui accepte $g_i$ et $h_i$ en entrée, nous pouvons optimiser n'importe quelle fonction de perte, y compris la régression logistique et le classement par paire !"
   ],
   "metadata": {
    "collapsed": false
   },
   "id": "10dad35fa63360cd"
  },
  {
   "cell_type": "markdown",
   "source": [
    "### **Complexité du modèle**\n",
    "Nous avons couvert l'étape d'apprentissage, mais il reste un point à discuter : le terme de régularisation ! Nous devons spécifier la complexité de l'arbre, $omega(f)$. Pour commencer, révisons la définition de l'arbre $f(x)$ comme suit :\n",
    "\n",
    "$f_t(x) = w_{q(x)}, w \\in R^T, q:R^d\\rightarrow \\{1,2,\\cdots,T\\}$\n",
    "\n",
    "Ici, $w$ est le vecteur des scores sur les feuilles, $q$ est une fonction assignant chaque point de données à la feuille correspondante, et T est le nombre de feuilles. Dans XGBoost, nous définissons la complexité comme suit :\n",
    "\n",
    "$\\omega(f) = \\gamma T + \\frac{1}{2}\\lambda \\sum_{j=1}^T w_j^2$\n",
    "\n",
    "Bien entendu, il existe plusieurs façons de définir la complexité, mais celle-ci fonctionne bien dans la pratique."
   ],
   "metadata": {
    "collapsed": false
   },
   "id": "e767a5f5b75e5d3d"
  },
  {
   "cell_type": "markdown",
   "source": [
    "### **La note de structure**\n",
    "La partie mystique de la dérivation commence ici. Nous pouvons écrire la valeur objective avec le t-ième arbre comme suit après avoir reformulé le modèle d'arbre :\n",
    "\n",
    "$\\text{obj}^{(t)} \\approx \\sum_{i=1}^n [g_i w_{q(x_i)} + \\frac{1}{2} h_i w_{q(x_i)}^2] + \\gamma T + \\frac{1}{2}\\lambda \\sum_{j=1}^T w_j^2\\\\\n",
    "= \\sum^T_{j=1} [(\\sum_{i\\in I_j} g_i) w_j + \\frac{1}{2} (\\sum_{i\\in I_j} h_i + \\lambda) w_j^2 ] + \\gamma T$\n",
    "\n",
    "où $I_j = \\{i|q(x_i)=j\\}$ est l'ensemble des indices des points de données affectés à la jème feuille. Remarquez que dans la deuxième ligne, nous avons changé l'indice de la sommation, car tous les points de données de la même feuille obtiennent le même score. Nous pourrions comprimer davantage l'expression en définissant $G_j = \\sum_{i\\in I_j} g_i$ et $H_j = \\sum_{i\\in I_j} h_i$ :\n",
    "\n",
    "$\\text{obj}^{(t)} = \\sum^T_{j=1} [G_jw_j + \\frac{1}{2} (H_j+\\lambda) w_j^2] +\\gamma T$\n",
    "\n",
    "Dans cette équation, les $w_j$ sont indépendants les uns des autres, la forme $G_jw_j+\\frac{1}{2}(H_j+\\lambda)w_j^2$ est quadratique et le meilleur $w_j$ pour une structure donnée $q(x)$ et la meilleure réduction objective que nous puissions obtenir est :\n",
    "\n",
    "$w_j^\\ast = -\\frac{G_j}{H_j+\\lambda}\\\\\n",
    "\\text{obj}^\\ast = -\\frac{1}{2} \\sum_{j=1}^T \\frac{G_j^2}{H_j+\\lambda} + \\gamma T$"
   ],
   "metadata": {
    "collapsed": false
   },
   "id": "d1dea6ace416d56e"
  },
  {
   "cell_type": "markdown",
   "source": [
    "### **Apprendre la structure de l'arbre**\n",
    "Maintenant que nous savons comment évaluer la qualité d'un arbre, nous devrions de préférence dresser la liste de tous les arbres viables et sélectionner le meilleur. Comme cela est impossible en pratique, nous essaierons d'optimiser un niveau de l'arbre à la fois. Nous essayons de diviser une feuille en deux feuilles, et le score qu'elle reçoit est le suivant :\n",
    "\n",
    "$Gain = \\frac{1}{2} \\left[\\frac{G_L^2}{H_L+\\lambda}+\\frac{G_R^2}{H_R+\\lambda}-\\frac{(G_L+G_R)^2}{H_L+H_R+\\lambda}\\right] - \\gamma$"
   ],
   "metadata": {
    "collapsed": false
   },
   "id": "33da5842885146fe"
  },
  {
   "cell_type": "markdown",
   "source": [
    "Pour plus des informations sur les arbres de décision et les arbres de décision boostés, veuillez consulter les liens suivants :\n",
    "https://arxiv.org/pdf/1603.02754.pdf \\ \n",
    "https://xgboost.readthedocs.io/en/stable/tutorials/model.html \\\n",
    "https://medium.com/analytics-vidhya/what-makes-xgboost-so-extreme-e1544a4433bb \\\n",
    "https://www.nvidia.com/en-us/glossary/data-science/xgboost/ \\"
   ],
   "metadata": {
    "collapsed": false
   },
   "id": "65346f7b45655e8f"
  },
  {
   "cell_type": "markdown",
   "source": [
    "# Importation de bibliothèques"
   ],
   "metadata": {
    "collapsed": false
   },
   "id": "4482d8641ef643ab"
  },
  {
   "cell_type": "code",
   "execution_count": 146,
   "id": "initial_id",
   "metadata": {
    "collapsed": true,
    "ExecuteTime": {
     "end_time": "2023-12-16T12:57:34.017398400Z",
     "start_time": "2023-12-16T12:57:32.520553100Z"
    }
   },
   "outputs": [],
   "source": [
    "import os\n",
    "import pandas as pd\n",
    "import numpy as np\n",
    "from scipy import stats\n",
    "import matplotlib.pyplot as plt\n",
    "import seaborn as sns\n",
    "import math\n",
    "import random\n",
    "from sklearn.feature_selection import chi2\n",
    "from sklearn import metrics\n",
    "from sklearn.naive_bayes import GaussianNB\n",
    "from sklearn.preprocessing import MinMaxScaler, StandardScaler\n",
    "from sklearn.feature_selection import VarianceThreshold\n",
    "from sklearn.feature_selection import SelectKBest, f_classif\n",
    "import xgboost as ExGB\n",
    "from sklearn.decomposition import PCA"
   ]
  },
  {
   "cell_type": "markdown",
   "source": [
    "# Chargement des données"
   ],
   "metadata": {
    "collapsed": false
   },
   "id": "a3bcf1fdb9b8f620"
  },
  {
   "cell_type": "code",
   "execution_count": 147,
   "outputs": [],
   "source": [
    "arcene_train = pd.read_csv(\"./data/ARCENE/arcene_train.data\", sep=\" \", header=None).drop([10000], axis=1)\n",
    "arcene_train_labels = pd.read_csv(\"./data/ARCENE/arcene_train.labels\", sep=\" \", header=None)\n",
    "arcene_valid = pd.read_csv(\"./data/ARCENE/arcene_valid.data\", sep=\" \", header=None).drop([10000], axis=1)\n",
    "arcene_valid_labels = pd.read_csv(\"./data/arcene_valid.labels\", sep=\" \", header=None)\n",
    "arcene_test = pd.read_csv(\"./data/ARCENE/arcene_test.data\", sep=\" \", header=None).drop([10000], axis=1)"
   ],
   "metadata": {
    "collapsed": false,
    "ExecuteTime": {
     "end_time": "2023-12-16T12:57:37.222441Z",
     "start_time": "2023-12-16T12:57:34.022949900Z"
    }
   },
   "id": "39aa8306caa48f1c"
  },
  {
   "cell_type": "markdown",
   "source": [
    "# Impression des données"
   ],
   "metadata": {
    "collapsed": false
   },
   "id": "6f1104ac18b7dd02"
  },
  {
   "cell_type": "code",
   "execution_count": 148,
   "outputs": [
    {
     "name": "stdout",
     "output_type": "stream",
     "text": [
      "    0     1     2     3     4     5     6     7     8     9     ...  9990  \\\n",
      "0      0    71     0    95     0   538   404    20     0     0  ...   255   \n",
      "1      0    41    82   165    60   554   379     0    71     0  ...   213   \n",
      "2      0     0     1    40     0   451   402     0     0     0  ...   235   \n",
      "3      0    56    44   275    14   511   470     0     0     0  ...    91   \n",
      "4    105     0   141   348     0   268   329     0     0     1  ...   813   \n",
      "..   ...   ...   ...   ...   ...   ...   ...   ...   ...   ...  ...   ...   \n",
      "95    24    26     0   461     0   545     0    17   159   177  ...   275   \n",
      "96    40     0     0   419    71   502     0    39    93   163  ...   277   \n",
      "97     2    15    48   677     0   434   442     0    43     0  ...   211   \n",
      "98     8     0    38   205    69   419   454     0   113     3  ...   193   \n",
      "99     0     0     0   148     0   583     0     6   130   112  ...   271   \n",
      "\n",
      "    9991  9992  9993  9994  9995  9996  9997  9998  9999  \n",
      "0    570    86     0    36     0    80     0     0   524  \n",
      "1    605    69     7   473     0    57     0   284   423  \n",
      "2    593    28     0    24     0    90     0    34   508  \n",
      "3    600     0    26    86     0   102     0     0   469  \n",
      "4      0     0     0     0   190   301     0     0   354  \n",
      "..   ...   ...   ...   ...   ...   ...   ...   ...   ...  \n",
      "95   460    22    26   130   306   182     0    94   336  \n",
      "96   436     0    68    61   295   133     0     0   292  \n",
      "97   628     0     7   228     0   105     0     0   453  \n",
      "98   587   148    27   656     0   133     0   189   403  \n",
      "99   477     0     0   111   414   210     0    10   365  \n",
      "\n",
      "[100 rows x 10000 columns]\n"
     ]
    }
   ],
   "source": [
    "data_train = arcene_train.copy()\n",
    "\n",
    "print(data_train)"
   ],
   "metadata": {
    "collapsed": false,
    "ExecuteTime": {
     "end_time": "2023-12-16T12:57:37.253485100Z",
     "start_time": "2023-12-16T12:57:37.156411Z"
    }
   },
   "id": "4ca89a4130640abd"
  },
  {
   "cell_type": "code",
   "execution_count": 149,
   "outputs": [
    {
     "name": "stdout",
     "output_type": "stream",
     "text": [
      "        0\n",
      "0    True\n",
      "1   False\n",
      "2    True\n",
      "3    True\n",
      "4   False\n",
      "..    ...\n",
      "95  False\n",
      "96  False\n",
      "97   True\n",
      "98  False\n",
      "99   True\n",
      "\n",
      "[100 rows x 1 columns]\n"
     ]
    }
   ],
   "source": [
    "arcene_valid_labels = arcene_valid_labels.replace({1: True, -1: False})\n",
    "\n",
    "arcene_train_labels = arcene_train_labels.replace({1: True, -1: False})\n",
    "\n",
    "print(arcene_train_labels)"
   ],
   "metadata": {
    "collapsed": false,
    "ExecuteTime": {
     "end_time": "2023-12-16T12:57:37.401009Z",
     "start_time": "2023-12-16T12:57:37.174440800Z"
    }
   },
   "id": "34eef5d5fa118784"
  },
  {
   "cell_type": "markdown",
   "source": [
    "# Vérifier si l'ensemble de données est équilibré"
   ],
   "metadata": {
    "collapsed": false
   },
   "id": "a1ac1e83ed5cf653"
  },
  {
   "cell_type": "code",
   "execution_count": 150,
   "outputs": [
    {
     "name": "stdout",
     "output_type": "stream",
     "text": [
      "       0  count\n",
      "0  False     56\n",
      "1   True     44\n"
     ]
    },
    {
     "data": {
      "text/plain": "<Axes: xlabel='0', ylabel='count'>"
     },
     "execution_count": 150,
     "metadata": {},
     "output_type": "execute_result"
    },
    {
     "data": {
      "text/plain": "<Figure size 640x480 with 1 Axes>",
      "image/png": "[encoded data removed]"
     },
     "metadata": {},
     "output_type": "display_data"
    }
   ],
   "source": [
    "xx = arcene_train_labels[0].value_counts().reset_index()\n",
    "print(xx)\n",
    "sns.barplot(x=0, y='count', data=xx)"
   ],
   "metadata": {
    "collapsed": false,
    "ExecuteTime": {
     "end_time": "2023-12-16T12:57:37.543792100Z",
     "start_time": "2023-12-16T12:57:37.193860800Z"
    }
   },
   "id": "97d332e94933aa0a"
  },
  {
   "cell_type": "markdown",
   "source": [
    "# Selection des features (caracteristiques)\n",
    "Due que nous avons 10000 features avec des features aleatoires pour perturber le dataset et les algorithms, nous allons selectionner les features les plus importantes pour notre dataset.\n",
    "\n",
    "Nous allons utiliser la methode des K-best features pour selectionner les features les plus importants.\n",
    "\n",
    "Il existe d'autres methodes pour selectionner les features, comme la variance, la correlation, etc."
   ],
   "metadata": {
    "collapsed": false
   },
   "id": "d0893e2b34366079"
  },
  {
   "cell_type": "markdown",
   "source": [
    "Commencer par la methode de la variance et pourquoi on ne l'a pas utilisee.\n",
    "\n",
    "### Variance\n",
    "La variance est une mesure de la dispersion des données. Elle est calculée comme la moyenne des carrés des écarts à la moyenne. Plus la variance est élevée, plus les données sont dispersées. Une variance nulle signifie que toutes les valeurs sont identiques.\n",
    "\n",
    "On va calculer la variance de chaque feature, et on va selectionner les features avec les plus grandes variances.\n",
    "\n",
    "Calcul de la variance de chaque feature:"
   ],
   "metadata": {
    "collapsed": false
   },
   "id": "fb011b7382a5c03b"
  },
  {
   "cell_type": "code",
   "execution_count": 151,
   "outputs": [
    {
     "name": "stdout",
     "output_type": "stream",
     "text": [
      "0        2476.420606\n",
      "1        1420.607172\n",
      "2        4711.464646\n",
      "3       26982.828687\n",
      "4         694.220101\n",
      "            ...     \n",
      "9995    21135.563131\n",
      "9996    12796.613636\n",
      "9997        4.454949\n",
      "9998    12033.786970\n",
      "9999    11247.744949\n",
      "Length: 10000, dtype: float64\n"
     ]
    }
   ],
   "source": [
    "arcene_train_feat_sel_var = arcene_train.copy()\n",
    "features_var = arcene_train.var(axis = 0)\n",
    "\n",
    "print(features_var)"
   ],
   "metadata": {
    "collapsed": false,
    "ExecuteTime": {
     "end_time": "2023-12-16T12:57:37.716391500Z",
     "start_time": "2023-12-16T12:57:37.397676Z"
    }
   },
   "id": "2400f230c5d2531f"
  },
  {
   "cell_type": "code",
   "execution_count": 152,
   "outputs": [],
   "source": [
    "scaler = MinMaxScaler()\n",
    "scaled_arcene_train = scaler.fit_transform(arcene_train_feat_sel_var)"
   ],
   "metadata": {
    "collapsed": false,
    "ExecuteTime": {
     "end_time": "2023-12-16T12:57:37.889147900Z",
     "start_time": "2023-12-16T12:57:37.440041800Z"
    }
   },
   "id": "d4166535ebbf5f5e"
  },
  {
   "cell_type": "code",
   "execution_count": 153,
   "outputs": [
    {
     "data": {
      "text/plain": "<Figure size 1500x500 with 1 Axes>",
      "image/png": "[encoded data removed]"
     },
     "metadata": {},
     "output_type": "display_data"
    }
   ],
   "source": [
    "variances = scaled_arcene_train.var(axis=0)\n",
    "sorted_indices = np.argsort(variances)[::-1]\n",
    "\n",
    "# Plot the top 50 features based on variance\n",
    "top_features = 50\n",
    "plt.figure(figsize=(15, 5))\n",
    "plt.bar(x=range(top_features), height=variances[sorted_indices][:top_features])\n",
    "plt.xticks(ticks=range(top_features), labels=arcene_train_feat_sel_var.columns[sorted_indices][:top_features], rotation=90)\n",
    "plt.xlabel('caracteristiques')\n",
    "plt.ylabel('variance')\n",
    "plt.title('Selection des caracteristiques basee sur la variance (Top 50)')\n",
    "plt.show()\n",
    "#les 50 features avec les plus grandes variances"
   ],
   "metadata": {
    "collapsed": false,
    "ExecuteTime": {
     "end_time": "2023-12-16T12:57:38.652614500Z",
     "start_time": "2023-12-16T12:57:37.681975300Z"
    }
   },
   "id": "70d7d164649d0491"
  },
  {
   "cell_type": "markdown",
   "source": [
    "Trouver la variance maximale et minimale et leur moyenne"
   ],
   "metadata": {
    "collapsed": false
   },
   "id": "4b8cb2a8ec7dae3f"
  },
  {
   "cell_type": "code",
   "execution_count": 154,
   "outputs": [
    {
     "name": "stdout",
     "output_type": "stream",
     "text": [
      "Variance moyenne : 0.05216673046897827\n",
      "Variance maximale : 0.16295643045314845\n",
      "Variance minimale : 0.0\n"
     ]
    }
   ],
   "source": [
    "max_variance = np.max(variances)\n",
    "min_variance = np.min(variances)\n",
    "mean_variance = np.mean(variances)\n",
    "\n",
    "print(\"Variance moyenne :\", mean_variance)\n",
    "print(\"Variance maximale :\", max_variance)\n",
    "print(\"Variance minimale :\", min_variance)"
   ],
   "metadata": {
    "collapsed": false,
    "ExecuteTime": {
     "end_time": "2023-12-16T12:57:38.657601200Z",
     "start_time": "2023-12-16T12:57:38.580112600Z"
    }
   },
   "id": "10091c5cedcb96a2"
  },
  {
   "cell_type": "markdown",
   "source": [
    "On va eliminer toute les colonnes avec ces varainces, en choisisant un seuil"
   ],
   "metadata": {
    "collapsed": false
   },
   "id": "c92d7c2f65c2375e"
  },
  {
   "cell_type": "code",
   "execution_count": 155,
   "outputs": [
    {
     "name": "stdout",
     "output_type": "stream",
     "text": [
      "Nombre de caractéristiques avant la sélection : 10000\n",
      "Nombre de caractéristiques après la sélection : 4406\n"
     ]
    }
   ],
   "source": [
    "# exemple :\n",
    "threshold = mean_variance # le seuil\n",
    "\n",
    "selector = VarianceThreshold(threshold=threshold)\n",
    "x_high_variance = selector.fit_transform(scaled_arcene_train)\n",
    "high_variance_indices = np.where(selector.variances_ >= threshold)[0]\n",
    "\n",
    "\n",
    "#suppriner\n",
    "arcene_train_feat_sel_var = arcene_train_feat_sel_var[high_variance_indices]\n",
    "\n",
    "\n",
    "#afficher les caracteristiques selectionnes :\n",
    "print(\"Nombre de caractéristiques avant la sélection :\", arcene_train.shape[1])\n",
    "print(\"Nombre de caractéristiques après la sélection :\",  arcene_train_feat_sel_var.shape[1])\n",
    "\n",
    "arcene_train_filtered_with_var_concatinated = pd.concat([arcene_train_feat_sel_var, arcene_train_labels], axis=1, ignore_index=True)"
   ],
   "metadata": {
    "collapsed": false,
    "ExecuteTime": {
     "end_time": "2023-12-16T12:57:38.954806300Z",
     "start_time": "2023-12-16T12:57:38.591007200Z"
    }
   },
   "id": "5b53cb22a70132b1"
  },
  {
   "cell_type": "markdown",
   "source": [
    "Mais puisque nous avons des features aleatoires, la variance de ces features peut etre tres grande, et donc ca va choisir ces features aleatoires comme les plus importantes, ce qui va perturber les resultats de l'algorithme."
   ],
   "metadata": {
    "collapsed": false
   },
   "id": "76f3b629e70238c1"
  },
  {
   "cell_type": "markdown",
   "source": [
    "### K-best features\n",
    "\n",
    "La méthode K-best est une méthode de sélection de caractéristiques univariée. Elle calcule la corrélation entre chaque caractéristique et la variable cible, puis sélectionne les caractéristiques qui ont la plus forte corrélation avec la variable cible.\n",
    "\n",
    "Nous allons utiliser la méthode K-best pour sélectionner les 120 meilleures caractéristiques."
   ],
   "metadata": {
    "collapsed": false
   },
   "id": "e8f577e508b1782d"
  },
  {
   "cell_type": "markdown",
   "source": [
    "Avant faire ceci, le dataset contient des colonnes avec des valeurs constantes, donc on doit les supprimer."
   ],
   "metadata": {
    "collapsed": false
   },
   "id": "3bd5ab47a3779771"
  },
  {
   "cell_type": "markdown",
   "source": [
    "Cette methode est utilisee pour trouver les colonnes non constantes :"
   ],
   "metadata": {
    "collapsed": false
   },
   "id": "7673f82bc96421af"
  },
  {
   "cell_type": "code",
   "execution_count": 156,
   "outputs": [],
   "source": [
    "def get_non_constant_columns(dataframe):\n",
    "    return [col for col in dataframe.columns if len(dataframe[col].unique()) > 1]"
   ],
   "metadata": {
    "collapsed": false,
    "ExecuteTime": {
     "end_time": "2023-12-16T12:57:39.006519900Z",
     "start_time": "2023-12-16T12:57:38.640905400Z"
    }
   },
   "id": "e724fc13326efc8e"
  },
  {
   "cell_type": "markdown",
   "source": [
    "Pour qu'on apres les laisser dans le dataset."
   ],
   "metadata": {
    "collapsed": false
   },
   "id": "10716b68ba5e0ef8"
  },
  {
   "cell_type": "code",
   "execution_count": 157,
   "outputs": [],
   "source": [
    "keep_columns = get_non_constant_columns(arcene_train)\n",
    "\n",
    "arcene_train = arcene_train[keep_columns]\n",
    "\n",
    "arcene_valid = arcene_valid[keep_columns]\n",
    "\n",
    "arcene_test = arcene_test[keep_columns]"
   ],
   "metadata": {
    "collapsed": false,
    "ExecuteTime": {
     "end_time": "2023-12-16T12:57:39.826869Z",
     "start_time": "2023-12-16T12:57:38.649419300Z"
    }
   },
   "id": "c7aa33af9c01f1fb"
  },
  {
   "cell_type": "markdown",
   "source": [
    "Pour feature selection, on va utiliser deux approches pour les deux algorithmes, on va utiliser la methode K-best features pour l'algorithme Naive Bayes, et on va utiliser la methode K-best features avec PCA pour l'algorithme XGBoost."
   ],
   "metadata": {
    "collapsed": false
   },
   "id": "e3079d6ffd1a7db1"
  },
  {
   "cell_type": "markdown",
   "source": [
    "# Feature selection pour l'algorithme naive bayes"
   ],
   "metadata": {
    "collapsed": false
   },
   "id": "86c8a55346027122"
  },
  {
   "cell_type": "markdown",
   "source": [
    "Ici on va utiliser la fonction SelectKBest pour selectionner les 120 meilleures caracteristiques. Dans les données on a 7000 caracteristiques, mais pas toutes sont importantes, le choix du nombre 120 n'est pas aleatoire, on a essaye plusieurs valeurs et on a trouve que 120 est la valeur qui donne les meilleurs resultats."
   ],
   "metadata": {
    "collapsed": false
   },
   "id": "38df5cbcea7da82"
  },
  {
   "cell_type": "code",
   "execution_count": 158,
   "outputs": [
    {
     "name": "stdout",
     "output_type": "stream",
     "text": [
      "Number of features before feature selection: 9920\n",
      "Number of features after feature selection: 120\n",
      "Features selected: [   4    9   65   85  108  289  306  370  381  408  429  459  461  479\n",
      "  530  686  770  789  846  860  901  970 1135 1171 1463 1707 1732 1734\n",
      " 1773 1835 1869 1959 2117 2207 2289 2618 2676 2792 2840 3232 3336 3341\n",
      " 3527 3573 3584 3660 3693 3787 3952 4036 4087 4149 4253 4481 4518 4587\n",
      " 4743 4833 4914 4927 4959 4994 5136 5423 5704 5756 5853 5989 6070 6148\n",
      " 6423 6443 6528 6625 6642 6707 6716 6869 6972 7032 7039 7101 7134 7156\n",
      " 7365 7406 7476 7562 7585 7589 7635 7651 7668 7682 7790 7846 7854 7909\n",
      " 7926 8080 8196 8275 8290 8297 8340 8390 8411 8431 8514 8712 8729 8733\n",
      " 8757 8951 9202 9506 9538 9571 9580 9664]\n"
     ]
    },
    {
     "name": "stderr",
     "output_type": "stream",
     "text": [
      "D:\\FST\\MST - AIDS\\S1\\ML\\PROJECTS\\DEVOIR2\\venv\\Lib\\site-packages\\sklearn\\utils\\validation.py:1183: DataConversionWarning: A column-vector y was passed when a 1d array was expected. Please change the shape of y to (n_samples, ), for example using ravel().\n",
      "  y = column_or_1d(y, warn=True)\n"
     ]
    }
   ],
   "source": [
    "skb = SelectKBest(score_func=f_classif,  # Définir f_classif comme critère de sélection des caractéristiques\n",
    "                  k=120)  # Sélectionner les 120 premières caractéristiques en fonction des critères\n",
    "\n",
    "# Entraînement et transformation de l'ensemble des données selon la méthode SelectKBest\n",
    "arcene_train_filtered = skb.fit_transform(arcene_train, arcene_train_labels)\n",
    "\n",
    "print('Number of features before feature selection: {}'.format(arcene_train.shape[1]))\n",
    "print('Number of features after feature selection: {}'.format(arcene_train_filtered.shape[1]))\n",
    "print('Features selected: {}'.format(skb.get_support(indices=True)))"
   ],
   "metadata": {
    "collapsed": false,
    "ExecuteTime": {
     "end_time": "2023-12-16T12:57:40.017621600Z",
     "start_time": "2023-12-16T12:57:39.768999700Z"
    }
   },
   "id": "eb96442341fb2dc3"
  },
  {
   "cell_type": "code",
   "execution_count": 159,
   "outputs": [
    {
     "name": "stdout",
     "output_type": "stream",
     "text": [
      "    0    1    2    3    4    5    6    7    8    9    ...  111  112  113  114  \\\n",
      "0     0    0    0    0    0  466    3    0    0    6  ...    0    0    5  450   \n",
      "1    60    0    9    0    0  395   92   85    0   83  ...    0   66   75  337   \n",
      "2     0    0    0    0    0  483   19    2    0   21  ...    0    0   20  399   \n",
      "3    14    0    0    0    0  439   56   42    0   55  ...    0   45   52  476   \n",
      "4     0    1    0   38    0  342   44   19    0   49  ...   28  111   48  292   \n",
      "..  ...  ...  ...  ...  ...  ...  ...  ...  ...  ...  ...  ...  ...  ...  ...   \n",
      "95    0  177  164    0  200    0  183  152  203  194  ...    0    7  198   94   \n",
      "96   71  163  159   43  136    0  190  171  136  195  ...   38   67  197   68   \n",
      "97    0    0    0   15    0  467    0    4    0    2  ...   25    0    3  469   \n",
      "98   69    3   19   14    0  420   12   26    0   10  ...   25   41    9  432   \n",
      "99    0  112  100    0  174    0  111   94  177  117  ...    0    7  120  282   \n",
      "\n",
      "    115  116  117  118  119    120  \n",
      "0     0    0    0    0    8   True  \n",
      "1    27   89   59   31   65  False  \n",
      "2     0    6    0    0    0   True  \n",
      "3     0   46   18    0   51   True  \n",
      "4     0   24    1    0  122  False  \n",
      "..  ...  ...  ...  ...  ...    ...  \n",
      "95    5  157  130    2   10  False  \n",
      "96   65  175  151   66   65  False  \n",
      "97    0    3    0    0    0   True  \n",
      "98   50   22   41   51   32  False  \n",
      "99    0   98   83    0    7   True  \n",
      "\n",
      "[100 rows x 121 columns]\n"
     ]
    }
   ],
   "source": [
    "arcene_train_filtered = pd.DataFrame(arcene_train_filtered)\n",
    "\n",
    "arcene_train_filtered_concatinated = pd.concat([arcene_train_filtered, arcene_train_labels], axis=1, ignore_index=True)\n",
    "\n",
    "print(arcene_train_filtered_concatinated)"
   ],
   "metadata": {
    "collapsed": false,
    "ExecuteTime": {
     "end_time": "2023-12-16T12:57:40.029635300Z",
     "start_time": "2023-12-16T12:57:39.898560500Z"
    }
   },
   "id": "a7ad16a801b7a8bd"
  },
  {
   "cell_type": "code",
   "execution_count": 160,
   "outputs": [
    {
     "name": "stdout",
     "output_type": "stream",
     "text": [
      "    0    1    2    3    4    5    6    7    8    9    ...  111  112  113  114  \\\n",
      "0     2    0    0    1    0  410   21   40    0   14  ...    9    7   11  392   \n",
      "1     0  222  202    0  145    0  195  160  151  213  ...    0   17  222  169   \n",
      "2    53  147  133   39  143    0  137  106  142  145  ...   34   61  148   31   \n",
      "3     0    0    4    0    0  437   15   24    0   11  ...    0   42    9  453   \n",
      "4     2    0    0    0    0  470   21   24    0   16  ...    0    3   13  431   \n",
      "..  ...  ...  ...  ...  ...  ...  ...  ...  ...  ...  ...  ...  ...  ...  ...   \n",
      "95   92  261  254   86  297    0  274  254  298  282  ...   77  102  287  101   \n",
      "96  109  134  121   69  148  145  193  170  150  203  ...   68   91  206  130   \n",
      "97    0    0    0   15    0  263   17    0    0   20  ...    5   87   19  308   \n",
      "98    0    4    9    0    9  388   83   75    8   80  ...    0    0   78  323   \n",
      "99    0    0    1   46    0  277   55   25    0   55  ...   39  143   53  366   \n",
      "\n",
      "    115  116  117  118  119    120  \n",
      "0     0   38   41    0    0  False  \n",
      "1     4  164  147    3   12  False  \n",
      "2    61  113   73   59   58  False  \n",
      "3     0   23   10    0   27   True  \n",
      "4     0   25   13    0    0   True  \n",
      "..  ...  ...  ...  ...  ...    ...  \n",
      "95   88  257  230   86   97  False  \n",
      "96  101  173  153  101   89  False  \n",
      "97    0    1    0    0   95   True  \n",
      "98    0   79   50    0    0   True  \n",
      "99    0   33    0    0  155  False  \n",
      "\n",
      "[100 rows x 121 columns]\n"
     ]
    }
   ],
   "source": [
    "arcene_valid_filtered = skb.transform(arcene_valid)\n",
    "\n",
    "arcene_valid_filtered = pd.DataFrame(arcene_valid_filtered)\n",
    "\n",
    "arcene_valid_filtered_concatinated = pd.concat([arcene_valid_filtered, arcene_valid_labels], axis=1, ignore_index=True)\n",
    "\n",
    "print(arcene_valid_filtered_concatinated)"
   ],
   "metadata": {
    "collapsed": false,
    "ExecuteTime": {
     "end_time": "2023-12-16T12:57:40.275811800Z",
     "start_time": "2023-12-16T12:57:39.926971500Z"
    }
   },
   "id": "cb82242de5659dcf"
  },
  {
   "cell_type": "code",
   "execution_count": 161,
   "outputs": [
    {
     "name": "stdout",
     "output_type": "stream",
     "text": [
      "     0    1    2    3    4    5    6    7    8    9    ...  110  111  112  \\\n",
      "0      0   16   15   16    7  203   56   38    7   51  ...    9   15   92   \n",
      "1     69  141  139   66  129    0  140  131  130  145  ...   71   63   86   \n",
      "2      0  180  160    4  263  241  216  183  276  233  ...    0    5   10   \n",
      "3      0    0    0    0    0  500   69   72    0   56  ...    0    0    7   \n",
      "4     84  112  101   78  135  156  133  117  139  143  ...   59   74   86   \n",
      "..   ...  ...  ...  ...  ...  ...  ...  ...  ...  ...  ...  ...  ...  ...   \n",
      "695   55  144  133    0  174    0  136  115  175  143  ...    0    0   10   \n",
      "696   30  127  121   46  137   57  119  101  138  128  ...   38   45   54   \n",
      "697   18  214  190   44  218    0  206  166  222  220  ...   62   41   73   \n",
      "698   38   30   34   28   57  477   27   19   69   33  ...    8   35   57   \n",
      "699   18  215  193   64  243    0  182  140  247  197  ...   79   60   84   \n",
      "\n",
      "     113  114  115  116  117  118  119  \n",
      "0     47  332    0   45    5    0   99  \n",
      "1    149  208   80  133  123   81   82  \n",
      "2    242  147    0  187  152    0    1  \n",
      "3     47  406    0   75   44    0    4  \n",
      "4    149  140   87  119   99   86   87  \n",
      "..   ...  ...  ...  ...  ...  ...  ...  \n",
      "695  146  149   53  119   95   52    4  \n",
      "696  133   90   44  104   80   43   51  \n",
      "697  227   56   65  174  127   65   69  \n",
      "698   37  383   20   21    1   21   46  \n",
      "699  204   96   30  147  106   30   85  \n",
      "\n",
      "[700 rows x 120 columns]\n"
     ]
    }
   ],
   "source": [
    "arcene_test_filtered = skb.transform(arcene_test)\n",
    "\n",
    "arcene_test_filtered = pd.DataFrame(arcene_test_filtered)\n",
    "\n",
    "print(arcene_test_filtered)"
   ],
   "metadata": {
    "collapsed": false,
    "ExecuteTime": {
     "end_time": "2023-12-16T12:57:40.382063800Z",
     "start_time": "2023-12-16T12:57:39.995083900Z"
    }
   },
   "id": "6885ac81958b082d"
  },
  {
   "cell_type": "markdown",
   "source": [
    "# Prétraitement des données\n",
    "\n",
    "### Suppression des lignes dupliquées et des lignes avec des valeurs manquantes"
   ],
   "metadata": {
    "collapsed": false
   },
   "id": "79a19ad299a54645"
  },
  {
   "cell_type": "code",
   "execution_count": 162,
   "outputs": [
    {
     "name": "stdout",
     "output_type": "stream",
     "text": [
      "Missing values detected:  False\n",
      "Duplicate rows detected:  False\n",
      "    0    1    2    3    4    5    6    7    8    9    ...  111  112  113  114  \\\n",
      "0     0    0    0    0    0  466    3    0    0    6  ...    0    0    5  450   \n",
      "1    60    0    9    0    0  395   92   85    0   83  ...    0   66   75  337   \n",
      "2     0    0    0    0    0  483   19    2    0   21  ...    0    0   20  399   \n",
      "3    14    0    0    0    0  439   56   42    0   55  ...    0   45   52  476   \n",
      "4     0    1    0   38    0  342   44   19    0   49  ...   28  111   48  292   \n",
      "..  ...  ...  ...  ...  ...  ...  ...  ...  ...  ...  ...  ...  ...  ...  ...   \n",
      "95    0  177  164    0  200    0  183  152  203  194  ...    0    7  198   94   \n",
      "96   71  163  159   43  136    0  190  171  136  195  ...   38   67  197   68   \n",
      "97    0    0    0   15    0  467    0    4    0    2  ...   25    0    3  469   \n",
      "98   69    3   19   14    0  420   12   26    0   10  ...   25   41    9  432   \n",
      "99    0  112  100    0  174    0  111   94  177  117  ...    0    7  120  282   \n",
      "\n",
      "    115  116  117  118  119    120  \n",
      "0     0    0    0    0    8   True  \n",
      "1    27   89   59   31   65  False  \n",
      "2     0    6    0    0    0   True  \n",
      "3     0   46   18    0   51   True  \n",
      "4     0   24    1    0  122  False  \n",
      "..  ...  ...  ...  ...  ...    ...  \n",
      "95    5  157  130    2   10  False  \n",
      "96   65  175  151   66   65  False  \n",
      "97    0    3    0    0    0   True  \n",
      "98   50   22   41   51   32  False  \n",
      "99    0   98   83    0    7   True  \n",
      "\n",
      "[100 rows x 121 columns]\n"
     ]
    }
   ],
   "source": [
    "missing_values = False\n",
    "duplicates = False\n",
    "\n",
    "# Suppression des lignes avec des valeurs manquantes\n",
    "if arcene_train_filtered_concatinated.isna().values.any():\n",
    "    missing_values = True\n",
    "    arcene_train_filtered_concatinated.dropna(inpLace=True)\n",
    "    \n",
    "# Suppression des lignes dupliquées\n",
    "if arcene_train_filtered_concatinated.duplicated().any():\n",
    "    duplicates = True\n",
    "    arcene_train_filtered_concatinated.drop_duplicates(inpLace=True)\n",
    "    \n",
    "# Resume\n",
    "print(\"Missing values detected: \", missing_values)\n",
    "print(\"Duplicate rows detected: \", duplicates)\n",
    "\n",
    "print(arcene_train_filtered_concatinated)"
   ],
   "metadata": {
    "collapsed": false,
    "ExecuteTime": {
     "end_time": "2023-12-16T12:57:40.517376Z",
     "start_time": "2023-12-16T12:57:40.068890200Z"
    }
   },
   "id": "e1bfe1aaca1383f0"
  },
  {
   "cell_type": "markdown",
   "source": [
    "### Visualisation exemplaire d'un diagramme de dispersion"
   ],
   "metadata": {
    "collapsed": false
   },
   "id": "67b3699bd1246d7"
  },
  {
   "cell_type": "code",
   "execution_count": 163,
   "outputs": [
    {
     "data": {
      "text/plain": "<Figure size 2375x1900 with 9 Axes>",
      "image/png": "[encoded data removed]"
     },
     "metadata": {},
     "output_type": "display_data"
    }
   ],
   "source": [
    "fig, axs = plt.subplots(9,1,dpi=95, figsize=(25,20))\n",
    "i = 0\n",
    "for col in range(9):\n",
    "    axs[i].boxplot(arcene_train_filtered_concatinated[col], vert=False)\n",
    "    axs[i].set_ylabel(col)\n",
    "    i+=1\n",
    "plt.show()"
   ],
   "metadata": {
    "collapsed": false,
    "ExecuteTime": {
     "end_time": "2023-12-16T12:57:42.146575700Z",
     "start_time": "2023-12-16T12:57:40.099894400Z"
    }
   },
   "id": "84c1e66977ef59df"
  },
  {
   "cell_type": "markdown",
   "source": [
    "### Suppression des valeurs extrêmes (valeurs aberrantes)\n",
    "##### Il existe de nombreuses techniques pour supprimer les valeurs aberrantes. Nous allons essayer l'approche basée sur le Z-score et le percentile.\n",
    "\n",
    "##### Approche du score Z :"
   ],
   "metadata": {
    "collapsed": false
   },
   "id": "151d0b62444cbb84"
  },
  {
   "cell_type": "code",
   "execution_count": 164,
   "outputs": [
    {
     "name": "stdout",
     "output_type": "stream",
     "text": [
      "Number of outliers detected:  0\n",
      "    0    1    2    3    4    5    6    7    8    9    ...  111  112  113  114  \\\n",
      "0     0    0    0    0    0  466    3    0    0    6  ...    0    0    5  450   \n",
      "1    60    0    9    0    0  395   92   85    0   83  ...    0   66   75  337   \n",
      "2     0    0    0    0    0  483   19    2    0   21  ...    0    0   20  399   \n",
      "3    14    0    0    0    0  439   56   42    0   55  ...    0   45   52  476   \n",
      "4     0    1    0   38    0  342   44   19    0   49  ...   28  111   48  292   \n",
      "..  ...  ...  ...  ...  ...  ...  ...  ...  ...  ...  ...  ...  ...  ...  ...   \n",
      "95    0  177  164    0  200    0  183  152  203  194  ...    0    7  198   94   \n",
      "96   71  163  159   43  136    0  190  171  136  195  ...   38   67  197   68   \n",
      "97    0    0    0   15    0  467    0    4    0    2  ...   25    0    3  469   \n",
      "98   69    3   19   14    0  420   12   26    0   10  ...   25   41    9  432   \n",
      "99    0  112  100    0  174    0  111   94  177  117  ...    0    7  120  282   \n",
      "\n",
      "    115  116  117  118  119    120  \n",
      "0     0    0    0    0    8   True  \n",
      "1    27   89   59   31   65  False  \n",
      "2     0    6    0    0    0   True  \n",
      "3     0   46   18    0   51   True  \n",
      "4     0   24    1    0  122  False  \n",
      "..  ...  ...  ...  ...  ...    ...  \n",
      "95    5  157  130    2   10  False  \n",
      "96   65  175  151   66   65  False  \n",
      "97    0    3    0    0    0   True  \n",
      "98   50   22   41   51   32  False  \n",
      "99    0   98   83    0    7   True  \n",
      "\n",
      "[100 rows x 121 columns]\n"
     ]
    }
   ],
   "source": [
    "for col in arcene_train_filtered_concatinated.columns:\n",
    "    arcene_train_filtered_concatinated[np.abs(stats.zscore(arcene_train_filtered_concatinated[col])) < 3]\n",
    "\n",
    "# Resume\n",
    "print(\"Number of outliers detected: \", 100 - arcene_train_filtered_concatinated.shape[0])\n",
    "\n",
    "print(arcene_train_filtered_concatinated)"
   ],
   "metadata": {
    "collapsed": false,
    "ExecuteTime": {
     "end_time": "2023-12-16T12:57:42.705338200Z",
     "start_time": "2023-12-16T12:57:42.144372300Z"
    }
   },
   "id": "712545fff6a175cb"
  },
  {
   "cell_type": "markdown",
   "source": [
    "##### Approche basée sur les percentiles :\n",
    "\n",
    "Exemple de calcul des percentiles et de l'intervalle interquartile (IQR) pour une colonne"
   ],
   "metadata": {
    "collapsed": false
   },
   "id": "bf9197c616db3930"
  },
  {
   "cell_type": "markdown",
   "source": [
    "Suppression des valeurs aberrantes pour toutes les colonnes avec la méthode des percentiles:"
   ],
   "metadata": {
    "collapsed": false
   },
   "id": "4b4f354517302fe8"
  },
  {
   "cell_type": "code",
   "execution_count": 165,
   "outputs": [
    {
     "name": "stdout",
     "output_type": "stream",
     "text": [
      "Number of outliers detected:  0\n",
      "    0    1    2    3    4    5    6    7    8    9    ...  111  112  113  114  \\\n",
      "0     0    0    0    0    0  466    3    0    0    6  ...    0    0    5  450   \n",
      "1    60    0    9    0    0  395   92   85    0   83  ...    0   66   75  337   \n",
      "2     0    0    0    0    0  483   19    2    0   21  ...    0    0   20  399   \n",
      "3    14    0    0    0    0  439   56   42    0   55  ...    0   45   52  476   \n",
      "4     0    1    0   38    0  342   44   19    0   49  ...   28  111   48  292   \n",
      "..  ...  ...  ...  ...  ...  ...  ...  ...  ...  ...  ...  ...  ...  ...  ...   \n",
      "95    0  177  164    0  200    0  183  152  203  194  ...    0    7  198   94   \n",
      "96   71  163  159   43  136    0  190  171  136  195  ...   38   67  197   68   \n",
      "97    0    0    0   15    0  467    0    4    0    2  ...   25    0    3  469   \n",
      "98   69    3   19   14    0  420   12   26    0   10  ...   25   41    9  432   \n",
      "99    0  112  100    0  174    0  111   94  177  117  ...    0    7  120  282   \n",
      "\n",
      "    115  116  117  118  119    120  \n",
      "0     0    0    0    0    8   True  \n",
      "1    27   89   59   31   65  False  \n",
      "2     0    6    0    0    0   True  \n",
      "3     0   46   18    0   51   True  \n",
      "4     0   24    1    0  122  False  \n",
      "..  ...  ...  ...  ...  ...    ...  \n",
      "95    5  157  130    2   10  False  \n",
      "96   65  175  151   66   65  False  \n",
      "97    0    3    0    0    0   True  \n",
      "98   50   22   41   51   32  False  \n",
      "99    0   98   83    0    7   True  \n",
      "\n",
      "[100 rows x 121 columns]\n"
     ]
    }
   ],
   "source": [
    "for col in arcene_train_filtered_concatinated.columns[0:120]:\n",
    "    if arcene_train_filtered_concatinated.shape[0] != 0:\n",
    "        q1, q3 = np.percentile(arcene_train_filtered_concatinated[col], [25, 75], method='midpoint')\n",
    "        iqr = q3 - q1\n",
    "        upper_bound = q3 + (1.5 * iqr)\n",
    "        lower_bound = q1 - (1.5 * iqr)\n",
    "\n",
    "        # # Create arrays of Boolean values indicating the outlier rows\n",
    "        # upper_array = np.where(arcene_train_filtered_concatinated[col] >= upper_bound)[0]\n",
    "        # lower_array = np.where(arcene_train_filtered_concatinated[col] <= lower_bound)[0]\n",
    "        # \n",
    "        # # Removing the outliers\n",
    "        # for i, j in zip(upper_array, lower_array):\n",
    "        #     if i in arcene_train_filtered_concatinated.index:\n",
    "        #         arcene_train_filtered_concatinated.drop(index=upper_array, inplace=True)\n",
    "        #     if j in arcene_train_filtered_concatinated.index:\n",
    "        #         arcene_train_filtered_concatinated.drop(index=lower_array, inplace=True)\n",
    "\n",
    "        arcene_train_filtered_concatinated = arcene_train_filtered_concatinated[((arcene_train_filtered_concatinated > lower_bound) & (arcene_train_filtered_concatinated < upper_bound)).any(axis=1)]\n",
    "\n",
    "# Resume\n",
    "print(\"Number of outliers detected: \", 100 - arcene_train_filtered_concatinated.shape[0])\n",
    "\n",
    "print(arcene_train_filtered_concatinated)"
   ],
   "metadata": {
    "collapsed": false,
    "ExecuteTime": {
     "end_time": "2023-12-16T12:57:42.917275600Z",
     "start_time": "2023-12-16T12:57:42.331172800Z"
    }
   },
   "id": "886d15e2e5b9486b"
  },
  {
   "cell_type": "markdown",
   "source": [
    "# Implementation de l'algorithme Naive Bayes"
   ],
   "metadata": {
    "collapsed": false
   },
   "id": "8d12edc7299c86bd"
  },
  {
   "cell_type": "code",
   "execution_count": 166,
   "outputs": [],
   "source": [
    "'''\n",
    "encode_class(mydata) :\n",
    "Entrée : mydata est une liste de listes où chaque liste intérieure représente une instance de données, et le dernier élément de chaque liste intérieure est l'étiquette de la classe.\n",
    "Sortie : renvoie les données d'entrée avec les étiquettes de classe remplacées par les représentations numériques correspondantes.\n",
    "'''\n",
    "def encode_class(mydata):\n",
    "    classes = []\n",
    "    for i in range(len(mydata)):\n",
    "        if mydata[i][-1] not in classes:\n",
    "            classes.append(mydata[i][-1])\n",
    "    for i in range(len(classes)):\n",
    "        for j in range(len(mydata)):\n",
    "            if mydata[j][-1] == classes[i]:\n",
    "                mydata[j][-1] = i\n",
    "    return mydata\n",
    "\n",
    "'''\n",
    "groupUnderClass(mydata) :\n",
    "Entrée : mydata est une liste d'instances de données où le dernier élément de chaque liste intérieure est l'étiquette de la classe.\n",
    "Résultat : Renvoie un dictionnaire dont les clés sont des étiquettes de classe uniques et les valeurs des listes d'instances de données appartenant à chaque classe.\n",
    "'''\n",
    "def groupUnderClass(mydata):\n",
    "    data_dict = {}\n",
    "    for i in range(len(mydata)):\n",
    "        if mydata[i][-1] not in data_dict:\n",
    "            data_dict[mydata[i][-1]] = []\n",
    "        data_dict[mydata[i][-1]].append(mydata[i])\n",
    "    return data_dict\n",
    "\n",
    "'''\n",
    "MeanAndStdDev(numbers) :\n",
    "Entrée : nombres est une liste de valeurs numériques.\n",
    "Sortie : renvoie la moyenne et l'écart-type de la liste d'entrée.\n",
    "'''\n",
    "def MeanAndStdDev(numbers):\n",
    "    avg = np.mean(numbers)\n",
    "    stddev = np.std(numbers)\n",
    "    return avg, stddev\n",
    "\n",
    "'''\n",
    "MeanAndStdDevForClass(mydata) :\n",
    "Entrée : mydata est une liste d'instances de données où le dernier élément de chaque liste intérieure est l'étiquette de la classe.\n",
    "Résultat : Renvoie un dictionnaire dont les clés sont les étiquettes de classe et les valeurs sont des listes contenant la moyenne et l'écart type pour chaque attribut de cette classe.\n",
    "'''\n",
    "def MeanAndStdDevForClass(mydata):\n",
    "    info = {}\n",
    "    data_dict = groupUnderClass(mydata)\n",
    "    for classValue, instances in data_dict.items():\n",
    "        info[classValue] = [MeanAndStdDev(attribute) for attribute in zip(*instances)]\n",
    "    return info\n",
    "\n",
    "'''\n",
    "calculateGaussianProbability(x, mean, stdev) :\n",
    "Entrée : x est une valeur numérique, mean est la moyenne d'une distribution et stdev est l'écart-type.\n",
    "Résultat : Calcule et renvoie la valeur de la fonction de densité de probabilité gaussienne pour les entrées données.\n",
    "'''\n",
    "def calculateGaussianProbability(x, mean, stdev):\n",
    "    epsilon = 1e-10\n",
    "    expo = math.exp(-(math.pow(x - mean, 2) / (2 * math.pow(stdev + epsilon, 2))))\n",
    "    return (1 / (math.sqrt(2 * math.pi) * (stdev + epsilon))) * expo\n",
    "\n",
    "'''\n",
    "calculateClassProbabilities(info, test) :\n",
    "Entrée : info est un dictionnaire contenant des informations sur la moyenne et l'écart-type par classe, et test est une liste représentant une instance de test.\n",
    "Résultat : Renvoie un dictionnaire dont les clés sont les étiquettes de classe et les valeurs sont les probabilités calculées pour l'instance de test donnée.\n",
    "'''\n",
    "def calculateClassProbabilities(info, test):\n",
    "    probabilities = {}\n",
    "    for classValue, classSummaries in info.items():\n",
    "        probabilities[classValue] = 1\n",
    "        for i in range(len(classSummaries)):\n",
    "            mean, std_dev = classSummaries[i]\n",
    "            x = test[i]\n",
    "            probabilities[classValue] *= calculateGaussianProbability(x, mean, std_dev)\n",
    "    print(probabilities)\n",
    "    return probabilities\n",
    "\n",
    "'''\n",
    "predict(info, test) :\n",
    "Entrée : info est un dictionnaire contenant des informations sur la moyenne et l'écart-type de la classe, et test est une liste représentant une instance de test.\n",
    "Résultat : Renvoie l'étiquette de classe prédite pour l'instance de test donnée.\n",
    "'''\n",
    "def predict(info, test):\n",
    "    probabilities = calculateClassProbabilities(info, test)\n",
    "    bestLabel = max(probabilities, key=probabilities.get)\n",
    "    return bestLabel\n",
    "\n",
    "'''\n",
    "getPredictions(info, test) :\n",
    "Entrée : info est un dictionnaire contenant des informations sur la moyenne par classe et l'écart-type, et test est une liste représentant une instance de test.\n",
    "Résultat : Retourne une liste d'étiquettes de classe prédites pour chaque instance de test.\n",
    "'''\n",
    "def getPredictions(info, test):\n",
    "    predictions = [predict(info, instance) for instance in test]\n",
    "    print(predictions)\n",
    "    return predictions\n",
    "\n",
    "'''\n",
    "accuracy_rate(test, predictions) :\n",
    "Entrée : test est une liste d'instances de test, et predictions est une liste d'étiquettes de classe prédites.\n",
    "Résultat : Renvoie le taux de précision (pourcentage) en comparant les étiquettes prédites avec les étiquettes réelles dans les données de test.\n",
    "'''\n",
    "def accuracy_rate(test, predictions):\n",
    "    correct = sum(1 for i in range(len(test)) if test[i][-1] == predictions[i])\n",
    "    return (correct / float(len(test))) * 100.0"
   ],
   "metadata": {
    "collapsed": false,
    "ExecuteTime": {
     "end_time": "2023-12-16T12:57:42.922813400Z",
     "start_time": "2023-12-16T12:57:42.509403800Z"
    }
   },
   "id": "2623a99863818ec6"
  },
  {
   "cell_type": "markdown",
   "source": [
    "# Apprentissage et test de l'algorithme"
   ],
   "metadata": {
    "collapsed": false
   },
   "id": "1c2e3429d138f387"
  },
  {
   "cell_type": "code",
   "execution_count": 167,
   "outputs": [
    {
     "name": "stdout",
     "output_type": "stream",
     "text": [
      "{True: 0.0, False: 1.6039246740998063e-283}\n",
      "{True: 0.0, False: 3.0099820334070873e-287}\n",
      "{True: 0.0, False: 1.3980039967008995e-268}\n",
      "{True: 2.20728110755404e-236, False: 0.0}\n",
      "{True: 2.4643969031066857e-244, False: 0.0}\n",
      "{True: 7.027374345988493e-239, False: 0.0}\n",
      "{True: 0.0, False: 1.3772580437612362e-291}\n",
      "{True: 3.2334053491781066e-245, False: 0.0}\n",
      "{True: 0.0, False: 0.0}\n",
      "{True: 0.0, False: 1.7204182655654697e-268}\n",
      "{True: 0.0, False: 0.0}\n",
      "{True: 0.0, False: 8.110789893030343e-291}\n",
      "{True: 0.0, False: 6.350879578291261e-282}\n",
      "{True: 3.0296413849871043e-232, False: 0.0}\n",
      "{True: 0.0, False: 9.918498967920865e-289}\n",
      "{True: 0.0, False: 4.4355876573188733e-262}\n",
      "{True: 0.0, False: 0.0}\n",
      "{True: 7.049755942990839e-239, False: 0.0}\n",
      "{True: 4.7452131434053393e-240, False: 0.0}\n",
      "{True: 0.0, False: 0.0}\n",
      "{True: 1.8468208819377323e-237, False: 0.0}\n",
      "{True: 0.0, False: 1.5283643563752338e-272}\n",
      "{True: 9.742450202558404e-241, False: 0.0}\n",
      "{True: 0.0, False: 7.332769037250795e-271}\n",
      "{True: 5.740437351011618e-239, False: 0.0}\n",
      "{True: 0.0, False: 2.968177333992277e-284}\n",
      "{True: 0.0, False: 3.026605022413751e-268}\n",
      "{True: 0.0, False: 1.3594733812321871e-289}\n",
      "{True: 0.0, False: 0.0}\n",
      "{True: 0.0, False: 1.2802354082019416e-272}\n",
      "{True: 0.0, False: 0.0}\n",
      "{True: 0.0, False: 2.9065816340975277e-262}\n",
      "{True: 0.0, False: 0.0}\n",
      "{True: 3.417246379197771e-259, False: 0.0}\n",
      "{True: 0.0, False: 0.0}\n",
      "{True: 0.0, False: 6.546657977752904e-274}\n",
      "{True: 0.0, False: 3.1051916595786665e-283}\n",
      "{True: 0.0, False: 6.892287161663101e-281}\n",
      "{True: 4.0403190472445824e-241, False: 0.0}\n",
      "{True: 0.0, False: 3.8576584427020515e-263}\n",
      "{True: 0.0, False: 1.4790910275620168e-264}\n",
      "{True: 5.199579194140957e-259, False: 0.0}\n",
      "{True: 0.0, False: 6.637529389347005e-274}\n",
      "{True: 0.0, False: 3.2438588608934156e-275}\n",
      "{True: 3.3209925822302124e-245, False: 0.0}\n",
      "{True: 0.0, False: 4.962619103554485e-276}\n",
      "{True: 0.0, False: 8.224896143140174e-288}\n",
      "{True: 3.647982240408745e-296, False: 0.0}\n",
      "{True: 2.0121787916719956e-240, False: 0.0}\n",
      "{True: 0.0, False: 1.772337202725982e-297}\n",
      "{True: 0.0, False: 3.4620145975010397e-274}\n",
      "{True: 0.0, False: 0.0}\n",
      "{True: 4.460472496565502e-238, False: 0.0}\n",
      "{True: 0.0, False: 0.0}\n",
      "{True: 0.0, False: 1.6694190563645846e-263}\n",
      "{True: 0.0, False: 2.2810243475571825e-266}\n",
      "{True: 0.0, False: 3.855630940952334e-281}\n",
      "{True: 2.9472398986850153e-240, False: 0.0}\n",
      "{True: 1.1622284503287237e-298, False: 0.0}\n",
      "{True: 1.6628224521641005e-231, False: 0.0}\n",
      "{True: 0.0, False: 3.159811906397171e-277}\n",
      "{True: 5.536827584784785e-242, False: 0.0}\n",
      "{True: 0.0, False: 0.0}\n",
      "{True: 0.0, False: 1.0921421874257603e-272}\n",
      "{True: 0.0, False: 4.127432107774313e-272}\n",
      "{True: 0.0, False: 1.1017396160829243e-281}\n",
      "{True: 0.0, False: 1.3099249840845923e-265}\n",
      "{True: 8.211255265287896e-233, False: 0.0}\n",
      "{True: 0.0, False: 8.791584007070259e-274}\n",
      "{True: 0.0, False: 1.1541342859161077e-279}\n",
      "{True: 1.443265276863873e-233, False: 0.0}\n",
      "{True: 0.0, False: 6.518966643476211e-289}\n",
      "{True: 9.57801367050929e-245, False: 0.0}\n",
      "{True: 0.0, False: 1.2201216134735414e-266}\n",
      "{True: 0.0, False: 0.0}\n",
      "{True: 0.0, False: 0.0}\n",
      "{True: 0.0, False: 9.388161320591748e-280}\n",
      "{True: 0.0, False: 8.26484454756369e-269}\n",
      "{True: 5.901283736847632e-240, False: 0.0}\n",
      "{True: 1.6086474458114203e-241, False: 0.0}\n",
      "{True: 6.655380358817728e-260, False: 0.0}\n",
      "{True: 0.0, False: 4.9776562190545e-310}\n",
      "{True: 0.0, False: 2.085440104760305e-282}\n",
      "{True: 3.807075024512751e-236, False: 0.0}\n",
      "{True: 1.9659699078468905e-235, False: 0.0}\n",
      "{True: 0.0, False: 2.9378998102191687e-265}\n",
      "{True: 1.3592913890366291e-232, False: 0.0}\n",
      "{True: 0.0, False: 0.0}\n",
      "{True: 0.0, False: 1.865331137166285e-282}\n",
      "{True: 0.0, False: 6.907822081390579e-270}\n",
      "{True: 4.20868846773514e-239, False: 0.0}\n",
      "{True: 0.0, False: 8.561875877844948e-271}\n",
      "{True: 1.807054890302432e-239, False: 0.0}\n",
      "{True: 9.038226580817959e-240, False: 0.0}\n",
      "{True: 0.0, False: 2.4069132501564592e-287}\n",
      "{True: 0.0, False: 0.0}\n",
      "{True: 0.0, False: 4.331685098673676e-298}\n",
      "{True: 2.755538123944466e-275, False: 0.0}\n",
      "{True: 1.3497931814988845e-242, False: 0.0}\n",
      "{True: 0.0, False: 5.605481946526591e-289}\n",
      "[False, False, False, True, True, True, False, True, True, False, True, False, False, True, False, False, True, True, True, True, True, False, True, False, True, False, False, False, True, False, True, False, True, True, True, False, False, False, True, False, False, True, False, False, True, False, False, True, True, False, False, True, True, True, False, False, False, True, True, True, False, True, True, False, False, False, False, True, False, False, True, False, True, False, True, True, False, False, True, True, True, False, False, True, True, False, True, True, False, False, True, False, True, True, False, True, False, True, True, False]\n"
     ]
    }
   ],
   "source": [
    "# Apprentissage\n",
    "info = MeanAndStdDevForClass(arcene_train_filtered_concatinated.values)\n",
    "\n",
    "# Test\n",
    "predictions = getPredictions(info, arcene_valid_filtered_concatinated.values)"
   ],
   "metadata": {
    "collapsed": false,
    "ExecuteTime": {
     "end_time": "2023-12-16T12:57:42.958299Z",
     "start_time": "2023-12-16T12:57:42.524025600Z"
    }
   },
   "id": "59cc9783a4522b06"
  },
  {
   "cell_type": "markdown",
   "source": [
    "### Matrice de confusion\n",
    "La matrice de confusion est une matrice qui permet de visualiser les performances d'un algorithme de classification. "
   ],
   "metadata": {
    "collapsed": false
   },
   "id": "9b30e9aa8a8f76e"
  },
  {
   "cell_type": "code",
   "execution_count": 168,
   "outputs": [
    {
     "data": {
      "text/plain": "array([[50,  6],\n       [ 0, 44]], dtype=int64)"
     },
     "execution_count": 168,
     "metadata": {},
     "output_type": "execute_result"
    }
   ],
   "source": [
    "cm = metrics.confusion_matrix(arcene_valid_labels, predictions)\n",
    "\n",
    "cm"
   ],
   "metadata": {
    "collapsed": false,
    "ExecuteTime": {
     "end_time": "2023-12-16T12:57:43.014240400Z",
     "start_time": "2023-12-16T12:57:42.605955800Z"
    }
   },
   "id": "a2d69085221930a8"
  },
  {
   "cell_type": "markdown",
   "source": [
    "### Visualisation de la matrice de confusion"
   ],
   "metadata": {
    "collapsed": false
   },
   "id": "4df39ea2e99f2094"
  },
  {
   "cell_type": "code",
   "execution_count": 169,
   "outputs": [
    {
     "data": {
      "text/plain": "<Figure size 640x480 with 2 Axes>",
      "image/png": "[encoded data removed]"
     },
     "metadata": {},
     "output_type": "display_data"
    }
   ],
   "source": [
    "disp = metrics.ConfusionMatrixDisplay.from_predictions(y_true=arcene_valid_labels, y_pred=predictions, display_labels=[\"False\", \"True\"], cmap=plt.cm.Blues)\n",
    "\n",
    "plt.show()"
   ],
   "metadata": {
    "collapsed": false,
    "ExecuteTime": {
     "end_time": "2023-12-16T12:57:43.074801700Z",
     "start_time": "2023-12-16T12:57:42.617950600Z"
    }
   },
   "id": "17c6a44059fe05b1"
  },
  {
   "cell_type": "markdown",
   "source": [
    "### Calcul des métriques\n",
    "Les métriques qui seront calculées sont :\n",
    "- Balanced Error Rate\n",
    "- Accuracy\n",
    "- Precision\n",
    "- Recall\n",
    "- F1 Score\n",
    "- AUC Score\n",
    "- ROC Curve\n",
    "\n",
    "Ces metriques on ete conseillees par les juges du challenge Arcene pour evaluer les performances des algorithmes de classification. (https://web.archive.org/web/20130503080434/http://www.nipsfsc.ecs.soton.ac.uk/evaluation)\n",
    "Pour plus d'informations sur ces métriques, veuillez consulter ce lien : https://towardsdatascience.com/understanding-confusion-matrix-a9ad42dcfd62"
   ],
   "metadata": {
    "collapsed": false
   },
   "id": "ae6984e067813c1b"
  },
  {
   "cell_type": "code",
   "execution_count": 170,
   "outputs": [
    {
     "name": "stdout",
     "output_type": "stream",
     "text": [
      "Balanced Error Rate:  0.06000000000000005\n",
      "Accuracy:             0.94\n",
      "Precision:            0.94\n",
      "Recall:               0.9464285714285714\n",
      "F1 Score:             0.939783219590526\n",
      "AUC Score:            0.9464285714285715\n"
     ]
    }
   ],
   "source": [
    "TP = cm[0][0]\n",
    "FP = cm[0][1]\n",
    "FN = cm[1][0]\n",
    "TN = cm[1][1]\n",
    "\n",
    "BER = 1 - (1/2 * ((TP / (TP + FN)) + (TN / (TN + FP))))\n",
    "\n",
    "precision = metrics.precision_score(arcene_valid_labels, predictions, average='macro')\n",
    "\n",
    "recall = metrics.recall_score(arcene_valid_labels, predictions, average='macro')\n",
    "\n",
    "f1_score = metrics.f1_score(arcene_valid_labels, predictions, average='macro')\n",
    "\n",
    "accuracy = metrics.accuracy_score(arcene_valid_labels, predictions)\n",
    "\n",
    "auc_score = metrics.roc_auc_score(arcene_valid_labels, predictions)\n",
    "\n",
    "print('Balanced Error Rate: ', BER)\n",
    "print('Accuracy:            ', accuracy)\n",
    "print('Precision:           ', precision)\n",
    "print('Recall:              ', recall)\n",
    "print('F1 Score:            ', f1_score)\n",
    "print('AUC Score:           ', auc_score)"
   ],
   "metadata": {
    "collapsed": false,
    "ExecuteTime": {
     "end_time": "2023-12-16T12:57:43.377634100Z",
     "start_time": "2023-12-16T12:57:42.884535500Z"
    }
   },
   "id": "2f96d2e6bdcc73f4"
  },
  {
   "cell_type": "markdown",
   "source": [
    "##### Courbe ROC:"
   ],
   "metadata": {
    "collapsed": false
   },
   "id": "440472865feb31f6"
  },
  {
   "cell_type": "code",
   "execution_count": 171,
   "outputs": [
    {
     "data": {
      "text/plain": "<Figure size 640x480 with 1 Axes>",
      "image/png": "[encoded data removed]"
     },
     "metadata": {},
     "output_type": "display_data"
    }
   ],
   "source": [
    "fpr, tpr, thresh = metrics.roc_curve(arcene_valid_labels, predictions, pos_label=1)\n",
    "\n",
    "# plot roc curves\n",
    "plt.plot(fpr, tpr, linestyle='--',color='orange', label='Naive Bayes')\n",
    "# title\n",
    "plt.title('ROC curve')\n",
    "# x label\n",
    "plt.xlabel('False Positive Rate')\n",
    "# y label\n",
    "plt.ylabel('True Positive rate')\n",
    "\n",
    "plt.legend(loc='best')\n",
    "plt.savefig('ROC',dpi=300)\n",
    "plt.show();"
   ],
   "metadata": {
    "collapsed": false,
    "ExecuteTime": {
     "end_time": "2023-12-16T12:57:43.694795Z",
     "start_time": "2023-12-16T12:57:42.935171600Z"
    }
   },
   "id": "31b868f332b2239c"
  },
  {
   "cell_type": "markdown",
   "source": [
    "Ajouter une colonne inutile au donnees de test just pour pouvoir les tester avec l'algorithme."
   ],
   "metadata": {
    "collapsed": false
   },
   "id": "1cea8026d1da4da4"
  },
  {
   "cell_type": "code",
   "execution_count": 172,
   "outputs": [],
   "source": [
    "arcene_test_filtered_ = arcene_test_filtered.copy()\n",
    "\n",
    "arcene_test_filtered_[120] = 0"
   ],
   "metadata": {
    "collapsed": false,
    "ExecuteTime": {
     "end_time": "2023-12-16T12:57:43.730866Z",
     "start_time": "2023-12-16T12:57:43.575619200Z"
    }
   },
   "id": "49bde2babf31197e"
  },
  {
   "cell_type": "markdown",
   "source": [
    "Predire les classes des donnees de test:"
   ],
   "metadata": {
    "collapsed": false
   },
   "id": "5a5df097e12b974c"
  },
  {
   "cell_type": "code",
   "execution_count": 173,
   "outputs": [
    {
     "name": "stdout",
     "output_type": "stream",
     "text": [
      "{True: 0.0, False: 9.185158029851641e-271}\n",
      "{True: 0.0, False: 8.308697627013564e-280}\n",
      "{True: 0.0, False: 2.5195626350302223e-291}\n",
      "{True: 0.0, False: 7.618802745283562e-285}\n",
      "{True: 0.0, False: 1.2721960609443858e-281}\n",
      "{True: 0.0, False: 3.597388048651499e-263}\n",
      "{True: 0.0, False: 3.6577140638198676e-278}\n",
      "{True: 0.0, False: 2.814054701699312e-292}\n",
      "{True: 0.0, False: 2.7266431500755856e-270}\n",
      "{True: 0.0, False: 1.9885568017264632e-289}\n",
      "{True: 0.0, False: 0.0}\n",
      "{True: 0.0, False: 1.1478157423057856e-262}\n",
      "{True: 0.0, False: 5.887051599068096e-290}\n",
      "{True: 0.0, False: 2.561782492331327e-292}\n",
      "{True: 0.0, False: 7.272165971938601e-281}\n",
      "{True: 0.0, False: 6.856124956692705e-285}\n",
      "{True: 0.0, False: 2.4246295539489234e-277}\n",
      "{True: 0.0, False: 2.318915233413391e-280}\n",
      "{True: 0.0, False: 3.081897186556936e-267}\n",
      "{True: 0.0, False: 2.4596581830581373e-276}\n",
      "{True: 0.0, False: 7.293263401441386e-289}\n",
      "{True: 0.0, False: 1.0443368870636472e-286}\n",
      "{True: 0.0, False: 6.859245750975895e-278}\n",
      "{True: 0.0, False: 6.542707480603867e-263}\n",
      "{True: 0.0, False: 3.3993612027173913e-286}\n",
      "{True: 0.0, False: 8.422935801109321e-283}\n",
      "{True: 0.0, False: 4.792937707976582e-282}\n",
      "{True: 0.0, False: 6.237807874269706e-280}\n",
      "{True: 0.0, False: 9.13415932737024e-277}\n",
      "{True: 0.0, False: 2.242897590268019e-276}\n",
      "{True: 0.0, False: 4.336006843241782e-286}\n",
      "{True: 0.0, False: 0.0}\n",
      "{True: 0.0, False: 7.989984887865191e-271}\n",
      "{True: 0.0, False: 4.637967835782869e-281}\n",
      "{True: 0.0, False: 3.6711585819991473e-271}\n",
      "{True: 0.0, False: 1.911980087345227e-289}\n",
      "{True: 0.0, False: 1.0925077426110483e-288}\n",
      "{True: 0.0, False: 5.872075630827294e-264}\n",
      "{True: 0.0, False: 1.2660849623867274e-264}\n",
      "{True: 0.0, False: 3.1523231700861614e-276}\n",
      "{True: 0.0, False: 7.748658659361024e-289}\n",
      "{True: 0.0, False: 9.237261288924634e-282}\n",
      "{True: 0.0, False: 6.153778010751449e-284}\n",
      "{True: 0.0, False: 6.513785969722988e-277}\n",
      "{True: 0.0, False: 1.3160642744887217e-289}\n",
      "{True: 0.0, False: 4.598487492925627e-277}\n",
      "{True: 0.0, False: 1.5814710998333702e-266}\n",
      "{True: 0.0, False: 3.2438171459311808e-289}\n",
      "{True: 0.0, False: 0.0}\n",
      "{True: 0.0, False: 7.762608478984405e-291}\n",
      "{True: 0.0, False: 4.141457160243661e-289}\n",
      "{True: 0.0, False: 2.6884949139946823e-287}\n",
      "{True: 0.0, False: 1.1990858148020736e-289}\n",
      "{True: 0.0, False: 2.09402944766115e-310}\n",
      "{True: 0.0, False: 9.821260882316019e-289}\n",
      "{True: 0.0, False: 1.7957949795499392e-284}\n",
      "{True: 0.0, False: 2.611692910496298e-268}\n",
      "{True: 0.0, False: 1.5886194008318503e-283}\n",
      "{True: 0.0, False: 7.580154773584307e-264}\n",
      "{True: 0.0, False: 4.6836367667065564e-279}\n",
      "{True: 0.0, False: 1.0821117012130202e-264}\n",
      "{True: 0.0, False: 1.1584597119369227e-271}\n",
      "{True: 0.0, False: 2.4382110973534843e-285}\n",
      "{True: 0.0, False: 3.0534546524777924e-278}\n",
      "{True: 0.0, False: 7.762755798952953e-292}\n",
      "{True: 0.0, False: 1.2458741861524643e-272}\n",
      "{True: 0.0, False: 6.88385063280766e-278}\n",
      "{True: 0.0, False: 1.299069449128972e-283}\n",
      "{True: 0.0, False: 1.6057266150770524e-286}\n",
      "{True: 0.0, False: 7.91891228840838e-273}\n",
      "{True: 0.0, False: 1.0104842238543213e-263}\n",
      "{True: 0.0, False: 4.4625699235542484e-274}\n",
      "{True: 0.0, False: 6.940472932683621e-287}\n",
      "{True: 0.0, False: 1.8165938062615422e-274}\n",
      "{True: 0.0, False: 5.916507774556832e-274}\n",
      "{True: 0.0, False: 4.9803200554515145e-288}\n",
      "{True: 0.0, False: 1.0698529132137618e-277}\n",
      "{True: 0.0, False: 1.4044499191624024e-290}\n",
      "{True: 0.0, False: 0.0}\n",
      "{True: 0.0, False: 2.089079423697358e-263}\n",
      "{True: 0.0, False: 3.1050313308105557e-280}\n",
      "{True: 0.0, False: 5.467230498066915e-276}\n",
      "{True: 0.0, False: 1.9456840776157977e-281}\n",
      "{True: 0.0, False: 3.895371785886587e-268}\n",
      "{True: 0.0, False: 2.4279072673555087e-286}\n",
      "{True: 0.0, False: 1.0483489041788664e-281}\n",
      "{True: 0.0, False: 2.396535684952824e-268}\n",
      "{True: 0.0, False: 7.14951453849952e-274}\n",
      "{True: 0.0, False: 4.531410608412701e-269}\n",
      "{True: 0.0, False: 2.539968447663568e-270}\n",
      "{True: 0.0, False: 4.541184109045485e-277}\n",
      "{True: 0.0, False: 1.0209085173040132e-296}\n",
      "{True: 0.0, False: 2.039080052121688e-282}\n",
      "{True: 0.0, False: 1.140003840362262e-273}\n",
      "{True: 0.0, False: 1.1951728852502056e-283}\n",
      "{True: 0.0, False: 7.407964715817803e-291}\n",
      "{True: 0.0, False: 6.60732142814706e-291}\n",
      "{True: 0.0, False: 0.0}\n",
      "{True: 0.0, False: 1.7268651148015632e-283}\n",
      "{True: 0.0, False: 8.815426999535898e-286}\n",
      "{True: 0.0, False: 1.7877780333614112e-277}\n",
      "{True: 0.0, False: 4.2973706053029426e-278}\n",
      "{True: 0.0, False: 0.0}\n",
      "{True: 0.0, False: 2.2926756251212713e-271}\n",
      "{True: 0.0, False: 2.0478334917480277e-281}\n",
      "{True: 0.0, False: 2.712380145587298e-279}\n",
      "{True: 0.0, False: 2.685147179417811e-268}\n",
      "{True: 0.0, False: 3.5670619793274643e-283}\n",
      "{True: 0.0, False: 2.300157886117894e-276}\n",
      "{True: 0.0, False: 2.9570734641577114e-277}\n",
      "{True: 0.0, False: 7.38931313134321e-284}\n",
      "{True: 0.0, False: 1.1503788106184083e-278}\n",
      "{True: 0.0, False: 2.6263270457234074e-279}\n",
      "{True: 0.0, False: 6.3940427615424496e-270}\n",
      "{True: 0.0, False: 0.0}\n",
      "{True: 0.0, False: 5.14101408115144e-279}\n",
      "{True: 0.0, False: 2.4590331507164167e-275}\n",
      "{True: 0.0, False: 1.7304890982053276e-287}\n",
      "{True: 0.0, False: 8.913359953037926e-302}\n",
      "{True: 0.0, False: 3.030293964782912e-274}\n",
      "{True: 0.0, False: 3.9477461830114715e-288}\n",
      "{True: 0.0, False: 2.2047054116217596e-293}\n",
      "{True: 0.0, False: 1.9453443252692334e-284}\n",
      "{True: 0.0, False: 5.585285714063675e-274}\n",
      "{True: 0.0, False: 3.4452735792204297e-283}\n",
      "{True: 0.0, False: 1.4711034689732298e-274}\n",
      "{True: 0.0, False: 4.0724164041320345e-291}\n",
      "{True: 0.0, False: 1.5043983288750563e-266}\n",
      "{True: 0.0, False: 3.4157705633645023e-286}\n",
      "{True: 0.0, False: 2.6446774150467025e-281}\n",
      "{True: 0.0, False: 4.1723444015921805e-266}\n",
      "{True: 0.0, False: 6.943625075066216e-270}\n",
      "{True: 0.0, False: 1.96466777109912e-291}\n",
      "{True: 0.0, False: 5.4450743785292724e-301}\n",
      "{True: 0.0, False: 3.762222036434195e-290}\n",
      "{True: 0.0, False: 1.570557845958016e-282}\n",
      "{True: 0.0, False: 5.587413359396163e-277}\n",
      "{True: 0.0, False: 1.7622680023730574e-282}\n",
      "{True: 0.0, False: 3.805905859042597e-290}\n",
      "{True: 0.0, False: 3.115368362923212e-284}\n",
      "{True: 0.0, False: 5.200357600255312e-285}\n",
      "{True: 0.0, False: 6.420842229377101e-291}\n",
      "{True: 0.0, False: 1.311245357128271e-280}\n",
      "{True: 0.0, False: 4.281826705415228e-270}\n",
      "{True: 0.0, False: 0.0}\n",
      "{True: 0.0, False: 6.399282477220083e-282}\n",
      "{True: 0.0, False: 7.475272816467035e-273}\n",
      "{True: 0.0, False: 1.9908090888448124e-288}\n",
      "{True: 0.0, False: 1.0434913559099735e-295}\n",
      "{True: 0.0, False: 6.293939161229664e-290}\n",
      "{True: 0.0, False: 4.931832244724064e-270}\n",
      "{True: 0.0, False: 2.4517622796170447e-279}\n",
      "{True: 0.0, False: 1.450250293938602e-288}\n",
      "{True: 0.0, False: 2.7178190964321276e-277}\n",
      "{True: 0.0, False: 2.7621717530943285e-284}\n",
      "{True: 0.0, False: 5.968840973698951e-284}\n",
      "{True: 0.0, False: 5.733149792577115e-269}\n",
      "{True: 0.0, False: 2.268002790212554e-285}\n",
      "{True: 0.0, False: 8.88048923689482e-275}\n",
      "{True: 0.0, False: 3.531796137924773e-285}\n",
      "{True: 0.0, False: 4.7809599528420354e-272}\n",
      "{True: 0.0, False: 1.5633741207813876e-282}\n",
      "{True: 0.0, False: 1.664835756910146e-286}\n",
      "{True: 0.0, False: 1.2357384470928013e-287}\n",
      "{True: 0.0, False: 1.7721223779456158e-277}\n",
      "{True: 0.0, False: 1.6022932897498408e-285}\n",
      "{True: 0.0, False: 2.4342604154250257e-265}\n",
      "{True: 0.0, False: 1.0883844714294146e-277}\n",
      "{True: 0.0, False: 1.1524484440315002e-277}\n",
      "{True: 0.0, False: 1.3845536279630905e-279}\n",
      "{True: 0.0, False: 6.685592688470898e-270}\n",
      "{True: 0.0, False: 3.253503124359261e-269}\n",
      "{True: 0.0, False: 3.3831769762311556e-271}\n",
      "{True: 0.0, False: 1.3461686624775234e-274}\n",
      "{True: 0.0, False: 1.4448328038727725e-285}\n",
      "{True: 0.0, False: 3.694646725133996e-278}\n",
      "{True: 0.0, False: 1.0700004153492231e-271}\n",
      "{True: 0.0, False: 4.926587700967873e-282}\n",
      "{True: 0.0, False: 3.2417840456428164e-278}\n",
      "{True: 0.0, False: 0.0}\n",
      "{True: 0.0, False: 6.284320243889754e-304}\n",
      "{True: 0.0, False: 1.7300217063462426e-289}\n",
      "{True: 0.0, False: 1.135851283997159e-291}\n",
      "{True: 0.0, False: 3.337172118878757e-275}\n",
      "{True: 0.0, False: 0.0}\n",
      "{True: 0.0, False: 7.78764949819017e-275}\n",
      "{True: 0.0, False: 1.265690933776965e-273}\n",
      "{True: 0.0, False: 4.67171521923782e-276}\n",
      "{True: 0.0, False: 1.2942511440888972e-286}\n",
      "{True: 0.0, False: 5.709689322341259e-272}\n",
      "{True: 0.0, False: 2.961297035014749e-283}\n",
      "{True: 0.0, False: 2.918998715957942e-274}\n",
      "{True: 0.0, False: 4.452577442043081e-276}\n",
      "{True: 0.0, False: 1.498764304054283e-290}\n",
      "{True: 0.0, False: 1.3625975959387122e-306}\n",
      "{True: 0.0, False: 3.7101611097028984e-275}\n",
      "{True: 0.0, False: 5.464573584361088e-288}\n",
      "{True: 0.0, False: 7.783255916281639e-281}\n",
      "{True: 0.0, False: 1.2221311432271459e-284}\n",
      "{True: 0.0, False: 1.8209677134266945e-284}\n",
      "{True: 0.0, False: 4.461675349257064e-274}\n",
      "{True: 0.0, False: 4.6087307982071436e-282}\n",
      "{True: 0.0, False: 3.3093773541741284e-285}\n",
      "{True: 0.0, False: 1.3439696504849466e-274}\n",
      "{True: 0.0, False: 7.669137431040216e-284}\n",
      "{True: 0.0, False: 1.6832350912672665e-290}\n",
      "{True: 0.0, False: 1.9540992079452092e-279}\n",
      "{True: 0.0, False: 4.4141022590083517e-268}\n",
      "{True: 0.0, False: 5.6066162474643505e-289}\n",
      "{True: 0.0, False: 2.90734553284043e-301}\n",
      "{True: 0.0, False: 3.6831231046124654e-281}\n",
      "{True: 0.0, False: 6.785085861408368e-288}\n",
      "{True: 0.0, False: 0.0}\n",
      "{True: 0.0, False: 4.839652412106871e-269}\n",
      "{True: 0.0, False: 6.079870712948336e-286}\n",
      "{True: 0.0, False: 1.1892764738573233e-287}\n",
      "{True: 0.0, False: 2.9371385302378794e-286}\n",
      "{True: 0.0, False: 8.963461890000462e-288}\n",
      "{True: 0.0, False: 7.44513949156104e-285}\n",
      "{True: 0.0, False: 0.0}\n",
      "{True: 0.0, False: 4.487195348374201e-271}\n",
      "{True: 0.0, False: 4.185411934401862e-272}\n",
      "{True: 0.0, False: 1.2253935500856e-310}\n",
      "{True: 0.0, False: 4.536137686058195e-285}\n",
      "{True: 0.0, False: 4.381359469684208e-288}\n",
      "{True: 0.0, False: 0.0}\n",
      "{True: 0.0, False: 1.7930793943810808e-285}\n",
      "{True: 0.0, False: 1.4803773508953013e-285}\n",
      "{True: 0.0, False: 7.007389679078522e-277}\n",
      "{True: 0.0, False: 6.173773163737536e-275}\n",
      "{True: 0.0, False: 4.254327200977868e-290}\n",
      "{True: 0.0, False: 1.0120484170305282e-273}\n",
      "{True: 0.0, False: 8.580425459019221e-272}\n",
      "{True: 0.0, False: 0.0}\n",
      "{True: 0.0, False: 5.68737962405748e-286}\n",
      "{True: 0.0, False: 8.534261562058739e-273}\n",
      "{True: 0.0, False: 3.638042423734324e-265}\n",
      "{True: 0.0, False: 7.271603629241736e-285}\n",
      "{True: 0.0, False: 1.3874259763461659e-275}\n",
      "{True: 0.0, False: 2.847306216826623e-302}\n",
      "{True: 0.0, False: 6.277539102976981e-276}\n",
      "{True: 0.0, False: 4.952950117262235e-266}\n",
      "{True: 0.0, False: 3.0807133796331926e-272}\n",
      "{True: 0.0, False: 3.8067562927095955e-276}\n",
      "{True: 0.0, False: 2.159284968678777e-287}\n",
      "{True: 0.0, False: 4.3058510964684656e-278}\n",
      "{True: 0.0, False: 2.1021740872419666e-290}\n",
      "{True: 0.0, False: 5.65558330319179e-285}\n",
      "{True: 0.0, False: 5.7288341435974595e-279}\n",
      "{True: 0.0, False: 3.1745679034488967e-273}\n",
      "{True: 0.0, False: 2.305797055282755e-280}\n",
      "{True: 0.0, False: 2.6627430855384e-268}\n",
      "{True: 0.0, False: 1.971036754e-314}\n",
      "{True: 0.0, False: 1.068273229874133e-296}\n",
      "{True: 0.0, False: 4.5266213994072227e-272}\n",
      "{True: 0.0, False: 1.2667722381950491e-269}\n",
      "{True: 0.0, False: 1.2217154396498018e-279}\n",
      "{True: 0.0, False: 1.791672409567e-311}\n",
      "{True: 0.0, False: 1.9366341876217954e-281}\n",
      "{True: 0.0, False: 4.787272578539215e-289}\n",
      "{True: 0.0, False: 1.6777902558924798e-292}\n",
      "{True: 0.0, False: 7.11881001447353e-278}\n",
      "{True: 0.0, False: 1.4454454190680413e-282}\n",
      "{True: 0.0, False: 9.914314087081114e-277}\n",
      "{True: 0.0, False: 9.259232477079543e-290}\n",
      "{True: 0.0, False: 3.1635537040450874e-275}\n",
      "{True: 0.0, False: 6.28560700702808e-275}\n",
      "{True: 0.0, False: 7.980720494937087e-293}\n",
      "{True: 0.0, False: 4.191364348008333e-264}\n",
      "{True: 0.0, False: 2.7694400473428616e-277}\n",
      "{True: 0.0, False: 3.658123612450107e-268}\n",
      "{True: 0.0, False: 3.3539828567671233e-276}\n",
      "{True: 0.0, False: 1.10289092263794e-284}\n",
      "{True: 0.0, False: 4.5604380721418775e-284}\n",
      "{True: 0.0, False: 1.1282629839553085e-302}\n",
      "{True: 0.0, False: 2.6295177514113617e-275}\n",
      "{True: 0.0, False: 6.545219041959218e-283}\n",
      "{True: 0.0, False: 6.170162267819374e-274}\n",
      "{True: 0.0, False: 8.895815001384114e-281}\n",
      "{True: 0.0, False: 4.4174675864834296e-263}\n",
      "{True: 0.0, False: 1.98199776125913e-280}\n",
      "{True: 0.0, False: 3.615739632879036e-270}\n",
      "{True: 0.0, False: 1.2490245661378782e-271}\n",
      "{True: 0.0, False: 2.556394345750613e-281}\n",
      "{True: 0.0, False: 0.0}\n",
      "{True: 0.0, False: 3.159048030225043e-285}\n",
      "{True: 0.0, False: 2.8309835962129205e-291}\n",
      "{True: 0.0, False: 6.557823091849225e-289}\n",
      "{True: 0.0, False: 1.7513162342367457e-305}\n",
      "{True: 0.0, False: 6.415190568777279e-273}\n",
      "{True: 0.0, False: 5.148750945370504e-283}\n",
      "{True: 0.0, False: 1.920850477492081e-279}\n",
      "{True: 0.0, False: 6.207050131141383e-274}\n",
      "{True: 0.0, False: 2.9648883251047248e-269}\n",
      "{True: 0.0, False: 6.49927556096817e-269}\n",
      "{True: 0.0, False: 3.5377145878660676e-290}\n",
      "{True: 0.0, False: 8.753747452514649e-292}\n",
      "{True: 0.0, False: 1.0058130758989333e-264}\n",
      "{True: 0.0, False: 8.541686442700928e-276}\n",
      "{True: 0.0, False: 2.8031469173659046e-281}\n",
      "{True: 0.0, False: 1.6732368131712047e-282}\n",
      "{True: 0.0, False: 1.3438739958730573e-271}\n",
      "{True: 0.0, False: 5.045288338799024e-280}\n",
      "{True: 0.0, False: 6.079946990818193e-275}\n",
      "{True: 0.0, False: 2.1135280307423254e-284}\n",
      "{True: 0.0, False: 4.9075810439169404e-275}\n",
      "{True: 0.0, False: 1.7029297187442453e-279}\n",
      "{True: 0.0, False: 3.5399761636639336e-276}\n",
      "{True: 0.0, False: 3.7252403240410776e-288}\n",
      "{True: 0.0, False: 1.3003971810418445e-277}\n",
      "{True: 0.0, False: 1.6208335443012e-289}\n",
      "{True: 0.0, False: 1.9303042543675505e-263}\n",
      "{True: 0.0, False: 1.0794536797093725e-288}\n",
      "{True: 0.0, False: 2.3379416080183526e-263}\n",
      "{True: 0.0, False: 3.961741389668405e-285}\n",
      "{True: 0.0, False: 2.404138573309574e-308}\n",
      "{True: 0.0, False: 1.7465678244123908e-279}\n",
      "{True: 0.0, False: 7.142389650985834e-280}\n",
      "{True: 0.0, False: 0.0}\n",
      "{True: 0.0, False: 3.3353346161520554e-280}\n",
      "{True: 0.0, False: 8.865281147407535e-290}\n",
      "{True: 0.0, False: 1.5040631816261411e-274}\n",
      "{True: 0.0, False: 4.2133854775163767e-281}\n",
      "{True: 0.0, False: 3.1226006696174195e-279}\n",
      "{True: 0.0, False: 7.919180131879013e-282}\n",
      "{True: 0.0, False: 1.867261979966018e-280}\n",
      "{True: 0.0, False: 0.0}\n",
      "{True: 0.0, False: 5.816990704949815e-281}\n",
      "{True: 0.0, False: 1.1669147163916275e-290}\n",
      "{True: 0.0, False: 1.1979806322282996e-274}\n",
      "{True: 0.0, False: 8.309031555055941e-291}\n",
      "{True: 0.0, False: 3.2771678354459054e-273}\n",
      "{True: 0.0, False: 6.724288656769186e-282}\n",
      "{True: 0.0, False: 1.1053886486293318e-285}\n",
      "{True: 0.0, False: 6.493024768750846e-281}\n",
      "{True: 0.0, False: 0.0}\n",
      "{True: 0.0, False: 2.609198807757758e-289}\n",
      "{True: 0.0, False: 1.3118892458329872e-306}\n",
      "{True: 0.0, False: 2.5715538030161905e-269}\n",
      "{True: 0.0, False: 8.716187841651358e-277}\n",
      "{True: 0.0, False: 3.501876064976708e-269}\n",
      "{True: 0.0, False: 4.285788268907368e-282}\n",
      "{True: 0.0, False: 3.4027961588009865e-284}\n",
      "{True: 0.0, False: 1.7666518254145866e-261}\n",
      "{True: 0.0, False: 1.7940331432076894e-263}\n",
      "{True: 0.0, False: 7.871164167918528e-265}\n",
      "{True: 0.0, False: 5.643537470698344e-281}\n",
      "{True: 0.0, False: 1.3049718776056907e-273}\n",
      "{True: 0.0, False: 7.823255656880634e-275}\n",
      "{True: 0.0, False: 4.916885143488419e-274}\n",
      "{True: 0.0, False: 1.0064721764530136e-273}\n",
      "{True: 0.0, False: 2.6074438499087567e-282}\n",
      "{True: 0.0, False: 1.1932539996008637e-287}\n",
      "{True: 0.0, False: 1.833064181404e-312}\n",
      "{True: 0.0, False: 2.6611742731850476e-268}\n",
      "{True: 0.0, False: 9.30048178627715e-283}\n",
      "{True: 0.0, False: 2.192426884887656e-282}\n",
      "{True: 0.0, False: 1.8368515217836939e-274}\n",
      "{True: 0.0, False: 2.2379132103052394e-278}\n",
      "{True: 0.0, False: 8.324127455559601e-271}\n",
      "{True: 0.0, False: 8.57182202996908e-309}\n",
      "{True: 0.0, False: 3.818722300680291e-279}\n",
      "{True: 0.0, False: 1.2689780853318674e-286}\n",
      "{True: 0.0, False: 5.7691245241074014e-276}\n",
      "{True: 0.0, False: 2.5937535874331563e-288}\n",
      "{True: 0.0, False: 5.319632148816766e-288}\n",
      "{True: 0.0, False: 3.4671882957188797e-280}\n",
      "{True: 0.0, False: 1.886660986349443e-277}\n",
      "{True: 0.0, False: 2.211443480876654e-287}\n",
      "{True: 0.0, False: 1.5652305164090706e-278}\n",
      "{True: 0.0, False: 1.8072210022892274e-273}\n",
      "{True: 0.0, False: 1.0244739909576386e-285}\n",
      "{True: 0.0, False: 2.5395800123763986e-281}\n",
      "{True: 0.0, False: 2.0957664163204546e-274}\n",
      "{True: 0.0, False: 1.8929162787187526e-289}\n",
      "{True: 0.0, False: 1.9997375846597951e-289}\n",
      "{True: 0.0, False: 7.574681956268872e-294}\n",
      "{True: 0.0, False: 1.7470187610214927e-291}\n",
      "{True: 0.0, False: 1.859367863993659e-306}\n",
      "{True: 0.0, False: 3.557496528988584e-294}\n",
      "{True: 0.0, False: 4.29335780028874e-277}\n",
      "{True: 0.0, False: 1.5435570875442155e-284}\n",
      "{True: 0.0, False: 9.271979657092084e-281}\n",
      "{True: 0.0, False: 1.2699679630606315e-280}\n",
      "{True: 0.0, False: 5.928934374336841e-281}\n",
      "{True: 0.0, False: 2.13392835527014e-281}\n",
      "{True: 0.0, False: 1.8925023330795255e-287}\n",
      "{True: 0.0, False: 8.3255508807405e-291}\n",
      "{True: 0.0, False: 0.0}\n",
      "{True: 0.0, False: 5.395067885546706e-278}\n",
      "{True: 0.0, False: 3.64998691458765e-289}\n",
      "{True: 0.0, False: 1.8929205183102626e-288}\n",
      "{True: 0.0, False: 1.6026297639443062e-277}\n",
      "{True: 0.0, False: 2.7298300423088363e-285}\n",
      "{True: 0.0, False: 3.207557088671863e-271}\n",
      "{True: 0.0, False: 4.902223051376271e-283}\n",
      "{True: 0.0, False: 4.475132996669372e-290}\n",
      "{True: 0.0, False: 1.3029163423087791e-281}\n",
      "{True: 0.0, False: 8.916914393077003e-285}\n",
      "{True: 0.0, False: 2.2417613231043646e-281}\n",
      "{True: 0.0, False: 6.142648646429727e-287}\n",
      "{True: 0.0, False: 8.529838200496894e-287}\n",
      "{True: 0.0, False: 1.5525548803656463e-283}\n",
      "{True: 0.0, False: 4.824228029381308e-277}\n",
      "{True: 0.0, False: 8.763184099741835e-273}\n",
      "{True: 0.0, False: 8.012298228793131e-291}\n",
      "{True: 0.0, False: 3.551757255554628e-286}\n",
      "{True: 0.0, False: 4.901894972185587e-304}\n",
      "{True: 0.0, False: 4.101838289933573e-273}\n",
      "{True: 0.0, False: 6.675565572835448e-277}\n",
      "{True: 0.0, False: 1.0254560783073772e-277}\n",
      "{True: 0.0, False: 5.712679127650168e-269}\n",
      "{True: 0.0, False: 7.566529543425976e-273}\n",
      "{True: 0.0, False: 2.3902843718707295e-275}\n",
      "{True: 0.0, False: 6.27737756514095e-309}\n",
      "{True: 0.0, False: 5.991910892461506e-263}\n",
      "{True: 0.0, False: 1.0973098776529648e-296}\n",
      "{True: 0.0, False: 6.788741417351994e-286}\n",
      "{True: 0.0, False: 9.417105035765219e-278}\n",
      "{True: 0.0, False: 1.1808271066218416e-283}\n",
      "{True: 0.0, False: 1.9198837372657105e-262}\n",
      "{True: 0.0, False: 1.232424426388752e-281}\n",
      "{True: 0.0, False: 1.516178414166355e-284}\n",
      "{True: 0.0, False: 3.146557017438387e-284}\n",
      "{True: 0.0, False: 6.8171226846512265e-279}\n",
      "{True: 0.0, False: 9.367690710940473e-275}\n",
      "{True: 0.0, False: 6.271134464152193e-274}\n",
      "{True: 0.0, False: 5.8000876226611145e-276}\n",
      "{True: 0.0, False: 4.828303629286478e-271}\n",
      "{True: 0.0, False: 6.517774438049086e-265}\n",
      "{True: 0.0, False: 4.001304521294289e-271}\n",
      "{True: 0.0, False: 8.829778639697757e-265}\n",
      "{True: 0.0, False: 3.3969229520564865e-287}\n",
      "{True: 0.0, False: 1.1348416081710195e-290}\n",
      "{True: 0.0, False: 2.7453935631759554e-284}\n",
      "{True: 0.0, False: 1.2903469821420486e-283}\n",
      "{True: 0.0, False: 1.4057273062652695e-271}\n",
      "{True: 0.0, False: 2.2057901384280902e-288}\n",
      "{True: 0.0, False: 0.0}\n",
      "{True: 0.0, False: 1.3910444805689853e-288}\n",
      "{True: 0.0, False: 2.0125197652131183e-283}\n",
      "{True: 0.0, False: 1.6786551131579934e-269}\n",
      "{True: 0.0, False: 2.0101098325462565e-269}\n",
      "{True: 0.0, False: 1.1418706839996756e-289}\n",
      "{True: 0.0, False: 0.0}\n",
      "{True: 0.0, False: 4.5727133391385074e-291}\n",
      "{True: 0.0, False: 8.294553471916723e-282}\n",
      "{True: 0.0, False: 3.648210868521274e-273}\n",
      "{True: 0.0, False: 2.487009312754067e-287}\n",
      "{True: 0.0, False: 1.4631018181318722e-282}\n",
      "{True: 0.0, False: 7.538612058292465e-282}\n",
      "{True: 0.0, False: 1.3823435358028896e-286}\n",
      "{True: 0.0, False: 6.420759186563993e-281}\n",
      "{True: 0.0, False: 8.054763515219309e-283}\n",
      "{True: 0.0, False: 3.47824913940013e-309}\n",
      "{True: 0.0, False: 5.184724557213286e-276}\n",
      "{True: 0.0, False: 1.6660598182577037e-276}\n",
      "{True: 0.0, False: 7.041977336203547e-266}\n",
      "{True: 0.0, False: 3.879538958120054e-289}\n",
      "{True: 0.0, False: 4.0678899908124315e-279}\n",
      "{True: 0.0, False: 8.245956811557028e-290}\n",
      "{True: 0.0, False: 5.551413659319123e-277}\n",
      "{True: 0.0, False: 3.5399384947766676e-269}\n",
      "{True: 0.0, False: 3.129138310516089e-262}\n",
      "{True: 0.0, False: 4.226831039919212e-284}\n",
      "{True: 0.0, False: 0.0}\n",
      "{True: 0.0, False: 2.3883443268346336e-270}\n",
      "{True: 0.0, False: 3.401792528309662e-286}\n",
      "{True: 0.0, False: 5.419929642107431e-281}\n",
      "{True: 0.0, False: 2.404042992751096e-274}\n",
      "{True: 0.0, False: 8.884236306955855e-289}\n",
      "{True: 0.0, False: 9.136717772644092e-277}\n",
      "{True: 0.0, False: 1.712584774197456e-269}\n",
      "{True: 0.0, False: 2.6373804639666096e-277}\n",
      "{True: 0.0, False: 3.6916116641479374e-279}\n",
      "{True: 0.0, False: 4.436920347698977e-283}\n",
      "{True: 0.0, False: 0.0}\n",
      "{True: 0.0, False: 1.729969372478903e-281}\n",
      "{True: 0.0, False: 1.6988172962807653e-277}\n",
      "{True: 0.0, False: 3.740279129170616e-288}\n",
      "{True: 0.0, False: 3.9935288474792057e-283}\n",
      "{True: 0.0, False: 3.9897194416069766e-289}\n",
      "{True: 0.0, False: 2.664575405641747e-290}\n",
      "{True: 0.0, False: 9.939289654523317e-277}\n",
      "{True: 0.0, False: 0.0}\n",
      "{True: 0.0, False: 4.809294704987173e-288}\n",
      "{True: 0.0, False: 2.253472760887187e-275}\n",
      "{True: 0.0, False: 7.543498816490331e-271}\n",
      "{True: 0.0, False: 1.7565638841379538e-265}\n",
      "{True: 0.0, False: 1.162197238730695e-287}\n",
      "{True: 0.0, False: 7.277104992952133e-274}\n",
      "{True: 0.0, False: 6.989425034724254e-286}\n",
      "{True: 0.0, False: 3.545445016362843e-284}\n",
      "{True: 0.0, False: 3.475685493191895e-281}\n",
      "{True: 0.0, False: 2.1976154614700388e-275}\n",
      "{True: 0.0, False: 5.696501142371079e-280}\n",
      "{True: 0.0, False: 3.480280425153555e-278}\n",
      "{True: 0.0, False: 1.93547432381042e-285}\n",
      "{True: 0.0, False: 3.664894539307374e-275}\n",
      "{True: 0.0, False: 1.8699991595279507e-287}\n",
      "{True: 0.0, False: 0.0}\n",
      "{True: 0.0, False: 2.215699165012822e-278}\n",
      "{True: 0.0, False: 4.730757308905897e-285}\n",
      "{True: 0.0, False: 1.8244269739210417e-291}\n",
      "{True: 0.0, False: 1.4631883101360483e-298}\n",
      "{True: 0.0, False: 5.712619225045857e-274}\n",
      "{True: 0.0, False: 6.905112304334158e-279}\n",
      "{True: 0.0, False: 3.482838503688941e-284}\n",
      "{True: 0.0, False: 0.0}\n",
      "{True: 0.0, False: 1.2657043153038424e-282}\n",
      "{True: 0.0, False: 6.941900353549728e-272}\n",
      "{True: 0.0, False: 3.0987598783540264e-292}\n",
      "{True: 0.0, False: 9.725802933474875e-265}\n",
      "{True: 0.0, False: 5.922348818718681e-291}\n",
      "{True: 0.0, False: 4.9878841007659103e-290}\n",
      "{True: 0.0, False: 4.355333811139045e-280}\n",
      "{True: 0.0, False: 6.349993684247083e-274}\n",
      "{True: 0.0, False: 1.652928699061147e-299}\n",
      "{True: 0.0, False: 3.063483658502889e-281}\n",
      "{True: 0.0, False: 1.0112718531384118e-275}\n",
      "{True: 0.0, False: 3.2420088786196882e-288}\n",
      "{True: 0.0, False: 3.4622165342237582e-264}\n",
      "{True: 0.0, False: 5.32864516812908e-266}\n",
      "{True: 0.0, False: 1.2757983411251594e-266}\n",
      "{True: 0.0, False: 2.019854728467157e-280}\n",
      "{True: 0.0, False: 1.721537521238573e-276}\n",
      "{True: 0.0, False: 4.2491441670772806e-283}\n",
      "{True: 0.0, False: 0.0}\n",
      "{True: 0.0, False: 1.0780722821844147e-275}\n",
      "{True: 0.0, False: 8.045253086694638e-269}\n",
      "{True: 0.0, False: 4.1645413305076346e-282}\n",
      "{True: 0.0, False: 1.1912634359394393e-275}\n",
      "{True: 0.0, False: 5.7820477699436625e-288}\n",
      "{True: 0.0, False: 1.9797725016848203e-288}\n",
      "{True: 0.0, False: 4.284887521166538e-289}\n",
      "{True: 0.0, False: 3.724539686030021e-274}\n",
      "{True: 0.0, False: 8.840421678145844e-269}\n",
      "{True: 0.0, False: 3.91057961123389e-282}\n",
      "{True: 0.0, False: 9.052841167845588e-275}\n",
      "{True: 0.0, False: 0.0}\n",
      "{True: 0.0, False: 1.4462903891356108e-291}\n",
      "{True: 0.0, False: 3.402823834481111e-279}\n",
      "{True: 0.0, False: 6.403903313065184e-279}\n",
      "{True: 0.0, False: 2.7923890556112017e-276}\n",
      "{True: 0.0, False: 2.9433208029282395e-263}\n",
      "{True: 0.0, False: 1.4661207722357437e-276}\n",
      "{True: 0.0, False: 7.328612370752363e-280}\n",
      "{True: 0.0, False: 5.6910012124175384e-285}\n",
      "{True: 0.0, False: 3.043893942479688e-269}\n",
      "{True: 0.0, False: 0.0}\n",
      "{True: 0.0, False: 2.675043115091005e-285}\n",
      "{True: 0.0, False: 1.1075744991781203e-265}\n",
      "{True: 0.0, False: 1.438250621528152e-268}\n",
      "{True: 0.0, False: 1.2136365424766107e-303}\n",
      "{True: 0.0, False: 1.5780237487589637e-283}\n",
      "{True: 0.0, False: 2.2094228351253275e-273}\n",
      "{True: 0.0, False: 1.313618402437488e-284}\n",
      "{True: 0.0, False: 7.467601302291348e-275}\n",
      "{True: 0.0, False: 1.9428293591466652e-283}\n",
      "{True: 0.0, False: 4.1223622165190177e-269}\n",
      "{True: 0.0, False: 4.930021464109311e-290}\n",
      "{True: 0.0, False: 6.204441382236152e-279}\n",
      "{True: 0.0, False: 2.5876556365866035e-289}\n",
      "{True: 0.0, False: 3.983319397069798e-268}\n",
      "{True: 0.0, False: 9.86734316648372e-280}\n",
      "{True: 0.0, False: 1.242027729061403e-291}\n",
      "{True: 0.0, False: 5.296576491676527e-264}\n",
      "{True: 0.0, False: 1.688912132220956e-290}\n",
      "{True: 0.0, False: 9.73834300709452e-282}\n",
      "{True: 0.0, False: 7.884147017e-314}\n",
      "{True: 0.0, False: 8.376210189192518e-294}\n",
      "{True: 0.0, False: 2.9363210586203238e-279}\n",
      "{True: 0.0, False: 1.4811034112597216e-280}\n",
      "{True: 0.0, False: 2.3593540618194996e-305}\n",
      "{True: 0.0, False: 3.603125804308102e-284}\n",
      "{True: 0.0, False: 3.827948472215701e-281}\n",
      "{True: 0.0, False: 6.411701022797709e-276}\n",
      "{True: 0.0, False: 4.667018798260723e-269}\n",
      "{True: 0.0, False: 1.2603057832108172e-300}\n",
      "{True: 0.0, False: 6.301129075043352e-287}\n",
      "{True: 0.0, False: 5.312502755595876e-277}\n",
      "{True: 0.0, False: 0.0}\n",
      "{True: 0.0, False: 5.228312474879214e-285}\n",
      "{True: 0.0, False: 4.730951205591352e-283}\n",
      "{True: 0.0, False: 5.150558024694436e-290}\n",
      "{True: 0.0, False: 5.930690241530145e-296}\n",
      "{True: 0.0, False: 4.007056981819102e-269}\n",
      "{True: 0.0, False: 1.2309368718071346e-283}\n",
      "{True: 0.0, False: 7.30450896234037e-287}\n",
      "{True: 0.0, False: 7.144585740995081e-280}\n",
      "{True: 0.0, False: 2.2457590685847094e-307}\n",
      "{True: 0.0, False: 2.2478992092774335e-284}\n",
      "{True: 0.0, False: 9.377823700379256e-288}\n",
      "{True: 0.0, False: 5.203895413308653e-286}\n",
      "{True: 0.0, False: 4.064902210659814e-278}\n",
      "{True: 0.0, False: 5.899836577236542e-284}\n",
      "{True: 0.0, False: 4.339555081441967e-284}\n",
      "{True: 0.0, False: 5.569043706134052e-265}\n",
      "{True: 0.0, False: 1.39943609548e-312}\n",
      "{True: 0.0, False: 5.51336076871936e-276}\n",
      "{True: 0.0, False: 1.775505966109073e-307}\n",
      "{True: 0.0, False: 5.4046055338693596e-282}\n",
      "{True: 0.0, False: 7.464643248698848e-288}\n",
      "{True: 0.0, False: 1.748111540840266e-286}\n",
      "{True: 0.0, False: 2.100968644820683e-280}\n",
      "{True: 0.0, False: 6.66280287121267e-286}\n",
      "{True: 0.0, False: 5.649602981141904e-276}\n",
      "{True: 0.0, False: 1.8008356944127332e-277}\n",
      "{True: 0.0, False: 2.3690768606405096e-271}\n",
      "{True: 0.0, False: 3.4118787427231567e-290}\n",
      "{True: 0.0, False: 1.3215291052290409e-282}\n",
      "{True: 0.0, False: 4.717533723683005e-283}\n",
      "{True: 0.0, False: 3.23100212839439e-291}\n",
      "{True: 0.0, False: 5.110236352727364e-277}\n",
      "{True: 0.0, False: 2.828102548709555e-282}\n",
      "{True: 0.0, False: 2.143019639822032e-278}\n",
      "{True: 0.0, False: 4.1829176501846044e-264}\n",
      "{True: 0.0, False: 1.7162661353338888e-286}\n",
      "{True: 0.0, False: 1.4010035284135583e-286}\n",
      "{True: 0.0, False: 1.5325545224981557e-269}\n",
      "{True: 0.0, False: 2.449757756646182e-290}\n",
      "{True: 0.0, False: 2.2639770361324172e-286}\n",
      "{True: 0.0, False: 6.905180026323234e-266}\n",
      "{True: 0.0, False: 1.8290492996726193e-285}\n",
      "{True: 0.0, False: 9.750541614547773e-295}\n",
      "{True: 0.0, False: 1.6256307829052833e-292}\n",
      "{True: 0.0, False: 1.2969350309505365e-279}\n",
      "{True: 0.0, False: 2.9024431904267586e-288}\n",
      "{True: 0.0, False: 1.53912071943613e-275}\n",
      "{True: 0.0, False: 1.8077343043696634e-288}\n",
      "{True: 0.0, False: 7.883445014207151e-286}\n",
      "{True: 0.0, False: 7.042309346967377e-286}\n",
      "{True: 0.0, False: 1.6516288327013718e-290}\n",
      "{True: 0.0, False: 8.539492615907607e-282}\n",
      "{True: 0.0, False: 4.915721381513397e-279}\n",
      "{True: 0.0, False: 4.9792620701671275e-285}\n",
      "{True: 0.0, False: 1.0827110857165945e-272}\n",
      "{True: 0.0, False: 8.792694007156837e-287}\n",
      "{True: 0.0, False: 2.1280795868997847e-290}\n",
      "{True: 0.0, False: 1.4569050457021208e-270}\n",
      "{True: 0.0, False: 1.4179994548983558e-264}\n",
      "{True: 0.0, False: 1.1826220525e-313}\n",
      "{True: 0.0, False: 1.9191397029126614e-267}\n",
      "{True: 0.0, False: 2.1905618604313757e-279}\n",
      "{True: 0.0, False: 3.1762132019334875e-285}\n",
      "{True: 0.0, False: 1.5311998681117066e-278}\n",
      "{True: 0.0, False: 4.3036547677795725e-279}\n",
      "{True: 0.0, False: 9.588080831387581e-272}\n",
      "{True: 0.0, False: 3.308583032380367e-288}\n",
      "{True: 0.0, False: 1.3909702196746934e-276}\n",
      "{True: 0.0, False: 2.772171103256769e-289}\n",
      "{True: 0.0, False: 2.7152001894210834e-277}\n",
      "{True: 0.0, False: 2.5426375790067122e-288}\n",
      "{True: 0.0, False: 3.979794309091422e-277}\n",
      "{True: 0.0, False: 2.9504948855579618e-279}\n",
      "{True: 0.0, False: 9.135650009642127e-281}\n",
      "{True: 0.0, False: 3.6177023559336874e-280}\n",
      "{True: 0.0, False: 2.2976371713444578e-284}\n",
      "{True: 0.0, False: 1.0055634891991105e-276}\n",
      "{True: 0.0, False: 4.0078020653391985e-276}\n",
      "{True: 0.0, False: 2.288299594281602e-283}\n",
      "{True: 0.0, False: 7.090436388088666e-271}\n",
      "{True: 0.0, False: 3.462895827924482e-274}\n",
      "{True: 0.0, False: 4.30152076554195e-280}\n",
      "{True: 0.0, False: 1.610198750045976e-289}\n",
      "{True: 0.0, False: 0.0}\n",
      "{True: 0.0, False: 2.453940758978e-311}\n",
      "{True: 0.0, False: 1.1572609312856356e-277}\n",
      "{True: 0.0, False: 1.2709623093972932e-273}\n",
      "{True: 0.0, False: 1.395007479753112e-288}\n",
      "{True: 0.0, False: 3.965722621621642e-268}\n",
      "{True: 0.0, False: 1.2883289633176437e-267}\n",
      "{True: 0.0, False: 1.0755841638411558e-273}\n",
      "{True: 0.0, False: 1.0486420084992386e-275}\n",
      "{True: 0.0, False: 4.627239297713607e-276}\n",
      "{True: 0.0, False: 3.6884008753918155e-290}\n",
      "{True: 0.0, False: 2.730965028689055e-288}\n",
      "{True: 0.0, False: 7.50566010627529e-275}\n",
      "{True: 0.0, False: 2.195323347709772e-270}\n",
      "{True: 0.0, False: 1.1342402943189579e-284}\n",
      "{True: 0.0, False: 6.883232138803232e-270}\n",
      "{True: 0.0, False: 6.402697114709053e-285}\n",
      "{True: 0.0, False: 3.0010665297687692e-291}\n",
      "{True: 0.0, False: 2.981389548376323e-286}\n",
      "{True: 0.0, False: 4.288038848771376e-301}\n",
      "{True: 0.0, False: 3.79753283066091e-273}\n",
      "{True: 0.0, False: 1.4024633956728012e-282}\n",
      "{True: 0.0, False: 7.595934328830296e-288}\n",
      "{True: 0.0, False: 5.563953577982314e-278}\n",
      "{True: 0.0, False: 1.5067200317050356e-275}\n",
      "{True: 0.0, False: 8.69065425905034e-307}\n",
      "{True: 0.0, False: 6.897668189549487e-277}\n",
      "{True: 0.0, False: 1.1107852847041945e-274}\n",
      "{True: 0.0, False: 3.4091180189331124e-264}\n",
      "{True: 0.0, False: 2.185293328164632e-283}\n",
      "{True: 0.0, False: 1.2064480581543484e-275}\n",
      "{True: 0.0, False: 5.407062833404497e-264}\n",
      "{True: 0.0, False: 2.7450847351584973e-280}\n",
      "{True: 0.0, False: 1.1103611273510393e-269}\n",
      "{True: 0.0, False: 1.1494305063258527e-280}\n",
      "[False, False, False, False, False, False, False, False, False, False, True, False, False, False, False, False, False, False, False, False, False, False, False, False, False, False, False, False, False, False, False, True, False, False, False, False, False, False, False, False, False, False, False, False, False, False, False, False, True, False, False, False, False, False, False, False, False, False, False, False, False, False, False, False, False, False, False, False, False, False, False, False, False, False, False, False, False, False, True, False, False, False, False, False, False, False, False, False, False, False, False, False, False, False, False, False, False, True, False, False, False, False, True, False, False, False, False, False, False, False, False, False, False, False, True, False, False, False, False, False, False, False, False, False, False, False, False, False, False, False, False, False, False, False, False, False, False, False, False, False, False, False, False, False, True, False, False, False, False, False, False, False, False, False, False, False, False, False, False, False, False, False, False, False, False, False, False, False, False, False, False, False, False, False, False, False, False, False, False, True, False, False, False, False, True, False, False, False, False, False, False, False, False, False, False, False, False, False, False, False, False, False, False, False, False, False, False, False, False, False, False, False, True, False, False, False, False, False, False, True, False, False, False, False, False, True, False, False, False, False, False, False, False, True, False, False, False, False, False, False, False, False, False, False, False, False, False, False, False, False, False, False, False, False, False, False, False, False, False, False, False, False, False, False, False, False, False, False, False, False, False, False, False, False, False, False, False, False, False, False, False, False, False, False, True, False, False, False, False, False, False, False, False, False, False, False, False, False, False, False, False, False, False, False, False, False, False, False, False, False, False, False, False, False, False, False, False, False, True, False, False, False, False, False, False, False, True, False, False, False, False, False, False, False, False, True, False, False, False, False, False, False, False, False, False, False, False, False, False, False, False, False, False, False, False, False, False, False, False, False, False, False, False, False, False, False, False, False, False, False, False, False, False, False, False, False, False, False, False, False, False, False, False, False, False, False, False, False, True, False, False, False, False, False, False, False, False, False, False, False, False, False, False, False, False, False, False, False, False, False, False, False, False, False, False, False, False, False, False, False, False, False, False, False, False, False, False, False, False, False, False, False, False, False, False, False, False, False, True, False, False, False, False, False, True, False, False, False, False, False, False, False, False, False, False, False, False, False, False, False, False, False, False, False, False, True, False, False, False, False, False, False, False, False, False, False, True, False, False, False, False, False, False, False, True, False, False, False, False, False, False, False, False, False, False, False, False, False, False, False, True, False, False, False, False, False, False, False, True, False, False, False, False, False, False, False, False, False, False, False, False, False, False, False, False, False, False, True, False, False, False, False, False, False, False, False, False, False, False, True, False, False, False, False, False, False, False, False, False, True, False, False, False, False, False, False, False, False, False, False, False, False, False, False, False, False, False, False, False, False, False, False, False, False, False, False, False, False, False, False, False, True, False, False, False, False, False, False, False, False, False, False, False, False, False, False, False, False, False, False, False, False, False, False, False, False, False, False, False, False, False, False, False, False, False, False, False, False, False, False, False, False, False, False, False, False, False, False, False, False, False, False, False, False, False, False, False, False, False, False, False, False, False, False, False, False, False, False, False, False, False, False, False, False, False, False, False, False, False, False, False, False, False, False, False, True, False, False, False, False, False, False, False, False, False, False, False, False, False, False, False, False, False, False, False, False, False, False, False, False, False, False, False, False, False, False, False, False, False, False]\n"
     ]
    }
   ],
   "source": [
    "test_pred = getPredictions(info, arcene_test_filtered_.values)"
   ],
   "metadata": {
    "collapsed": false,
    "ExecuteTime": {
     "end_time": "2023-12-16T12:57:44.078327700Z",
     "start_time": "2023-12-16T12:57:43.588575600Z"
    }
   },
   "id": "2c9c8da30e90d1f"
  },
  {
   "cell_type": "markdown",
   "source": [
    "### Visualisation des classes predites"
   ],
   "metadata": {
    "collapsed": false
   },
   "id": "6938970c9bcbe9d8"
  },
  {
   "cell_type": "code",
   "execution_count": 174,
   "outputs": [
    {
     "name": "stdout",
     "output_type": "stream",
     "text": [
      "       0  count\n",
      "0  False    669\n",
      "1   True     31\n"
     ]
    },
    {
     "data": {
      "text/plain": "<Axes: xlabel='0', ylabel='count'>"
     },
     "execution_count": 174,
     "metadata": {},
     "output_type": "execute_result"
    },
    {
     "data": {
      "text/plain": "<Figure size 640x480 with 1 Axes>",
      "image/png": "[encoded data removed]"
     },
     "metadata": {},
     "output_type": "display_data"
    }
   ],
   "source": [
    "test_pred = pd.DataFrame(test_pred)\n",
    "\n",
    "yy = test_pred.value_counts().reset_index()\n",
    "print(yy)\n",
    "sns.barplot(x=0, y='count', data=yy)"
   ],
   "metadata": {
    "collapsed": false,
    "ExecuteTime": {
     "end_time": "2023-12-16T12:57:44.308378700Z",
     "start_time": "2023-12-16T12:57:44.004699700Z"
    }
   },
   "id": "19e4e7f922338302"
  },
  {
   "cell_type": "markdown",
   "source": [
    "# Comparaison avec l'algorithme Naive Bayes de sklearn\n",
    "Maintenant on va comparer les resultats obtenus avec notre algorithme avec ceux obtenus avec l'algorithme Naive Bayes de sklearn."
   ],
   "metadata": {
    "collapsed": false
   },
   "id": "a816de6c6381a9c7"
  },
  {
   "cell_type": "code",
   "execution_count": 175,
   "outputs": [
    {
     "name": "stdout",
     "output_type": "stream",
     "text": [
      "Nombre de points mal étiquetés sur un total de 100 points : 30\n"
     ]
    }
   ],
   "source": [
    "gnb = GaussianNB()\n",
    "\n",
    "arcene_train_labels_serie = arcene_train_labels.squeeze()\n",
    "\n",
    "gnb.fit(arcene_train_filtered, arcene_train_labels_serie)\n",
    "\n",
    "y_pred = gnb.predict(arcene_valid_filtered)\n",
    "\n",
    "pred_len = len(y_pred)\n",
    "\n",
    "y_pred = y_pred.reshape(pred_len, 1)\n",
    "\n",
    "print(\"Nombre de points mal étiquetés sur un total de %d points : %d\" % (arcene_valid.shape[0], (arcene_valid_labels != y_pred).sum().iloc[0]))"
   ],
   "metadata": {
    "collapsed": false,
    "ExecuteTime": {
     "end_time": "2023-12-16T12:57:44.351640800Z",
     "start_time": "2023-12-16T12:57:44.267761300Z"
    }
   },
   "id": "b01833a8b01583ea"
  },
  {
   "cell_type": "markdown",
   "source": [
    "### Matrice de confusion"
   ],
   "metadata": {
    "collapsed": false
   },
   "id": "f151337dd0df634d"
  },
  {
   "cell_type": "code",
   "execution_count": 176,
   "outputs": [
    {
     "data": {
      "text/plain": "array([[37, 19],\n       [11, 33]], dtype=int64)"
     },
     "execution_count": 176,
     "metadata": {},
     "output_type": "execute_result"
    }
   ],
   "source": [
    "cm_with_sklearn = metrics.confusion_matrix(arcene_valid_labels, y_pred)\n",
    "\n",
    "cm_with_sklearn"
   ],
   "metadata": {
    "collapsed": false,
    "ExecuteTime": {
     "end_time": "2023-12-16T12:57:44.400508900Z",
     "start_time": "2023-12-16T12:57:44.288155200Z"
    }
   },
   "id": "7339800e93c3f4c7"
  },
  {
   "cell_type": "markdown",
   "source": [
    "### Visualisation de la matrice de confusion"
   ],
   "metadata": {
    "collapsed": false
   },
   "id": "e406ea55c53d241f"
  },
  {
   "cell_type": "code",
   "execution_count": 177,
   "outputs": [
    {
     "data": {
      "text/plain": "<Figure size 640x480 with 2 Axes>",
      "image/png": "[encoded data removed]"
     },
     "metadata": {},
     "output_type": "display_data"
    }
   ],
   "source": [
    "disp = metrics.ConfusionMatrixDisplay.from_predictions(y_true=arcene_valid_labels, y_pred=y_pred, display_labels=[\"False\", \"True\"], cmap=plt.cm.Blues)\n",
    "\n",
    "plt.show()"
   ],
   "metadata": {
    "collapsed": false,
    "ExecuteTime": {
     "end_time": "2023-12-16T12:57:44.817326700Z",
     "start_time": "2023-12-16T12:57:44.303032600Z"
    }
   },
   "id": "a593de540208ffc9"
  },
  {
   "cell_type": "markdown",
   "source": [
    "### Calcul des métriques\n",
    "Les métriques qui seront calculées sont :\n",
    "- Balanced Error Rate\n",
    "- Accuracy\n",
    "- Precision\n",
    "- Recall\n",
    "- F1 Score\n",
    "- AUC Score\n",
    "- ROC Curve"
   ],
   "metadata": {
    "collapsed": false
   },
   "id": "4beaf084b0576585"
  },
  {
   "cell_type": "code",
   "execution_count": 178,
   "outputs": [
    {
     "name": "stdout",
     "output_type": "stream",
     "text": [
      "Balanced Error Rate:  0.29727564102564097\n",
      "Accuracy:             0.7\n",
      "Precision:            0.702724358974359\n",
      "Recall:               0.7053571428571428\n",
      "F1 Score:             0.6995192307692308\n",
      "AUC Score:            0.7053571428571428\n"
     ]
    }
   ],
   "source": [
    "TP_with_sklearn = cm_with_sklearn[0][0]\n",
    "FP_with_sklearn = cm_with_sklearn[0][1]\n",
    "FN_with_sklearn = cm_with_sklearn[1][0]\n",
    "TN_with_sklearn = cm_with_sklearn[1][1]\n",
    "\n",
    "BER_with_sklearn = 1 - (1/2 * ((TP_with_sklearn / (TP_with_sklearn + FN_with_sklearn)) + (TN_with_sklearn / (TN_with_sklearn + FP_with_sklearn))))\n",
    "\n",
    "precision_with_sklearn = metrics.precision_score(arcene_valid_labels, y_pred, average='macro')\n",
    "\n",
    "recall_with_sklearn = metrics.recall_score(arcene_valid_labels, y_pred, average='macro')\n",
    "\n",
    "f1_score_with_sklearn = metrics.f1_score(arcene_valid_labels, y_pred, average='macro')\n",
    "\n",
    "accuracy_with_sklearn = metrics.accuracy_score(arcene_valid_labels, y_pred)\n",
    "\n",
    "auc_score_with_sklearn = metrics.roc_auc_score(arcene_valid_labels, y_pred)\n",
    "\n",
    "print('Balanced Error Rate: ', BER_with_sklearn)\n",
    "print('Accuracy:            ', accuracy_with_sklearn)\n",
    "print('Precision:           ', precision_with_sklearn)\n",
    "print('Recall:              ', recall_with_sklearn)\n",
    "print('F1 Score:            ', f1_score_with_sklearn)\n",
    "print('AUC Score:           ', auc_score_with_sklearn)"
   ],
   "metadata": {
    "collapsed": false,
    "ExecuteTime": {
     "end_time": "2023-12-16T12:57:44.923801700Z",
     "start_time": "2023-12-16T12:57:44.562414400Z"
    }
   },
   "id": "89df624ceb6fa975"
  },
  {
   "cell_type": "markdown",
   "source": [
    "##### Courbe ROC:"
   ],
   "metadata": {
    "collapsed": false
   },
   "id": "e0bc46af8bf6b6df"
  },
  {
   "cell_type": "code",
   "execution_count": 179,
   "outputs": [
    {
     "data": {
      "text/plain": "<Figure size 640x480 with 1 Axes>",
      "image/png": "[encoded data removed]"
     },
     "metadata": {},
     "output_type": "display_data"
    }
   ],
   "source": [
    "fpr_with_sklearn, tpr_with_sklearn, thresh_with_sklearn = metrics.roc_curve(arcene_valid_labels, y_pred, pos_label=1)\n",
    "\n",
    "# plot roc curves\n",
    "plt.plot(fpr_with_sklearn, tpr_with_sklearn, linestyle='--',color='orange', label='Naive Bayes')\n",
    "# title\n",
    "plt.title('ROC curve')\n",
    "# x label\n",
    "plt.xlabel('False Positive Rate')\n",
    "# y label\n",
    "plt.ylabel('True Positive rate')\n",
    "\n",
    "plt.legend(loc='best')\n",
    "plt.savefig('ROC',dpi=300)\n",
    "plt.show()"
   ],
   "metadata": {
    "collapsed": false,
    "ExecuteTime": {
     "end_time": "2023-12-16T12:57:45.252308900Z",
     "start_time": "2023-12-16T12:57:44.610595200Z"
    }
   },
   "id": "20275eb82933d3ac"
  },
  {
   "cell_type": "code",
   "execution_count": 180,
   "outputs": [],
   "source": [
    "test_pred_with_sklearn = gnb.predict(arcene_test_filtered)\n",
    "\n",
    "pred_len = len(test_pred_with_sklearn)\n",
    "\n",
    "test_pred_with_sklearn = test_pred_with_sklearn.reshape(pred_len, 1)"
   ],
   "metadata": {
    "collapsed": false,
    "ExecuteTime": {
     "end_time": "2023-12-16T12:57:45.284638500Z",
     "start_time": "2023-12-16T12:57:45.245234400Z"
    }
   },
   "id": "3a00f349f7cdf444"
  },
  {
   "cell_type": "code",
   "execution_count": 181,
   "outputs": [
    {
     "name": "stdout",
     "output_type": "stream",
     "text": [
      "       0  count\n",
      "0   True    432\n",
      "1  False    268\n"
     ]
    },
    {
     "data": {
      "text/plain": "<Axes: xlabel='0', ylabel='count'>"
     },
     "execution_count": 181,
     "metadata": {},
     "output_type": "execute_result"
    },
    {
     "data": {
      "text/plain": "<Figure size 640x480 with 1 Axes>",
      "image/png": "[encoded data removed]"
     },
     "metadata": {},
     "output_type": "display_data"
    }
   ],
   "source": [
    "test_pred_with_sklearn = pd.DataFrame(test_pred_with_sklearn)\n",
    "\n",
    "yy_with_sklearn = test_pred_with_sklearn.value_counts().reset_index()\n",
    "print(yy_with_sklearn)\n",
    "sns.barplot(x=0, y='count', data=yy_with_sklearn)"
   ],
   "metadata": {
    "collapsed": false,
    "ExecuteTime": {
     "end_time": "2023-12-16T12:57:45.601856600Z",
     "start_time": "2023-12-16T12:57:45.260775800Z"
    }
   },
   "id": "a46aec0ec600bde9"
  },
  {
   "cell_type": "markdown",
   "source": [
    "# Feature selection pour l'algorithme XGBoost"
   ],
   "metadata": {
    "collapsed": false
   },
   "id": "cdcde63d3f8d858"
  },
  {
   "cell_type": "markdown",
   "source": [
    "Avant de mettre en œuvre l'analyse en composantes principales (PCA) dans scikit-learn, il est utile de comprendre comment fonctionne PCA.\n",
    "\n",
    "Comme nous l'avons mentionné, l'analyse en composantes principales est un algorithme de réduction de la dimensionnalité. Cela signifie qu'elle réduit la dimensionnalité de l'espace des caractéristiques. Mais comment parvient-elle à cette réduction ?\n",
    "\n",
    "La motivation derrière l'algorithme est qu'il y a certaines caractéristiques qui capturent un grand pourcentage de variance dans l'ensemble de données original. Il est donc important de trouver les directions de la variance maximale dans l'ensemble de données. Ces directions sont appelées composantes principales. L'ACP est essentiellement une projection de l'ensemble de données sur les composantes principales.\n",
    "\n",
    "Comment trouver les composantes principales ? \n",
    "\n",
    "Supposons que la matrice de données X soit de dimensions num_observations x num_caractéristiques, nous effectuons une décomposition des valeurs propres sur la matrice de covariance de X.\n",
    "\n",
    "Si les caractéristiques sont toutes de moyenne nulle, la matrice de covariance est donnée par X.T X. Ici, X.T est la transposée de la matrice X. Si les caractéristiques ne sont pas toutes de moyenne nulle au départ, nous pouvons soustraire la moyenne de la colonne i de chaque entrée de cette colonne et calculer la matrice de covariance. Il est facile de voir que la matrice de covariance est une matrice carrée d'ordre num_features."
   ],
   "metadata": {
    "collapsed": false
   },
   "id": "bc381c64b65c0a10"
  },
  {
   "cell_type": "markdown",
   "source": [
    "Ici on va utiliser la fonction SelectKBest pour selectionner les 3025 meilleures caracteristiques, mais pas toutes sont importantes, le choix du nombre 3025 n'est pas aleatoire, on a essaye plusieurs valeurs et on a trouve que 3025 est la valeur qui donne les meilleurs resultats.\n",
    "\n",
    "Puis on va utiliser la methode PCA pour selectionner les 100 meilleures caracteristiques."
   ],
   "metadata": {
    "collapsed": false
   },
   "id": "e21ab28aa0c1a7bf"
  },
  {
   "cell_type": "code",
   "execution_count": 182,
   "outputs": [
    {
     "name": "stdout",
     "output_type": "stream",
     "text": [
      "Number of features before feature selection: 9920\n",
      "Number of features after feature selection: 3025\n",
      "Features selected: [   4    6    8 ... 9909 9913 9919]\n"
     ]
    },
    {
     "name": "stderr",
     "output_type": "stream",
     "text": [
      "D:\\FST\\MST - AIDS\\S1\\ML\\PROJECTS\\DEVOIR2\\venv\\Lib\\site-packages\\sklearn\\utils\\validation.py:1183: DataConversionWarning: A column-vector y was passed when a 1d array was expected. Please change the shape of y to (n_samples, ), for example using ravel().\n",
      "  y = column_or_1d(y, warn=True)\n"
     ]
    }
   ],
   "source": [
    "skb = SelectKBest(score_func=f_classif,  # Définir f_classif comme critère de sélection des caractéristiques\n",
    "                  k=3025)  # Sélectionner les 120 premières caractéristiques en fonction des critères\n",
    "\n",
    "# Entraînement et transformation de l'ensemble des données selon la méthode SelectKBest\n",
    "arcene_train_filtered = skb.fit_transform(arcene_train, arcene_train_labels)\n",
    "\n",
    "print('Number of features before feature selection: {}'.format(arcene_train.shape[1]))\n",
    "print('Number of features after feature selection: {}'.format(arcene_train_filtered.shape[1]))\n",
    "print('Features selected: {}'.format(skb.get_support(indices=True)))"
   ],
   "metadata": {
    "collapsed": false,
    "ExecuteTime": {
     "end_time": "2023-12-16T12:57:45.816162900Z",
     "start_time": "2023-12-16T12:57:45.491018700Z"
    }
   },
   "id": "ee773bcbbc9960c3"
  },
  {
   "cell_type": "code",
   "execution_count": 183,
   "outputs": [],
   "source": [
    "pca = PCA(n_components=100)\n",
    "arcene_train_filtered = pca.fit_transform(arcene_train_filtered)"
   ],
   "metadata": {
    "collapsed": false,
    "ExecuteTime": {
     "end_time": "2023-12-16T12:57:45.847084800Z",
     "start_time": "2023-12-16T12:57:45.654106800Z"
    }
   },
   "id": "f4b0d871e501bdd2"
  },
  {
   "cell_type": "code",
   "execution_count": 184,
   "outputs": [
    {
     "name": "stdout",
     "output_type": "stream",
     "text": [
      "            0            1            2            3            4    \\\n",
      "0  -4904.037338  -844.702246   -31.352710  -215.052452   156.821412   \n",
      "1  -4179.952676 -1412.134897  -338.911226   433.494103  -669.744099   \n",
      "2  -5240.241312 -1250.194933   183.500420  -187.496227   -59.905040   \n",
      "3  -4148.835255  -868.037134  -602.626850    98.195218  -340.615663   \n",
      "4  -1352.227103  3262.179541  -125.552724    68.429926   751.229616   \n",
      "..          ...          ...          ...          ...          ...   \n",
      "95  5247.417860  -584.499011  1359.918925 -1292.265086 -1071.394142   \n",
      "96  6359.362448  -303.359310  -257.399242    69.957898  -926.154302   \n",
      "97 -4365.842538 -1484.347838  -294.357208  -559.838923  -127.862167   \n",
      "98 -3843.766896 -1236.438638  -650.668663   364.443220  -830.790059   \n",
      "99  2758.236217 -1245.081190  3123.330382    -1.754420  -386.829650   \n",
      "\n",
      "            5            6           7            8           9    ...  \\\n",
      "0  -1068.246479   217.034527  447.015013  -825.732224  256.532573  ...   \n",
      "1   1074.276526   139.960709 -691.123397   893.162519  -15.316565  ...   \n",
      "2   -558.407944    59.955916  286.572839  -118.818277   25.769123  ...   \n",
      "3   -276.046907   266.183025   57.567617 -1148.063550   79.127066  ...   \n",
      "4   -128.317587  -254.353784 -100.832517  -300.300291 -311.862689  ...   \n",
      "..          ...          ...         ...          ...         ...  ...   \n",
      "95   506.567377  -753.560119  -11.360173  -256.415518 -391.850712  ...   \n",
      "96  -673.944818   593.541811 -853.185801  -167.097187 -296.256276  ...   \n",
      "97   235.062842  -504.193860   21.229061  -417.200336 -104.003349  ...   \n",
      "98  1337.631113   629.867206 -671.287134   610.286474  186.130154  ...   \n",
      "99 -1712.076077 -1185.258858  -10.378073  1001.448377 -654.967507  ...   \n",
      "\n",
      "          91          92         93         94         95         96   \\\n",
      "0  -34.191126  177.785412 -28.651017 -39.477118  31.956943  90.076907   \n",
      "1   58.387153   20.049389  -1.813582   2.461273 -66.775355 -19.492906   \n",
      "2  -95.733451 -138.090528 -75.825420 -28.295093 -46.247198   4.289515   \n",
      "3    0.571631   -7.365786 -66.123350  63.240834 -26.240240  -7.614004   \n",
      "4  -69.593704   36.022469 -34.189091  46.239779   0.992135  -3.672373   \n",
      "..        ...         ...        ...        ...        ...        ...   \n",
      "95  17.080434   34.516769 -20.370229  17.641624 -15.177931 -21.787768   \n",
      "96  31.261710  -16.751651 -23.356234 -37.376896 -12.214473  38.625169   \n",
      "97 -64.606899   48.077625 -74.945631 -28.643437 -18.129217  41.527024   \n",
      "98 -28.901968   12.450420 -45.091527   8.298813 -14.768555  12.528732   \n",
      "99 -23.848353   10.176054 -35.640055  -9.646340 -10.571724  25.200677   \n",
      "\n",
      "          97         98            99     100  \n",
      "0   59.883960  -2.984221  1.968694e-12   True  \n",
      "1   27.247822 -50.350182  1.968694e-12  False  \n",
      "2    7.752708 -60.440017  1.968694e-12   True  \n",
      "3   -0.740778  23.185472  1.968694e-12   True  \n",
      "4  -12.031766 -11.141286  1.968694e-12  False  \n",
      "..        ...        ...           ...    ...  \n",
      "95   9.202990  -1.889311  1.968694e-12  False  \n",
      "96   2.291639 -10.744246  1.968694e-12  False  \n",
      "97  24.802412  39.718822  1.968694e-12   True  \n",
      "98   0.737704  19.304848  1.968694e-12  False  \n",
      "99  -7.092706  -7.491576  1.968694e-12   True  \n",
      "\n",
      "[100 rows x 101 columns]\n"
     ]
    }
   ],
   "source": [
    "arcene_train_filtered = pd.DataFrame(arcene_train_filtered)\n",
    "\n",
    "arcene_train_filtered_concatinated = pd.concat([arcene_train_filtered, arcene_train_labels], axis=1, ignore_index=True)\n",
    "\n",
    "print(arcene_train_filtered_concatinated)"
   ],
   "metadata": {
    "collapsed": false,
    "ExecuteTime": {
     "end_time": "2023-12-16T12:57:45.877709400Z",
     "start_time": "2023-12-16T12:57:45.765898500Z"
    }
   },
   "id": "5c70fe3bfb452d83"
  },
  {
   "cell_type": "code",
   "execution_count": 185,
   "outputs": [
    {
     "name": "stdout",
     "output_type": "stream",
     "text": [
      "            0            1            2            3           4    \\\n",
      "0  -4616.162464 -1303.804950   -91.089024   314.337491 -630.758318   \n",
      "1    918.660155 -1162.544443  4635.902108   498.942650  538.198529   \n",
      "2   6044.275555  -565.545311  -285.010849 -1018.934962 -475.127989   \n",
      "3  -4877.582353 -1190.272931  -367.906623   192.519991 -194.548755   \n",
      "4  -3912.615143 -1002.540158  -965.343881   -88.200619  -77.593918   \n",
      "..          ...          ...          ...          ...         ...   \n",
      "95  7109.077648  -816.852170  -443.203241    32.776717  175.005473   \n",
      "96  5704.165203  -997.547559 -2556.314149  1575.953067  890.050592   \n",
      "97 -1594.225669  2913.696583  1078.716010  -351.607519   55.372036   \n",
      "98 -2329.081525  2908.595428   213.330879    25.291160  424.944348   \n",
      "99 -1001.234249  3073.334887   -28.950691    34.034747  462.868432   \n",
      "\n",
      "           5            6            7           8           9    ...  \\\n",
      "0   805.711554  -679.330217  -774.272611  554.706695 -349.216536  ...   \n",
      "1  -287.920703   438.164445  1509.299897  949.622949 -404.929174  ...   \n",
      "2  -774.458615    41.404439  -653.901707   11.734829 -968.563978  ...   \n",
      "3   425.023780   107.312818   -25.055424  517.886067  299.219033  ...   \n",
      "4  -417.365455   166.771179  -358.795713 -952.178530  -76.355849  ...   \n",
      "..         ...          ...          ...         ...         ...  ...   \n",
      "95 -112.388533  2518.180947 -1042.520748 -162.731605 -366.866794  ...   \n",
      "96 -328.691829   558.646693  -417.741000  312.735072  337.192331  ...   \n",
      "97 -188.601004  -158.165835   207.068305  191.664194 -491.173787  ...   \n",
      "98  681.033871  -193.154259  -400.647430 -458.824372 -407.332324  ...   \n",
      "99 -402.307469  -417.794448  -300.486088  140.990786  290.254453  ...   \n",
      "\n",
      "           91          92          93         94          95          96   \\\n",
      "0    61.131209  146.020680   -2.919646  50.330622    0.633102    5.134037   \n",
      "1   154.017618  -79.831415   38.160432  65.555004  103.619818   27.382301   \n",
      "2   164.538999  -49.520453  -83.090618 -23.711990  -21.346150   -1.791489   \n",
      "3    89.679108  -67.524076   53.348874 -54.423912   -8.570375   14.926990   \n",
      "4    87.653063    6.321151  -32.231873 -46.616229   65.346003 -152.777725   \n",
      "..         ...         ...         ...        ...         ...         ...   \n",
      "95   -7.993391  -41.867178 -126.364264  75.078963  -39.359550  -21.360576   \n",
      "96  -97.552668 -113.693687  -70.891920 -13.165591  -45.786972   60.213102   \n",
      "97  120.721210  -47.275328   34.085649 -50.391718  -48.246732  -89.999715   \n",
      "98 -103.487970  -55.782391   54.383135  53.967510   11.535769   -3.520423   \n",
      "99   12.002331   12.277389   47.796115   0.628240   31.046713  -25.387385   \n",
      "\n",
      "           97          98         99     100  \n",
      "0    24.200073    2.388357 -35.526189  False  \n",
      "1  -116.352214 -187.032176 -15.550509  False  \n",
      "2    57.596341   41.109511  14.374875  False  \n",
      "3    76.321895  -12.464763  -1.151576   True  \n",
      "4     2.693797  -73.042770 -12.378211   True  \n",
      "..         ...         ...        ...    ...  \n",
      "95  -32.882509   54.273177   5.465229  False  \n",
      "96 -225.290518  222.511707  -1.098328  False  \n",
      "97   52.482868   74.499564   6.103215   True  \n",
      "98  -19.676007  -36.533580  -9.263235   True  \n",
      "99   34.977069   31.188974   0.074895  False  \n",
      "\n",
      "[100 rows x 101 columns]\n"
     ]
    }
   ],
   "source": [
    "arcene_valid_filtered = skb.transform(arcene_valid)\n",
    "arcene_valid_filtered = pca.transform(arcene_valid_filtered)\n",
    "\n",
    "arcene_valid_filtered = pd.DataFrame(arcene_valid_filtered)\n",
    "\n",
    "arcene_valid_filtered_concatinated = pd.concat([arcene_valid_filtered, arcene_valid_labels], axis=1, ignore_index=True)\n",
    "\n",
    "print(arcene_valid_filtered_concatinated)"
   ],
   "metadata": {
    "collapsed": false,
    "ExecuteTime": {
     "end_time": "2023-12-16T12:57:46.090961400Z",
     "start_time": "2023-12-16T12:57:45.783784600Z"
    }
   },
   "id": "3dc0df95ee7df7f6"
  },
  {
   "cell_type": "code",
   "execution_count": 186,
   "outputs": [
    {
     "name": "stdout",
     "output_type": "stream",
     "text": [
      "              0            1            2            3            4   \\\n",
      "0   -1458.611023  3035.323848  1201.662608  -120.853938  -392.309432   \n",
      "1    6616.868693  -737.154971 -1343.376138 -1460.565116  -365.885201   \n",
      "2    -769.785976 -1834.084764  2934.159171  1842.628629  2495.023668   \n",
      "3   -4771.164557 -1403.266331  -163.768612   198.152671  -470.433233   \n",
      "4    5641.120218  -465.847262 -3581.728667  2469.437715  1326.676440   \n",
      "..           ...          ...          ...          ...          ...   \n",
      "695  6611.481679  -400.611328  -512.696785 -2128.140376  -954.366557   \n",
      "696  6163.325293  -782.796407 -1138.666293  -748.218211   834.146885   \n",
      "697  6405.164527  -829.350988   -75.716444  -630.958718   216.240639   \n",
      "698 -3501.432787 -1431.328923 -1008.383206  -222.642739   538.730538   \n",
      "699  6604.475729 -1278.823684  -512.081721  -650.985416  1052.876277   \n",
      "\n",
      "              5            6            7           8            9   ...  \\\n",
      "0     462.918310   -86.827183   355.829462  178.027464    60.634991  ...   \n",
      "1    -297.162785  -750.751619   -57.616275    9.715523  1153.093948  ...   \n",
      "2    1612.813846 -1013.468404   583.721135  485.512827   -27.707093  ...   \n",
      "3     330.330993  -179.260104  -349.005748 -193.461179  -450.203490  ...   \n",
      "4    -737.242065  1451.011217   -40.256541  739.471677   566.653895  ...   \n",
      "..           ...          ...          ...         ...          ...  ...   \n",
      "695   496.855599   195.913455   -96.160107 -476.557445   204.844770  ...   \n",
      "696  -442.508892 -1032.343137   347.390383  316.872702   138.273872  ...   \n",
      "697  -360.430695   392.182094  -811.237906 -120.818468  -446.113108  ...   \n",
      "698   -40.146245   234.574756  -463.982191 -257.310350     1.436812  ...   \n",
      "699  -540.315314   214.489827 -1025.835377  127.256480  -392.914143  ...   \n",
      "\n",
      "             90         91          92          93          94          95  \\\n",
      "0     19.697073 -37.650036   -8.217766  -31.913055   47.099573  -31.028107   \n",
      "1    -40.678275 -11.681926  -11.939962   19.218278   -3.520429  -74.822486   \n",
      "2    164.030415  -1.130929  175.883202  134.291637  152.743921  105.822960   \n",
      "3    -16.805136 -20.110083   77.630296   -9.273869  -14.654557   81.630086   \n",
      "4    203.414304   5.381763  168.677942   -6.151774  118.290518   38.183039   \n",
      "..          ...        ...         ...         ...         ...         ...   \n",
      "695   -9.521690   6.564144   47.535540   -1.460173   18.068327  -30.769229   \n",
      "696   52.899597  61.706713   48.086680 -130.511763    7.510606  -77.700994   \n",
      "697   62.735500 -27.663087   -8.633671    1.624316   75.518030   36.329545   \n",
      "698  -38.205410  35.433195    0.639631  -77.468790 -135.664982   47.451191   \n",
      "699   -2.041973   1.209113  -48.893719  -27.609263  -26.343151   40.550959   \n",
      "\n",
      "             96          97          98         99  \n",
      "0   -132.597740  -50.168540  -18.744479  -2.397866  \n",
      "1    -37.181204   35.341445    0.141128  -1.136639  \n",
      "2     73.200745  -88.110974   18.200726 -38.323946  \n",
      "3    -35.859918  -73.675912   36.096483  -4.672325  \n",
      "4    153.342828 -110.583282  166.050116  25.121128  \n",
      "..          ...         ...         ...        ...  \n",
      "695  -66.937836  100.584281  -39.224268 -15.785585  \n",
      "696  -66.218233   17.460750   55.720584  23.564241  \n",
      "697   44.001265  128.158728   -7.917451 -21.202274  \n",
      "698   -9.469458  -91.346173  -58.949264   2.444422  \n",
      "699   67.824438    0.627002   30.922618 -32.850416  \n",
      "\n",
      "[700 rows x 100 columns]\n"
     ]
    }
   ],
   "source": [
    "arcene_test_filtered = skb.transform(arcene_test)\n",
    "arcene_test_filtered = pca.transform(arcene_test_filtered)\n",
    "\n",
    "arcene_test_filtered = pd.DataFrame(arcene_test_filtered)\n",
    "\n",
    "print(arcene_test_filtered)"
   ],
   "metadata": {
    "collapsed": false,
    "ExecuteTime": {
     "end_time": "2023-12-16T12:57:46.120579400Z",
     "start_time": "2023-12-16T12:57:45.863367200Z"
    }
   },
   "id": "6631b7f09d1f7091"
  },
  {
   "cell_type": "markdown",
   "source": [
    "# Implementation de l'algorithme Extreme Gradient Boosting (XGBoost):"
   ],
   "metadata": {
    "collapsed": false
   },
   "id": "15b28fd822bca6cd"
  },
  {
   "cell_type": "code",
   "execution_count": 187,
   "outputs": [],
   "source": [
    "class Node:\n",
    "\n",
    "    '''\n",
    "    Un objet nœud qui est appelé de manière récurrente en son sein pour construire un arbre de régression. Basé sur XGBoost de Tianqi Chen \n",
    "    le gain interne utilisé pour trouver la valeur de division optimale utilise à la fois le gradient et la valeur hessienne. De même, une esquisse de quantlie pondérée \n",
    "    et les valeurs optimales des feuilles suivent la description de Chen dans \"XGBoost : A Scalable Tree Boosting System\", la seule chose qui n'est pas implémentée dans cette version est la sparsité. \n",
    "    Dans cette version, la seule chose qui n'a pas été implémentée est l'ajustement tenant compte de l'éparpillement ou la capacité à gérer les valeurs NA avec une direction par défaut.\n",
    "    \n",
    "    Entrées\n",
    "    ------------------------------------------------------------------------------------------------------------------\n",
    "    x : cadre de données pandas des données d'apprentissage\n",
    "    gradient : gradient négatif de la fonction de perte\n",
    "    hessian : dérivée de second ordre de la fonction de perte\n",
    "    idxs : utilisé pour garder une trace des échantillons dans la structure de l'arbre\n",
    "    subsample_cols : implémentation d'un sous-échantillon de colonnes par couches qui randomise la structure des arbres.\n",
    "    (paramètre de complexité)\n",
    "    min_leaf : nombre minimum d'échantillons pour qu'un nœud soit considéré comme tel (paramètre de complexité)\n",
    "    min_child_weight : la somme des heassian à l'intérieur d'un noeud est une mesure de la pureté (paramètre de complexité)\n",
    "    depth : limite le nombre de couches dans l'arbre\n",
    "    lambda : terme de régularisation L2 sur les poids. L'augmentation de cette valeur rendra le modèle plus conservateur.\n",
    "    gamma : Ce paramètre empêche également l'ajustement excessif et est présent dans le calcul du gain (score de structure). \n",
    "    Comme il est soustrait du gain, il fixe essentiellement un gain minimum pour effectuer une scission dans un nœud.\n",
    "    eps : Ce paramètre est utilisé dans la méthode du quantile weighted skecth ou de l'arbre \"approximatif\". \n",
    "    (1 / sketch_eps) nombre de cellules\n",
    "    Résultats\n",
    "    --------------------------------------------------------------------------------------------------------------------\n",
    "    Un objet arbre unique qui sera utilisé pour le renforcement du gradient.\n",
    "    '''\n",
    "\n",
    "    def __init__(self, x, gradient, hessian, idxs, subsample_cols = 0.8 , min_leaf = 5, min_child_weight = 1 ,depth = 10, lambda_ = 1, gamma = 1, eps = 0.1):\n",
    "\n",
    "        self.x, self.gradient, self.hessian = x, gradient, hessian\n",
    "        self.idxs = idxs \n",
    "        self.depth = depth\n",
    "        self.min_leaf = min_leaf\n",
    "        self.lambda_ = lambda_\n",
    "        self.gamma  = gamma\n",
    "        self.min_child_weight = min_child_weight\n",
    "        self.row_count = len(idxs)\n",
    "        self.col_count = x.shape[1]\n",
    "        self.subsample_cols = subsample_cols\n",
    "        self.eps = eps\n",
    "        self.column_subsample = np.random.permutation(self.col_count)[:round(self.subsample_cols*self.col_count)]\n",
    "\n",
    "        self.val = self.compute_gamma(self.gradient[self.idxs], self.hessian[self.idxs])\n",
    "\n",
    "        self.score = float('-inf')\n",
    "        self.find_varsplit()\n",
    "\n",
    "\n",
    "    def compute_gamma(self, gradient, hessian):\n",
    "        '''\n",
    "        Calcule la valeur optimale de la feuille équation (5) dans \"XGBoost : Un système de booster d'arbre évolutif\"\n",
    "        '''\n",
    "        return(-np.sum(gradient)/(np.sum(hessian) + self.lambda_))\n",
    "\n",
    "    def find_varsplit(self):\n",
    "        '''\n",
    "        Examine chaque colonne et calcule le meilleur point de séparation.\n",
    "        Le nœud est alors divisé en ce point et deux nouveaux nœuds sont créés.\n",
    "        La profondeur est le seul paramètre à modifier, car nous avons ajouté une nouvelle couche à la structure de l'arbre.\n",
    "        Si aucune scission n'est meilleure que le score initialisé au début, aucune scission n'est effectuée.\n",
    "        '''\n",
    "        for c in self.column_subsample: self.find_greedy_split(c)\n",
    "        if self.is_leaf: return\n",
    "        x = self.split_col\n",
    "        lhs = np.nonzero(x <= self.split)[0]\n",
    "        rhs = np.nonzero(x > self.split)[0]\n",
    "        self.lhs = Node(x = self.x, gradient = self.gradient, hessian = self.hessian, idxs = self.idxs[lhs], min_leaf = self.min_leaf, depth = self.depth-1, lambda_ = self.lambda_ , gamma = self.gamma, min_child_weight = self.min_child_weight, eps = self.eps, subsample_cols = self.subsample_cols)\n",
    "        self.rhs = Node(x = self.x, gradient = self.gradient, hessian = self.hessian, idxs = self.idxs[rhs], min_leaf = self.min_leaf, depth = self.depth-1, lambda_ = self.lambda_ , gamma = self.gamma, min_child_weight = self.min_child_weight, eps = self.eps, subsample_cols = self.subsample_cols)\n",
    "\n",
    "    def find_greedy_split(self, var_idx):\n",
    "        '''\n",
    "        Pour une caractéristique donnée, calcule avec avidité le gain à chaque division.\n",
    "        Met à jour globalement le meilleur score et le point de séparation si un meilleur point de séparation est trouvé.\n",
    "        '''\n",
    "        x = self.x.values[self.idxs, var_idx]\n",
    "\n",
    "        for r in range(self.row_count):\n",
    "            lhs = x <= x[r]\n",
    "            rhs = x > x[r]\n",
    "\n",
    "            lhs_indices = np.nonzero(x <= x[r])[0]\n",
    "            rhs_indices = np.nonzero(x > x[r])[0]\n",
    "            if(rhs.sum() < self.min_leaf or lhs.sum() < self.min_leaf \n",
    "               or self.hessian[lhs_indices].sum() < self.min_child_weight\n",
    "               or self.hessian[rhs_indices].sum() < self.min_child_weight): continue\n",
    "\n",
    "            curr_score = self.gain(lhs, rhs)\n",
    "            if curr_score > self.score: \n",
    "                self.var_idx = var_idx\n",
    "                self.score = curr_score\n",
    "                self.split = x[r]\n",
    "\n",
    "\n",
    "    def gain(self, lhs, rhs):\n",
    "        '''\n",
    "        Calcule le gain à un point de partage particulier sur la base de l'équation (7) de\n",
    "        \"XGBoost : Un système évolutif de renforcement des arbres\n",
    "        '''\n",
    "        gradient = self.gradient[self.idxs]\n",
    "        hessian  = self.hessian[self.idxs]\n",
    "\n",
    "        lhs_gradient = gradient[lhs].sum()\n",
    "        lhs_hessian  = hessian[lhs].sum()\n",
    "\n",
    "        rhs_gradient = gradient[rhs].sum()\n",
    "        rhs_hessian  = hessian[rhs].sum()\n",
    "\n",
    "        gain = 0.5 *( (lhs_gradient**2/(lhs_hessian + self.lambda_)) + (rhs_gradient**2/(rhs_hessian + self.lambda_)) - ((lhs_gradient + rhs_gradient)**2/(lhs_hessian + rhs_hessian + self.lambda_))) - self.gamma\n",
    "        return(gain)\n",
    "\n",
    "    @property\n",
    "    def split_col(self):\n",
    "        '''\n",
    "        splits a column \n",
    "        '''\n",
    "        return self.x.values[self.idxs , self.var_idx]\n",
    "\n",
    "    @property\n",
    "    def is_leaf(self):\n",
    "        '''\n",
    "        checks if node is a leaf\n",
    "        '''\n",
    "        return self.score == float('-inf') or self.depth <= 0                 \n",
    "\n",
    "    def predict(self, x):\n",
    "        return np.array([self.predict_row(xi) for xi in x])\n",
    "\n",
    "    def predict_row(self, xi):\n",
    "        if self.is_leaf:\n",
    "            return(self.val)\n",
    "\n",
    "        node = self.lhs if xi[self.var_idx] <= self.split else self.rhs\n",
    "        return node.predict_row(xi)\n",
    "\n",
    "\n",
    "class XGBoostTree:\n",
    "    '''\n",
    "    Classe enveloppante qui fournit une interface scikit learn à l'arbre de régression récursif ci-dessus.\n",
    "    \n",
    "    Entrées\n",
    "    ------------------------------------------------------------------------------------------------------------------\n",
    "    x : datframe pandas des données d'apprentissage\n",
    "    gradient : gradient négatif de la fonction de perte\n",
    "    hessian : dérivée de second ordre de la fonction de perte\n",
    "    idxs : utilisé pour garder une trace des échantillons dans la structure de l'arbre\n",
    "    subsample_cols : implémentation d'un sous-échantillon de colonnes par couches qui randomise la structure des arbres.\n",
    "    (paramètre de complexité)\n",
    "    min_leaf : nombre minimum d'échantillons pour qu'un nœud soit considéré comme tel (paramètre de complexité)\n",
    "    min_child_weight : la somme des heassian à l'intérieur d'un noeud est une mesure de la pureté (paramètre de complexité)\n",
    "    depth : limite le nombre de couches dans l'arbre\n",
    "    lambda : terme de régularisation L2 sur les poids. L'augmentation de cette valeur rendra le modèle plus conservateur.\n",
    "    gamma : Ce paramètre empêche également l'ajustement excessif et est présent dans le calcul du gain (score de structure). \n",
    "    Comme il est soustrait du gain, il fixe essentiellement un gain minimum pour effectuer une scission dans un nœud.\n",
    "    eps : Ce paramètre est utilisé dans la méthode du quantile weighted skecth ou de l'arbre \"approximatif\". \n",
    "    (1 / sketch_eps) nombre de cellules\n",
    "\n",
    "    Résultats\n",
    "    --------------------------------------------------------------------------------------------------------------------\n",
    "    Un seul objet arbre qui sera utilisé pour le gradient.\n",
    "    '''\n",
    "    def fit(self, x, gradient, hessian, subsample_cols = 0.8 , min_leaf = 5, min_child_weight = 1 ,depth = 10, lambda_ = 1, gamma = 1, eps = 0.1):\n",
    "        self.dtree = Node(x, gradient, hessian, np.array(np.arange(len(x))), subsample_cols, min_leaf, min_child_weight, depth, lambda_, gamma, eps)\n",
    "        return self\n",
    "\n",
    "    def predict(self, X):\n",
    "        return self.dtree.predict(X.values)\n",
    "\n",
    "\n",
    "class XGBoostClassifier:\n",
    "    '''\n",
    "    Application complète de l'algorithme XGBoost tel que décrit dans \"XGBoost : A Scalable Tree Boosting System\" pour la classification binaire.\n",
    "    \n",
    "    Entrées\n",
    "    ------------------------------------------------------------------------------------------------------------------\n",
    "    x : cadre de données pandas des données d'apprentissage\n",
    "    gradient : gradient négatif de la fonction de perte\n",
    "    hessian : dérivée de second ordre de la fonction de perte\n",
    "    idxs : utilisé pour garder une trace des échantillons dans la structure de l'arbre\n",
    "    subsample_cols : implémentation d'un sous-échantillon de colonnes par couches qui randomise la structure des arbres.\n",
    "    (paramètre de complexité)\n",
    "    min_leaf : nombre minimum d'échantillons pour qu'un nœud soit considéré comme tel (paramètre de complexité)\n",
    "    min_child_weight : la somme des heassian à l'intérieur d'un noeud est une mesure de la pureté (paramètre de complexité)\n",
    "    depth : limite le nombre de couches dans l'arbre\n",
    "    lambda : terme de régularisation L2 sur les poids. L'augmentation de cette valeur rendra le modèle plus conservateur.\n",
    "    gamma : Ce paramètre empêche également l'ajustement excessif et est présent dans le calcul du gain (score de structure). \n",
    "    Comme il est soustrait du gain, il fixe essentiellement un gain minimum pour effectuer une scission dans un nœud.\n",
    "    eps : Ce paramètre est utilisé dans la méthode du quantile weighted skecth ou de l'arbre \"approximatif\". \n",
    "    (1 / sketch_eps) nombre de cellules\n",
    "    Résultats\n",
    "    --------------------------------------------------------------------------------------------------------------------\n",
    "    Un seul objet arbre qui sera utilisé pour le gradient.\n",
    "    '''\n",
    "    def __init__(self):\n",
    "        self.estimators = []\n",
    "\n",
    "    def get_params(self, deep=False):\n",
    "        return {\n",
    "            'subsample_cols': self.subsample_cols,\n",
    "            'min_child_weight': self.min_child_weight,\n",
    "            'depth': self.depth,\n",
    "            'min_leaf': self.min_leaf,\n",
    "            'learning_rate': self.learning_rate,\n",
    "            'boosting_rounds': self.boosting_rounds,\n",
    "            'lambda_': self.lambda_,\n",
    "            'gamma': self.gamma,\n",
    "            'eps': self.eps\n",
    "        }\n",
    "\n",
    "\n",
    "    @staticmethod\n",
    "    def sigmoid(x):\n",
    "        return 1 / (1 + np.exp(-x))\n",
    "\n",
    "    # first order gradient logLoss\n",
    "    def grad(self, preds, labels):\n",
    "        preds = self.sigmoid(preds)\n",
    "        return(preds - labels)\n",
    "\n",
    "    # second order gradient logLoss\n",
    "    def hess(self, preds, labels):\n",
    "        preds = self.sigmoid(preds)\n",
    "        return(preds * (1 - preds))\n",
    "\n",
    "    @staticmethod\n",
    "    def log_odds(column):\n",
    "        binary_yes = np.count_nonzero(column == 1)\n",
    "        binary_no  = np.count_nonzero(column == 0)\n",
    "        return(np.log(binary_yes/binary_no))\n",
    "\n",
    "\n",
    "    def fit(self, X, y, subsample_cols = 0.8 , min_child_weight = 1, depth = 5, min_leaf = 5, learning_rate = 0.4, boosting_rounds = 5, lambda_ = 1.5, gamma = 1, eps = 0.1):\n",
    "        self.X, self.y = X, y\n",
    "        self.depth = depth\n",
    "        self.subsample_cols = subsample_cols\n",
    "        self.eps = eps\n",
    "        self.min_child_weight = min_child_weight \n",
    "        self.min_leaf = min_leaf\n",
    "        self.learning_rate = learning_rate\n",
    "        self.boosting_rounds = boosting_rounds \n",
    "        self.lambda_ = lambda_\n",
    "        self.gamma  = gamma\n",
    "\n",
    "        self.base_pred = np.full((X.shape[0], 1), 1).flatten().astype('float64')\n",
    "\n",
    "        for booster in range(self.boosting_rounds):\n",
    "            Grad = self.grad(self.base_pred, self.y)\n",
    "            Hess = self.hess(self.base_pred, self.y)\n",
    "            boosting_tree = XGBoostTree().fit(self.X, Grad, Hess, depth = self.depth, min_leaf = self.min_leaf, lambda_ = self.lambda_, gamma = self.gamma, eps = self.eps, min_child_weight = self.min_child_weight, subsample_cols = self.subsample_cols)\n",
    "            self.base_pred += self.learning_rate * boosting_tree.predict(self.X)\n",
    "            self.estimators.append(boosting_tree)\n",
    "\n",
    "    def predict_proba(self, X):\n",
    "        pred = np.zeros(X.shape[0])\n",
    "\n",
    "        for estimator in self.estimators:\n",
    "            pred += self.learning_rate * estimator.predict(X) \n",
    "\n",
    "        return(self.sigmoid(np.full((X.shape[0], 1), 1).flatten().astype('float64') + pred))\n",
    "\n",
    "    def predict(self, X):\n",
    "        pred = np.zeros(X.shape[0])\n",
    "        for estimator in self.estimators:\n",
    "            pred += self.learning_rate * estimator.predict(X) \n",
    "\n",
    "        predicted_probas = self.sigmoid(np.full((X.shape[0], 1), 1).flatten().astype('float64') + pred)\n",
    "        preds = np.where(predicted_probas > np.mean(predicted_probas), 1, 0)\n",
    "        return(preds)\n",
    "\n",
    "\n",
    "class XGBoostRegressor:\n",
    "    '''\n",
    "    Application complète de l'algorithme XGBoost tel que décrit dans \"XGBoost : A Scalable Tree Boosting System\" pour la régression.\n",
    "    \n",
    "    Entrées\n",
    "    ------------------------------------------------------------------------------------------------------------------\n",
    "    x : cadre de données pandas des données d'apprentissage\n",
    "    gradient : gradient négatif de la fonction de perte\n",
    "    hessian : dérivée de second ordre de la fonction de perte\n",
    "    idxs : utilisé pour garder une trace des échantillons dans la structure de l'arbre\n",
    "    subsample_cols : implémentation d'un sous-échantillon de colonnes par couches qui randomise la structure des arbres.\n",
    "    (paramètre de complexité)\n",
    "    min_leaf : nombre minimum d'échantillons pour qu'un nœud soit considéré comme tel (paramètre de complexité)\n",
    "    min_child_weight : la somme des heassian à l'intérieur d'un noeud est une mesure de la pureté (paramètre de complexité)\n",
    "    depth : limite le nombre de couches dans l'arbre\n",
    "    lambda : terme de régularisation L2 sur les poids. L'augmentation de cette valeur rendra le modèle plus conservateur.\n",
    "    gamma : Ce paramètre empêche également l'ajustement excessif et est présent dans le calcul du gain (score de structure). \n",
    "    Comme il est soustrait du gain, il fixe essentiellement un gain minimum pour effectuer une scission dans un nœud.\n",
    "    eps : Ce paramètre est utilisé dans la méthode du quantile weighted skecth ou de l'arbre \"approximatif\". \n",
    "    (1 / sketch_eps) nombre de cellules\n",
    "    Résultats\n",
    "    --------------------------------------------------------------------------------------------------------------------\n",
    "    Un seul objet arbre qui sera utilisé pour le gradient.\n",
    "    '''\n",
    "    def __init__(self):\n",
    "        self.estimators = []\n",
    "\n",
    "    def get_params(self):\n",
    "        return {\n",
    "            'subsample_cols': self.subsample_cols,\n",
    "            'min_child_weight': self.min_child_weight,\n",
    "            'depth': self.depth,\n",
    "            'min_leaf': self.min_leaf,\n",
    "            'learning_rate': self.learning_rate,\n",
    "            'boosting_rounds': self.boosting_rounds,\n",
    "            'lambda_': self.lambda_,\n",
    "            'gamma': self.gamma,\n",
    "            'eps': self.eps\n",
    "        }\n",
    "    # first order gradient mean squared error\n",
    "    @staticmethod\n",
    "    def grad(preds, labels):\n",
    "        return(2*(preds-labels))\n",
    "\n",
    "    # second order gradient logLoss\n",
    "    @staticmethod\n",
    "    def hess(preds, labels):\n",
    "        '''\n",
    "        la hessienne de l'erreur quadratique moyenne est une valeur constante de deux\n",
    "        renvoie un tableau de deux\n",
    "        '''\n",
    "        return(np.full((preds.shape[0], 1), 2).flatten().astype('float64'))\n",
    "\n",
    "\n",
    "    def fit(self, X, y, subsample_cols = 0.8 , min_child_weight = 1, depth = 5, min_leaf = 5, learning_rate = 0.4, boosting_rounds = 5, lambda_ = 1.5, gamma = 1, eps = 0.1):\n",
    "        self.X, self.y = X, y.values\n",
    "        self.depth = depth\n",
    "        self.subsample_cols = subsample_cols\n",
    "        self.eps = eps\n",
    "        self.min_child_weight = min_child_weight \n",
    "        self.min_leaf = min_leaf\n",
    "        self.learning_rate = learning_rate\n",
    "        self.boosting_rounds = boosting_rounds \n",
    "        self.lambda_ = lambda_\n",
    "        self.gamma  = gamma\n",
    "\n",
    "        self.base_pred = np.full((X.shape[0], 1), np.mean(y)).flatten().astype('float64')\n",
    "\n",
    "        for booster in range(self.boosting_rounds):\n",
    "            Grad = self.grad(self.base_pred, self.y)\n",
    "            Hess = self.hess(self.base_pred, self.y)\n",
    "            boosting_tree = XGBoostTree().fit(self.X, Grad, Hess, depth = self.depth, min_leaf = self.min_leaf, lambda_ = self.lambda_, gamma = self.gamma, eps = self.eps, min_child_weight = self.min_child_weight, subsample_cols = self.subsample_cols)\n",
    "            self.base_pred += self.learning_rate * boosting_tree.predict(self.X)\n",
    "            self.estimators.append(boosting_tree)\n",
    "\n",
    "    def predict(self, X):\n",
    "        pred = np.zeros(X.shape[0])\n",
    "\n",
    "        for estimator in self.estimators:\n",
    "            pred += self.learning_rate * estimator.predict(X) \n",
    "\n",
    "        return np.full((X.shape[0], 1), np.mean(y)).flatten().astype('float64') + pred"
   ],
   "metadata": {
    "collapsed": false,
    "ExecuteTime": {
     "end_time": "2023-12-16T12:57:46.275263200Z",
     "start_time": "2023-12-16T12:57:45.987122900Z"
    }
   },
   "id": "caf22eea2d07c381"
  },
  {
   "cell_type": "markdown",
   "source": [
    "# Apprentissage et test de l'algorithme"
   ],
   "metadata": {
    "collapsed": false
   },
   "id": "5958a48204784400"
  },
  {
   "cell_type": "code",
   "execution_count": 205,
   "outputs": [
    {
     "name": "stdout",
     "output_type": "stream",
     "text": [
      "Number of mislabeled points out of a total 100 points : 28\n"
     ]
    }
   ],
   "source": [
    "xgb = XGBoostClassifier()\n",
    "\n",
    "arcene_train_labels_reshaped = arcene_train_labels.values.reshape(len(arcene_train_labels), 1)\n",
    "arcene_valid_labels_reshaped = arcene_valid_labels.values.reshape(len(arcene_train_labels), 1)\n",
    "\n",
    "xgb.fit(arcene_train_filtered, arcene_train_labels_reshaped, depth = 5, min_leaf = 5, learning_rate = 0.1, boosting_rounds = 5)\n",
    "\n",
    "predictions = xgb.predict(arcene_valid_filtered)\n",
    "\n",
    "pred_len = len(predictions)\n",
    "\n",
    "predictions = predictions.reshape(pred_len, 1)\n",
    "\n",
    "print(\"Number of mislabeled points out of a total %d points : %d\" % (arcene_valid.shape[0], (arcene_valid_labels_reshaped != predictions).sum()))"
   ],
   "metadata": {
    "collapsed": false,
    "ExecuteTime": {
     "end_time": "2023-12-16T12:58:50.279651400Z",
     "start_time": "2023-12-16T12:58:45.133629700Z"
    }
   },
   "id": "a3a3825620d49e6b"
  },
  {
   "cell_type": "markdown",
   "source": [
    "### Matrice de confusion\n",
    "La matrice de confusion est une matrice qui permet de visualiser les performances d'un algorithme de classification. "
   ],
   "metadata": {
    "collapsed": false
   },
   "id": "c856f503e42776f3"
  },
  {
   "cell_type": "code",
   "execution_count": 206,
   "outputs": [
    {
     "data": {
      "text/plain": "array([[52,  4],\n       [24, 20]], dtype=int64)"
     },
     "execution_count": 206,
     "metadata": {},
     "output_type": "execute_result"
    }
   ],
   "source": [
    "cm = metrics.confusion_matrix(arcene_valid_labels, predictions)\n",
    "\n",
    "cm"
   ],
   "metadata": {
    "collapsed": false,
    "ExecuteTime": {
     "end_time": "2023-12-16T12:58:54.337120200Z",
     "start_time": "2023-12-16T12:58:54.146371400Z"
    }
   },
   "id": "bed8968cc7788fdb"
  },
  {
   "cell_type": "markdown",
   "source": [
    "### Visualisation de la matrice de confusion"
   ],
   "metadata": {
    "collapsed": false
   },
   "id": "f3ddd2d435faf99d"
  },
  {
   "cell_type": "code",
   "execution_count": 207,
   "outputs": [
    {
     "data": {
      "text/plain": "<Figure size 640x480 with 2 Axes>",
      "image/png": "[encoded data removed]"
     },
     "metadata": {},
     "output_type": "display_data"
    }
   ],
   "source": [
    "disp = metrics.ConfusionMatrixDisplay.from_predictions(y_true=arcene_valid_labels, y_pred=predictions, display_labels=[\"False\", \"True\"], cmap=plt.cm.Blues)\n",
    "\n",
    "plt.show()"
   ],
   "metadata": {
    "collapsed": false,
    "ExecuteTime": {
     "end_time": "2023-12-16T12:58:58.856381300Z",
     "start_time": "2023-12-16T12:58:58.641025400Z"
    }
   },
   "id": "9004c823b6249b3d"
  },
  {
   "cell_type": "markdown",
   "source": [
    "### Calcul des métriques\n",
    "Les métriques qui seront calculées sont :\n",
    "- Balanced Error Rate\n",
    "- Accuracy\n",
    "- Precision\n",
    "- Recall\n",
    "- F1 Score\n",
    "- AUC Score\n",
    "- ROC Curve\n",
    "\n",
    "Ces metriques on ete conseillees par les juges du challenge Arcene pour evaluer les performances des algorithmes de classification. (https://web.archive.org/web/20130503080434/http://www.nipsfsc.ecs.soton.ac.uk/evaluation)\n",
    "Pour plus d'informations sur ces métriques, veuillez consulter ce lien : https://towardsdatascience.com/understanding-confusion-matrix-a9ad42dcfd62"
   ],
   "metadata": {
    "collapsed": false
   },
   "id": "369dc4c2a1e2ec19"
  },
  {
   "cell_type": "code",
   "execution_count": 208,
   "outputs": [
    {
     "name": "stdout",
     "output_type": "stream",
     "text": [
      "Balanced Error Rate:  0.24122807017543857\n",
      "Accuracy:             0.72\n",
      "Precision:            0.7587719298245614\n",
      "Recall:               0.6915584415584416\n",
      "F1 Score:             0.6880570409982174\n",
      "AUC Score:            0.6915584415584416\n"
     ]
    }
   ],
   "source": [
    "TP = cm[0][0]\n",
    "FP = cm[0][1]\n",
    "FN = cm[1][0]\n",
    "TN = cm[1][1]\n",
    "\n",
    "BER = 1 - (1/2 * ((TP / (TP + FN)) + (TN / (TN + FP))))\n",
    "\n",
    "precision = metrics.precision_score(arcene_valid_labels, predictions, average='macro')\n",
    "\n",
    "recall = metrics.recall_score(arcene_valid_labels, predictions, average='macro')\n",
    "\n",
    "f1_score = metrics.f1_score(arcene_valid_labels, predictions, average='macro')\n",
    "\n",
    "accuracy = metrics.accuracy_score(arcene_valid_labels, predictions)\n",
    "\n",
    "auc_score = metrics.roc_auc_score(arcene_valid_labels, predictions)\n",
    "\n",
    "print('Balanced Error Rate: ', BER)\n",
    "print('Accuracy:            ', accuracy)\n",
    "print('Precision:           ', precision)\n",
    "print('Recall:              ', recall)\n",
    "print('F1 Score:            ', f1_score)\n",
    "print('AUC Score:           ', auc_score)"
   ],
   "metadata": {
    "collapsed": false,
    "ExecuteTime": {
     "end_time": "2023-12-16T12:59:02.188881300Z",
     "start_time": "2023-12-16T12:59:02.016744300Z"
    }
   },
   "id": "24a90dd0577a8c52"
  },
  {
   "cell_type": "markdown",
   "source": [
    "##### Courbe ROC:"
   ],
   "metadata": {
    "collapsed": false
   },
   "id": "645918f1550664d0"
  },
  {
   "cell_type": "code",
   "execution_count": 209,
   "outputs": [
    {
     "data": {
      "text/plain": "<Figure size 640x480 with 1 Axes>",
      "image/png": "[encoded data removed]"
     },
     "metadata": {},
     "output_type": "display_data"
    }
   ],
   "source": [
    "fpr, tpr, thresh = metrics.roc_curve(arcene_valid_labels, predictions, pos_label=1)\n",
    "\n",
    "# plot roc curves\n",
    "plt.plot(fpr, tpr, linestyle='--',color='orange', label='Naive Bayes')\n",
    "# title\n",
    "plt.title('ROC curve')\n",
    "# x label\n",
    "plt.xlabel('False Positive Rate')\n",
    "# y label\n",
    "plt.ylabel('True Positive rate')\n",
    "\n",
    "plt.legend(loc='best')\n",
    "plt.savefig('ROC',dpi=300)\n",
    "plt.show()"
   ],
   "metadata": {
    "collapsed": false,
    "ExecuteTime": {
     "end_time": "2023-12-16T12:59:07.429362600Z",
     "start_time": "2023-12-16T12:59:05.382275Z"
    }
   },
   "id": "f9ecf7192274a1fc"
  },
  {
   "cell_type": "markdown",
   "source": [
    "Predire les classes des donnees de test:"
   ],
   "metadata": {
    "collapsed": false
   },
   "id": "74551533cd0d5dae"
  },
  {
   "cell_type": "code",
   "execution_count": 210,
   "outputs": [
    {
     "data": {
      "text/plain": "array([[1],\n       [0],\n       [0],\n       [1],\n       [0],\n       [0],\n       [0],\n       [0],\n       [0],\n       [0],\n       [0],\n       [0],\n       [0],\n       [1],\n       [0],\n       [0],\n       [0],\n       [1],\n       [0],\n       [1],\n       [0],\n       [0],\n       [1],\n       [0],\n       [0],\n       [0],\n       [1],\n       [1],\n       [0],\n       [0],\n       [0],\n       [0],\n       [0],\n       [0],\n       [0],\n       [0],\n       [0],\n       [0],\n       [0],\n       [1],\n       [0],\n       [0],\n       [1],\n       [1],\n       [0],\n       [1],\n       [0],\n       [0],\n       [0],\n       [1],\n       [0],\n       [0],\n       [0],\n       [0],\n       [0],\n       [0],\n       [0],\n       [0],\n       [0],\n       [1],\n       [0],\n       [0],\n       [1],\n       [0],\n       [0],\n       [0],\n       [0],\n       [0],\n       [0],\n       [0],\n       [0],\n       [1],\n       [0],\n       [0],\n       [0],\n       [1],\n       [0],\n       [0],\n       [0],\n       [0],\n       [0],\n       [0],\n       [0],\n       [0],\n       [0],\n       [0],\n       [0],\n       [0],\n       [0],\n       [0],\n       [0],\n       [0],\n       [0],\n       [0],\n       [0],\n       [0],\n       [0],\n       [0],\n       [0],\n       [1],\n       [0],\n       [0],\n       [0],\n       [0],\n       [0],\n       [0],\n       [0],\n       [1],\n       [0],\n       [0],\n       [1],\n       [0],\n       [0],\n       [0],\n       [1],\n       [0],\n       [0],\n       [0],\n       [0],\n       [0],\n       [0],\n       [0],\n       [0],\n       [0],\n       [0],\n       [0],\n       [0],\n       [0],\n       [1],\n       [0],\n       [0],\n       [0],\n       [0],\n       [0],\n       [0],\n       [0],\n       [1],\n       [0],\n       [0],\n       [0],\n       [0],\n       [0],\n       [0],\n       [0],\n       [0],\n       [1],\n       [1],\n       [0],\n       [0],\n       [0],\n       [0],\n       [0],\n       [1],\n       [1],\n       [0],\n       [0],\n       [0],\n       [0],\n       [1],\n       [0],\n       [0],\n       [0],\n       [0],\n       [0],\n       [0],\n       [1],\n       [0],\n       [0],\n       [0],\n       [1],\n       [0],\n       [0],\n       [0],\n       [0],\n       [0],\n       [0],\n       [0],\n       [0],\n       [0],\n       [0],\n       [0],\n       [1],\n       [0],\n       [0],\n       [0],\n       [1],\n       [0],\n       [0],\n       [0],\n       [0],\n       [1],\n       [0],\n       [0],\n       [0],\n       [1],\n       [1],\n       [1],\n       [0],\n       [0],\n       [1],\n       [0],\n       [0],\n       [0],\n       [0],\n       [0],\n       [0],\n       [0],\n       [0],\n       [1],\n       [0],\n       [1],\n       [0],\n       [0],\n       [0],\n       [0],\n       [1],\n       [0],\n       [0],\n       [1],\n       [0],\n       [0],\n       [0],\n       [0],\n       [0],\n       [1],\n       [0],\n       [1],\n       [0],\n       [0],\n       [0],\n       [0],\n       [0],\n       [0],\n       [0],\n       [1],\n       [0],\n       [0],\n       [1],\n       [0],\n       [0],\n       [0],\n       [0],\n       [0],\n       [0],\n       [0],\n       [0],\n       [0],\n       [0],\n       [1],\n       [1],\n       [0],\n       [0],\n       [0],\n       [1],\n       [0],\n       [0],\n       [1],\n       [0],\n       [1],\n       [0],\n       [0],\n       [0],\n       [0],\n       [1],\n       [1],\n       [0],\n       [0],\n       [0],\n       [0],\n       [0],\n       [0],\n       [1],\n       [0],\n       [0],\n       [0],\n       [0],\n       [0],\n       [0],\n       [0],\n       [0],\n       [0],\n       [0],\n       [1],\n       [0],\n       [0],\n       [1],\n       [0],\n       [0],\n       [0],\n       [0],\n       [0],\n       [0],\n       [0],\n       [0],\n       [0],\n       [0],\n       [1],\n       [0],\n       [1],\n       [1],\n       [0],\n       [0],\n       [0],\n       [0],\n       [1],\n       [0],\n       [0],\n       [0],\n       [0],\n       [1],\n       [0],\n       [0],\n       [0],\n       [0],\n       [0],\n       [1],\n       [1],\n       [0],\n       [0],\n       [0],\n       [1],\n       [0],\n       [0],\n       [0],\n       [1],\n       [0],\n       [0],\n       [0],\n       [1],\n       [0],\n       [0],\n       [0],\n       [0],\n       [0],\n       [1],\n       [0],\n       [0],\n       [0],\n       [0],\n       [0],\n       [0],\n       [0],\n       [0],\n       [0],\n       [0],\n       [0],\n       [0],\n       [1],\n       [0],\n       [0],\n       [0],\n       [1],\n       [0],\n       [0],\n       [0],\n       [1],\n       [0],\n       [0],\n       [0],\n       [0],\n       [0],\n       [0],\n       [1],\n       [0],\n       [1],\n       [0],\n       [0],\n       [0],\n       [1],\n       [0],\n       [0],\n       [0],\n       [1],\n       [0],\n       [1],\n       [1],\n       [0],\n       [0],\n       [0],\n       [0],\n       [0],\n       [0],\n       [1],\n       [1],\n       [0],\n       [1],\n       [1],\n       [0],\n       [0],\n       [0],\n       [0],\n       [0],\n       [1],\n       [0],\n       [0],\n       [0],\n       [1],\n       [1],\n       [0],\n       [1],\n       [0],\n       [0],\n       [1],\n       [1],\n       [0],\n       [1],\n       [0],\n       [0],\n       [0],\n       [0],\n       [0],\n       [0],\n       [1],\n       [0],\n       [0],\n       [0],\n       [0],\n       [1],\n       [0],\n       [0],\n       [0],\n       [0],\n       [0],\n       [0],\n       [0],\n       [0],\n       [0],\n       [0],\n       [0],\n       [0],\n       [0],\n       [0],\n       [0],\n       [0],\n       [0],\n       [1],\n       [0],\n       [0],\n       [0],\n       [0],\n       [0],\n       [0],\n       [0],\n       [1],\n       [0],\n       [1],\n       [0],\n       [0],\n       [0],\n       [1],\n       [0],\n       [1],\n       [0],\n       [1],\n       [0],\n       [1],\n       [0],\n       [0],\n       [0],\n       [0],\n       [0],\n       [1],\n       [0],\n       [0],\n       [0],\n       [0],\n       [1],\n       [1],\n       [0],\n       [0],\n       [0],\n       [1],\n       [0],\n       [1],\n       [0],\n       [1],\n       [0],\n       [0],\n       [1],\n       [0],\n       [0],\n       [1],\n       [0],\n       [0],\n       [0],\n       [0],\n       [0],\n       [0],\n       [0],\n       [1],\n       [0],\n       [0],\n       [1],\n       [0],\n       [0],\n       [0],\n       [0],\n       [0],\n       [0],\n       [0],\n       [0],\n       [1],\n       [1],\n       [0],\n       [0],\n       [0],\n       [0],\n       [1],\n       [0],\n       [0],\n       [0],\n       [1],\n       [0],\n       [0],\n       [0],\n       [0],\n       [0],\n       [0],\n       [0],\n       [0],\n       [0],\n       [0],\n       [0],\n       [0],\n       [0],\n       [0],\n       [0],\n       [0],\n       [1],\n       [0],\n       [0],\n       [1],\n       [0],\n       [0],\n       [0],\n       [1],\n       [1],\n       [0],\n       [0],\n       [0],\n       [1],\n       [0],\n       [0],\n       [0],\n       [0],\n       [0],\n       [1],\n       [1],\n       [0],\n       [0],\n       [1],\n       [0],\n       [0],\n       [0],\n       [1],\n       [1],\n       [1],\n       [1],\n       [1],\n       [1],\n       [0],\n       [0],\n       [0],\n       [0],\n       [0],\n       [0],\n       [0],\n       [1],\n       [0],\n       [0],\n       [0],\n       [0],\n       [0],\n       [0],\n       [0],\n       [0],\n       [0],\n       [0],\n       [0],\n       [0],\n       [0],\n       [0],\n       [0],\n       [1],\n       [0],\n       [0],\n       [0],\n       [0],\n       [1],\n       [0],\n       [0],\n       [1],\n       [1],\n       [0],\n       [0],\n       [0],\n       [0],\n       [0],\n       [0],\n       [0],\n       [0],\n       [0],\n       [0],\n       [0],\n       [0],\n       [0],\n       [0],\n       [1],\n       [0],\n       [0],\n       [1],\n       [0],\n       [0],\n       [1],\n       [1],\n       [0],\n       [0],\n       [0],\n       [0],\n       [0],\n       [0],\n       [1],\n       [0],\n       [0],\n       [0],\n       [0],\n       [1],\n       [0],\n       [0],\n       [1],\n       [0],\n       [1],\n       [0],\n       [0],\n       [0],\n       [0],\n       [0],\n       [1],\n       [0],\n       [0],\n       [0],\n       [0],\n       [0],\n       [0],\n       [1],\n       [1],\n       [0],\n       [1],\n       [0],\n       [0],\n       [0],\n       [0],\n       [0],\n       [0],\n       [0],\n       [0],\n       [0],\n       [0],\n       [0],\n       [1],\n       [1],\n       [0],\n       [0],\n       [0],\n       [1],\n       [0],\n       [0],\n       [1],\n       [1],\n       [0],\n       [0],\n       [0],\n       [0],\n       [0],\n       [0],\n       [0],\n       [1],\n       [1],\n       [0],\n       [0],\n       [0],\n       [1],\n       [0],\n       [0],\n       [0],\n       [1],\n       [1],\n       [0],\n       [1],\n       [0],\n       [1],\n       [1],\n       [0],\n       [0],\n       [0],\n       [0],\n       [0],\n       [0],\n       [1],\n       [0]])"
     },
     "execution_count": 210,
     "metadata": {},
     "output_type": "execute_result"
    }
   ],
   "source": [
    "test_pred = xgb.predict(arcene_test_filtered)\n",
    "\n",
    "pred_len = len(test_pred)\n",
    "\n",
    "test_pred = test_pred.reshape(pred_len, 1)\n",
    "\n",
    "test_pred"
   ],
   "metadata": {
    "collapsed": false,
    "ExecuteTime": {
     "end_time": "2023-12-16T12:59:10.982526Z",
     "start_time": "2023-12-16T12:59:10.845642200Z"
    }
   },
   "id": "275d5a939e1ccf1e"
  },
  {
   "cell_type": "markdown",
   "source": [
    "### Visualisation des classes predites"
   ],
   "metadata": {
    "collapsed": false
   },
   "id": "ac58dee0e471427e"
  },
  {
   "cell_type": "code",
   "execution_count": 211,
   "outputs": [
    {
     "name": "stdout",
     "output_type": "stream",
     "text": [
      "   0  count\n",
      "0  0    546\n",
      "1  1    154\n"
     ]
    },
    {
     "data": {
      "text/plain": "<Axes: xlabel='0', ylabel='count'>"
     },
     "execution_count": 211,
     "metadata": {},
     "output_type": "execute_result"
    },
    {
     "data": {
      "text/plain": "<Figure size 640x480 with 1 Axes>",
      "image/png": "[encoded data removed]"
     },
     "metadata": {},
     "output_type": "display_data"
    }
   ],
   "source": [
    "test_pred = pd.DataFrame(test_pred)\n",
    "\n",
    "yy = test_pred.value_counts().reset_index()\n",
    "print(yy)\n",
    "sns.barplot(x=0, y='count', data=yy)"
   ],
   "metadata": {
    "collapsed": false,
    "ExecuteTime": {
     "end_time": "2023-12-16T12:59:13.487787900Z",
     "start_time": "2023-12-16T12:59:13.258242200Z"
    }
   },
   "id": "54838e8454bb256"
  },
  {
   "cell_type": "markdown",
   "source": [
    "# Implementation de l'algorithme Extreme Gradient Boosting (XGBoost) avec la bibliotheque sklearn"
   ],
   "metadata": {
    "collapsed": false
   },
   "id": "d008c5e733f7fa49"
  },
  {
   "cell_type": "code",
   "execution_count": 195,
   "outputs": [
    {
     "name": "stdout",
     "output_type": "stream",
     "text": [
      "Number of mislabeled points out of a total 100 points : 20\n"
     ]
    },
    {
     "name": "stderr",
     "output_type": "stream",
     "text": [
      "C:\\Users\\legion\\AppData\\Local\\Temp\\ipykernel_17684\\2617077726.py:11: FutureWarning: Calling int on a single element Series is deprecated and will raise a TypeError in the future. Use int(ser.iloc[0]) instead\n",
      "  print(\"Number of mislabeled points out of a total %d points : %d\" % (arcene_valid.shape[0], (arcene_valid_labels != y_pred).sum()))\n"
     ]
    }
   ],
   "source": [
    "xgbb = ExGB.XGBClassifier()\n",
    "\n",
    "xgbb.fit(arcene_train_filtered, arcene_train_labels)\n",
    "\n",
    "y_pred = xgbb.predict(arcene_valid_filtered)\n",
    "\n",
    "pred_len = len(y_pred)\n",
    "\n",
    "y_pred = y_pred.reshape(pred_len, 1)\n",
    "\n",
    "print(\"Number of mislabeled points out of a total %d points : %d\" % (arcene_valid.shape[0], (arcene_valid_labels != y_pred).sum()))"
   ],
   "metadata": {
    "collapsed": false,
    "ExecuteTime": {
     "end_time": "2023-12-16T12:57:50.606769Z",
     "start_time": "2023-12-16T12:57:50.171805300Z"
    }
   },
   "id": "d50bfeae4c713541"
  },
  {
   "cell_type": "markdown",
   "source": [
    "### Matrice de confusion"
   ],
   "metadata": {
    "collapsed": false
   },
   "id": "5888f6649b49aad1"
  },
  {
   "cell_type": "code",
   "execution_count": 196,
   "outputs": [
    {
     "data": {
      "text/plain": "array([[51,  5],\n       [15, 29]], dtype=int64)"
     },
     "execution_count": 196,
     "metadata": {},
     "output_type": "execute_result"
    }
   ],
   "source": [
    "cm_with_sklearn = metrics.confusion_matrix(arcene_valid_labels, y_pred)\n",
    "\n",
    "cm_with_sklearn"
   ],
   "metadata": {
    "collapsed": false,
    "ExecuteTime": {
     "end_time": "2023-12-16T12:57:50.660468300Z",
     "start_time": "2023-12-16T12:57:50.415521500Z"
    }
   },
   "id": "bc63ecb340a40ad5"
  },
  {
   "cell_type": "markdown",
   "source": [
    "### Visualisation de la matrice de confusion"
   ],
   "metadata": {
    "collapsed": false
   },
   "id": "3a1825844c831fd5"
  },
  {
   "cell_type": "code",
   "execution_count": 197,
   "outputs": [
    {
     "data": {
      "text/plain": "<Figure size 640x480 with 2 Axes>",
      "image/png": "[encoded data removed]"
     },
     "metadata": {},
     "output_type": "display_data"
    }
   ],
   "source": [
    "disp = metrics.ConfusionMatrixDisplay.from_predictions(y_true=arcene_valid_labels, y_pred=predictions, display_labels=[\"False\", \"True\"], cmap=plt.cm.Blues)\n",
    "\n",
    "plt.show()"
   ],
   "metadata": {
    "collapsed": false,
    "ExecuteTime": {
     "end_time": "2023-12-16T12:57:50.945836300Z",
     "start_time": "2023-12-16T12:57:50.433062700Z"
    }
   },
   "id": "71facb7676505278"
  },
  {
   "cell_type": "markdown",
   "source": [
    "### Calcul des métriques"
   ],
   "metadata": {
    "collapsed": false
   },
   "id": "ba89be27c5eef7dc"
  },
  {
   "cell_type": "code",
   "execution_count": 198,
   "outputs": [
    {
     "name": "stdout",
     "output_type": "stream",
     "text": [
      "Balanced Error Rate:  0.1871657754010696\n",
      "Accuracy:             0.8\n",
      "Precision:            0.8128342245989304\n",
      "Recall:               0.7849025974025974\n",
      "F1 Score:             0.7898276586801176\n",
      "AUC Score:            0.7849025974025975\n"
     ]
    }
   ],
   "source": [
    "TP_with_sklearn = cm_with_sklearn[0][0]\n",
    "FP_with_sklearn = cm_with_sklearn[0][1]\n",
    "FN_with_sklearn = cm_with_sklearn[1][0]\n",
    "TN_with_sklearn = cm_with_sklearn[1][1]\n",
    "\n",
    "BER_with_sklearn = 1 - (1/2 * ((TP_with_sklearn / (TP_with_sklearn + FN_with_sklearn)) + (TN_with_sklearn / (TN_with_sklearn + FP_with_sklearn))))\n",
    "\n",
    "precision_with_sklearn = metrics.precision_score(arcene_valid_labels, y_pred, average='macro')\n",
    "\n",
    "recall_with_sklearn = metrics.recall_score(arcene_valid_labels, y_pred, average='macro')\n",
    "\n",
    "f1_score_with_sklearn = metrics.f1_score(arcene_valid_labels, y_pred, average='macro')\n",
    "\n",
    "accuracy_with_sklearn = metrics.accuracy_score(arcene_valid_labels, y_pred)\n",
    "\n",
    "auc_score_with_sklearn = metrics.roc_auc_score(arcene_valid_labels, y_pred)\n",
    "\n",
    "print('Balanced Error Rate: ', BER_with_sklearn)\n",
    "print('Accuracy:            ', accuracy_with_sklearn)\n",
    "print('Precision:           ', precision_with_sklearn)\n",
    "print('Recall:              ', recall_with_sklearn)\n",
    "print('F1 Score:            ', f1_score_with_sklearn)\n",
    "print('AUC Score:           ', auc_score_with_sklearn)"
   ],
   "metadata": {
    "collapsed": false,
    "ExecuteTime": {
     "end_time": "2023-12-16T12:57:50.978268300Z",
     "start_time": "2023-12-16T12:57:50.701269100Z"
    }
   },
   "id": "399d5ce0159dc21b"
  },
  {
   "cell_type": "markdown",
   "source": [
    "##### Courbe ROC:"
   ],
   "metadata": {
    "collapsed": false
   },
   "id": "58fdc62b794dad22"
  },
  {
   "cell_type": "code",
   "execution_count": 199,
   "outputs": [
    {
     "data": {
      "text/plain": "<Figure size 640x480 with 1 Axes>",
      "image/png": "[encoded data removed]"
     },
     "metadata": {},
     "output_type": "display_data"
    }
   ],
   "source": [
    "fpr_with_sklearn, tpr_with_sklearn, thresh_with_sklearn = metrics.roc_curve(arcene_valid_labels, y_pred, pos_label=1)\n",
    "\n",
    "# plot roc curves\n",
    "plt.plot(fpr_with_sklearn, tpr_with_sklearn, linestyle='--',color='orange', label='Naive Bayes')\n",
    "# title\n",
    "plt.title('ROC curve')\n",
    "# x label\n",
    "plt.xlabel('False Positive Rate')\n",
    "# y label\n",
    "plt.ylabel('True Positive rate')\n",
    "\n",
    "plt.legend(loc='best')\n",
    "plt.savefig('ROC',dpi=300)\n",
    "plt.show()"
   ],
   "metadata": {
    "collapsed": false,
    "ExecuteTime": {
     "end_time": "2023-12-16T12:57:51.419486200Z",
     "start_time": "2023-12-16T12:57:50.741681200Z"
    }
   },
   "id": "a8e15af3d4723ce1"
  },
  {
   "cell_type": "markdown",
   "source": [
    "### Visualisation des classes predites"
   ],
   "metadata": {
    "collapsed": false
   },
   "id": "4a9b306891ed088e"
  },
  {
   "cell_type": "code",
   "execution_count": 200,
   "outputs": [],
   "source": [
    "arcene_test_filtered_serie = arcene_test_filtered.squeeze()\n",
    "\n",
    "test_pred_with_sklearn = xgbb.predict(arcene_test_filtered_serie)"
   ],
   "metadata": {
    "collapsed": false,
    "ExecuteTime": {
     "end_time": "2023-12-16T12:57:51.466790300Z",
     "start_time": "2023-12-16T12:57:51.424136800Z"
    }
   },
   "id": "26aa5fb21d0a467c"
  },
  {
   "cell_type": "code",
   "execution_count": 201,
   "outputs": [
    {
     "name": "stdout",
     "output_type": "stream",
     "text": [
      "   0  count\n",
      "0  0    396\n",
      "1  1    304\n"
     ]
    },
    {
     "data": {
      "text/plain": "<Axes: xlabel='0', ylabel='count'>"
     },
     "execution_count": 201,
     "metadata": {},
     "output_type": "execute_result"
    },
    {
     "data": {
      "text/plain": "<Figure size 640x480 with 1 Axes>",
      "image/png": "[encoded data removed]"
     },
     "metadata": {},
     "output_type": "display_data"
    }
   ],
   "source": [
    "test_pred_with_sklearn = pd.DataFrame(test_pred_with_sklearn)\n",
    "\n",
    "yy_with_sklearn = test_pred_with_sklearn.value_counts().reset_index()\n",
    "print(yy_with_sklearn)\n",
    "sns.barplot(x=0, y='count', data=yy_with_sklearn)"
   ],
   "metadata": {
    "collapsed": false,
    "ExecuteTime": {
     "end_time": "2023-12-16T12:57:52.107622Z",
     "start_time": "2023-12-16T12:57:51.452806300Z"
    }
   },
   "id": "b35b81eb1ea23cdb"
  },
  {
   "cell_type": "markdown",
   "source": [
    "# **Conclusion:**\n",
    "En comparant les resultats obtenus avec notre algorithme avec ceux obtenus avec l'algorithme Naive Bayes de sklearn, on remarque que notre algorithme donne de meilleurs resultats.\n",
    "\n",
    "Mais en comparant les resultats obtenus avec notre algorithme avec ceux obtenus avec l'algorithme Extreme Gradient Boosting (XGBoost) de sklearn, on remarque que les resultats sont presque les memes.\n",
    "\n",
    "Ainsi, quand on compare l'algorithme Extreme Gradient Boosting (XGBoost) et l'algorithme Naive Bayes, on remarque que l'algorithme Naive Bayes donne de meilleurs resultats."
   ],
   "metadata": {
    "collapsed": false
   },
   "id": "d675d7df22077f"
  },
  {
   "cell_type": "markdown",
   "source": [
    "# References:\n",
    "UCI Machine Learning Repository. https://archive.ics.uci.edu/dataset/167/arcene \n",
    "\n",
    "Guyon I. Result analysis of the NIPS 2003 Feature Selection Challenge. Published 2004. https://papers.nips.cc/paper_files/paper/2004/hash/5e751896e527c862bf67251a474b3819-Abstract.html \n",
    "\n",
    "Gunn SR. Feature Selection Challenge - Datasets. https://web.archive.org/web/20130512034606/http://www.nipsfsc.ecs.soton.ac.uk/datasets \n",
    "\n",
    "Feature Selection with the CLOP Package.; 2006. http://clopinet.com/isabelle/Projects/ETH/TM-fextract-class.pdf \n",
    "\n",
    "Guyon I. Deep Learning workbench. http://clopinet.com/isabelle/Projects \n",
    "\n",
    "Guyon I. Feature extraction book. https://www.causality.inf.ethz.ch/ciml/FeatureExtractionManuscript.pdf \n",
    "\n",
    "Beishuizen TPA, Vanschoren J, Hilbers PAJ, Bošnački D. Automated feature selection and Classification for High-Dimensional Biomedical Data. Research Square (Research Square). Published online October 12, 2021. https://www.researchsquare.com/article/rs-563410/v1 \n",
    "\n",
    "Introduction to Boosted Trees — xgboost 2.0.2 documentation. https://xgboost.readthedocs.io/en/stable/tutorials/model.html \n",
    "\n",
    "Chen T, Guestrin C, University of Washington. XGBoost: A Scalable Tree Boosting System. 3rd ed.; 2016. https://arxiv.org/pdf/1603.02754.pdf \n",
    "\n",
    "Keany E. What makes “XGBoost” so Extreme? - Analytics Vidhya - Medium. Medium. https://medium.com/analytics-vidhya/what-makes-xgboost-so-extreme-e1544a4433bb. Published December 13, 2021. \n",
    "\n",
    "Brownlee J. A gentle introduction to the gradient boosting algorithm for machine learning. MachineLearningMastery.com. Published August 14, 2020. https://machinelearningmastery.com/gentle-introduction-gradient-boosting-algorithm-machine-learning \n",
    "\n",
    "Brownlee J. A gentle introduction to the gradient boosting algorithm for machine learning. MachineLearningMastery.com. Published August 14, 2020. https://machinelearningmastery.com/gentle-introduction-gradient-boosting-algorithm-machine-learning \n",
    "\n",
    "Zopluoglu C. Cengiz Zopluoglu: How does Extreme Gradient Boosting (XGBOOST) work? Cengiz Zopluoglu. Published January 15, 2019. https://cengiz.me/posts/extreme-gradient-boosting \n",
    "\n",
    "What is XGBoost? NVIDIA Data Science Glossary. https://www.nvidia.com/en-us/glossary/data-science/xgboost \n",
    "\n",
    "Medium. https://towardsdatascience.com/naive-bayes-classifier-81d512f50a7 \n",
    "\n",
    "What are Naive Bayes classifiers? | IBM. https://www.ibm.com/topics/naive-bayes#:~:text=the%20next%20step-,Na%C3%AFve%20Bayes%20classifiers,a%20given%20class%20or%20category \n",
    "\n",
    "Ar. Basics of Feature Selection with Python. Kaggle. Published October 31, 2020. https://www.kaggle.com/code/ar2017/basics-of-feature-selection-with-python \n",
    "\n",
    "Bbloggsbott. Feature selection - correlation and P-value. Kaggle. Published April 25, 2022. https://www.kaggle.com/code/bbloggsbott/feature-selection-correlation-and-p-value "
   ],
   "metadata": {
    "collapsed": false
   },
   "id": "35dbdade5972de67"
  }
 ],
 "metadata": {
  "kernelspec": {
   "display_name": "Python 3",
   "language": "python",
   "name": "python3"
  },
  "language_info": {
   "codemirror_mode": {
    "name": "ipython",
    "version": 2
   },
   "file_extension": ".py",
   "mimetype": "text/x-python",
   "name": "python",
   "nbconvert_exporter": "python",
   "pygments_lexer": "ipython2",
   "version": "2.7.6"
  }
 },
 "nbformat": 4,
 "nbformat_minor": 5
}
