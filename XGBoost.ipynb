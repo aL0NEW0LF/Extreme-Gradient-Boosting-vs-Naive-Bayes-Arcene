{
 "cells": [
  {
   "cell_type": "markdown",
   "source": [
    "# Importation de bibliothèques"
   ],
   "metadata": {
    "collapsed": false
   },
   "id": "77c8c426f8d2b099"
  },
  {
   "cell_type": "code",
   "execution_count": 42,
   "id": "initial_id",
   "metadata": {
    "collapsed": true,
    "ExecuteTime": {
     "end_time": "2023-12-11T14:56:21.570373200Z",
     "start_time": "2023-12-11T14:56:21.306750500Z"
    }
   },
   "outputs": [],
   "source": [
    "import os\n",
    "import pandas as pd\n",
    "import numpy as np\n",
    "from scipy import stats\n",
    "import matplotlib.pyplot as plt\n",
    "import seaborn as sns\n",
    "from sklearn import metrics\n",
    "import math\n",
    "import random\n",
    "from sklearn.feature_selection import SelectKBest, f_classif\n",
    "import xgboost as ExGB"
   ]
  },
  {
   "cell_type": "markdown",
   "source": [
    "# Chargement des données"
   ],
   "metadata": {
    "collapsed": false
   },
   "id": "3e0c5c1e6ea8afbe"
  },
  {
   "cell_type": "code",
   "execution_count": 43,
   "outputs": [],
   "source": [
    "arcene_train = pd.read_csv(\"./data/ARCENE/arcene_train.data\", sep=\" \", header=None).drop([10000], axis=1)\n",
    "arcene_train_labels = pd.read_csv(\"./data/ARCENE/arcene_train.labels\", sep=\" \", header=None)\n",
    "arcene_valid = pd.read_csv(\"./data/ARCENE/arcene_valid.data\", sep=\" \", header=None).drop([10000], axis=1)\n",
    "arcene_valid_labels = pd.read_csv(\"./data/arcene_valid.labels\", sep=\" \", header=None)\n",
    "arcene_test = pd.read_csv(\"./data/ARCENE/arcene_test.data\", sep=\" \", header=None).drop([10000], axis=1)"
   ],
   "metadata": {
    "collapsed": false,
    "ExecuteTime": {
     "end_time": "2023-12-11T14:56:24.941676700Z",
     "start_time": "2023-12-11T14:56:21.575006200Z"
    }
   },
   "id": "a710f172f52abb5a"
  },
  {
   "cell_type": "code",
   "execution_count": 44,
   "outputs": [],
   "source": [
    "# valid_column_means = arcene_valid.mean()\n",
    "# \n",
    "# train_column_means = arcene_train.mean()"
   ],
   "metadata": {
    "collapsed": false,
    "ExecuteTime": {
     "end_time": "2023-12-11T14:56:24.947846100Z",
     "start_time": "2023-12-11T14:56:24.944186100Z"
    }
   },
   "id": "e99f7fc8a3169d6b"
  },
  {
   "cell_type": "code",
   "execution_count": 45,
   "outputs": [],
   "source": [
    "# arcene_valid = arcene_valid.replace(0, valid_column_means)\n",
    "# arcene_train = arcene_train.replace(0, train_column_means)"
   ],
   "metadata": {
    "collapsed": false,
    "ExecuteTime": {
     "end_time": "2023-12-11T14:56:24.960831Z",
     "start_time": "2023-12-11T14:56:24.948358900Z"
    }
   },
   "id": "326f11a5b488aadc"
  },
  {
   "cell_type": "markdown",
   "source": [
    "# Remplacement des classes cibles de [-1, 1] à [False, True]"
   ],
   "metadata": {
    "collapsed": false
   },
   "id": "287efb4bafbd5220"
  },
  {
   "cell_type": "code",
   "execution_count": 46,
   "outputs": [
    {
     "data": {
      "text/plain": "        0\n0    True\n1   False\n2    True\n3    True\n4   False\n..    ...\n95  False\n96  False\n97   True\n98  False\n99   True\n\n[100 rows x 1 columns]",
      "text/html": "<div>\n<style scoped>\n    .dataframe tbody tr th:only-of-type {\n        vertical-align: middle;\n    }\n\n    .dataframe tbody tr th {\n        vertical-align: top;\n    }\n\n    .dataframe thead th {\n        text-align: right;\n    }\n</style>\n<table border=\"1\" class=\"dataframe\">\n  <thead>\n    <tr style=\"text-align: right;\">\n      <th></th>\n      <th>0</th>\n    </tr>\n  </thead>\n  <tbody>\n    <tr>\n      <th>0</th>\n      <td>True</td>\n    </tr>\n    <tr>\n      <th>1</th>\n      <td>False</td>\n    </tr>\n    <tr>\n      <th>2</th>\n      <td>True</td>\n    </tr>\n    <tr>\n      <th>3</th>\n      <td>True</td>\n    </tr>\n    <tr>\n      <th>4</th>\n      <td>False</td>\n    </tr>\n    <tr>\n      <th>...</th>\n      <td>...</td>\n    </tr>\n    <tr>\n      <th>95</th>\n      <td>False</td>\n    </tr>\n    <tr>\n      <th>96</th>\n      <td>False</td>\n    </tr>\n    <tr>\n      <th>97</th>\n      <td>True</td>\n    </tr>\n    <tr>\n      <th>98</th>\n      <td>False</td>\n    </tr>\n    <tr>\n      <th>99</th>\n      <td>True</td>\n    </tr>\n  </tbody>\n</table>\n<p>100 rows × 1 columns</p>\n</div>"
     },
     "execution_count": 46,
     "metadata": {},
     "output_type": "execute_result"
    }
   ],
   "source": [
    "arcene_valid_labels = arcene_valid_labels.replace({1: True, -1: False})\n",
    "\n",
    "arcene_train_labels = arcene_train_labels.replace({1: True, -1: False})\n",
    "\n",
    "arcene_train_labels"
   ],
   "metadata": {
    "collapsed": false,
    "ExecuteTime": {
     "end_time": "2023-12-11T14:56:25.001578600Z",
     "start_time": "2023-12-11T14:56:24.957775Z"
    }
   },
   "id": "96c28e89bb59536d"
  },
  {
   "cell_type": "code",
   "execution_count": 47,
   "outputs": [],
   "source": [
    "# arcene_train_concatinated = pd.concat([arcene_train, arcene_train_labels], axis=1, ignore_index=True)\n",
    "# \n",
    "# arcene_valid_concatinated = pd.concat([arcene_valid, arcene_valid_labels], axis=1, ignore_index=True)"
   ],
   "metadata": {
    "collapsed": false,
    "ExecuteTime": {
     "end_time": "2023-12-11T14:56:25.003122700Z",
     "start_time": "2023-12-11T14:56:24.975673400Z"
    }
   },
   "id": "422f0ff73c87ef34"
  },
  {
   "cell_type": "markdown",
   "source": [
    "# Vérifier si l'ensemble de données est équilibré"
   ],
   "metadata": {
    "collapsed": false
   },
   "id": "e8d9bbaff4116a6a"
  },
  {
   "cell_type": "code",
   "execution_count": 48,
   "outputs": [
    {
     "name": "stdout",
     "output_type": "stream",
     "text": [
      "       0  count\n",
      "0  False     56\n",
      "1   True     44\n"
     ]
    },
    {
     "data": {
      "text/plain": "<Axes: xlabel='0', ylabel='count'>"
     },
     "execution_count": 48,
     "metadata": {},
     "output_type": "execute_result"
    },
    {
     "data": {
      "text/plain": "<Figure size 640x480 with 1 Axes>",
      "image/png": "[encoded data removed]"
     },
     "metadata": {},
     "output_type": "display_data"
    }
   ],
   "source": [
    "xx = arcene_train_labels[0].value_counts().reset_index()\n",
    "print(xx)\n",
    "sns.barplot(x=0, y='count', data=xx)"
   ],
   "metadata": {
    "collapsed": false,
    "ExecuteTime": {
     "end_time": "2023-12-11T14:56:25.274251800Z",
     "start_time": "2023-12-11T14:56:24.981706900Z"
    }
   },
   "id": "91369f598f20e2e2"
  },
  {
   "cell_type": "markdown",
   "source": [
    "# Selection des features (caracteristiques)\n",
    "Due que nous avons 10000 features avec des features aleatoires pour perturber le dataset et les algorithms, nous allons selectionner les features les plus importantes pour notre dataset.\n",
    "\n",
    "Nous allons utiliser une methode pour selectionner les features les plus importants :\n",
    "- K-best features"
   ],
   "metadata": {
    "collapsed": false
   },
   "id": "6ba6f717ec509a0"
  },
  {
   "cell_type": "markdown",
   "source": [
    "Avant faire ceci, le dataset contient des colonnes avec des valeurs constantes, donc on doit les supprimer."
   ],
   "metadata": {
    "collapsed": false
   },
   "id": "8cca8bde7443d779"
  },
  {
   "cell_type": "markdown",
   "source": [
    "Cette methode est utilisee pour trouver les colonnes non constantes :"
   ],
   "metadata": {
    "collapsed": false
   },
   "id": "8062d8966c8ec4bb"
  },
  {
   "cell_type": "code",
   "execution_count": 49,
   "outputs": [],
   "source": [
    "def get_non_constant_columns(dataframe):\n",
    "    return [col for col in dataframe.columns if len(dataframe[col].unique()) > 1]\n",
    "\n",
    "keep_columns = get_non_constant_columns(arcene_train)"
   ],
   "metadata": {
    "collapsed": false,
    "ExecuteTime": {
     "end_time": "2023-12-11T14:56:26.563664400Z",
     "start_time": "2023-12-11T14:56:25.151035Z"
    }
   },
   "id": "5e1c9f98bef0d648"
  },
  {
   "cell_type": "markdown",
   "source": [
    "Pour qu'on apres les laisser dans le dataset."
   ],
   "metadata": {
    "collapsed": false
   },
   "id": "daf545ebe78c1873"
  },
  {
   "cell_type": "code",
   "execution_count": 50,
   "outputs": [],
   "source": [
    "arcene_train = arcene_train[keep_columns]\n",
    "\n",
    "arcene_valid = arcene_valid[keep_columns]\n",
    "\n",
    "arcene_test = arcene_test[keep_columns]"
   ],
   "metadata": {
    "collapsed": false,
    "ExecuteTime": {
     "end_time": "2023-12-11T14:56:26.606434900Z",
     "start_time": "2023-12-11T14:56:26.496758100Z"
    }
   },
   "id": "71b762c90e66b635"
  },
  {
   "cell_type": "markdown",
   "source": [
    "Maintenant on peut utiliser la methode K-best pour selectionner les 120 meilleures caracteristiques.\n",
    "\n",
    "On va utiliser la fonction f_classif pour calculer la corrélation entre chaque caractéristique et la variable cible."
   ],
   "metadata": {
    "collapsed": false
   },
   "id": "9705215e7713e711"
  },
  {
   "cell_type": "code",
   "execution_count": 51,
   "outputs": [
    {
     "name": "stderr",
     "output_type": "stream",
     "text": [
      "D:\\FST\\MST - AIDS\\S1\\ML\\PROJECTS\\DEVOIR2\\venv\\Lib\\site-packages\\sklearn\\utils\\validation.py:1183: DataConversionWarning: A column-vector y was passed when a 1d array was expected. Please change the shape of y to (n_samples, ), for example using ravel().\n",
      "  y = column_or_1d(y, warn=True)\n"
     ]
    },
    {
     "name": "stdout",
     "output_type": "stream",
     "text": [
      "Number of features before feature selection: 9920\n",
      "Number of features after feature selection: 120\n",
      "Features selected: [   4    9   65   85  108  289  306  370  381  408  429  459  461  479\n",
      "  530  686  770  789  846  860  901  970 1135 1171 1463 1707 1732 1734\n",
      " 1773 1835 1869 1959 2117 2207 2289 2618 2676 2792 2840 3232 3336 3341\n",
      " 3527 3573 3584 3660 3693 3787 3952 4036 4087 4149 4253 4481 4518 4587\n",
      " 4743 4833 4914 4927 4959 4994 5136 5423 5704 5756 5853 5989 6070 6148\n",
      " 6423 6443 6528 6625 6642 6707 6716 6869 6972 7032 7039 7101 7134 7156\n",
      " 7365 7406 7476 7562 7585 7589 7635 7651 7668 7682 7790 7846 7854 7909\n",
      " 7926 8080 8196 8275 8290 8297 8340 8390 8411 8431 8514 8712 8729 8733\n",
      " 8757 8951 9202 9506 9538 9571 9580 9664]\n"
     ]
    }
   ],
   "source": [
    "# Create a SelectKBest object\n",
    "skb = SelectKBest(score_func=f_classif, # Set f_classif as our criteria to select features\n",
    "                  k=120)                  # Select top two features based on the criteria\n",
    "\n",
    "# Train and transform the dataset according to the SelectKBest\n",
    "arcene_train_filtered = skb.fit_transform(arcene_train, arcene_train_labels)\n",
    "\n",
    "# Print the results\n",
    "print('Number of features before feature selection: {}'.format(arcene_train.shape[1]))\n",
    "print('Number of features after feature selection: {}'.format(arcene_train_filtered.shape[1]))\n",
    "print('Features selected: {}'.format(skb.get_support(indices=True)))"
   ],
   "metadata": {
    "collapsed": false,
    "ExecuteTime": {
     "end_time": "2023-12-11T14:56:26.950821800Z",
     "start_time": "2023-12-11T14:56:26.545684300Z"
    }
   },
   "id": "da00155ee820bc6b"
  },
  {
   "cell_type": "markdown",
   "source": [
    "# Concaténation des données d'apprentissage et des étiquettes"
   ],
   "metadata": {
    "collapsed": false
   },
   "id": "431c213507b83cb5"
  },
  {
   "cell_type": "code",
   "execution_count": 52,
   "outputs": [
    {
     "data": {
      "text/plain": "    0    1    2    3    4    5    6    7    8    9    ...  110  111  112  113  \\\n0     0    0    0    0    0  466    3    0    0    6  ...    0    0    0    5   \n1    60    0    9    0    0  395   92   85    0   83  ...   21    0   66   75   \n2     0    0    0    0    0  483   19    2    0   21  ...    0    0    0   20   \n3    14    0    0    0    0  439   56   42    0   55  ...    0    0   45   52   \n4     0    1    0   38    0  342   44   19    0   49  ...   12   28  111   48   \n..  ...  ...  ...  ...  ...  ...  ...  ...  ...  ...  ...  ...  ...  ...  ...   \n95    0  177  164    0  200    0  183  152  203  194  ...    3    0    7  198   \n96   71  163  159   43  136    0  190  171  136  195  ...   70   38   67  197   \n97    0    0    0   15    0  467    0    4    0    2  ...    0   25    0    3   \n98   69    3   19   14    0  420   12   26    0   10  ...   43   25   41    9   \n99    0  112  100    0  174    0  111   94  177  117  ...   24    0    7  120   \n\n    114  115  116  117  118  119  \n0   450    0    0    0    0    8  \n1   337   27   89   59   31   65  \n2   399    0    6    0    0    0  \n3   476    0   46   18    0   51  \n4   292    0   24    1    0  122  \n..  ...  ...  ...  ...  ...  ...  \n95   94    5  157  130    2   10  \n96   68   65  175  151   66   65  \n97  469    0    3    0    0    0  \n98  432   50   22   41   51   32  \n99  282    0   98   83    0    7  \n\n[100 rows x 120 columns]",
      "text/html": "<div>\n<style scoped>\n    .dataframe tbody tr th:only-of-type {\n        vertical-align: middle;\n    }\n\n    .dataframe tbody tr th {\n        vertical-align: top;\n    }\n\n    .dataframe thead th {\n        text-align: right;\n    }\n</style>\n<table border=\"1\" class=\"dataframe\">\n  <thead>\n    <tr style=\"text-align: right;\">\n      <th></th>\n      <th>0</th>\n      <th>1</th>\n      <th>2</th>\n      <th>3</th>\n      <th>4</th>\n      <th>5</th>\n      <th>6</th>\n      <th>7</th>\n      <th>8</th>\n      <th>9</th>\n      <th>...</th>\n      <th>110</th>\n      <th>111</th>\n      <th>112</th>\n      <th>113</th>\n      <th>114</th>\n      <th>115</th>\n      <th>116</th>\n      <th>117</th>\n      <th>118</th>\n      <th>119</th>\n    </tr>\n  </thead>\n  <tbody>\n    <tr>\n      <th>0</th>\n      <td>0</td>\n      <td>0</td>\n      <td>0</td>\n      <td>0</td>\n      <td>0</td>\n      <td>466</td>\n      <td>3</td>\n      <td>0</td>\n      <td>0</td>\n      <td>6</td>\n      <td>...</td>\n      <td>0</td>\n      <td>0</td>\n      <td>0</td>\n      <td>5</td>\n      <td>450</td>\n      <td>0</td>\n      <td>0</td>\n      <td>0</td>\n      <td>0</td>\n      <td>8</td>\n    </tr>\n    <tr>\n      <th>1</th>\n      <td>60</td>\n      <td>0</td>\n      <td>9</td>\n      <td>0</td>\n      <td>0</td>\n      <td>395</td>\n      <td>92</td>\n      <td>85</td>\n      <td>0</td>\n      <td>83</td>\n      <td>...</td>\n      <td>21</td>\n      <td>0</td>\n      <td>66</td>\n      <td>75</td>\n      <td>337</td>\n      <td>27</td>\n      <td>89</td>\n      <td>59</td>\n      <td>31</td>\n      <td>65</td>\n    </tr>\n    <tr>\n      <th>2</th>\n      <td>0</td>\n      <td>0</td>\n      <td>0</td>\n      <td>0</td>\n      <td>0</td>\n      <td>483</td>\n      <td>19</td>\n      <td>2</td>\n      <td>0</td>\n      <td>21</td>\n      <td>...</td>\n      <td>0</td>\n      <td>0</td>\n      <td>0</td>\n      <td>20</td>\n      <td>399</td>\n      <td>0</td>\n      <td>6</td>\n      <td>0</td>\n      <td>0</td>\n      <td>0</td>\n    </tr>\n    <tr>\n      <th>3</th>\n      <td>14</td>\n      <td>0</td>\n      <td>0</td>\n      <td>0</td>\n      <td>0</td>\n      <td>439</td>\n      <td>56</td>\n      <td>42</td>\n      <td>0</td>\n      <td>55</td>\n      <td>...</td>\n      <td>0</td>\n      <td>0</td>\n      <td>45</td>\n      <td>52</td>\n      <td>476</td>\n      <td>0</td>\n      <td>46</td>\n      <td>18</td>\n      <td>0</td>\n      <td>51</td>\n    </tr>\n    <tr>\n      <th>4</th>\n      <td>0</td>\n      <td>1</td>\n      <td>0</td>\n      <td>38</td>\n      <td>0</td>\n      <td>342</td>\n      <td>44</td>\n      <td>19</td>\n      <td>0</td>\n      <td>49</td>\n      <td>...</td>\n      <td>12</td>\n      <td>28</td>\n      <td>111</td>\n      <td>48</td>\n      <td>292</td>\n      <td>0</td>\n      <td>24</td>\n      <td>1</td>\n      <td>0</td>\n      <td>122</td>\n    </tr>\n    <tr>\n      <th>...</th>\n      <td>...</td>\n      <td>...</td>\n      <td>...</td>\n      <td>...</td>\n      <td>...</td>\n      <td>...</td>\n      <td>...</td>\n      <td>...</td>\n      <td>...</td>\n      <td>...</td>\n      <td>...</td>\n      <td>...</td>\n      <td>...</td>\n      <td>...</td>\n      <td>...</td>\n      <td>...</td>\n      <td>...</td>\n      <td>...</td>\n      <td>...</td>\n      <td>...</td>\n      <td>...</td>\n    </tr>\n    <tr>\n      <th>95</th>\n      <td>0</td>\n      <td>177</td>\n      <td>164</td>\n      <td>0</td>\n      <td>200</td>\n      <td>0</td>\n      <td>183</td>\n      <td>152</td>\n      <td>203</td>\n      <td>194</td>\n      <td>...</td>\n      <td>3</td>\n      <td>0</td>\n      <td>7</td>\n      <td>198</td>\n      <td>94</td>\n      <td>5</td>\n      <td>157</td>\n      <td>130</td>\n      <td>2</td>\n      <td>10</td>\n    </tr>\n    <tr>\n      <th>96</th>\n      <td>71</td>\n      <td>163</td>\n      <td>159</td>\n      <td>43</td>\n      <td>136</td>\n      <td>0</td>\n      <td>190</td>\n      <td>171</td>\n      <td>136</td>\n      <td>195</td>\n      <td>...</td>\n      <td>70</td>\n      <td>38</td>\n      <td>67</td>\n      <td>197</td>\n      <td>68</td>\n      <td>65</td>\n      <td>175</td>\n      <td>151</td>\n      <td>66</td>\n      <td>65</td>\n    </tr>\n    <tr>\n      <th>97</th>\n      <td>0</td>\n      <td>0</td>\n      <td>0</td>\n      <td>15</td>\n      <td>0</td>\n      <td>467</td>\n      <td>0</td>\n      <td>4</td>\n      <td>0</td>\n      <td>2</td>\n      <td>...</td>\n      <td>0</td>\n      <td>25</td>\n      <td>0</td>\n      <td>3</td>\n      <td>469</td>\n      <td>0</td>\n      <td>3</td>\n      <td>0</td>\n      <td>0</td>\n      <td>0</td>\n    </tr>\n    <tr>\n      <th>98</th>\n      <td>69</td>\n      <td>3</td>\n      <td>19</td>\n      <td>14</td>\n      <td>0</td>\n      <td>420</td>\n      <td>12</td>\n      <td>26</td>\n      <td>0</td>\n      <td>10</td>\n      <td>...</td>\n      <td>43</td>\n      <td>25</td>\n      <td>41</td>\n      <td>9</td>\n      <td>432</td>\n      <td>50</td>\n      <td>22</td>\n      <td>41</td>\n      <td>51</td>\n      <td>32</td>\n    </tr>\n    <tr>\n      <th>99</th>\n      <td>0</td>\n      <td>112</td>\n      <td>100</td>\n      <td>0</td>\n      <td>174</td>\n      <td>0</td>\n      <td>111</td>\n      <td>94</td>\n      <td>177</td>\n      <td>117</td>\n      <td>...</td>\n      <td>24</td>\n      <td>0</td>\n      <td>7</td>\n      <td>120</td>\n      <td>282</td>\n      <td>0</td>\n      <td>98</td>\n      <td>83</td>\n      <td>0</td>\n      <td>7</td>\n    </tr>\n  </tbody>\n</table>\n<p>100 rows × 120 columns</p>\n</div>"
     },
     "execution_count": 52,
     "metadata": {},
     "output_type": "execute_result"
    }
   ],
   "source": [
    "arcene_train_filtered = pd.DataFrame(arcene_train_filtered)\n",
    "\n",
    "arcene_train_filtered"
   ],
   "metadata": {
    "collapsed": false,
    "ExecuteTime": {
     "end_time": "2023-12-11T14:56:27.110904800Z",
     "start_time": "2023-12-11T14:56:26.941485700Z"
    }
   },
   "id": "c5c1709445889d8c"
  },
  {
   "cell_type": "code",
   "execution_count": 53,
   "outputs": [
    {
     "data": {
      "text/plain": "    0    1    2    3    4    5    6    7    8    9    ...  110  111  112  113  \\\n0     2    0    0    1    0  410   21   40    0   14  ...    0    9    7   11   \n1     0  222  202    0  145    0  195  160  151  213  ...    0    0   17  222   \n2    53  147  133   39  143    0  137  106  142  145  ...   52   34   61  148   \n3     0    0    4    0    0  437   15   24    0   11  ...    0    0   42    9   \n4     2    0    0    0    0  470   21   24    0   16  ...    0    0    3   13   \n..  ...  ...  ...  ...  ...  ...  ...  ...  ...  ...  ...  ...  ...  ...  ...   \n95   92  261  254   86  297    0  274  254  298  282  ...  104   77  102  287   \n96  109  134  121   69  148  145  193  170  150  203  ...   80   68   91  206   \n97    0    0    0   15    0  263   17    0    0   20  ...    3    5   87   19   \n98    0    4    9    0    9  388   83   75    8   80  ...    0    0    0   78   \n99    0    0    1   46    0  277   55   25    0   55  ...   19   39  143   53   \n\n    114  115  116  117  118  119  \n0   392    0   38   41    0    0  \n1   169    4  164  147    3   12  \n2    31   61  113   73   59   58  \n3   453    0   23   10    0   27  \n4   431    0   25   13    0    0  \n..  ...  ...  ...  ...  ...  ...  \n95  101   88  257  230   86   97  \n96  130  101  173  153  101   89  \n97  308    0    1    0    0   95  \n98  323    0   79   50    0    0  \n99  366    0   33    0    0  155  \n\n[100 rows x 120 columns]",
      "text/html": "<div>\n<style scoped>\n    .dataframe tbody tr th:only-of-type {\n        vertical-align: middle;\n    }\n\n    .dataframe tbody tr th {\n        vertical-align: top;\n    }\n\n    .dataframe thead th {\n        text-align: right;\n    }\n</style>\n<table border=\"1\" class=\"dataframe\">\n  <thead>\n    <tr style=\"text-align: right;\">\n      <th></th>\n      <th>0</th>\n      <th>1</th>\n      <th>2</th>\n      <th>3</th>\n      <th>4</th>\n      <th>5</th>\n      <th>6</th>\n      <th>7</th>\n      <th>8</th>\n      <th>9</th>\n      <th>...</th>\n      <th>110</th>\n      <th>111</th>\n      <th>112</th>\n      <th>113</th>\n      <th>114</th>\n      <th>115</th>\n      <th>116</th>\n      <th>117</th>\n      <th>118</th>\n      <th>119</th>\n    </tr>\n  </thead>\n  <tbody>\n    <tr>\n      <th>0</th>\n      <td>2</td>\n      <td>0</td>\n      <td>0</td>\n      <td>1</td>\n      <td>0</td>\n      <td>410</td>\n      <td>21</td>\n      <td>40</td>\n      <td>0</td>\n      <td>14</td>\n      <td>...</td>\n      <td>0</td>\n      <td>9</td>\n      <td>7</td>\n      <td>11</td>\n      <td>392</td>\n      <td>0</td>\n      <td>38</td>\n      <td>41</td>\n      <td>0</td>\n      <td>0</td>\n    </tr>\n    <tr>\n      <th>1</th>\n      <td>0</td>\n      <td>222</td>\n      <td>202</td>\n      <td>0</td>\n      <td>145</td>\n      <td>0</td>\n      <td>195</td>\n      <td>160</td>\n      <td>151</td>\n      <td>213</td>\n      <td>...</td>\n      <td>0</td>\n      <td>0</td>\n      <td>17</td>\n      <td>222</td>\n      <td>169</td>\n      <td>4</td>\n      <td>164</td>\n      <td>147</td>\n      <td>3</td>\n      <td>12</td>\n    </tr>\n    <tr>\n      <th>2</th>\n      <td>53</td>\n      <td>147</td>\n      <td>133</td>\n      <td>39</td>\n      <td>143</td>\n      <td>0</td>\n      <td>137</td>\n      <td>106</td>\n      <td>142</td>\n      <td>145</td>\n      <td>...</td>\n      <td>52</td>\n      <td>34</td>\n      <td>61</td>\n      <td>148</td>\n      <td>31</td>\n      <td>61</td>\n      <td>113</td>\n      <td>73</td>\n      <td>59</td>\n      <td>58</td>\n    </tr>\n    <tr>\n      <th>3</th>\n      <td>0</td>\n      <td>0</td>\n      <td>4</td>\n      <td>0</td>\n      <td>0</td>\n      <td>437</td>\n      <td>15</td>\n      <td>24</td>\n      <td>0</td>\n      <td>11</td>\n      <td>...</td>\n      <td>0</td>\n      <td>0</td>\n      <td>42</td>\n      <td>9</td>\n      <td>453</td>\n      <td>0</td>\n      <td>23</td>\n      <td>10</td>\n      <td>0</td>\n      <td>27</td>\n    </tr>\n    <tr>\n      <th>4</th>\n      <td>2</td>\n      <td>0</td>\n      <td>0</td>\n      <td>0</td>\n      <td>0</td>\n      <td>470</td>\n      <td>21</td>\n      <td>24</td>\n      <td>0</td>\n      <td>16</td>\n      <td>...</td>\n      <td>0</td>\n      <td>0</td>\n      <td>3</td>\n      <td>13</td>\n      <td>431</td>\n      <td>0</td>\n      <td>25</td>\n      <td>13</td>\n      <td>0</td>\n      <td>0</td>\n    </tr>\n    <tr>\n      <th>...</th>\n      <td>...</td>\n      <td>...</td>\n      <td>...</td>\n      <td>...</td>\n      <td>...</td>\n      <td>...</td>\n      <td>...</td>\n      <td>...</td>\n      <td>...</td>\n      <td>...</td>\n      <td>...</td>\n      <td>...</td>\n      <td>...</td>\n      <td>...</td>\n      <td>...</td>\n      <td>...</td>\n      <td>...</td>\n      <td>...</td>\n      <td>...</td>\n      <td>...</td>\n      <td>...</td>\n    </tr>\n    <tr>\n      <th>95</th>\n      <td>92</td>\n      <td>261</td>\n      <td>254</td>\n      <td>86</td>\n      <td>297</td>\n      <td>0</td>\n      <td>274</td>\n      <td>254</td>\n      <td>298</td>\n      <td>282</td>\n      <td>...</td>\n      <td>104</td>\n      <td>77</td>\n      <td>102</td>\n      <td>287</td>\n      <td>101</td>\n      <td>88</td>\n      <td>257</td>\n      <td>230</td>\n      <td>86</td>\n      <td>97</td>\n    </tr>\n    <tr>\n      <th>96</th>\n      <td>109</td>\n      <td>134</td>\n      <td>121</td>\n      <td>69</td>\n      <td>148</td>\n      <td>145</td>\n      <td>193</td>\n      <td>170</td>\n      <td>150</td>\n      <td>203</td>\n      <td>...</td>\n      <td>80</td>\n      <td>68</td>\n      <td>91</td>\n      <td>206</td>\n      <td>130</td>\n      <td>101</td>\n      <td>173</td>\n      <td>153</td>\n      <td>101</td>\n      <td>89</td>\n    </tr>\n    <tr>\n      <th>97</th>\n      <td>0</td>\n      <td>0</td>\n      <td>0</td>\n      <td>15</td>\n      <td>0</td>\n      <td>263</td>\n      <td>17</td>\n      <td>0</td>\n      <td>0</td>\n      <td>20</td>\n      <td>...</td>\n      <td>3</td>\n      <td>5</td>\n      <td>87</td>\n      <td>19</td>\n      <td>308</td>\n      <td>0</td>\n      <td>1</td>\n      <td>0</td>\n      <td>0</td>\n      <td>95</td>\n    </tr>\n    <tr>\n      <th>98</th>\n      <td>0</td>\n      <td>4</td>\n      <td>9</td>\n      <td>0</td>\n      <td>9</td>\n      <td>388</td>\n      <td>83</td>\n      <td>75</td>\n      <td>8</td>\n      <td>80</td>\n      <td>...</td>\n      <td>0</td>\n      <td>0</td>\n      <td>0</td>\n      <td>78</td>\n      <td>323</td>\n      <td>0</td>\n      <td>79</td>\n      <td>50</td>\n      <td>0</td>\n      <td>0</td>\n    </tr>\n    <tr>\n      <th>99</th>\n      <td>0</td>\n      <td>0</td>\n      <td>1</td>\n      <td>46</td>\n      <td>0</td>\n      <td>277</td>\n      <td>55</td>\n      <td>25</td>\n      <td>0</td>\n      <td>55</td>\n      <td>...</td>\n      <td>19</td>\n      <td>39</td>\n      <td>143</td>\n      <td>53</td>\n      <td>366</td>\n      <td>0</td>\n      <td>33</td>\n      <td>0</td>\n      <td>0</td>\n      <td>155</td>\n    </tr>\n  </tbody>\n</table>\n<p>100 rows × 120 columns</p>\n</div>"
     },
     "execution_count": 53,
     "metadata": {},
     "output_type": "execute_result"
    }
   ],
   "source": [
    "arcene_valid_filtered = skb.transform(arcene_valid)\n",
    "\n",
    "arcene_valid_filtered = pd.DataFrame(arcene_valid_filtered)\n",
    "\n",
    "arcene_valid_filtered"
   ],
   "metadata": {
    "collapsed": false,
    "ExecuteTime": {
     "end_time": "2023-12-11T14:56:27.244282800Z",
     "start_time": "2023-12-11T14:56:27.103667600Z"
    }
   },
   "id": "310d31866bb66f92"
  },
  {
   "cell_type": "code",
   "execution_count": 54,
   "outputs": [
    {
     "data": {
      "text/plain": "     0    1    2    3    4    5    6    7    8    9    ...  110  111  112  \\\n0      0   16   15   16    7  203   56   38    7   51  ...    9   15   92   \n1     69  141  139   66  129    0  140  131  130  145  ...   71   63   86   \n2      0  180  160    4  263  241  216  183  276  233  ...    0    5   10   \n3      0    0    0    0    0  500   69   72    0   56  ...    0    0    7   \n4     84  112  101   78  135  156  133  117  139  143  ...   59   74   86   \n..   ...  ...  ...  ...  ...  ...  ...  ...  ...  ...  ...  ...  ...  ...   \n695   55  144  133    0  174    0  136  115  175  143  ...    0    0   10   \n696   30  127  121   46  137   57  119  101  138  128  ...   38   45   54   \n697   18  214  190   44  218    0  206  166  222  220  ...   62   41   73   \n698   38   30   34   28   57  477   27   19   69   33  ...    8   35   57   \n699   18  215  193   64  243    0  182  140  247  197  ...   79   60   84   \n\n     113  114  115  116  117  118  119  \n0     47  332    0   45    5    0   99  \n1    149  208   80  133  123   81   82  \n2    242  147    0  187  152    0    1  \n3     47  406    0   75   44    0    4  \n4    149  140   87  119   99   86   87  \n..   ...  ...  ...  ...  ...  ...  ...  \n695  146  149   53  119   95   52    4  \n696  133   90   44  104   80   43   51  \n697  227   56   65  174  127   65   69  \n698   37  383   20   21    1   21   46  \n699  204   96   30  147  106   30   85  \n\n[700 rows x 120 columns]",
      "text/html": "<div>\n<style scoped>\n    .dataframe tbody tr th:only-of-type {\n        vertical-align: middle;\n    }\n\n    .dataframe tbody tr th {\n        vertical-align: top;\n    }\n\n    .dataframe thead th {\n        text-align: right;\n    }\n</style>\n<table border=\"1\" class=\"dataframe\">\n  <thead>\n    <tr style=\"text-align: right;\">\n      <th></th>\n      <th>0</th>\n      <th>1</th>\n      <th>2</th>\n      <th>3</th>\n      <th>4</th>\n      <th>5</th>\n      <th>6</th>\n      <th>7</th>\n      <th>8</th>\n      <th>9</th>\n      <th>...</th>\n      <th>110</th>\n      <th>111</th>\n      <th>112</th>\n      <th>113</th>\n      <th>114</th>\n      <th>115</th>\n      <th>116</th>\n      <th>117</th>\n      <th>118</th>\n      <th>119</th>\n    </tr>\n  </thead>\n  <tbody>\n    <tr>\n      <th>0</th>\n      <td>0</td>\n      <td>16</td>\n      <td>15</td>\n      <td>16</td>\n      <td>7</td>\n      <td>203</td>\n      <td>56</td>\n      <td>38</td>\n      <td>7</td>\n      <td>51</td>\n      <td>...</td>\n      <td>9</td>\n      <td>15</td>\n      <td>92</td>\n      <td>47</td>\n      <td>332</td>\n      <td>0</td>\n      <td>45</td>\n      <td>5</td>\n      <td>0</td>\n      <td>99</td>\n    </tr>\n    <tr>\n      <th>1</th>\n      <td>69</td>\n      <td>141</td>\n      <td>139</td>\n      <td>66</td>\n      <td>129</td>\n      <td>0</td>\n      <td>140</td>\n      <td>131</td>\n      <td>130</td>\n      <td>145</td>\n      <td>...</td>\n      <td>71</td>\n      <td>63</td>\n      <td>86</td>\n      <td>149</td>\n      <td>208</td>\n      <td>80</td>\n      <td>133</td>\n      <td>123</td>\n      <td>81</td>\n      <td>82</td>\n    </tr>\n    <tr>\n      <th>2</th>\n      <td>0</td>\n      <td>180</td>\n      <td>160</td>\n      <td>4</td>\n      <td>263</td>\n      <td>241</td>\n      <td>216</td>\n      <td>183</td>\n      <td>276</td>\n      <td>233</td>\n      <td>...</td>\n      <td>0</td>\n      <td>5</td>\n      <td>10</td>\n      <td>242</td>\n      <td>147</td>\n      <td>0</td>\n      <td>187</td>\n      <td>152</td>\n      <td>0</td>\n      <td>1</td>\n    </tr>\n    <tr>\n      <th>3</th>\n      <td>0</td>\n      <td>0</td>\n      <td>0</td>\n      <td>0</td>\n      <td>0</td>\n      <td>500</td>\n      <td>69</td>\n      <td>72</td>\n      <td>0</td>\n      <td>56</td>\n      <td>...</td>\n      <td>0</td>\n      <td>0</td>\n      <td>7</td>\n      <td>47</td>\n      <td>406</td>\n      <td>0</td>\n      <td>75</td>\n      <td>44</td>\n      <td>0</td>\n      <td>4</td>\n    </tr>\n    <tr>\n      <th>4</th>\n      <td>84</td>\n      <td>112</td>\n      <td>101</td>\n      <td>78</td>\n      <td>135</td>\n      <td>156</td>\n      <td>133</td>\n      <td>117</td>\n      <td>139</td>\n      <td>143</td>\n      <td>...</td>\n      <td>59</td>\n      <td>74</td>\n      <td>86</td>\n      <td>149</td>\n      <td>140</td>\n      <td>87</td>\n      <td>119</td>\n      <td>99</td>\n      <td>86</td>\n      <td>87</td>\n    </tr>\n    <tr>\n      <th>...</th>\n      <td>...</td>\n      <td>...</td>\n      <td>...</td>\n      <td>...</td>\n      <td>...</td>\n      <td>...</td>\n      <td>...</td>\n      <td>...</td>\n      <td>...</td>\n      <td>...</td>\n      <td>...</td>\n      <td>...</td>\n      <td>...</td>\n      <td>...</td>\n      <td>...</td>\n      <td>...</td>\n      <td>...</td>\n      <td>...</td>\n      <td>...</td>\n      <td>...</td>\n      <td>...</td>\n    </tr>\n    <tr>\n      <th>695</th>\n      <td>55</td>\n      <td>144</td>\n      <td>133</td>\n      <td>0</td>\n      <td>174</td>\n      <td>0</td>\n      <td>136</td>\n      <td>115</td>\n      <td>175</td>\n      <td>143</td>\n      <td>...</td>\n      <td>0</td>\n      <td>0</td>\n      <td>10</td>\n      <td>146</td>\n      <td>149</td>\n      <td>53</td>\n      <td>119</td>\n      <td>95</td>\n      <td>52</td>\n      <td>4</td>\n    </tr>\n    <tr>\n      <th>696</th>\n      <td>30</td>\n      <td>127</td>\n      <td>121</td>\n      <td>46</td>\n      <td>137</td>\n      <td>57</td>\n      <td>119</td>\n      <td>101</td>\n      <td>138</td>\n      <td>128</td>\n      <td>...</td>\n      <td>38</td>\n      <td>45</td>\n      <td>54</td>\n      <td>133</td>\n      <td>90</td>\n      <td>44</td>\n      <td>104</td>\n      <td>80</td>\n      <td>43</td>\n      <td>51</td>\n    </tr>\n    <tr>\n      <th>697</th>\n      <td>18</td>\n      <td>214</td>\n      <td>190</td>\n      <td>44</td>\n      <td>218</td>\n      <td>0</td>\n      <td>206</td>\n      <td>166</td>\n      <td>222</td>\n      <td>220</td>\n      <td>...</td>\n      <td>62</td>\n      <td>41</td>\n      <td>73</td>\n      <td>227</td>\n      <td>56</td>\n      <td>65</td>\n      <td>174</td>\n      <td>127</td>\n      <td>65</td>\n      <td>69</td>\n    </tr>\n    <tr>\n      <th>698</th>\n      <td>38</td>\n      <td>30</td>\n      <td>34</td>\n      <td>28</td>\n      <td>57</td>\n      <td>477</td>\n      <td>27</td>\n      <td>19</td>\n      <td>69</td>\n      <td>33</td>\n      <td>...</td>\n      <td>8</td>\n      <td>35</td>\n      <td>57</td>\n      <td>37</td>\n      <td>383</td>\n      <td>20</td>\n      <td>21</td>\n      <td>1</td>\n      <td>21</td>\n      <td>46</td>\n    </tr>\n    <tr>\n      <th>699</th>\n      <td>18</td>\n      <td>215</td>\n      <td>193</td>\n      <td>64</td>\n      <td>243</td>\n      <td>0</td>\n      <td>182</td>\n      <td>140</td>\n      <td>247</td>\n      <td>197</td>\n      <td>...</td>\n      <td>79</td>\n      <td>60</td>\n      <td>84</td>\n      <td>204</td>\n      <td>96</td>\n      <td>30</td>\n      <td>147</td>\n      <td>106</td>\n      <td>30</td>\n      <td>85</td>\n    </tr>\n  </tbody>\n</table>\n<p>700 rows × 120 columns</p>\n</div>"
     },
     "execution_count": 54,
     "metadata": {},
     "output_type": "execute_result"
    }
   ],
   "source": [
    "arcene_test_filtered = skb.transform(arcene_test)\n",
    "\n",
    "arcene_test_filtered = pd.DataFrame(arcene_test_filtered)\n",
    "\n",
    "arcene_test_filtered"
   ],
   "metadata": {
    "collapsed": false,
    "ExecuteTime": {
     "end_time": "2023-12-11T14:56:27.517906300Z",
     "start_time": "2023-12-11T14:56:27.189182200Z"
    }
   },
   "id": "d9bf316261eee62"
  },
  {
   "cell_type": "markdown",
   "source": [
    "# Implementation de l'algorithme Extreme Gradient Boosting (XGBoost):"
   ],
   "metadata": {
    "collapsed": false
   },
   "id": "fba1c6128ac4e59"
  },
  {
   "cell_type": "code",
   "execution_count": 55,
   "outputs": [],
   "source": [
    "class Node:\n",
    "\n",
    "    '''\n",
    "    A node object that is recursivly called within itslef to construct a regression tree. Based on Tianqi Chen's XGBoost \n",
    "    the internal gain used to find the optimal split value uses both the gradient and hessian. Also a weighted quantlie sketch \n",
    "    and optimal leaf values all follow Chen's description in \"XGBoost: A Scalable Tree Boosting System\" the only thing not \n",
    "    implemented in this version is sparsity aware fitting or the ability to handle NA values with a default direction.\n",
    "    Inputs\n",
    "    ------------------------------------------------------------------------------------------------------------------\n",
    "    x: pandas datframe of the training data\n",
    "    gradient: negative gradient of the loss function\n",
    "    hessian: second order derivative of the loss function\n",
    "    idxs: used to keep track of samples within the tree structure\n",
    "    subsample_cols: is an implementation of layerwise column subsample randomizing the structure of the trees\n",
    "    (complexity parameter)\n",
    "    min_leaf: minimum number of samples for a node to be considered a node (complexity parameter)\n",
    "    min_child_weight: sum of the heassian inside a node is a meaure of purity (complexity parameter)\n",
    "    depth: limits the number of layers in the tree\n",
    "    lambda: L2 regularization term on weights. Increasing this value will make model more conservative.\n",
    "    gamma: This parameter also prevents over fitting and is present in the the calculation of the gain (structure score). \n",
    "    As this is subtracted from the gain it essentially sets a minimum gain amount to make a split in a node.\n",
    "    eps: This parameter is used in the quantile weighted skecth or 'approx' tree method roughly translates to \n",
    "    (1 / sketch_eps) number of bins\n",
    "    Outputs\n",
    "    --------------------------------------------------------------------------------------------------------------------\n",
    "    A single tree object that will be used for gradient boosintg.\n",
    "    '''\n",
    "\n",
    "    def __init__(self, x, gradient, hessian, idxs, subsample_cols = 0.8 , min_leaf = 5, min_child_weight = 1 ,depth = 10, lambda_ = 1, gamma = 1, eps = 0.1):\n",
    "\n",
    "        self.x, self.gradient, self.hessian = x, gradient, hessian\n",
    "        self.idxs = idxs \n",
    "        self.depth = depth\n",
    "        self.min_leaf = min_leaf\n",
    "        self.lambda_ = lambda_\n",
    "        self.gamma  = gamma\n",
    "        self.min_child_weight = min_child_weight\n",
    "        self.row_count = len(idxs)\n",
    "        self.col_count = x.shape[1]\n",
    "        self.subsample_cols = subsample_cols\n",
    "        self.eps = eps\n",
    "        self.column_subsample = np.random.permutation(self.col_count)[:round(self.subsample_cols*self.col_count)]\n",
    "\n",
    "        self.val = self.compute_gamma(self.gradient[self.idxs], self.hessian[self.idxs])\n",
    "\n",
    "        self.score = float('-inf')\n",
    "        self.find_varsplit()\n",
    "\n",
    "\n",
    "    def compute_gamma(self, gradient, hessian):\n",
    "        '''\n",
    "        Calculates the optimal leaf value equation (5) in \"XGBoost: A Scalable Tree Boosting System\"\n",
    "        '''\n",
    "        return(-np.sum(gradient)/(np.sum(hessian) + self.lambda_))\n",
    "\n",
    "    def find_varsplit(self):\n",
    "        '''\n",
    "        Scans through every column and calcuates the best split point.\n",
    "        The node is then split at this point and two new nodes are created.\n",
    "        Depth is only parameter to change as we have added a new layer to tre structure.\n",
    "        If no split is better than the score initalised at the begining then no splits further splits are made\n",
    "        '''\n",
    "        for c in self.column_subsample: self.find_greedy_split(c)\n",
    "        if self.is_leaf: return\n",
    "        x = self.split_col\n",
    "        lhs = np.nonzero(x <= self.split)[0]\n",
    "        rhs = np.nonzero(x > self.split)[0]\n",
    "        self.lhs = Node(x = self.x, gradient = self.gradient, hessian = self.hessian, idxs = self.idxs[lhs], min_leaf = self.min_leaf, depth = self.depth-1, lambda_ = self.lambda_ , gamma = self.gamma, min_child_weight = self.min_child_weight, eps = self.eps, subsample_cols = self.subsample_cols)\n",
    "        self.rhs = Node(x = self.x, gradient = self.gradient, hessian = self.hessian, idxs = self.idxs[rhs], min_leaf = self.min_leaf, depth = self.depth-1, lambda_ = self.lambda_ , gamma = self.gamma, min_child_weight = self.min_child_weight, eps = self.eps, subsample_cols = self.subsample_cols)\n",
    "\n",
    "    def find_greedy_split(self, var_idx):\n",
    "        '''\n",
    "         For a given feature greedily calculates the gain at each split.\n",
    "         Globally updates the best score and split point if a better split point is found\n",
    "        '''\n",
    "        x = self.x.values[self.idxs, var_idx]\n",
    "\n",
    "        for r in range(self.row_count):\n",
    "            lhs = x <= x[r]\n",
    "            rhs = x > x[r]\n",
    "\n",
    "            lhs_indices = np.nonzero(x <= x[r])[0]\n",
    "            rhs_indices = np.nonzero(x > x[r])[0]\n",
    "            if(rhs.sum() < self.min_leaf or lhs.sum() < self.min_leaf \n",
    "               or self.hessian[lhs_indices].sum() < self.min_child_weight\n",
    "               or self.hessian[rhs_indices].sum() < self.min_child_weight): continue\n",
    "\n",
    "            curr_score = self.gain(lhs, rhs)\n",
    "            if curr_score > self.score: \n",
    "                self.var_idx = var_idx\n",
    "                self.score = curr_score\n",
    "                self.split = x[r]\n",
    "\n",
    "    def weighted_qauntile_sketch(self, var_idx):\n",
    "        '''\n",
    "        XGBOOST Mini-Version\n",
    "        Yiyang \"Joe\" Zeng\n",
    "        Is an approximation to the eact greedy approach faster for bigger datasets wher it is not feasible\n",
    "        to calculate the gain at every split point. Uses equation (8) and (9) from \"XGBoost: A Scalable Tree Boosting System\"\n",
    "        '''\n",
    "        x = self.x.values[self.idxs, var_idx]\n",
    "        hessian_ = self.hessian[self.idxs]\n",
    "        df = pd.DataFrame({'feature':x,'hess':hessian_})\n",
    "\n",
    "        df.sort_values(by=['feature'], ascending = True, inplace = True)\n",
    "        hess_sum = df['hess'].sum() \n",
    "        df['rank'] = df.apply(lambda x : (1/hess_sum)*sum(df[df['feature'] < x['feature']]['hess']), axis=1)\n",
    "\n",
    "        for row in range(df.shape[0]-1):\n",
    "            # look at the current rank and the next ran\n",
    "            rk_sk_j, rk_sk_j_1 = df['rank'].iloc[row:row+2]\n",
    "            diff = abs(rk_sk_j - rk_sk_j_1)\n",
    "            if(diff >= self.eps):\n",
    "                continue\n",
    "\n",
    "            split_value = (df['rank'].iloc[row+1] + df['rank'].iloc[row])/2\n",
    "            lhs = x <= split_value\n",
    "            rhs = x > split_value\n",
    "\n",
    "            lhs_indices = np.nonzero(x <= split_value)[0]\n",
    "            rhs_indices = np.nonzero(x > split_value)[0]\n",
    "            if(rhs.sum() < self.min_leaf or lhs.sum() < self.min_leaf \n",
    "               or self.hessian[lhs_indices].sum() < self.min_child_weight\n",
    "               or self.hessian[rhs_indices].sum() < self.min_child_weight): continue\n",
    "\n",
    "            curr_score = self.gain(lhs, rhs)\n",
    "            if curr_score > self.score: \n",
    "                self.var_idx = var_idx\n",
    "                self.score = curr_score\n",
    "                self.split = split_value\n",
    "\n",
    "    def gain(self, lhs, rhs):\n",
    "        '''\n",
    "        Calculates the gain at a particular split point bases on equation (7) from\n",
    "        \"XGBoost: A Scalable Tree Boosting System\"\n",
    "        '''\n",
    "        gradient = self.gradient[self.idxs]\n",
    "        hessian  = self.hessian[self.idxs]\n",
    "\n",
    "        lhs_gradient = gradient[lhs].sum()\n",
    "        lhs_hessian  = hessian[lhs].sum()\n",
    "\n",
    "        rhs_gradient = gradient[rhs].sum()\n",
    "        rhs_hessian  = hessian[rhs].sum()\n",
    "\n",
    "        gain = 0.5 *( (lhs_gradient**2/(lhs_hessian + self.lambda_)) + (rhs_gradient**2/(rhs_hessian + self.lambda_)) - ((lhs_gradient + rhs_gradient)**2/(lhs_hessian + rhs_hessian + self.lambda_))) - self.gamma\n",
    "        return(gain)\n",
    "\n",
    "    @property\n",
    "    def split_col(self):\n",
    "        '''\n",
    "        splits a column \n",
    "        '''\n",
    "        return self.x.values[self.idxs , self.var_idx]\n",
    "\n",
    "    @property\n",
    "    def is_leaf(self):\n",
    "        '''\n",
    "        checks if node is a leaf\n",
    "        '''\n",
    "        return self.score == float('-inf') or self.depth <= 0                 \n",
    "\n",
    "    def predict(self, x):\n",
    "        return np.array([self.predict_row(xi) for xi in x])\n",
    "\n",
    "    def predict_row(self, xi):\n",
    "        if self.is_leaf:\n",
    "            return(self.val)\n",
    "\n",
    "        node = self.lhs if xi[self.var_idx] <= self.split else self.rhs\n",
    "        return node.predict_row(xi)\n",
    "\n",
    "\n",
    "class XGBoostTree:\n",
    "    '''\n",
    "    Wrapper class that provides a scikit learn interface to the recursive regression tree above\n",
    "\n",
    "    Inputs\n",
    "    ------------------------------------------------------------------------------------------------------------------\n",
    "    x: pandas datframe of the training data\n",
    "    gradient: negative gradient of the loss function\n",
    "    hessian: second order derivative of the loss function\n",
    "    idxs: used to keep track of samples within the tree structure\n",
    "    subsample_cols: is an implementation of layerwise column subsample randomizing the structure of the trees\n",
    "    (complexity parameter)\n",
    "    min_leaf: minimum number of samples for a node to be considered a node (complexity parameter)\n",
    "    min_child_weight: sum of the heassian inside a node is a meaure of purity (complexity parameter)\n",
    "    depth: limits the number of layers in the tree\n",
    "    lambda: L2 regularization term on weights. Increasing this value will make model more conservative.\n",
    "    gamma: This parameter also prevents over fitting and is present in the the calculation of the gain (structure score). \n",
    "    As this is subtracted from the gain it essentially sets a minimum gain amount to make a split in a node.\n",
    "    eps: This parameter is used in the quantile weighted skecth or 'approx' tree method roughly translates to \n",
    "    (1 / sketch_eps) number of bins\n",
    "\n",
    "    Outputs\n",
    "    --------------------------------------------------------------------------------------------------------------------\n",
    "    A single tree object that will be used for gradient boosintg.\n",
    "\n",
    "    '''\n",
    "    def fit(self, x, gradient, hessian, subsample_cols = 0.8 , min_leaf = 5, min_child_weight = 1 ,depth = 10, lambda_ = 1, gamma = 1, eps = 0.1):\n",
    "        self.dtree = Node(x, gradient, hessian, np.array(np.arange(len(x))), subsample_cols, min_leaf, min_child_weight, depth, lambda_, gamma, eps)\n",
    "        return self\n",
    "\n",
    "    def predict(self, X):\n",
    "        return self.dtree.predict(X.values)\n",
    "\n",
    "\n",
    "class XGBoostClassifier:\n",
    "    '''\n",
    "    Full application of the XGBoost algorithm as described in \"XGBoost: A Scalable Tree Boosting System\" for \n",
    "    Binary Classification.\n",
    "    Inputs\n",
    "    ------------------------------------------------------------------------------------------------------------------\n",
    "    x: pandas datframe of the training data\n",
    "    gradient: negative gradient of the loss function\n",
    "    hessian: second order derivative of the loss function\n",
    "    idxs: used to keep track of samples within the tree structure\n",
    "    subsample_cols: is an implementation of layerwise column subsample randomizing the structure of the trees\n",
    "    (complexity parameter)\n",
    "    min_leaf: minimum number of samples for a node to be considered a node (complexity parameter)\n",
    "    min_child_weight: sum of the heassian inside a node is a meaure of purity (complexity parameter)\n",
    "    depth: limits the number of layers in the tree\n",
    "    lambda: L2 regularization term on weights. Increasing this value will make model more conservative.\n",
    "    gamma: This parameter also prevents over fitting and is present in the the calculation of the gain (structure score). \n",
    "    As this is subtracted from the gain it essentially sets a minimum gain amount to make a split in a node.\n",
    "    eps: This parameter is used in the quantile weighted skecth or 'approx' tree method roughly translates to \n",
    "    (1 / sketch_eps) number of bins\n",
    "    Outputs\n",
    "    --------------------------------------------------------------------------------------------------------------------\n",
    "    A single tree object that will be used for gradient boosintg.\n",
    "    '''\n",
    "    def __init__(self):\n",
    "        self.estimators = []\n",
    "\n",
    "    def get_params(self, deep=False):\n",
    "        return {\n",
    "            'subsample_cols': self.subsample_cols,\n",
    "            'min_child_weight': self.min_child_weight,\n",
    "            'depth': self.depth,\n",
    "            'min_leaf': self.min_leaf,\n",
    "            'learning_rate': self.learning_rate,\n",
    "            'boosting_rounds': self.boosting_rounds,\n",
    "            'lambda_': self.lambda_,\n",
    "            'gamma': self.gamma,\n",
    "            'eps': self.eps\n",
    "        }\n",
    "\n",
    "\n",
    "    @staticmethod\n",
    "    def sigmoid(x):\n",
    "        return 1 / (1 + np.exp(-x))\n",
    "\n",
    "    # first order gradient logLoss\n",
    "    def grad(self, preds, labels):\n",
    "        preds = self.sigmoid(preds)\n",
    "        return(preds - labels)\n",
    "\n",
    "    # second order gradient logLoss\n",
    "    def hess(self, preds, labels):\n",
    "        preds = self.sigmoid(preds)\n",
    "        return(preds * (1 - preds))\n",
    "\n",
    "    @staticmethod\n",
    "    def log_odds(column):\n",
    "        binary_yes = np.count_nonzero(column == 1)\n",
    "        binary_no  = np.count_nonzero(column == 0)\n",
    "        return(np.log(binary_yes/binary_no))\n",
    "\n",
    "\n",
    "    def fit(self, X, y, subsample_cols = 0.8 , min_child_weight = 1, depth = 5, min_leaf = 5, learning_rate = 0.4, boosting_rounds = 5, lambda_ = 1.5, gamma = 1, eps = 0.1):\n",
    "        self.X, self.y = X, y\n",
    "        self.depth = depth\n",
    "        self.subsample_cols = subsample_cols\n",
    "        self.eps = eps\n",
    "        self.min_child_weight = min_child_weight \n",
    "        self.min_leaf = min_leaf\n",
    "        self.learning_rate = learning_rate\n",
    "        self.boosting_rounds = boosting_rounds \n",
    "        self.lambda_ = lambda_\n",
    "        self.gamma  = gamma\n",
    "\n",
    "        self.base_pred = np.full((X.shape[0], 1), 1).flatten().astype('float64')\n",
    "\n",
    "        for booster in range(self.boosting_rounds):\n",
    "            Grad = self.grad(self.base_pred, self.y)\n",
    "            Hess = self.hess(self.base_pred, self.y)\n",
    "            boosting_tree = XGBoostTree().fit(self.X, Grad, Hess, depth = self.depth, min_leaf = self.min_leaf, lambda_ = self.lambda_, gamma = self.gamma, eps = self.eps, min_child_weight = self.min_child_weight, subsample_cols = self.subsample_cols)\n",
    "            self.base_pred += self.learning_rate * boosting_tree.predict(self.X)\n",
    "            self.estimators.append(boosting_tree)\n",
    "\n",
    "    def predict_proba(self, X):\n",
    "        pred = np.zeros(X.shape[0])\n",
    "\n",
    "        for estimator in self.estimators:\n",
    "            pred += self.learning_rate * estimator.predict(X) \n",
    "\n",
    "        return(self.sigmoid(np.full((X.shape[0], 1), 1).flatten().astype('float64') + pred))\n",
    "\n",
    "    def predict(self, X):\n",
    "        pred = np.zeros(X.shape[0])\n",
    "        for estimator in self.estimators:\n",
    "            pred += self.learning_rate * estimator.predict(X) \n",
    "\n",
    "        predicted_probas = self.sigmoid(np.full((X.shape[0], 1), 1).flatten().astype('float64') + pred)\n",
    "        preds = np.where(predicted_probas > np.mean(predicted_probas), 1, 0)\n",
    "        return(preds)\n",
    "\n",
    "\n",
    "class XGBoostRegressor:\n",
    "    '''\n",
    "    Full application of the XGBoost algorithm as described in \"XGBoost: A Scalable Tree Boosting System\" for \n",
    "    regression.\n",
    "    Inputs\n",
    "    ------------------------------------------------------------------------------------------------------------------\n",
    "    x: pandas datframe of the training data\n",
    "    gradient: negative gradient of the loss function\n",
    "    hessian: second order derivative of the loss function\n",
    "    idxs: used to keep track of samples within the tree structure\n",
    "    subsample_cols: is an implementation of layerwise column subsample randomizing the structure of the trees\n",
    "    (complexity parameter)\n",
    "    min_leaf: minimum number of samples for a node to be considered a node (complexity parameter)\n",
    "    min_child_weight: sum of the heassian inside a node is a meaure of purity (complexity parameter)\n",
    "    depth: limits the number of layers in the tree\n",
    "    lambda: L2 regularization term on weights. Increasing this value will make model more conservative.\n",
    "    gamma: This parameter also prevents over fitting and is present in the the calculation of the gain (structure score). \n",
    "    As this is subtracted from the gain it essentially sets a minimum gain amount to make a split in a node.\n",
    "    eps: This parameter is used in the quantile weighted skecth or 'approx' tree method roughly translates to \n",
    "    (1 / sketch_eps) number of bins\n",
    "    Outputs\n",
    "    --------------------------------------------------------------------------------------------------------------------\n",
    "    A single tree object that will be used for gradient boosintg.\n",
    "    '''\n",
    "    def __init__(self):\n",
    "        self.estimators = []\n",
    "\n",
    "    def get_params(self):\n",
    "        return {\n",
    "            'subsample_cols': self.subsample_cols,\n",
    "            'min_child_weight': self.min_child_weight,\n",
    "            'depth': self.depth,\n",
    "            'min_leaf': self.min_leaf,\n",
    "            'learning_rate': self.learning_rate,\n",
    "            'boosting_rounds': self.boosting_rounds,\n",
    "            'lambda_': self.lambda_,\n",
    "            'gamma': self.gamma,\n",
    "            'eps': self.eps\n",
    "        }\n",
    "    # first order gradient mean squared error\n",
    "    @staticmethod\n",
    "    def grad(preds, labels):\n",
    "        return(2*(preds-labels))\n",
    "\n",
    "    # second order gradient logLoss\n",
    "    @staticmethod\n",
    "    def hess(preds, labels):\n",
    "        '''\n",
    "        hessian of mean squared error is a constant value of two \n",
    "        returns an array of twos\n",
    "        '''\n",
    "        return(np.full((preds.shape[0], 1), 2).flatten().astype('float64'))\n",
    "\n",
    "\n",
    "    def fit(self, X, y, subsample_cols = 0.8 , min_child_weight = 1, depth = 5, min_leaf = 5, learning_rate = 0.4, boosting_rounds = 5, lambda_ = 1.5, gamma = 1, eps = 0.1):\n",
    "        self.X, self.y = X, y.values\n",
    "        self.depth = depth\n",
    "        self.subsample_cols = subsample_cols\n",
    "        self.eps = eps\n",
    "        self.min_child_weight = min_child_weight \n",
    "        self.min_leaf = min_leaf\n",
    "        self.learning_rate = learning_rate\n",
    "        self.boosting_rounds = boosting_rounds \n",
    "        self.lambda_ = lambda_\n",
    "        self.gamma  = gamma\n",
    "\n",
    "        self.base_pred = np.full((X.shape[0], 1), np.mean(y)).flatten().astype('float64')\n",
    "\n",
    "        for booster in range(self.boosting_rounds):\n",
    "            Grad = self.grad(self.base_pred, self.y)\n",
    "            Hess = self.hess(self.base_pred, self.y)\n",
    "            boosting_tree = XGBoostTree().fit(self.X, Grad, Hess, depth = self.depth, min_leaf = self.min_leaf, lambda_ = self.lambda_, gamma = self.gamma, eps = self.eps, min_child_weight = self.min_child_weight, subsample_cols = self.subsample_cols)\n",
    "            self.base_pred += self.learning_rate * boosting_tree.predict(self.X)\n",
    "            self.estimators.append(boosting_tree)\n",
    "\n",
    "    def predict(self, X):\n",
    "        pred = np.zeros(X.shape[0])\n",
    "\n",
    "        for estimator in self.estimators:\n",
    "            pred += self.learning_rate * estimator.predict(X) \n",
    "\n",
    "        return np.full((X.shape[0], 1), np.mean(y)).flatten().astype('float64') + pred"
   ],
   "metadata": {
    "collapsed": false,
    "ExecuteTime": {
     "end_time": "2023-12-11T14:56:27.568679800Z",
     "start_time": "2023-12-11T14:56:27.395371400Z"
    }
   },
   "id": "6ab8e8793a34f5df"
  },
  {
   "cell_type": "markdown",
   "source": [
    "# Apprentissage et test de l'algorithme"
   ],
   "metadata": {
    "collapsed": false
   },
   "id": "c80da9ca735edfb4"
  },
  {
   "cell_type": "code",
   "execution_count": 56,
   "outputs": [
    {
     "name": "stdout",
     "output_type": "stream",
     "text": [
      "Number of mislabeled points out of a total 100 points : 38\n"
     ]
    }
   ],
   "source": [
    "xgb = XGBoostClassifier()\n",
    "\n",
    "arcene_train_labels_reshaped = arcene_train_labels.values.reshape(len(arcene_train_labels), 1)\n",
    "arcene_valid_labels_reshaped = arcene_valid_labels.values.reshape(len(arcene_train_labels), 1)\n",
    "\n",
    "xgb.fit(arcene_train_filtered, arcene_train_labels_reshaped, depth = 5, min_leaf = 5, learning_rate = 0.1, boosting_rounds = 5)\n",
    "\n",
    "predictions = xgb.predict(arcene_valid_filtered)\n",
    "\n",
    "pred_len = len(predictions)\n",
    "\n",
    "predictions = predictions.reshape(pred_len, 1)\n",
    "\n",
    "print(\"Number of mislabeled points out of a total %d points : %d\" % (arcene_valid.shape[0], (arcene_valid_labels_reshaped != predictions).sum()))"
   ],
   "metadata": {
    "collapsed": false,
    "ExecuteTime": {
     "end_time": "2023-12-11T14:56:30.643737200Z",
     "start_time": "2023-12-11T14:56:27.464729500Z"
    }
   },
   "id": "9c7047d422a25467"
  },
  {
   "cell_type": "markdown",
   "source": [
    "### Matrice de confusion\n",
    "La matrice de confusion est une matrice qui permet de visualiser les performances d'un algorithme de classification. "
   ],
   "metadata": {
    "collapsed": false
   },
   "id": "9630a104c473f839"
  },
  {
   "cell_type": "code",
   "execution_count": 57,
   "outputs": [
    {
     "data": {
      "text/plain": "array([[53,  3],\n       [35,  9]], dtype=int64)"
     },
     "execution_count": 57,
     "metadata": {},
     "output_type": "execute_result"
    }
   ],
   "source": [
    "cm = metrics.confusion_matrix(arcene_valid_labels, predictions)\n",
    "\n",
    "cm"
   ],
   "metadata": {
    "collapsed": false,
    "ExecuteTime": {
     "end_time": "2023-12-11T14:56:30.662808900Z",
     "start_time": "2023-12-11T14:56:30.645335300Z"
    }
   },
   "id": "3fbab47a9cb0db06"
  },
  {
   "cell_type": "markdown",
   "source": [
    "### Visualisation de la matrice de confusion"
   ],
   "metadata": {
    "collapsed": false
   },
   "id": "528526a68912fc7b"
  },
  {
   "cell_type": "code",
   "execution_count": 58,
   "outputs": [
    {
     "data": {
      "text/plain": "<Figure size 640x480 with 2 Axes>",
      "image/png": "[encoded data removed]"
     },
     "metadata": {},
     "output_type": "display_data"
    }
   ],
   "source": [
    "disp = metrics.ConfusionMatrixDisplay(confusion_matrix=cm, display_labels=[-1, 1])\n",
    "disp.plot()\n",
    "\n",
    "plt.show()"
   ],
   "metadata": {
    "collapsed": false,
    "ExecuteTime": {
     "end_time": "2023-12-11T14:56:30.845975700Z",
     "start_time": "2023-12-11T14:56:30.659591400Z"
    }
   },
   "id": "908823079deab477"
  },
  {
   "cell_type": "markdown",
   "source": [
    "### Calcul des métriques\n",
    "Les métriques qui seront calculées sont :\n",
    "- Balanced Error Rate\n",
    "- Accuracy\n",
    "- Precision\n",
    "- Recall\n",
    "- F1 Score\n",
    "- AUC Score\n",
    "- ROC Curve\n",
    "\n",
    "Ces metriques on ete conseillees par les juges du challenge Arcene pour evaluer les performances des algorithmes de classification. (https://web.archive.org/web/20130503080434/http://www.nipsfsc.ecs.soton.ac.uk/evaluation)\n",
    "Pour plus d'informations sur ces métriques, veuillez consulter ce lien : https://towardsdatascience.com/understanding-confusion-matrix-a9ad42dcfd62"
   ],
   "metadata": {
    "collapsed": false
   },
   "id": "ab138489583d5ee7"
  },
  {
   "cell_type": "code",
   "execution_count": 59,
   "outputs": [
    {
     "name": "stdout",
     "output_type": "stream",
     "text": [
      "Balanced Error Rate:  0.32386363636363635\n",
      "Accuracy:             0.62\n",
      "Precision:            0.6761363636363636\n",
      "Recall:               0.575487012987013\n",
      "F1 Score:             0.5287698412698413\n",
      "AUC Score:            0.575487012987013\n"
     ]
    }
   ],
   "source": [
    "TP = cm[0][0]\n",
    "FP = cm[0][1]\n",
    "FN = cm[1][0]\n",
    "TN = cm[1][1]\n",
    "\n",
    "BER = 1 - (1/2 * ((TP / (TP + FN)) + (TN / (TN + FP))))\n",
    "\n",
    "precision = metrics.precision_score(arcene_valid_labels, predictions, average='macro')\n",
    "\n",
    "recall = metrics.recall_score(arcene_valid_labels, predictions, average='macro')\n",
    "\n",
    "f1_score = metrics.f1_score(arcene_valid_labels, predictions, average='macro')\n",
    "\n",
    "accuracy = metrics.accuracy_score(arcene_valid_labels, predictions)\n",
    "\n",
    "auc_score = metrics.roc_auc_score(arcene_valid_labels, predictions)\n",
    "\n",
    "print('Balanced Error Rate: ', BER)\n",
    "print('Accuracy:            ', accuracy)\n",
    "print('Precision:           ', precision)\n",
    "print('Recall:              ', recall)\n",
    "print('F1 Score:            ', f1_score)\n",
    "print('AUC Score:           ', auc_score)"
   ],
   "metadata": {
    "collapsed": false,
    "ExecuteTime": {
     "end_time": "2023-12-11T14:56:30.934467500Z",
     "start_time": "2023-12-11T14:56:30.850684700Z"
    }
   },
   "id": "1c5803af32ad34aa"
  },
  {
   "cell_type": "markdown",
   "source": [
    "##### Courbe ROC:"
   ],
   "metadata": {
    "collapsed": false
   },
   "id": "87cc3ac522ca4171"
  },
  {
   "cell_type": "code",
   "execution_count": 60,
   "outputs": [
    {
     "data": {
      "text/plain": "<Figure size 640x480 with 1 Axes>",
      "image/png": "[encoded data removed]"
     },
     "metadata": {},
     "output_type": "display_data"
    }
   ],
   "source": [
    "fpr, tpr, thresh = metrics.roc_curve(arcene_valid_labels, predictions, pos_label=1)\n",
    "\n",
    "# plot roc curves\n",
    "plt.plot(fpr, tpr, linestyle='--',color='orange', label='Naive Bayes')\n",
    "# title\n",
    "plt.title('ROC curve')\n",
    "# x label\n",
    "plt.xlabel('False Positive Rate')\n",
    "# y label\n",
    "plt.ylabel('True Positive rate')\n",
    "\n",
    "plt.legend(loc='best')\n",
    "plt.savefig('ROC',dpi=300)\n",
    "plt.show();"
   ],
   "metadata": {
    "collapsed": false,
    "ExecuteTime": {
     "end_time": "2023-12-11T14:56:31.349506100Z",
     "start_time": "2023-12-11T14:56:30.896616200Z"
    }
   },
   "id": "f97a9bc188627774"
  },
  {
   "cell_type": "markdown",
   "source": [
    "Ajouter une colonne inutile au donnees de test just pour pouvoir les tester avec l'algorithme."
   ],
   "metadata": {
    "collapsed": false
   },
   "id": "760a3fffed9dc0b9"
  },
  {
   "cell_type": "markdown",
   "source": [
    "Predire les classes des donnees de test:"
   ],
   "metadata": {
    "collapsed": false
   },
   "id": "8735762ab1b08864"
  },
  {
   "cell_type": "code",
   "execution_count": 61,
   "outputs": [
    {
     "data": {
      "text/plain": "array([[0],\n       [0],\n       [0],\n       [1],\n       [0],\n       [1],\n       [0],\n       [0],\n       [0],\n       [0],\n       [0],\n       [0],\n       [1],\n       [1],\n       [0],\n       [0],\n       [1],\n       [0],\n       [0],\n       [0],\n       [0],\n       [0],\n       [0],\n       [1],\n       [0],\n       [0],\n       [0],\n       [1],\n       [0],\n       [0],\n       [0],\n       [0],\n       [1],\n       [0],\n       [0],\n       [0],\n       [0],\n       [0],\n       [0],\n       [0],\n       [0],\n       [1],\n       [0],\n       [1],\n       [0],\n       [0],\n       [0],\n       [0],\n       [0],\n       [0],\n       [0],\n       [0],\n       [0],\n       [0],\n       [0],\n       [0],\n       [1],\n       [0],\n       [0],\n       [0],\n       [0],\n       [0],\n       [0],\n       [0],\n       [0],\n       [0],\n       [0],\n       [1],\n       [1],\n       [1],\n       [0],\n       [0],\n       [0],\n       [0],\n       [0],\n       [1],\n       [0],\n       [0],\n       [0],\n       [0],\n       [0],\n       [0],\n       [0],\n       [0],\n       [1],\n       [0],\n       [0],\n       [0],\n       [0],\n       [1],\n       [0],\n       [0],\n       [1],\n       [0],\n       [0],\n       [0],\n       [0],\n       [0],\n       [0],\n       [1],\n       [0],\n       [0],\n       [0],\n       [0],\n       [0],\n       [0],\n       [0],\n       [0],\n       [1],\n       [0],\n       [0],\n       [0],\n       [0],\n       [1],\n       [0],\n       [1],\n       [0],\n       [0],\n       [0],\n       [0],\n       [0],\n       [1],\n       [1],\n       [0],\n       [0],\n       [0],\n       [0],\n       [1],\n       [1],\n       [0],\n       [0],\n       [0],\n       [0],\n       [0],\n       [0],\n       [0],\n       [0],\n       [0],\n       [0],\n       [0],\n       [1],\n       [0],\n       [1],\n       [0],\n       [0],\n       [0],\n       [0],\n       [1],\n       [0],\n       [0],\n       [0],\n       [0],\n       [0],\n       [0],\n       [0],\n       [0],\n       [0],\n       [1],\n       [0],\n       [0],\n       [0],\n       [1],\n       [0],\n       [0],\n       [1],\n       [0],\n       [0],\n       [0],\n       [0],\n       [1],\n       [1],\n       [0],\n       [0],\n       [0],\n       [0],\n       [0],\n       [0],\n       [0],\n       [0],\n       [0],\n       [0],\n       [0],\n       [1],\n       [0],\n       [1],\n       [0],\n       [0],\n       [0],\n       [1],\n       [0],\n       [0],\n       [0],\n       [0],\n       [0],\n       [0],\n       [0],\n       [1],\n       [0],\n       [0],\n       [0],\n       [0],\n       [1],\n       [0],\n       [0],\n       [0],\n       [0],\n       [0],\n       [0],\n       [0],\n       [0],\n       [1],\n       [0],\n       [0],\n       [1],\n       [0],\n       [0],\n       [0],\n       [0],\n       [1],\n       [0],\n       [0],\n       [0],\n       [0],\n       [0],\n       [1],\n       [0],\n       [1],\n       [1],\n       [0],\n       [0],\n       [0],\n       [1],\n       [1],\n       [0],\n       [0],\n       [0],\n       [0],\n       [0],\n       [1],\n       [0],\n       [0],\n       [0],\n       [0],\n       [0],\n       [0],\n       [0],\n       [0],\n       [0],\n       [0],\n       [0],\n       [0],\n       [0],\n       [0],\n       [0],\n       [1],\n       [0],\n       [0],\n       [0],\n       [1],\n       [0],\n       [0],\n       [0],\n       [1],\n       [0],\n       [0],\n       [0],\n       [0],\n       [0],\n       [0],\n       [0],\n       [0],\n       [0],\n       [0],\n       [0],\n       [0],\n       [0],\n       [1],\n       [1],\n       [0],\n       [1],\n       [1],\n       [0],\n       [0],\n       [0],\n       [0],\n       [1],\n       [0],\n       [0],\n       [0],\n       [0],\n       [0],\n       [0],\n       [0],\n       [0],\n       [0],\n       [0],\n       [1],\n       [0],\n       [0],\n       [0],\n       [0],\n       [1],\n       [0],\n       [0],\n       [0],\n       [0],\n       [0],\n       [1],\n       [0],\n       [1],\n       [1],\n       [0],\n       [0],\n       [0],\n       [0],\n       [0],\n       [0],\n       [0],\n       [0],\n       [0],\n       [0],\n       [0],\n       [1],\n       [0],\n       [0],\n       [1],\n       [1],\n       [0],\n       [0],\n       [0],\n       [0],\n       [1],\n       [0],\n       [1],\n       [0],\n       [0],\n       [0],\n       [0],\n       [0],\n       [0],\n       [0],\n       [0],\n       [0],\n       [1],\n       [0],\n       [0],\n       [0],\n       [0],\n       [0],\n       [0],\n       [0],\n       [0],\n       [0],\n       [0],\n       [0],\n       [0],\n       [1],\n       [1],\n       [0],\n       [0],\n       [0],\n       [0],\n       [0],\n       [0],\n       [1],\n       [0],\n       [0],\n       [0],\n       [0],\n       [0],\n       [0],\n       [0],\n       [0],\n       [0],\n       [0],\n       [0],\n       [0],\n       [0],\n       [0],\n       [0],\n       [0],\n       [0],\n       [1],\n       [0],\n       [1],\n       [1],\n       [0],\n       [0],\n       [0],\n       [0],\n       [0],\n       [0],\n       [0],\n       [0],\n       [0],\n       [0],\n       [0],\n       [0],\n       [0],\n       [0],\n       [1],\n       [0],\n       [0],\n       [0],\n       [0],\n       [0],\n       [0],\n       [0],\n       [0],\n       [0],\n       [0],\n       [0],\n       [0],\n       [0],\n       [0],\n       [0],\n       [0],\n       [1],\n       [1],\n       [0],\n       [1],\n       [0],\n       [0],\n       [0],\n       [0],\n       [0],\n       [0],\n       [0],\n       [0],\n       [0],\n       [0],\n       [0],\n       [0],\n       [0],\n       [0],\n       [1],\n       [0],\n       [0],\n       [0],\n       [0],\n       [0],\n       [0],\n       [1],\n       [1],\n       [0],\n       [0],\n       [0],\n       [0],\n       [0],\n       [1],\n       [0],\n       [1],\n       [0],\n       [0],\n       [0],\n       [0],\n       [0],\n       [0],\n       [1],\n       [0],\n       [0],\n       [0],\n       [0],\n       [0],\n       [0],\n       [0],\n       [0],\n       [0],\n       [0],\n       [0],\n       [0],\n       [0],\n       [1],\n       [1],\n       [0],\n       [0],\n       [0],\n       [0],\n       [1],\n       [1],\n       [0],\n       [0],\n       [0],\n       [0],\n       [0],\n       [0],\n       [0],\n       [0],\n       [0],\n       [0],\n       [0],\n       [0],\n       [0],\n       [1],\n       [0],\n       [0],\n       [0],\n       [0],\n       [0],\n       [0],\n       [0],\n       [0],\n       [1],\n       [0],\n       [0],\n       [0],\n       [0],\n       [1],\n       [0],\n       [0],\n       [0],\n       [0],\n       [1],\n       [0],\n       [1],\n       [0],\n       [0],\n       [0],\n       [1],\n       [0],\n       [0],\n       [0],\n       [0],\n       [0],\n       [0],\n       [0],\n       [0],\n       [0],\n       [0],\n       [0],\n       [0],\n       [0],\n       [0],\n       [0],\n       [0],\n       [1],\n       [0],\n       [0],\n       [0],\n       [0],\n       [0],\n       [0],\n       [0],\n       [0],\n       [0],\n       [0],\n       [0],\n       [0],\n       [0],\n       [0],\n       [0],\n       [1],\n       [0],\n       [0],\n       [0],\n       [0],\n       [0],\n       [1],\n       [0],\n       [0],\n       [0],\n       [0],\n       [1],\n       [0],\n       [0],\n       [0],\n       [1],\n       [0],\n       [0],\n       [0],\n       [0],\n       [1],\n       [0],\n       [0],\n       [1],\n       [0],\n       [0],\n       [0],\n       [0],\n       [1],\n       [0],\n       [0],\n       [0],\n       [1],\n       [1],\n       [0],\n       [0],\n       [1],\n       [0],\n       [1],\n       [0],\n       [0],\n       [0],\n       [0],\n       [0],\n       [0],\n       [0],\n       [1],\n       [0],\n       [0],\n       [0],\n       [0],\n       [1],\n       [0],\n       [0],\n       [0],\n       [0],\n       [0],\n       [0],\n       [0],\n       [0],\n       [0],\n       [0],\n       [1],\n       [0],\n       [0],\n       [0],\n       [0],\n       [0],\n       [0],\n       [0],\n       [0],\n       [0],\n       [0],\n       [1],\n       [0],\n       [1],\n       [0],\n       [0],\n       [1],\n       [1],\n       [1],\n       [1],\n       [0],\n       [0],\n       [0],\n       [0],\n       [1],\n       [0],\n       [0],\n       [0],\n       [0],\n       [0],\n       [1],\n       [0],\n       [0],\n       [0],\n       [0],\n       [0],\n       [0],\n       [0],\n       [0],\n       [0],\n       [0],\n       [0],\n       [0],\n       [0],\n       [0],\n       [0],\n       [0],\n       [0],\n       [1],\n       [0],\n       [0],\n       [0],\n       [0],\n       [0],\n       [0],\n       [0],\n       [1],\n       [1],\n       [1],\n       [0],\n       [0],\n       [0],\n       [0],\n       [1],\n       [0],\n       [0],\n       [0],\n       [0],\n       [0],\n       [0],\n       [0],\n       [1],\n       [1],\n       [0],\n       [0],\n       [0],\n       [0],\n       [0],\n       [0],\n       [0],\n       [0],\n       [0],\n       [0],\n       [0],\n       [0],\n       [0],\n       [0]])"
     },
     "execution_count": 61,
     "metadata": {},
     "output_type": "execute_result"
    }
   ],
   "source": [
    "test_pred = xgb.predict(arcene_test_filtered)\n",
    "\n",
    "pred_len = len(test_pred)\n",
    "\n",
    "test_pred = test_pred.reshape(pred_len, 1)\n",
    "\n",
    "test_pred"
   ],
   "metadata": {
    "collapsed": false,
    "ExecuteTime": {
     "end_time": "2023-12-11T14:56:31.445186Z",
     "start_time": "2023-12-11T14:56:31.351102700Z"
    }
   },
   "id": "51c15aeb333c9a35"
  },
  {
   "cell_type": "markdown",
   "source": [
    "### Visualisation des classes predites"
   ],
   "metadata": {
    "collapsed": false
   },
   "id": "6f43b42f1ad95f18"
  },
  {
   "cell_type": "code",
   "execution_count": 62,
   "outputs": [
    {
     "name": "stdout",
     "output_type": "stream",
     "text": [
      "   0  count\n",
      "0  0    577\n",
      "1  1    123\n"
     ]
    },
    {
     "data": {
      "text/plain": "<Axes: xlabel='0', ylabel='count'>"
     },
     "execution_count": 62,
     "metadata": {},
     "output_type": "execute_result"
    },
    {
     "data": {
      "text/plain": "<Figure size 640x480 with 1 Axes>",
      "image/png": "[encoded data removed]"
     },
     "metadata": {},
     "output_type": "display_data"
    }
   ],
   "source": [
    "test_pred = pd.DataFrame(test_pred)\n",
    "\n",
    "yy = test_pred.value_counts().reset_index()\n",
    "print(yy)\n",
    "sns.barplot(x=0, y='count', data=yy)"
   ],
   "metadata": {
    "collapsed": false,
    "ExecuteTime": {
     "end_time": "2023-12-11T14:56:31.544069800Z",
     "start_time": "2023-12-11T14:56:31.370844300Z"
    }
   },
   "id": "9b263709e5cbf934"
  },
  {
   "cell_type": "markdown",
   "source": [
    "# Implementation de l'algorithme Extreme Gradient Boosting (XGBoost) avec la bibliotheque sklearn"
   ],
   "metadata": {
    "collapsed": false
   },
   "id": "6e460696a7721bb0"
  },
  {
   "cell_type": "code",
   "execution_count": 63,
   "outputs": [
    {
     "name": "stdout",
     "output_type": "stream",
     "text": [
      "Number of mislabeled points out of a total 100 points : 40\n"
     ]
    },
    {
     "name": "stderr",
     "output_type": "stream",
     "text": [
      "C:\\Users\\legion\\AppData\\Local\\Temp\\ipykernel_20892\\2617077726.py:11: FutureWarning: Calling int on a single element Series is deprecated and will raise a TypeError in the future. Use int(ser.iloc[0]) instead\n",
      "  print(\"Number of mislabeled points out of a total %d points : %d\" % (arcene_valid.shape[0], (arcene_valid_labels != y_pred).sum()))\n"
     ]
    }
   ],
   "source": [
    "xgbb = ExGB.XGBClassifier()\n",
    "\n",
    "xgbb.fit(arcene_train_filtered, arcene_train_labels)\n",
    "\n",
    "y_pred = xgbb.predict(arcene_valid_filtered)\n",
    "\n",
    "pred_len = len(y_pred)\n",
    "\n",
    "y_pred = y_pred.reshape(pred_len, 1)\n",
    "\n",
    "print(\"Number of mislabeled points out of a total %d points : %d\" % (arcene_valid.shape[0], (arcene_valid_labels != y_pred).sum()))"
   ],
   "metadata": {
    "collapsed": false,
    "ExecuteTime": {
     "end_time": "2023-12-11T14:56:31.782969400Z",
     "start_time": "2023-12-11T14:56:31.539252800Z"
    }
   },
   "id": "733a0b40be7d4256"
  },
  {
   "cell_type": "markdown",
   "source": [
    "### Matrice de confusion"
   ],
   "metadata": {
    "collapsed": false
   },
   "id": "6e1498e07ad9b97d"
  },
  {
   "cell_type": "code",
   "execution_count": 64,
   "outputs": [
    {
     "data": {
      "text/plain": "array([[39, 17],\n       [23, 21]], dtype=int64)"
     },
     "execution_count": 64,
     "metadata": {},
     "output_type": "execute_result"
    }
   ],
   "source": [
    "cm_with_sklearn = metrics.confusion_matrix(arcene_valid_labels, y_pred)\n",
    "\n",
    "cm_with_sklearn"
   ],
   "metadata": {
    "collapsed": false,
    "ExecuteTime": {
     "end_time": "2023-12-11T14:56:31.810723700Z",
     "start_time": "2023-12-11T14:56:31.759840500Z"
    }
   },
   "id": "17c5b2708ab63d86"
  },
  {
   "cell_type": "markdown",
   "source": [
    "### Visualisation de la matrice de confusion"
   ],
   "metadata": {
    "collapsed": false
   },
   "id": "d33c1a397c87f9b"
  },
  {
   "cell_type": "code",
   "execution_count": 65,
   "outputs": [
    {
     "data": {
      "text/plain": "<Figure size 640x480 with 2 Axes>",
      "image/png": "[encoded data removed]"
     },
     "metadata": {},
     "output_type": "display_data"
    }
   ],
   "source": [
    "disp = metrics.ConfusionMatrixDisplay(confusion_matrix=cm_with_sklearn, display_labels=[-1, 1])\n",
    "disp.plot()\n",
    "\n",
    "plt.show()"
   ],
   "metadata": {
    "collapsed": false,
    "ExecuteTime": {
     "end_time": "2023-12-11T14:56:32.007962600Z",
     "start_time": "2023-12-11T14:56:31.774257800Z"
    }
   },
   "id": "5a52c28707f0033c"
  },
  {
   "cell_type": "markdown",
   "source": [
    "### Calcul des métriques"
   ],
   "metadata": {
    "collapsed": false
   },
   "id": "271d733914e2a3b9"
  },
  {
   "cell_type": "code",
   "execution_count": 66,
   "outputs": [
    {
     "name": "stdout",
     "output_type": "stream",
     "text": [
      "Balanced Error Rate:  0.4091680814940577\n",
      "Accuracy:             0.6\n",
      "Precision:            0.5908319185059423\n",
      "Recall:               0.5868506493506493\n",
      "F1 Score:             0.586606035551881\n",
      "AUC Score:            0.5868506493506492\n"
     ]
    }
   ],
   "source": [
    "TP_with_sklearn = cm_with_sklearn[0][0]\n",
    "FP_with_sklearn = cm_with_sklearn[0][1]\n",
    "FN_with_sklearn = cm_with_sklearn[1][0]\n",
    "TN_with_sklearn = cm_with_sklearn[1][1]\n",
    "\n",
    "BER_with_sklearn = 1 - (1/2 * ((TP_with_sklearn / (TP_with_sklearn + FN_with_sklearn)) + (TN_with_sklearn / (TN_with_sklearn + FP_with_sklearn))))\n",
    "\n",
    "precision_with_sklearn = metrics.precision_score(arcene_valid_labels, y_pred, average='macro')\n",
    "\n",
    "recall_with_sklearn = metrics.recall_score(arcene_valid_labels, y_pred, average='macro')\n",
    "\n",
    "f1_score_with_sklearn = metrics.f1_score(arcene_valid_labels, y_pred, average='macro')\n",
    "\n",
    "accuracy_with_sklearn = metrics.accuracy_score(arcene_valid_labels, y_pred)\n",
    "\n",
    "auc_score_with_sklearn = metrics.roc_auc_score(arcene_valid_labels, y_pred)\n",
    "\n",
    "print('Balanced Error Rate: ', BER_with_sklearn)\n",
    "print('Accuracy:            ', accuracy_with_sklearn)\n",
    "print('Precision:           ', precision_with_sklearn)\n",
    "print('Recall:              ', recall_with_sklearn)\n",
    "print('F1 Score:            ', f1_score_with_sklearn)\n",
    "print('AUC Score:           ', auc_score_with_sklearn)"
   ],
   "metadata": {
    "collapsed": false,
    "ExecuteTime": {
     "end_time": "2023-12-11T14:56:32.132122100Z",
     "start_time": "2023-12-11T14:56:32.011543Z"
    }
   },
   "id": "efa145b096fe5a5a"
  },
  {
   "cell_type": "markdown",
   "source": [
    "##### Courbe ROC:"
   ],
   "metadata": {
    "collapsed": false
   },
   "id": "434f17a3d1b56b45"
  },
  {
   "cell_type": "code",
   "execution_count": 67,
   "outputs": [
    {
     "data": {
      "text/plain": "<Figure size 640x480 with 1 Axes>",
      "image/png": "[encoded data removed]"
     },
     "metadata": {},
     "output_type": "display_data"
    }
   ],
   "source": [
    "fpr_with_sklearn, tpr_with_sklearn, thresh_with_sklearn = metrics.roc_curve(arcene_valid_labels, y_pred, pos_label=1)\n",
    "\n",
    "# plot roc curves\n",
    "plt.plot(fpr_with_sklearn, tpr_with_sklearn, linestyle='--',color='orange', label='Naive Bayes')\n",
    "# title\n",
    "plt.title('ROC curve')\n",
    "# x label\n",
    "plt.xlabel('False Positive Rate')\n",
    "# y label\n",
    "plt.ylabel('True Positive rate')\n",
    "\n",
    "plt.legend(loc='best')\n",
    "plt.savefig('ROC',dpi=300)\n",
    "plt.show();"
   ],
   "metadata": {
    "collapsed": false,
    "ExecuteTime": {
     "end_time": "2023-12-11T14:56:32.517199600Z",
     "start_time": "2023-12-11T14:56:32.095493900Z"
    }
   },
   "id": "29ad0e9f70996ce4"
  },
  {
   "cell_type": "markdown",
   "source": [
    "### Visualisation des classes predites"
   ],
   "metadata": {
    "collapsed": false
   },
   "id": "cdba6b824d1a974f"
  },
  {
   "cell_type": "code",
   "execution_count": 68,
   "outputs": [],
   "source": [
    "arcene_test_filtered_serie = arcene_test_filtered.squeeze()\n",
    "\n",
    "test_pred_with_sklearn = xgbb.predict(arcene_test_filtered_serie)"
   ],
   "metadata": {
    "collapsed": false,
    "ExecuteTime": {
     "end_time": "2023-12-11T14:56:32.654591900Z",
     "start_time": "2023-12-11T14:56:32.518289500Z"
    }
   },
   "id": "3ae194ac94b82740"
  },
  {
   "cell_type": "code",
   "execution_count": 69,
   "outputs": [
    {
     "name": "stdout",
     "output_type": "stream",
     "text": [
      "   0  count\n",
      "0  0    432\n",
      "1  1    268\n"
     ]
    },
    {
     "data": {
      "text/plain": "<Axes: xlabel='0', ylabel='count'>"
     },
     "execution_count": 69,
     "metadata": {},
     "output_type": "execute_result"
    },
    {
     "data": {
      "text/plain": "<Figure size 640x480 with 1 Axes>",
      "image/png": "[encoded data removed]"
     },
     "metadata": {},
     "output_type": "display_data"
    }
   ],
   "source": [
    "test_pred_with_sklearn = pd.DataFrame(test_pred_with_sklearn)\n",
    "\n",
    "yy_with_sklearn = test_pred_with_sklearn.value_counts().reset_index()\n",
    "print(yy_with_sklearn)\n",
    "sns.barplot(x=0, y='count', data=yy_with_sklearn)"
   ],
   "metadata": {
    "collapsed": false,
    "ExecuteTime": {
     "end_time": "2023-12-11T14:56:32.739104900Z",
     "start_time": "2023-12-11T14:56:32.536600700Z"
    }
   },
   "id": "3703e3f2c38c179b"
  },
  {
   "cell_type": "markdown",
   "source": [
    "### Apprentissage et test de l'algorithme"
   ],
   "metadata": {
    "collapsed": false
   },
   "id": "1950d51d8617f0d7"
  },
  {
   "cell_type": "code",
   "execution_count": 70,
   "outputs": [],
   "source": [
    "# from sklearn.feature_selection import RFE\n",
    "\n",
    "# model = XGBoostClassifier()\n",
    "# \n",
    "# rfe = RFE(estimator=model, n_features_to_select=5)\n",
    "# \n",
    "# rfe = rfe.fit(arcene_train, arcene_train_labels)\n",
    "# \n",
    "# rfe.support_\n",
    "# \n",
    "# rfe.ranking_\n",
    "# \n",
    "# arcene_train_filtered_2 = rfe.transform(arcene_train)\n",
    "# \n",
    "# arcene_train_filtered_2 = pd.DataFrame(arcene_train_filtered_2)\n",
    "# \n",
    "# arcene_valid_filtered_2 = rfe.transform(arcene_valid)\n",
    "# \n",
    "# arcene_valid_filtered_2 = pd.DataFrame(arcene_valid_filtered_2)\n",
    "# \n",
    "# y_pred = model.fit(arcene_train_filtered_2, arcene_train_labels).predict(arcene_valid_filtered_2)\n",
    "# \n",
    "# pred_len = len(y_pred)\n",
    "# \n",
    "# y_pred = y_pred.reshape(pred_len, 1)\n",
    "# \n",
    "# print(\"Number of mislabeled points out of a total %d points : %d\" % (arcene_valid.shape[0], (arcene_valid_labels != y_pred).sum()))"
   ],
   "metadata": {
    "collapsed": false,
    "ExecuteTime": {
     "end_time": "2023-12-11T14:56:32.741220600Z",
     "start_time": "2023-12-11T14:56:32.730499600Z"
    }
   },
   "id": "37a91bec5a4f52a0"
  },
  {
   "cell_type": "code",
   "execution_count": 70,
   "outputs": [],
   "source": [],
   "metadata": {
    "collapsed": false,
    "ExecuteTime": {
     "end_time": "2023-12-11T14:56:32.742275400Z",
     "start_time": "2023-12-11T14:56:32.735871600Z"
    }
   },
   "id": "a4d13f42e8a03d3"
  }
 ],
 "metadata": {
  "kernelspec": {
   "display_name": "Python 3",
   "language": "python",
   "name": "python3"
  },
  "language_info": {
   "codemirror_mode": {
    "name": "ipython",
    "version": 2
   },
   "file_extension": ".py",
   "mimetype": "text/x-python",
   "name": "python",
   "nbconvert_exporter": "python",
   "pygments_lexer": "ipython2",
   "version": "2.7.6"
  }
 },
 "nbformat": 4,
 "nbformat_minor": 5
}
