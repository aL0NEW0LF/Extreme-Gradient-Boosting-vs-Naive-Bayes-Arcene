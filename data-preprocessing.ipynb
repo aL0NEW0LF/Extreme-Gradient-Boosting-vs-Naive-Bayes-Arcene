{
 "cells": [
  {
   "cell_type": "markdown",
   "source": [
    "# Importation de bibliothèques"
   ],
   "metadata": {
    "collapsed": false
   },
   "id": "4482d8641ef643ab"
  },
  {
   "cell_type": "code",
   "execution_count": 1,
   "id": "initial_id",
   "metadata": {
    "collapsed": true,
    "ExecuteTime": {
     "end_time": "2023-12-11T10:46:18.286206800Z",
     "start_time": "2023-12-11T10:46:17.957514100Z"
    }
   },
   "outputs": [],
   "source": [
    "import os\n",
    "import pandas as pd\n",
    "import numpy as np\n",
    "from scipy import stats\n",
    "import matplotlib.pyplot as plt\n",
    "import seaborn as sns\n",
    "import math\n",
    "import random\n",
    "from sklearn.feature_selection import chi2\n",
    "from sklearn import metrics\n",
    "from sklearn.preprocessing import MinMaxScaler\n",
    "from sklearn.feature_selection import VarianceThreshold\n",
    "from sklearn.feature_selection import SelectKBest, f_classif"
   ]
  },
  {
   "cell_type": "markdown",
   "source": [
    "# Chargement des données"
   ],
   "metadata": {
    "collapsed": false
   },
   "id": "a3bcf1fdb9b8f620"
  },
  {
   "cell_type": "code",
   "execution_count": 2,
   "outputs": [],
   "source": [
    "arcene_train = pd.read_csv(\"./data/ARCENE/arcene_train.data\", sep=\" \", header=None).drop([10000], axis=1)\n",
    "arcene_train_labels = pd.read_csv(\"./data/ARCENE/arcene_train.labels\", sep=\" \", header=None)\n",
    "arcene_valid = pd.read_csv(\"./data/ARCENE/arcene_valid.data\", sep=\" \", header=None).drop([10000], axis=1)\n",
    "arcene_valid_labels = pd.read_csv(\"./data/arcene_valid.labels\", sep=\" \", header=None)\n",
    "arcene_test = pd.read_csv(\"./data/ARCENE/arcene_test.data\", sep=\" \", header=None).drop([10000], axis=1)"
   ],
   "metadata": {
    "collapsed": false,
    "ExecuteTime": {
     "end_time": "2023-12-11T10:46:21.421149Z",
     "start_time": "2023-12-11T10:46:18.288827400Z"
    }
   },
   "id": "39aa8306caa48f1c"
  },
  {
   "cell_type": "markdown",
   "source": [
    "# Impression des données"
   ],
   "metadata": {
    "collapsed": false
   },
   "id": "6f1104ac18b7dd02"
  },
  {
   "cell_type": "code",
   "execution_count": 3,
   "outputs": [
    {
     "name": "stdout",
     "output_type": "stream",
     "text": [
      "    0     1     2     3     4     5     6     7     8     9     ...  9990  \\\n",
      "0      0    71     0    95     0   538   404    20     0     0  ...   255   \n",
      "1      0    41    82   165    60   554   379     0    71     0  ...   213   \n",
      "2      0     0     1    40     0   451   402     0     0     0  ...   235   \n",
      "3      0    56    44   275    14   511   470     0     0     0  ...    91   \n",
      "4    105     0   141   348     0   268   329     0     0     1  ...   813   \n",
      "..   ...   ...   ...   ...   ...   ...   ...   ...   ...   ...  ...   ...   \n",
      "95    24    26     0   461     0   545     0    17   159   177  ...   275   \n",
      "96    40     0     0   419    71   502     0    39    93   163  ...   277   \n",
      "97     2    15    48   677     0   434   442     0    43     0  ...   211   \n",
      "98     8     0    38   205    69   419   454     0   113     3  ...   193   \n",
      "99     0     0     0   148     0   583     0     6   130   112  ...   271   \n",
      "\n",
      "    9991  9992  9993  9994  9995  9996  9997  9998  9999  \n",
      "0    570    86     0    36     0    80     0     0   524  \n",
      "1    605    69     7   473     0    57     0   284   423  \n",
      "2    593    28     0    24     0    90     0    34   508  \n",
      "3    600     0    26    86     0   102     0     0   469  \n",
      "4      0     0     0     0   190   301     0     0   354  \n",
      "..   ...   ...   ...   ...   ...   ...   ...   ...   ...  \n",
      "95   460    22    26   130   306   182     0    94   336  \n",
      "96   436     0    68    61   295   133     0     0   292  \n",
      "97   628     0     7   228     0   105     0     0   453  \n",
      "98   587   148    27   656     0   133     0   189   403  \n",
      "99   477     0     0   111   414   210     0    10   365  \n",
      "\n",
      "[100 rows x 10000 columns]\n"
     ]
    }
   ],
   "source": [
    "data_train = arcene_train.copy()\n",
    "\n",
    "print(data_train)"
   ],
   "metadata": {
    "collapsed": false,
    "ExecuteTime": {
     "end_time": "2023-12-11T10:46:21.450780500Z",
     "start_time": "2023-12-11T10:46:21.424132400Z"
    }
   },
   "id": "4ca89a4130640abd"
  },
  {
   "cell_type": "code",
   "execution_count": 4,
   "outputs": [
    {
     "name": "stdout",
     "output_type": "stream",
     "text": [
      "        0\n",
      "0    True\n",
      "1   False\n",
      "2    True\n",
      "3    True\n",
      "4   False\n",
      "..    ...\n",
      "95  False\n",
      "96  False\n",
      "97   True\n",
      "98  False\n",
      "99   True\n",
      "\n",
      "[100 rows x 1 columns]\n"
     ]
    }
   ],
   "source": [
    "arcene_valid_labels = arcene_valid_labels.replace({1: True, -1: False})\n",
    "\n",
    "arcene_train_labels = arcene_train_labels.replace({1: True, -1: False})\n",
    "\n",
    "print(arcene_train_labels)"
   ],
   "metadata": {
    "collapsed": false,
    "ExecuteTime": {
     "end_time": "2023-12-11T10:46:21.484358300Z",
     "start_time": "2023-12-11T10:46:21.444955500Z"
    }
   },
   "id": "34eef5d5fa118784"
  },
  {
   "cell_type": "code",
   "execution_count": 5,
   "outputs": [],
   "source": [
    "# arcene_train_concatinated = pd.concat([arcene_train, arcene_train_labels], axis=1, ignore_index=True)\n",
    "# \n",
    "# arcene_valid_concatinated = pd.concat([arcene_valid, arcene_valid_labels], axis=1, ignore_index=True)"
   ],
   "metadata": {
    "collapsed": false,
    "ExecuteTime": {
     "end_time": "2023-12-11T10:46:21.503456600Z",
     "start_time": "2023-12-11T10:46:21.457267500Z"
    }
   },
   "id": "10757dbfe0ec8114"
  },
  {
   "cell_type": "markdown",
   "source": [
    "# Concaténation des données d'apprentissage et des étiquettes"
   ],
   "metadata": {
    "collapsed": false
   },
   "id": "7b73cf52ca26b106"
  },
  {
   "cell_type": "code",
   "execution_count": 6,
   "outputs": [
    {
     "name": "stdout",
     "output_type": "stream",
     "text": [
      "    0      1      2      3      4      5      6      7      8      9      ...  \\\n",
      "0       0     71      0     95      0    538    404     20      0      0  ...   \n",
      "1       0     41     82    165     60    554    379      0     71      0  ...   \n",
      "2       0      0      1     40      0    451    402      0      0      0  ...   \n",
      "3       0     56     44    275     14    511    470      0      0      0  ...   \n",
      "4     105      0    141    348      0    268    329      0      0      1  ...   \n",
      "..    ...    ...    ...    ...    ...    ...    ...    ...    ...    ...  ...   \n",
      "95     24     26      0    461      0    545      0     17    159    177  ...   \n",
      "96     40      0      0    419     71    502      0     39     93    163  ...   \n",
      "97      2     15     48    677      0    434    442      0     43      0  ...   \n",
      "98      8      0     38    205     69    419    454      0    113      3  ...   \n",
      "99      0      0      0    148      0    583      0      6    130    112  ...   \n",
      "\n",
      "    9991   9992   9993   9994   9995   9996   9997   9998   9999   10000  \n",
      "0     570     86      0     36      0     80      0      0    524   True  \n",
      "1     605     69      7    473      0     57      0    284    423  False  \n",
      "2     593     28      0     24      0     90      0     34    508   True  \n",
      "3     600      0     26     86      0    102      0      0    469   True  \n",
      "4       0      0      0      0    190    301      0      0    354  False  \n",
      "..    ...    ...    ...    ...    ...    ...    ...    ...    ...    ...  \n",
      "95    460     22     26    130    306    182      0     94    336  False  \n",
      "96    436      0     68     61    295    133      0      0    292  False  \n",
      "97    628      0      7    228      0    105      0      0    453   True  \n",
      "98    587    148     27    656      0    133      0    189    403  False  \n",
      "99    477      0      0    111    414    210      0     10    365   True  \n",
      "\n",
      "[100 rows x 10001 columns]\n"
     ]
    }
   ],
   "source": [
    "arcene_train_concatinated = pd.concat([arcene_train, arcene_train_labels], axis=1, ignore_index=True)\n",
    "arcene_valid_concatinated = pd.concat([arcene_valid, arcene_valid_labels], axis=1, ignore_index=True)\n",
    "\n",
    "print(arcene_train_concatinated)"
   ],
   "metadata": {
    "collapsed": false,
    "ExecuteTime": {
     "end_time": "2023-12-11T10:46:21.505846200Z",
     "start_time": "2023-12-11T10:46:21.463177400Z"
    }
   },
   "id": "f775cc8dff515b01"
  },
  {
   "cell_type": "markdown",
   "source": [
    "# Vérifier si l'ensemble de données est équilibré"
   ],
   "metadata": {
    "collapsed": false
   },
   "id": "a1ac1e83ed5cf653"
  },
  {
   "cell_type": "code",
   "execution_count": 7,
   "outputs": [
    {
     "name": "stdout",
     "output_type": "stream",
     "text": [
      "       0  count\n",
      "0  False     56\n",
      "1   True     44\n"
     ]
    },
    {
     "data": {
      "text/plain": "<Axes: xlabel='0', ylabel='count'>"
     },
     "execution_count": 7,
     "metadata": {},
     "output_type": "execute_result"
    },
    {
     "data": {
      "text/plain": "<Figure size 640x480 with 1 Axes>",
      "image/png": "[encoded data removed]"
     },
     "metadata": {},
     "output_type": "display_data"
    }
   ],
   "source": [
    "xx = arcene_train_labels[0].value_counts().reset_index()\n",
    "print(xx)\n",
    "sns.barplot(x=0, y='count', data=xx)"
   ],
   "metadata": {
    "collapsed": false,
    "ExecuteTime": {
     "end_time": "2023-12-11T10:46:21.685343900Z",
     "start_time": "2023-12-11T10:46:21.484010400Z"
    }
   },
   "id": "97d332e94933aa0a"
  },
  {
   "cell_type": "markdown",
   "source": [
    "# Selection des features (caracteristiques)\n",
    "Due que nous avons 10000 features avec des features aleatoires pour perturber le dataset et les algorithms, nous allons selectionner les features les plus importantes pour notre dataset.\n",
    "\n",
    "Nous allons utiliser deux methodes pour selectionner les features les plus importants :\n",
    "- La variance\n",
    "- K-best features\n",
    "\n",
    "Pour apres tester les deux methodes et voir la quelle est la plus efficace avec nos algorithms."
   ],
   "metadata": {
    "collapsed": false
   },
   "id": "d0893e2b34366079"
  },
  {
   "cell_type": "markdown",
   "source": [
    "Commencons par la variance :"
   ],
   "metadata": {
    "collapsed": false
   },
   "id": "ddc2856ffcb6e195"
  },
  {
   "cell_type": "markdown",
   "source": [
    "### Variance\n",
    "\n",
    "La variance est une mesure de la dispersion des données. Elle est calculée comme la moyenne des carrés des écarts à la moyenne. Plus la variance est élevée, plus les données sont dispersées. Une variance nulle signifie que toutes les valeurs sont identiques.\n",
    "\n",
    "On va calculer la variance de chaque feature, et on va selectionner les features avec les plus grandes variances."
   ],
   "metadata": {
    "collapsed": false
   },
   "id": "fb011b7382a5c03b"
  },
  {
   "cell_type": "markdown",
   "source": [
    "Calcul de la variance de chaque feature:"
   ],
   "metadata": {
    "collapsed": false
   },
   "id": "b5df10167c85ab48"
  },
  {
   "cell_type": "code",
   "execution_count": 8,
   "outputs": [
    {
     "name": "stdout",
     "output_type": "stream",
     "text": [
      "0        2476.420606\n",
      "1        1420.607172\n",
      "2        4711.464646\n",
      "3       26982.828687\n",
      "4         694.220101\n",
      "            ...     \n",
      "9995    21135.563131\n",
      "9996    12796.613636\n",
      "9997        4.454949\n",
      "9998    12033.786970\n",
      "9999    11247.744949\n",
      "Length: 10000, dtype: float64\n"
     ]
    }
   ],
   "source": [
    "features_var = arcene_train.var(axis = 0)\n",
    "\n",
    "print(features_var)"
   ],
   "metadata": {
    "collapsed": false,
    "ExecuteTime": {
     "end_time": "2023-12-11T10:46:21.778569700Z",
     "start_time": "2023-12-11T10:46:21.678649300Z"
    }
   },
   "id": "3cfbca291a0a82a6"
  },
  {
   "cell_type": "code",
   "execution_count": 9,
   "outputs": [],
   "source": [
    "scaler = MinMaxScaler()\n",
    "scaled_arcene_train = scaler.fit_transform(arcene_train)"
   ],
   "metadata": {
    "collapsed": false,
    "ExecuteTime": {
     "end_time": "2023-12-11T10:46:21.837767Z",
     "start_time": "2023-12-11T10:46:21.702976Z"
    }
   },
   "id": "9804f17d77a8e33c"
  },
  {
   "cell_type": "code",
   "execution_count": 10,
   "outputs": [
    {
     "data": {
      "text/plain": "<Figure size 1500x500 with 1 Axes>",
      "image/png": "[encoded data removed]"
     },
     "metadata": {},
     "output_type": "display_data"
    }
   ],
   "source": [
    "variances = scaled_arcene_train.var(axis=0)\n",
    "sorted_indices = np.argsort(variances)[::-1]\n",
    "\n",
    "# Plot the top 50 features based on variance\n",
    "top_features = 50\n",
    "plt.figure(figsize=(15, 5))\n",
    "plt.bar(x=range(top_features), height=variances[sorted_indices][:top_features])\n",
    "plt.xticks(ticks=range(top_features), labels=arcene_train.columns[sorted_indices][:top_features], rotation=90)\n",
    "plt.xlabel('caracteristiques')\n",
    "plt.ylabel('variance')\n",
    "plt.title('Selection des caracteristiques basee sur la variance (Top 50)')\n",
    "plt.show()\n",
    "#les 50 features avec les plus grandes variances"
   ],
   "metadata": {
    "collapsed": false,
    "ExecuteTime": {
     "end_time": "2023-12-11T10:46:22.653933500Z",
     "start_time": "2023-12-11T10:46:21.822550400Z"
    }
   },
   "id": "91fcaa9c53726f68"
  },
  {
   "cell_type": "markdown",
   "source": [
    "Trouver la variance maximale et minimale et leur moyenne"
   ],
   "metadata": {
    "collapsed": false
   },
   "id": "bb074f0063614820"
  },
  {
   "cell_type": "code",
   "execution_count": 11,
   "outputs": [
    {
     "name": "stdout",
     "output_type": "stream",
     "text": [
      "Variance moyenne : 0.05216673046897827\n",
      "Variance maximale : 0.16295643045314845\n",
      "Variance minimale : 0.0\n"
     ]
    }
   ],
   "source": [
    "max_variance = np.max(variances)\n",
    "min_variance = np.min(variances)\n",
    "mean_variance = np.mean(variances)\n",
    "\n",
    "print(\"Variance moyenne :\", mean_variance)\n",
    "print(\"Variance maximale :\", max_variance)\n",
    "print(\"Variance minimale :\", min_variance)"
   ],
   "metadata": {
    "collapsed": false,
    "ExecuteTime": {
     "end_time": "2023-12-11T10:46:22.681165900Z",
     "start_time": "2023-12-11T10:46:22.655507Z"
    }
   },
   "id": "fc3772c9914445e3"
  },
  {
   "cell_type": "markdown",
   "source": [
    "On va eliminer toute les colonnes avec ces varainces, en choisisant un seuil"
   ],
   "metadata": {
    "collapsed": false
   },
   "id": "fee893f7ec6e9e47"
  },
  {
   "cell_type": "code",
   "execution_count": 12,
   "outputs": [
    {
     "name": "stdout",
     "output_type": "stream",
     "text": [
      "Nombre de caractéristiques avant la sélection : 10000\n",
      "Nombre de caractéristiques après la sélection : 4406\n"
     ]
    }
   ],
   "source": [
    "# exemple :\n",
    "threshold = mean_variance # le seuil\n",
    "\n",
    "selector = VarianceThreshold(threshold=threshold)\n",
    "x_high_variance = selector.fit_transform(scaled_arcene_train)\n",
    "high_variance_indices = np.where(selector.variances_ >= threshold)[0]\n",
    "\n",
    "\n",
    "#suppriner\n",
    "arcene_train_filtered_with_var = arcene_train_concatinated[high_variance_indices]\n",
    "arcene_valid_filtered_with_var = arcene_valid_concatinated[high_variance_indices]\n",
    "\n",
    "\n",
    "#afficher les caracteristiques selectionnes :\n",
    "print(\"Nombre de caractéristiques avant la sélection :\", arcene_train.shape[1])\n",
    "print(\"Nombre de caractéristiques après la sélection :\",  arcene_train_filtered_with_var.shape[1])\n",
    "\n",
    "arcene_train_filtered_with_var_concatinated = pd.concat([arcene_train_filtered_with_var, arcene_train_labels], axis=1, ignore_index=True)"
   ],
   "metadata": {
    "collapsed": false,
    "ExecuteTime": {
     "end_time": "2023-12-11T10:46:22.862057400Z",
     "start_time": "2023-12-11T10:46:22.667869Z"
    }
   },
   "id": "35101cbf1fe50b30"
  },
  {
   "cell_type": "markdown",
   "source": [
    "### K-best features\n",
    "\n",
    "La méthode K-best est une méthode de sélection de caractéristiques univariée. Elle calcule la corrélation entre chaque caractéristique et la variable cible, puis sélectionne les caractéristiques qui ont la plus forte corrélation avec la variable cible.\n",
    "\n",
    "Nous allons utiliser la méthode K-best pour sélectionner les 120 meilleures caractéristiques."
   ],
   "metadata": {
    "collapsed": false
   },
   "id": "e8f577e508b1782d"
  },
  {
   "cell_type": "markdown",
   "source": [
    "Avant faire ceci, le dataset contient des colonnes avec des valeurs constantes, donc on doit les supprimer."
   ],
   "metadata": {
    "collapsed": false
   },
   "id": "3bd5ab47a3779771"
  },
  {
   "cell_type": "markdown",
   "source": [
    "Cette methode est utilisee pour trouver les colonnes non constantes :"
   ],
   "metadata": {
    "collapsed": false
   },
   "id": "7673f82bc96421af"
  },
  {
   "cell_type": "code",
   "execution_count": 13,
   "outputs": [],
   "source": [
    "def get_non_constant_columns(dataframe):\n",
    "    return [col for col in dataframe.columns if len(dataframe[col].unique()) > 1]"
   ],
   "metadata": {
    "collapsed": false,
    "ExecuteTime": {
     "end_time": "2023-12-11T10:46:22.863877600Z",
     "start_time": "2023-12-11T10:46:22.718022Z"
    }
   },
   "id": "e724fc13326efc8e"
  },
  {
   "cell_type": "markdown",
   "source": [
    "Pour qu'on apres les laisser dans le dataset."
   ],
   "metadata": {
    "collapsed": false
   },
   "id": "10716b68ba5e0ef8"
  },
  {
   "cell_type": "code",
   "execution_count": 14,
   "outputs": [],
   "source": [
    "arcene_train_with_kbfeat = arcene_train.copy()\n",
    "\n",
    "arcene_valid_with_kbfeat = arcene_valid.copy()\n",
    "\n",
    "arcene_test_with_kbfeat = arcene_test.copy()\n",
    "\n",
    "keep_columns = get_non_constant_columns(arcene_train_with_kbfeat)\n",
    "\n",
    "arcene_train_with_kbfeat = arcene_train_with_kbfeat[keep_columns]\n",
    "\n",
    "arcene_valid_with_kbfeat = arcene_valid_with_kbfeat[keep_columns]\n",
    "\n",
    "arcene_test_with_kbfeat = arcene_test_with_kbfeat[keep_columns]"
   ],
   "metadata": {
    "collapsed": false,
    "ExecuteTime": {
     "end_time": "2023-12-11T10:46:23.642896400Z",
     "start_time": "2023-12-11T10:46:22.725727900Z"
    }
   },
   "id": "c7aa33af9c01f1fb"
  },
  {
   "cell_type": "markdown",
   "source": [
    "Maintenant on peut utiliser la methode K-best pour selectionner les 120 meilleures caracteristiques.\n",
    "\n",
    "On va utiliser la fonction f_classif pour calculer la corrélation entre chaque caractéristique et la variable cible."
   ],
   "metadata": {
    "collapsed": false
   },
   "id": "897da51ec5a00f55"
  },
  {
   "cell_type": "code",
   "execution_count": 15,
   "outputs": [
    {
     "name": "stdout",
     "output_type": "stream",
     "text": [
      "Number of features before feature selection: 9920\n",
      "Number of features after feature selection: 120\n",
      "Features selected: [   4    9   65   85  108  289  306  370  381  408  429  459  461  479\n",
      "  530  686  770  789  846  860  901  970 1135 1171 1463 1707 1732 1734\n",
      " 1773 1835 1869 1959 2117 2207 2289 2618 2676 2792 2840 3232 3336 3341\n",
      " 3527 3573 3584 3660 3693 3787 3952 4036 4087 4149 4253 4481 4518 4587\n",
      " 4743 4833 4914 4927 4959 4994 5136 5423 5704 5756 5853 5989 6070 6148\n",
      " 6423 6443 6528 6625 6642 6707 6716 6869 6972 7032 7039 7101 7134 7156\n",
      " 7365 7406 7476 7562 7585 7589 7635 7651 7668 7682 7790 7846 7854 7909\n",
      " 7926 8080 8196 8275 8290 8297 8340 8390 8411 8431 8514 8712 8729 8733\n",
      " 8757 8951 9202 9506 9538 9571 9580 9664]\n"
     ]
    },
    {
     "name": "stderr",
     "output_type": "stream",
     "text": [
      "D:\\FST\\MST - AIDS\\S1\\ML\\PROJECTS\\DEVOIR2\\venv\\Lib\\site-packages\\sklearn\\utils\\validation.py:1183: DataConversionWarning: A column-vector y was passed when a 1d array was expected. Please change the shape of y to (n_samples, ), for example using ravel().\n",
      "  y = column_or_1d(y, warn=True)\n"
     ]
    }
   ],
   "source": [
    "skb = SelectKBest(score_func=f_classif,  # Set f_classif as our criteria to select features\n",
    "                  k=120)  # Select top two features based on the criteria\n",
    "\n",
    "# Train and transform the dataset according to the SelectKBest\n",
    "arcene_train_with_kbfeat_filtered = skb.fit_transform(arcene_train_with_kbfeat, arcene_train_labels)\n",
    "\n",
    "# Print the results\n",
    "print('Number of features before feature selection: {}'.format(arcene_train_with_kbfeat.shape[1]))\n",
    "print('Number of features after feature selection: {}'.format(arcene_train_with_kbfeat_filtered.shape[1]))\n",
    "print('Features selected: {}'.format(skb.get_support(indices=True)))"
   ],
   "metadata": {
    "collapsed": false,
    "ExecuteTime": {
     "end_time": "2023-12-11T10:46:23.779939600Z",
     "start_time": "2023-12-11T10:46:23.647639700Z"
    }
   },
   "id": "eb96442341fb2dc3"
  },
  {
   "cell_type": "code",
   "execution_count": 16,
   "outputs": [
    {
     "name": "stdout",
     "output_type": "stream",
     "text": [
      "    0    1    2    3    4    5    6    7    8    9    ...  111  112  113  114  \\\n",
      "0     0    0    0    0    0  466    3    0    0    6  ...    0    0    5  450   \n",
      "1    60    0    9    0    0  395   92   85    0   83  ...    0   66   75  337   \n",
      "2     0    0    0    0    0  483   19    2    0   21  ...    0    0   20  399   \n",
      "3    14    0    0    0    0  439   56   42    0   55  ...    0   45   52  476   \n",
      "4     0    1    0   38    0  342   44   19    0   49  ...   28  111   48  292   \n",
      "..  ...  ...  ...  ...  ...  ...  ...  ...  ...  ...  ...  ...  ...  ...  ...   \n",
      "95    0  177  164    0  200    0  183  152  203  194  ...    0    7  198   94   \n",
      "96   71  163  159   43  136    0  190  171  136  195  ...   38   67  197   68   \n",
      "97    0    0    0   15    0  467    0    4    0    2  ...   25    0    3  469   \n",
      "98   69    3   19   14    0  420   12   26    0   10  ...   25   41    9  432   \n",
      "99    0  112  100    0  174    0  111   94  177  117  ...    0    7  120  282   \n",
      "\n",
      "    115  116  117  118  119    120  \n",
      "0     0    0    0    0    8   True  \n",
      "1    27   89   59   31   65  False  \n",
      "2     0    6    0    0    0   True  \n",
      "3     0   46   18    0   51   True  \n",
      "4     0   24    1    0  122  False  \n",
      "..  ...  ...  ...  ...  ...    ...  \n",
      "95    5  157  130    2   10  False  \n",
      "96   65  175  151   66   65  False  \n",
      "97    0    3    0    0    0   True  \n",
      "98   50   22   41   51   32  False  \n",
      "99    0   98   83    0    7   True  \n",
      "\n",
      "[100 rows x 121 columns]\n"
     ]
    }
   ],
   "source": [
    "arcene_train_with_kbfeat_filtered = pd.DataFrame(arcene_train_with_kbfeat_filtered)\n",
    "\n",
    "arcene_train_with_kbfeat_filtered_concatinated = pd.concat([arcene_train_with_kbfeat_filtered, arcene_train_labels], axis=1, ignore_index=True)\n",
    "\n",
    "print(arcene_train_with_kbfeat_filtered_concatinated)"
   ],
   "metadata": {
    "collapsed": false,
    "ExecuteTime": {
     "end_time": "2023-12-11T10:46:23.800800900Z",
     "start_time": "2023-12-11T10:46:23.773247300Z"
    }
   },
   "id": "a7ad16a801b7a8bd"
  },
  {
   "cell_type": "code",
   "execution_count": 17,
   "outputs": [
    {
     "name": "stdout",
     "output_type": "stream",
     "text": [
      "    0    1    2    3    4    5    6    7    8    9    ...  111  112  113  114  \\\n",
      "0     2    0    0    1    0  410   21   40    0   14  ...    9    7   11  392   \n",
      "1     0  222  202    0  145    0  195  160  151  213  ...    0   17  222  169   \n",
      "2    53  147  133   39  143    0  137  106  142  145  ...   34   61  148   31   \n",
      "3     0    0    4    0    0  437   15   24    0   11  ...    0   42    9  453   \n",
      "4     2    0    0    0    0  470   21   24    0   16  ...    0    3   13  431   \n",
      "..  ...  ...  ...  ...  ...  ...  ...  ...  ...  ...  ...  ...  ...  ...  ...   \n",
      "95   92  261  254   86  297    0  274  254  298  282  ...   77  102  287  101   \n",
      "96  109  134  121   69  148  145  193  170  150  203  ...   68   91  206  130   \n",
      "97    0    0    0   15    0  263   17    0    0   20  ...    5   87   19  308   \n",
      "98    0    4    9    0    9  388   83   75    8   80  ...    0    0   78  323   \n",
      "99    0    0    1   46    0  277   55   25    0   55  ...   39  143   53  366   \n",
      "\n",
      "    115  116  117  118  119    120  \n",
      "0     0   38   41    0    0  False  \n",
      "1     4  164  147    3   12  False  \n",
      "2    61  113   73   59   58  False  \n",
      "3     0   23   10    0   27   True  \n",
      "4     0   25   13    0    0   True  \n",
      "..  ...  ...  ...  ...  ...    ...  \n",
      "95   88  257  230   86   97  False  \n",
      "96  101  173  153  101   89  False  \n",
      "97    0    1    0    0   95   True  \n",
      "98    0   79   50    0    0   True  \n",
      "99    0   33    0    0  155  False  \n",
      "\n",
      "[100 rows x 121 columns]\n"
     ]
    }
   ],
   "source": [
    "arcene_valid_with_kbfeat_filtered = skb.transform(arcene_valid_with_kbfeat)\n",
    "\n",
    "arcene_valid_with_kbfeat_filtered = pd.DataFrame(arcene_valid_with_kbfeat_filtered)\n",
    "\n",
    "arcene_valid_with_kbfeat_filtered_concatinated = pd.concat([arcene_valid_with_kbfeat_filtered, arcene_valid_labels], axis=1, ignore_index=True)\n",
    "\n",
    "print(arcene_valid_with_kbfeat_filtered_concatinated)"
   ],
   "metadata": {
    "collapsed": false,
    "ExecuteTime": {
     "end_time": "2023-12-11T10:46:23.856775200Z",
     "start_time": "2023-12-11T10:46:23.793267Z"
    }
   },
   "id": "cb82242de5659dcf"
  },
  {
   "cell_type": "code",
   "execution_count": 18,
   "outputs": [
    {
     "name": "stdout",
     "output_type": "stream",
     "text": [
      "     0    1    2    3    4    5    6    7    8    9    ...  110  111  112  \\\n",
      "0      0   16   15   16    7  203   56   38    7   51  ...    9   15   92   \n",
      "1     69  141  139   66  129    0  140  131  130  145  ...   71   63   86   \n",
      "2      0  180  160    4  263  241  216  183  276  233  ...    0    5   10   \n",
      "3      0    0    0    0    0  500   69   72    0   56  ...    0    0    7   \n",
      "4     84  112  101   78  135  156  133  117  139  143  ...   59   74   86   \n",
      "..   ...  ...  ...  ...  ...  ...  ...  ...  ...  ...  ...  ...  ...  ...   \n",
      "695   55  144  133    0  174    0  136  115  175  143  ...    0    0   10   \n",
      "696   30  127  121   46  137   57  119  101  138  128  ...   38   45   54   \n",
      "697   18  214  190   44  218    0  206  166  222  220  ...   62   41   73   \n",
      "698   38   30   34   28   57  477   27   19   69   33  ...    8   35   57   \n",
      "699   18  215  193   64  243    0  182  140  247  197  ...   79   60   84   \n",
      "\n",
      "     113  114  115  116  117  118  119  \n",
      "0     47  332    0   45    5    0   99  \n",
      "1    149  208   80  133  123   81   82  \n",
      "2    242  147    0  187  152    0    1  \n",
      "3     47  406    0   75   44    0    4  \n",
      "4    149  140   87  119   99   86   87  \n",
      "..   ...  ...  ...  ...  ...  ...  ...  \n",
      "695  146  149   53  119   95   52    4  \n",
      "696  133   90   44  104   80   43   51  \n",
      "697  227   56   65  174  127   65   69  \n",
      "698   37  383   20   21    1   21   46  \n",
      "699  204   96   30  147  106   30   85  \n",
      "\n",
      "[700 rows x 120 columns]\n"
     ]
    }
   ],
   "source": [
    "arcene_test_with_kbfeat_filtered = skb.transform(arcene_test_with_kbfeat)\n",
    "\n",
    "arcene_test_with_kbfeat_filtered = pd.DataFrame(arcene_test_with_kbfeat_filtered)\n",
    "\n",
    "print(arcene_test_with_kbfeat_filtered)"
   ],
   "metadata": {
    "collapsed": false,
    "ExecuteTime": {
     "end_time": "2023-12-11T10:46:23.969135400Z",
     "start_time": "2023-12-11T10:46:23.854780300Z"
    }
   },
   "id": "6885ac81958b082d"
  },
  {
   "cell_type": "markdown",
   "source": [
    "# Prétraitement des données\n",
    "\n",
    "### Suppression des lignes dupliquées et des lignes avec des valeurs manquantes"
   ],
   "metadata": {
    "collapsed": false
   },
   "id": "79a19ad299a54645"
  },
  {
   "cell_type": "code",
   "execution_count": 19,
   "outputs": [
    {
     "name": "stdout",
     "output_type": "stream",
     "text": [
      "Missing values detected:  False\n",
      "Duplicate rows detected:  False\n",
      "    0      1      2      3      4      5      6      7      8      9      ...  \\\n",
      "0       0     71      0     95      0    538    404     20      0      0  ...   \n",
      "1       0     41     82    165     60    554    379      0     71      0  ...   \n",
      "2       0      0      1     40      0    451    402      0      0      0  ...   \n",
      "3       0     56     44    275     14    511    470      0      0      0  ...   \n",
      "4     105      0    141    348      0    268    329      0      0      1  ...   \n",
      "..    ...    ...    ...    ...    ...    ...    ...    ...    ...    ...  ...   \n",
      "95     24     26      0    461      0    545      0     17    159    177  ...   \n",
      "96     40      0      0    419     71    502      0     39     93    163  ...   \n",
      "97      2     15     48    677      0    434    442      0     43      0  ...   \n",
      "98      8      0     38    205     69    419    454      0    113      3  ...   \n",
      "99      0      0      0    148      0    583      0      6    130    112  ...   \n",
      "\n",
      "    9991   9992   9993   9994   9995   9996   9997   9998   9999   10000  \n",
      "0     570     86      0     36      0     80      0      0    524   True  \n",
      "1     605     69      7    473      0     57      0    284    423  False  \n",
      "2     593     28      0     24      0     90      0     34    508   True  \n",
      "3     600      0     26     86      0    102      0      0    469   True  \n",
      "4       0      0      0      0    190    301      0      0    354  False  \n",
      "..    ...    ...    ...    ...    ...    ...    ...    ...    ...    ...  \n",
      "95    460     22     26    130    306    182      0     94    336  False  \n",
      "96    436      0     68     61    295    133      0      0    292  False  \n",
      "97    628      0      7    228      0    105      0      0    453   True  \n",
      "98    587    148     27    656      0    133      0    189    403  False  \n",
      "99    477      0      0    111    414    210      0     10    365   True  \n",
      "\n",
      "[100 rows x 10001 columns]\n"
     ]
    }
   ],
   "source": [
    "missing_values = False\n",
    "duplicates = False\n",
    "\n",
    "if arcene_train_concatinated.isna().values.any():\n",
    "    missing_values = True\n",
    "    arcene_train_concatinated.dropna(inpLace=True)\n",
    "\n",
    "if arcene_train_concatinated.duplicated().any():\n",
    "    duplicates = True\n",
    "    arcene_train_concatinated.drop_duplicates(inpLace=True)\n",
    "    \n",
    "# Resume\n",
    "print(\"Missing values detected: \", missing_values)\n",
    "print(\"Duplicate rows detected: \", duplicates)\n",
    "\n",
    "print(arcene_train_concatinated)"
   ],
   "metadata": {
    "collapsed": false,
    "ExecuteTime": {
     "end_time": "2023-12-11T10:46:25.092056700Z",
     "start_time": "2023-12-11T10:46:23.958835400Z"
    }
   },
   "id": "e1bfe1aaca1383f0"
  },
  {
   "cell_type": "markdown",
   "source": [
    "### Visualisation exemplaire d'un diagramme de dispersion"
   ],
   "metadata": {
    "collapsed": false
   },
   "id": "67b3699bd1246d7"
  },
  {
   "cell_type": "code",
   "execution_count": 20,
   "outputs": [
    {
     "data": {
      "text/plain": "<Figure size 2375x1900 with 9 Axes>",
      "image/png": "[encoded data removed]"
     },
     "metadata": {},
     "output_type": "display_data"
    }
   ],
   "source": [
    "fig, axs = plt.subplots(9,1,dpi=95, figsize=(25,20))\n",
    "i = 0\n",
    "for col in range(9):\n",
    "    axs[i].boxplot(arcene_train_concatinated[col], vert=False)\n",
    "    axs[i].set_ylabel(col)\n",
    "    i+=1\n",
    "plt.show()"
   ],
   "metadata": {
    "collapsed": false,
    "ExecuteTime": {
     "end_time": "2023-12-11T10:46:26.724143400Z",
     "start_time": "2023-12-11T10:46:25.097531700Z"
    }
   },
   "id": "84c1e66977ef59df"
  },
  {
   "cell_type": "markdown",
   "source": [
    "### Suppression des valeurs extrêmes (valeurs aberrantes)\n",
    "##### Il existe de nombreuses techniques pour supprimer les valeurs aberrantes. Nous allons essayer l'approche basée sur le Z-score et le percentile.\n",
    "\n",
    "##### Approche du score Z :"
   ],
   "metadata": {
    "collapsed": false
   },
   "id": "151d0b62444cbb84"
  },
  {
   "cell_type": "code",
   "execution_count": 21,
   "outputs": [
    {
     "name": "stdout",
     "output_type": "stream",
     "text": [
      "Number of outliers detected:  0\n",
      "    0      1      2      3      4      5      6      7      8      9      ...  \\\n",
      "0       0     71      0     95      0    538    404     20      0      0  ...   \n",
      "1       0     41     82    165     60    554    379      0     71      0  ...   \n",
      "2       0      0      1     40      0    451    402      0      0      0  ...   \n",
      "3       0     56     44    275     14    511    470      0      0      0  ...   \n",
      "4     105      0    141    348      0    268    329      0      0      1  ...   \n",
      "..    ...    ...    ...    ...    ...    ...    ...    ...    ...    ...  ...   \n",
      "95     24     26      0    461      0    545      0     17    159    177  ...   \n",
      "96     40      0      0    419     71    502      0     39     93    163  ...   \n",
      "97      2     15     48    677      0    434    442      0     43      0  ...   \n",
      "98      8      0     38    205     69    419    454      0    113      3  ...   \n",
      "99      0      0      0    148      0    583      0      6    130    112  ...   \n",
      "\n",
      "    9991   9992   9993   9994   9995   9996   9997   9998   9999   10000  \n",
      "0     570     86      0     36      0     80      0      0    524   True  \n",
      "1     605     69      7    473      0     57      0    284    423  False  \n",
      "2     593     28      0     24      0     90      0     34    508   True  \n",
      "3     600      0     26     86      0    102      0      0    469   True  \n",
      "4       0      0      0      0    190    301      0      0    354  False  \n",
      "..    ...    ...    ...    ...    ...    ...    ...    ...    ...    ...  \n",
      "95    460     22     26    130    306    182      0     94    336  False  \n",
      "96    436      0     68     61    295    133      0      0    292  False  \n",
      "97    628      0      7    228      0    105      0      0    453   True  \n",
      "98    587    148     27    656      0    133      0    189    403  False  \n",
      "99    477      0      0    111    414    210      0     10    365   True  \n",
      "\n",
      "[100 rows x 10001 columns]\n"
     ]
    }
   ],
   "source": [
    "processed_arcene_train_zscore = arcene_train_concatinated.copy()\n",
    "\n",
    "for col in arcene_train_concatinated.columns:\n",
    "    processed_arcene_train_zscore[np.abs(stats.zscore(processed_arcene_train_zscore[col])) < 3]\n",
    "    \n",
    "# Resume\n",
    "print(\"Number of outliers detected: \", 100 - processed_arcene_train_zscore.shape[0])\n",
    "\n",
    "print(processed_arcene_train_zscore)"
   ],
   "metadata": {
    "collapsed": false,
    "ExecuteTime": {
     "end_time": "2023-12-11T10:47:12.511801500Z",
     "start_time": "2023-12-11T10:46:26.727500800Z"
    }
   },
   "id": "712545fff6a175cb"
  },
  {
   "cell_type": "markdown",
   "source": [
    "##### Approche basée sur les percentiles :\n",
    "\n",
    "Exemple de calcul des percentiles et de l'intervalle interquartile (IQR) pour une colonne"
   ],
   "metadata": {
    "collapsed": false
   },
   "id": "bf9197c616db3930"
  },
  {
   "cell_type": "code",
   "execution_count": 22,
   "outputs": [
    {
     "name": "stdout",
     "output_type": "stream",
     "text": [
      "0.0 58.0 58.0 145.0 -87.0\n"
     ]
    }
   ],
   "source": [
    "q1, q3 = np.percentile(arcene_train_concatinated[0], [25, 75], method='midpoint')\n",
    "iqr = q3 - q1\n",
    "upper_bound = q3 + (1.5 * iqr)\n",
    "lower_bound = q1 - (1.5 * iqr)\n",
    "\n",
    "print(q1, q3, iqr, upper_bound, lower_bound)"
   ],
   "metadata": {
    "collapsed": false,
    "ExecuteTime": {
     "end_time": "2023-12-11T10:47:12.524183600Z",
     "start_time": "2023-12-11T10:47:12.517613700Z"
    }
   },
   "id": "babf0babf980b0c4"
  },
  {
   "cell_type": "markdown",
   "source": [
    "Suppression des valeurs aberrantes pour toutes les colonnes avec la méthode des percentiles:"
   ],
   "metadata": {
    "collapsed": false
   },
   "id": "4b4f354517302fe8"
  },
  {
   "cell_type": "code",
   "execution_count": 23,
   "outputs": [],
   "source": [
    "# processed_arcene_train_per = arcene_train_concatinated.copy()\n",
    "# \n",
    "# for col in processed_arcene_train_per.columns[0:10000]:\n",
    "#     print(processed_arcene_train_per.shape)\n",
    "#     if processed_arcene_train_per.shape[0] != 0:\n",
    "#         q1, q3 = np.percentile(processed_arcene_train_per[col], [25, 75], method='midpoint')\n",
    "#         iqr = q3 - q1\n",
    "#         upper_bound = q3 + (1.5 * iqr)\n",
    "#         lower_bound = q1 - (1.5 * iqr)\n",
    "#     \n",
    "#         # # Create arrays of Boolean values indicating the outlier rows\n",
    "#         # upper_array = np.where(processed_arcene_train_per[col] >= upper_bound)[0]\n",
    "#         # lower_array = np.where(processed_arcene_train_per[col] <= lower_bound)[0]\n",
    "#         # \n",
    "#         # # Removing the outliers\n",
    "#         # for i, j in zip(upper_array, lower_array):\n",
    "#         #     if i in processed_arcene_train_per.index:\n",
    "#         #         processed_arcene_train_per.drop(index=upper_array, inplace=True)\n",
    "#         #     if j in processed_arcene_train_per.index:\n",
    "#         #         processed_arcene_train_per.drop(index=lower_array, inplace=True)\n",
    "#         \n",
    "#         processed_arcene_train_per = processed_arcene_train_per[((processed_arcene_train_per > lower_bound) & (processed_arcene_train_per < upper_bound)).any(axis=1)]\n",
    "# \n",
    "# # Resume\n",
    "# print(\"Number of outliers detected: \", 100 - processed_arcene_train_per.shape[0])\n",
    "# \n",
    "# print(processed_arcene_train_per)"
   ],
   "metadata": {
    "collapsed": false,
    "ExecuteTime": {
     "end_time": "2023-12-11T10:47:12.585768500Z",
     "start_time": "2023-12-11T10:47:12.524938Z"
    }
   },
   "id": "886d15e2e5b9486b"
  },
  {
   "cell_type": "code",
   "execution_count": 24,
   "outputs": [
    {
     "data": {
      "text/plain": "<Figure size 2500x300 with 1 Axes>",
      "image/png": "[encoded data removed]"
     },
     "metadata": {},
     "output_type": "display_data"
    }
   ],
   "source": [
    "fig, axs = plt.subplots(dpi=100, figsize=(25,3))\n",
    "axs.boxplot(arcene_train_concatinated[11], vert=False)\n",
    "axs.set_ylabel(11)\n",
    "plt.show()"
   ],
   "metadata": {
    "collapsed": false,
    "ExecuteTime": {
     "end_time": "2023-12-11T10:47:12.738108700Z",
     "start_time": "2023-12-11T10:47:12.539023700Z"
    }
   },
   "id": "326fe46929965b87"
  },
  {
   "cell_type": "markdown",
   "source": [
    "A la 11eme iterration, nous avons supprimé toutes les lignes de l'ensemble de données, puisque l'algorithme trouve que toutes les valeurs sont aberrantes, comme on voit dans le diagramme de dispersion ci-dessus."
   ],
   "metadata": {
    "collapsed": false
   },
   "id": "b64570f25f0c91a7"
  },
  {
   "cell_type": "markdown",
   "source": [
    "Mais il y a un problème avec cette approche. à un moment donné, nous supprimons trop de lignes et nous nous retrouvons avec un ensemble de données vide. (Precisement lors du traitement de la colonne 11). Donc on doit modifier l'approche pour saute les colonnes ou toutes les valeurs sont aberrantes, ou ne pas utiilies la méthode des percentiles."
   ],
   "metadata": {
    "collapsed": false
   },
   "id": "83835d2e4ad34f8f"
  }
 ],
 "metadata": {
  "kernelspec": {
   "display_name": "Python 3",
   "language": "python",
   "name": "python3"
  },
  "language_info": {
   "codemirror_mode": {
    "name": "ipython",
    "version": 2
   },
   "file_extension": ".py",
   "mimetype": "text/x-python",
   "name": "python",
   "nbconvert_exporter": "python",
   "pygments_lexer": "ipython2",
   "version": "2.7.6"
  }
 },
 "nbformat": 4,
 "nbformat_minor": 5
}
