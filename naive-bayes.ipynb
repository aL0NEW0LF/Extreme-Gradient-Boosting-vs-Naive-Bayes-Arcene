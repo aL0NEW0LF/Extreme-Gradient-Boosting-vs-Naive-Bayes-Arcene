{
 "cells": [
  {
   "cell_type": "markdown",
   "source": [
    "# Importation de bibliothèques"
   ],
   "metadata": {
    "collapsed": false
   },
   "id": "77c8c426f8d2b099"
  },
  {
   "cell_type": "code",
   "execution_count": 71,
   "id": "initial_id",
   "metadata": {
    "collapsed": true,
    "ExecuteTime": {
     "end_time": "2023-12-11T14:50:01.574030700Z",
     "start_time": "2023-12-11T14:50:00.533963400Z"
    }
   },
   "outputs": [],
   "source": [
    "import os\n",
    "import pandas as pd\n",
    "import numpy as np\n",
    "from scipy import stats\n",
    "import matplotlib.pyplot as plt\n",
    "import seaborn as sns\n",
    "from sklearn import metrics\n",
    "import math\n",
    "import random\n",
    "from sklearn.naive_bayes import GaussianNB\n",
    "from sklearn.feature_selection import SelectKBest, f_classif"
   ]
  },
  {
   "cell_type": "markdown",
   "source": [
    "# Chargement des données"
   ],
   "metadata": {
    "collapsed": false
   },
   "id": "3e0c5c1e6ea8afbe"
  },
  {
   "cell_type": "code",
   "execution_count": 72,
   "outputs": [],
   "source": [
    "arcene_train = pd.read_csv(\"./data/ARCENE/arcene_train.data\", sep=\" \", header=None).drop([10000], axis=1)\n",
    "arcene_train_labels = pd.read_csv(\"./data/ARCENE/arcene_train.labels\", sep=\" \", header=None)\n",
    "arcene_valid = pd.read_csv(\"./data/ARCENE/arcene_valid.data\", sep=\" \", header=None).drop([10000], axis=1)\n",
    "arcene_valid_labels = pd.read_csv(\"./data/arcene_valid.labels\", sep=\" \", header=None)\n",
    "arcene_test = pd.read_csv(\"./data/ARCENE/arcene_test.data\", sep=\" \", header=None).drop([10000], axis=1)"
   ],
   "metadata": {
    "collapsed": false,
    "ExecuteTime": {
     "end_time": "2023-12-11T14:50:04.144921600Z",
     "start_time": "2023-12-11T14:50:01.533361700Z"
    }
   },
   "id": "a710f172f52abb5a"
  },
  {
   "cell_type": "code",
   "execution_count": 73,
   "outputs": [],
   "source": [
    "# valid_column_means = arcene_valid.mean()\n",
    "# \n",
    "# train_column_means = arcene_train.mean()"
   ],
   "metadata": {
    "collapsed": false,
    "ExecuteTime": {
     "end_time": "2023-12-11T14:50:04.152805600Z",
     "start_time": "2023-12-11T14:50:04.148066500Z"
    }
   },
   "id": "e99f7fc8a3169d6b"
  },
  {
   "cell_type": "code",
   "execution_count": 74,
   "outputs": [],
   "source": [
    "# arcene_valid = arcene_valid.replace(0, valid_column_means)\n",
    "# arcene_train = arcene_train.replace(0, train_column_means)"
   ],
   "metadata": {
    "collapsed": false,
    "ExecuteTime": {
     "end_time": "2023-12-11T14:50:04.208175300Z",
     "start_time": "2023-12-11T14:50:04.151778800Z"
    }
   },
   "id": "326f11a5b488aadc"
  },
  {
   "cell_type": "markdown",
   "source": [
    "# Remplacement des classes cibles de [-1, 1] à [False, True]"
   ],
   "metadata": {
    "collapsed": false
   },
   "id": "287efb4bafbd5220"
  },
  {
   "cell_type": "code",
   "execution_count": 75,
   "outputs": [
    {
     "data": {
      "text/plain": "        0\n0    True\n1   False\n2    True\n3    True\n4   False\n..    ...\n95  False\n96  False\n97   True\n98  False\n99   True\n\n[100 rows x 1 columns]",
      "text/html": "<div>\n<style scoped>\n    .dataframe tbody tr th:only-of-type {\n        vertical-align: middle;\n    }\n\n    .dataframe tbody tr th {\n        vertical-align: top;\n    }\n\n    .dataframe thead th {\n        text-align: right;\n    }\n</style>\n<table border=\"1\" class=\"dataframe\">\n  <thead>\n    <tr style=\"text-align: right;\">\n      <th></th>\n      <th>0</th>\n    </tr>\n  </thead>\n  <tbody>\n    <tr>\n      <th>0</th>\n      <td>True</td>\n    </tr>\n    <tr>\n      <th>1</th>\n      <td>False</td>\n    </tr>\n    <tr>\n      <th>2</th>\n      <td>True</td>\n    </tr>\n    <tr>\n      <th>3</th>\n      <td>True</td>\n    </tr>\n    <tr>\n      <th>4</th>\n      <td>False</td>\n    </tr>\n    <tr>\n      <th>...</th>\n      <td>...</td>\n    </tr>\n    <tr>\n      <th>95</th>\n      <td>False</td>\n    </tr>\n    <tr>\n      <th>96</th>\n      <td>False</td>\n    </tr>\n    <tr>\n      <th>97</th>\n      <td>True</td>\n    </tr>\n    <tr>\n      <th>98</th>\n      <td>False</td>\n    </tr>\n    <tr>\n      <th>99</th>\n      <td>True</td>\n    </tr>\n  </tbody>\n</table>\n<p>100 rows × 1 columns</p>\n</div>"
     },
     "execution_count": 75,
     "metadata": {},
     "output_type": "execute_result"
    }
   ],
   "source": [
    "arcene_valid_labels = arcene_valid_labels.replace({1: True, -1: False})\n",
    "\n",
    "arcene_train_labels = arcene_train_labels.replace({1: True, -1: False})\n",
    "\n",
    "arcene_train_labels"
   ],
   "metadata": {
    "collapsed": false,
    "ExecuteTime": {
     "end_time": "2023-12-11T14:50:04.212879700Z",
     "start_time": "2023-12-11T14:50:04.173233500Z"
    }
   },
   "id": "96c28e89bb59536d"
  },
  {
   "cell_type": "code",
   "execution_count": 76,
   "outputs": [],
   "source": [
    "# arcene_train_concatinated = pd.concat([arcene_train, arcene_train_labels], axis=1, ignore_index=True)\n",
    "# \n",
    "# arcene_valid_concatinated = pd.concat([arcene_valid, arcene_valid_labels], axis=1, ignore_index=True)"
   ],
   "metadata": {
    "collapsed": false,
    "ExecuteTime": {
     "end_time": "2023-12-11T14:50:04.237021700Z",
     "start_time": "2023-12-11T14:50:04.188843500Z"
    }
   },
   "id": "422f0ff73c87ef34"
  },
  {
   "cell_type": "markdown",
   "source": [
    "# Vérifier si l'ensemble de données est équilibré"
   ],
   "metadata": {
    "collapsed": false
   },
   "id": "e8d9bbaff4116a6a"
  },
  {
   "cell_type": "code",
   "execution_count": 77,
   "outputs": [
    {
     "name": "stdout",
     "output_type": "stream",
     "text": [
      "       0  count\n",
      "0  False     56\n",
      "1   True     44\n"
     ]
    },
    {
     "data": {
      "text/plain": "<Axes: xlabel='0', ylabel='count'>"
     },
     "execution_count": 77,
     "metadata": {},
     "output_type": "execute_result"
    },
    {
     "data": {
      "text/plain": "<Figure size 640x480 with 1 Axes>",
      "image/png": "[encoded data removed]"
     },
     "metadata": {},
     "output_type": "display_data"
    }
   ],
   "source": [
    "xx = arcene_train_labels[0].value_counts().reset_index()\n",
    "print(xx)\n",
    "sns.barplot(x=0, y='count', data=xx)"
   ],
   "metadata": {
    "collapsed": false,
    "ExecuteTime": {
     "end_time": "2023-12-11T14:50:04.542534100Z",
     "start_time": "2023-12-11T14:50:04.196153100Z"
    }
   },
   "id": "91369f598f20e2e2"
  },
  {
   "cell_type": "markdown",
   "source": [
    "# Selection des features (caracteristiques)\n",
    "Due que nous avons 10000 features avec des features aleatoires pour perturber le dataset et les algorithms, nous allons selectionner les features les plus importantes pour notre dataset.\n",
    "\n",
    "Nous allons utiliser une methode pour selectionner les features les plus importants :\n",
    "- K-best features"
   ],
   "metadata": {
    "collapsed": false
   },
   "id": "6ba6f717ec509a0"
  },
  {
   "cell_type": "markdown",
   "source": [
    "Avant faire ceci, le dataset contient des colonnes avec des valeurs constantes, donc on doit les supprimer."
   ],
   "metadata": {
    "collapsed": false
   },
   "id": "8cca8bde7443d779"
  },
  {
   "cell_type": "markdown",
   "source": [
    "Cette methode est utilisee pour trouver les colonnes non constantes :"
   ],
   "metadata": {
    "collapsed": false
   },
   "id": "8062d8966c8ec4bb"
  },
  {
   "cell_type": "code",
   "execution_count": 78,
   "outputs": [],
   "source": [
    "def get_non_constant_columns(dataframe):\n",
    "    return [col for col in dataframe.columns if len(dataframe[col].unique()) > 1]\n",
    "\n",
    "keep_columns = get_non_constant_columns(arcene_train)"
   ],
   "metadata": {
    "collapsed": false,
    "ExecuteTime": {
     "end_time": "2023-12-11T14:50:05.821675Z",
     "start_time": "2023-12-11T14:50:04.399367100Z"
    }
   },
   "id": "5e1c9f98bef0d648"
  },
  {
   "cell_type": "markdown",
   "source": [
    "Pour qu'on apres les laisser dans le dataset."
   ],
   "metadata": {
    "collapsed": false
   },
   "id": "daf545ebe78c1873"
  },
  {
   "cell_type": "code",
   "execution_count": 79,
   "outputs": [],
   "source": [
    "arcene_train = arcene_train[keep_columns]\n",
    "\n",
    "arcene_valid = arcene_valid[keep_columns]\n",
    "\n",
    "arcene_test = arcene_test[keep_columns]"
   ],
   "metadata": {
    "collapsed": false,
    "ExecuteTime": {
     "end_time": "2023-12-11T14:50:05.921386300Z",
     "start_time": "2023-12-11T14:50:05.831913400Z"
    }
   },
   "id": "71b762c90e66b635"
  },
  {
   "cell_type": "markdown",
   "source": [
    "Maintenant on peut utiliser la methode K-best pour selectionner les 120 meilleures caracteristiques.\n",
    "\n",
    "On va utiliser la fonction f_classif pour calculer la corrélation entre chaque caractéristique et la variable cible."
   ],
   "metadata": {
    "collapsed": false
   },
   "id": "9705215e7713e711"
  },
  {
   "cell_type": "code",
   "execution_count": 80,
   "outputs": [
    {
     "name": "stdout",
     "output_type": "stream",
     "text": [
      "Number of features before feature selection: 9920\n",
      "Number of features after feature selection: 120\n",
      "Features selected: [   4    9   65   85  108  289  306  370  381  408  429  459  461  479\n",
      "  530  686  770  789  846  860  901  970 1135 1171 1463 1707 1732 1734\n",
      " 1773 1835 1869 1959 2117 2207 2289 2618 2676 2792 2840 3232 3336 3341\n",
      " 3527 3573 3584 3660 3693 3787 3952 4036 4087 4149 4253 4481 4518 4587\n",
      " 4743 4833 4914 4927 4959 4994 5136 5423 5704 5756 5853 5989 6070 6148\n",
      " 6423 6443 6528 6625 6642 6707 6716 6869 6972 7032 7039 7101 7134 7156\n",
      " 7365 7406 7476 7562 7585 7589 7635 7651 7668 7682 7790 7846 7854 7909\n",
      " 7926 8080 8196 8275 8290 8297 8340 8390 8411 8431 8514 8712 8729 8733\n",
      " 8757 8951 9202 9506 9538 9571 9580 9664]\n"
     ]
    },
    {
     "name": "stderr",
     "output_type": "stream",
     "text": [
      "D:\\FST\\MST - AIDS\\S1\\ML\\PROJECTS\\DEVOIR2\\venv\\Lib\\site-packages\\sklearn\\utils\\validation.py:1183: DataConversionWarning: A column-vector y was passed when a 1d array was expected. Please change the shape of y to (n_samples, ), for example using ravel().\n",
      "  y = column_or_1d(y, warn=True)\n"
     ]
    }
   ],
   "source": [
    "# Create a SelectKBest object\n",
    "skb = SelectKBest(score_func=f_classif, # Set f_classif as our criteria to select features\n",
    "                  k=120)                  # Select top two features based on the criteria\n",
    "\n",
    "# Train and transform the dataset according to the SelectKBest\n",
    "arcene_train_filtered = skb.fit_transform(arcene_train, arcene_train_labels)\n",
    "\n",
    "# Print the results\n",
    "print('Number of features before feature selection: {}'.format(arcene_train.shape[1]))\n",
    "print('Number of features after feature selection: {}'.format(arcene_train_filtered.shape[1]))\n",
    "print('Features selected: {}'.format(skb.get_support(indices=True)))"
   ],
   "metadata": {
    "collapsed": false,
    "ExecuteTime": {
     "end_time": "2023-12-11T14:50:06.225758300Z",
     "start_time": "2023-12-11T14:50:05.937394800Z"
    }
   },
   "id": "da00155ee820bc6b"
  },
  {
   "cell_type": "markdown",
   "source": [
    "# Concaténation des données d'apprentissage et des étiquettes"
   ],
   "metadata": {
    "collapsed": false
   },
   "id": "431c213507b83cb5"
  },
  {
   "cell_type": "code",
   "execution_count": 81,
   "outputs": [
    {
     "data": {
      "text/plain": "    0    1    2    3    4    5    6    7    8    9    ...  111  112  113  114  \\\n0     0    0    0    0    0  466    3    0    0    6  ...    0    0    5  450   \n1    60    0    9    0    0  395   92   85    0   83  ...    0   66   75  337   \n2     0    0    0    0    0  483   19    2    0   21  ...    0    0   20  399   \n3    14    0    0    0    0  439   56   42    0   55  ...    0   45   52  476   \n4     0    1    0   38    0  342   44   19    0   49  ...   28  111   48  292   \n..  ...  ...  ...  ...  ...  ...  ...  ...  ...  ...  ...  ...  ...  ...  ...   \n95    0  177  164    0  200    0  183  152  203  194  ...    0    7  198   94   \n96   71  163  159   43  136    0  190  171  136  195  ...   38   67  197   68   \n97    0    0    0   15    0  467    0    4    0    2  ...   25    0    3  469   \n98   69    3   19   14    0  420   12   26    0   10  ...   25   41    9  432   \n99    0  112  100    0  174    0  111   94  177  117  ...    0    7  120  282   \n\n    115  116  117  118  119    120  \n0     0    0    0    0    8   True  \n1    27   89   59   31   65  False  \n2     0    6    0    0    0   True  \n3     0   46   18    0   51   True  \n4     0   24    1    0  122  False  \n..  ...  ...  ...  ...  ...    ...  \n95    5  157  130    2   10  False  \n96   65  175  151   66   65  False  \n97    0    3    0    0    0   True  \n98   50   22   41   51   32  False  \n99    0   98   83    0    7   True  \n\n[100 rows x 121 columns]",
      "text/html": "<div>\n<style scoped>\n    .dataframe tbody tr th:only-of-type {\n        vertical-align: middle;\n    }\n\n    .dataframe tbody tr th {\n        vertical-align: top;\n    }\n\n    .dataframe thead th {\n        text-align: right;\n    }\n</style>\n<table border=\"1\" class=\"dataframe\">\n  <thead>\n    <tr style=\"text-align: right;\">\n      <th></th>\n      <th>0</th>\n      <th>1</th>\n      <th>2</th>\n      <th>3</th>\n      <th>4</th>\n      <th>5</th>\n      <th>6</th>\n      <th>7</th>\n      <th>8</th>\n      <th>9</th>\n      <th>...</th>\n      <th>111</th>\n      <th>112</th>\n      <th>113</th>\n      <th>114</th>\n      <th>115</th>\n      <th>116</th>\n      <th>117</th>\n      <th>118</th>\n      <th>119</th>\n      <th>120</th>\n    </tr>\n  </thead>\n  <tbody>\n    <tr>\n      <th>0</th>\n      <td>0</td>\n      <td>0</td>\n      <td>0</td>\n      <td>0</td>\n      <td>0</td>\n      <td>466</td>\n      <td>3</td>\n      <td>0</td>\n      <td>0</td>\n      <td>6</td>\n      <td>...</td>\n      <td>0</td>\n      <td>0</td>\n      <td>5</td>\n      <td>450</td>\n      <td>0</td>\n      <td>0</td>\n      <td>0</td>\n      <td>0</td>\n      <td>8</td>\n      <td>True</td>\n    </tr>\n    <tr>\n      <th>1</th>\n      <td>60</td>\n      <td>0</td>\n      <td>9</td>\n      <td>0</td>\n      <td>0</td>\n      <td>395</td>\n      <td>92</td>\n      <td>85</td>\n      <td>0</td>\n      <td>83</td>\n      <td>...</td>\n      <td>0</td>\n      <td>66</td>\n      <td>75</td>\n      <td>337</td>\n      <td>27</td>\n      <td>89</td>\n      <td>59</td>\n      <td>31</td>\n      <td>65</td>\n      <td>False</td>\n    </tr>\n    <tr>\n      <th>2</th>\n      <td>0</td>\n      <td>0</td>\n      <td>0</td>\n      <td>0</td>\n      <td>0</td>\n      <td>483</td>\n      <td>19</td>\n      <td>2</td>\n      <td>0</td>\n      <td>21</td>\n      <td>...</td>\n      <td>0</td>\n      <td>0</td>\n      <td>20</td>\n      <td>399</td>\n      <td>0</td>\n      <td>6</td>\n      <td>0</td>\n      <td>0</td>\n      <td>0</td>\n      <td>True</td>\n    </tr>\n    <tr>\n      <th>3</th>\n      <td>14</td>\n      <td>0</td>\n      <td>0</td>\n      <td>0</td>\n      <td>0</td>\n      <td>439</td>\n      <td>56</td>\n      <td>42</td>\n      <td>0</td>\n      <td>55</td>\n      <td>...</td>\n      <td>0</td>\n      <td>45</td>\n      <td>52</td>\n      <td>476</td>\n      <td>0</td>\n      <td>46</td>\n      <td>18</td>\n      <td>0</td>\n      <td>51</td>\n      <td>True</td>\n    </tr>\n    <tr>\n      <th>4</th>\n      <td>0</td>\n      <td>1</td>\n      <td>0</td>\n      <td>38</td>\n      <td>0</td>\n      <td>342</td>\n      <td>44</td>\n      <td>19</td>\n      <td>0</td>\n      <td>49</td>\n      <td>...</td>\n      <td>28</td>\n      <td>111</td>\n      <td>48</td>\n      <td>292</td>\n      <td>0</td>\n      <td>24</td>\n      <td>1</td>\n      <td>0</td>\n      <td>122</td>\n      <td>False</td>\n    </tr>\n    <tr>\n      <th>...</th>\n      <td>...</td>\n      <td>...</td>\n      <td>...</td>\n      <td>...</td>\n      <td>...</td>\n      <td>...</td>\n      <td>...</td>\n      <td>...</td>\n      <td>...</td>\n      <td>...</td>\n      <td>...</td>\n      <td>...</td>\n      <td>...</td>\n      <td>...</td>\n      <td>...</td>\n      <td>...</td>\n      <td>...</td>\n      <td>...</td>\n      <td>...</td>\n      <td>...</td>\n      <td>...</td>\n    </tr>\n    <tr>\n      <th>95</th>\n      <td>0</td>\n      <td>177</td>\n      <td>164</td>\n      <td>0</td>\n      <td>200</td>\n      <td>0</td>\n      <td>183</td>\n      <td>152</td>\n      <td>203</td>\n      <td>194</td>\n      <td>...</td>\n      <td>0</td>\n      <td>7</td>\n      <td>198</td>\n      <td>94</td>\n      <td>5</td>\n      <td>157</td>\n      <td>130</td>\n      <td>2</td>\n      <td>10</td>\n      <td>False</td>\n    </tr>\n    <tr>\n      <th>96</th>\n      <td>71</td>\n      <td>163</td>\n      <td>159</td>\n      <td>43</td>\n      <td>136</td>\n      <td>0</td>\n      <td>190</td>\n      <td>171</td>\n      <td>136</td>\n      <td>195</td>\n      <td>...</td>\n      <td>38</td>\n      <td>67</td>\n      <td>197</td>\n      <td>68</td>\n      <td>65</td>\n      <td>175</td>\n      <td>151</td>\n      <td>66</td>\n      <td>65</td>\n      <td>False</td>\n    </tr>\n    <tr>\n      <th>97</th>\n      <td>0</td>\n      <td>0</td>\n      <td>0</td>\n      <td>15</td>\n      <td>0</td>\n      <td>467</td>\n      <td>0</td>\n      <td>4</td>\n      <td>0</td>\n      <td>2</td>\n      <td>...</td>\n      <td>25</td>\n      <td>0</td>\n      <td>3</td>\n      <td>469</td>\n      <td>0</td>\n      <td>3</td>\n      <td>0</td>\n      <td>0</td>\n      <td>0</td>\n      <td>True</td>\n    </tr>\n    <tr>\n      <th>98</th>\n      <td>69</td>\n      <td>3</td>\n      <td>19</td>\n      <td>14</td>\n      <td>0</td>\n      <td>420</td>\n      <td>12</td>\n      <td>26</td>\n      <td>0</td>\n      <td>10</td>\n      <td>...</td>\n      <td>25</td>\n      <td>41</td>\n      <td>9</td>\n      <td>432</td>\n      <td>50</td>\n      <td>22</td>\n      <td>41</td>\n      <td>51</td>\n      <td>32</td>\n      <td>False</td>\n    </tr>\n    <tr>\n      <th>99</th>\n      <td>0</td>\n      <td>112</td>\n      <td>100</td>\n      <td>0</td>\n      <td>174</td>\n      <td>0</td>\n      <td>111</td>\n      <td>94</td>\n      <td>177</td>\n      <td>117</td>\n      <td>...</td>\n      <td>0</td>\n      <td>7</td>\n      <td>120</td>\n      <td>282</td>\n      <td>0</td>\n      <td>98</td>\n      <td>83</td>\n      <td>0</td>\n      <td>7</td>\n      <td>True</td>\n    </tr>\n  </tbody>\n</table>\n<p>100 rows × 121 columns</p>\n</div>"
     },
     "execution_count": 81,
     "metadata": {},
     "output_type": "execute_result"
    }
   ],
   "source": [
    "arcene_train_filtered = pd.DataFrame(arcene_train_filtered)\n",
    "\n",
    "arcene_train_filtered_concatinated = pd.concat([arcene_train_filtered, arcene_train_labels], axis=1, ignore_index=True)\n",
    "\n",
    "arcene_train_filtered_concatinated"
   ],
   "metadata": {
    "collapsed": false,
    "ExecuteTime": {
     "end_time": "2023-12-11T14:50:06.261951900Z",
     "start_time": "2023-12-11T14:50:06.231029500Z"
    }
   },
   "id": "c5c1709445889d8c"
  },
  {
   "cell_type": "code",
   "execution_count": 82,
   "outputs": [
    {
     "data": {
      "text/plain": "    0    1    2    3    4    5    6    7    8    9    ...  111  112  113  114  \\\n0     2    0    0    1    0  410   21   40    0   14  ...    9    7   11  392   \n1     0  222  202    0  145    0  195  160  151  213  ...    0   17  222  169   \n2    53  147  133   39  143    0  137  106  142  145  ...   34   61  148   31   \n3     0    0    4    0    0  437   15   24    0   11  ...    0   42    9  453   \n4     2    0    0    0    0  470   21   24    0   16  ...    0    3   13  431   \n..  ...  ...  ...  ...  ...  ...  ...  ...  ...  ...  ...  ...  ...  ...  ...   \n95   92  261  254   86  297    0  274  254  298  282  ...   77  102  287  101   \n96  109  134  121   69  148  145  193  170  150  203  ...   68   91  206  130   \n97    0    0    0   15    0  263   17    0    0   20  ...    5   87   19  308   \n98    0    4    9    0    9  388   83   75    8   80  ...    0    0   78  323   \n99    0    0    1   46    0  277   55   25    0   55  ...   39  143   53  366   \n\n    115  116  117  118  119    120  \n0     0   38   41    0    0  False  \n1     4  164  147    3   12  False  \n2    61  113   73   59   58  False  \n3     0   23   10    0   27   True  \n4     0   25   13    0    0   True  \n..  ...  ...  ...  ...  ...    ...  \n95   88  257  230   86   97  False  \n96  101  173  153  101   89  False  \n97    0    1    0    0   95   True  \n98    0   79   50    0    0   True  \n99    0   33    0    0  155  False  \n\n[100 rows x 121 columns]",
      "text/html": "<div>\n<style scoped>\n    .dataframe tbody tr th:only-of-type {\n        vertical-align: middle;\n    }\n\n    .dataframe tbody tr th {\n        vertical-align: top;\n    }\n\n    .dataframe thead th {\n        text-align: right;\n    }\n</style>\n<table border=\"1\" class=\"dataframe\">\n  <thead>\n    <tr style=\"text-align: right;\">\n      <th></th>\n      <th>0</th>\n      <th>1</th>\n      <th>2</th>\n      <th>3</th>\n      <th>4</th>\n      <th>5</th>\n      <th>6</th>\n      <th>7</th>\n      <th>8</th>\n      <th>9</th>\n      <th>...</th>\n      <th>111</th>\n      <th>112</th>\n      <th>113</th>\n      <th>114</th>\n      <th>115</th>\n      <th>116</th>\n      <th>117</th>\n      <th>118</th>\n      <th>119</th>\n      <th>120</th>\n    </tr>\n  </thead>\n  <tbody>\n    <tr>\n      <th>0</th>\n      <td>2</td>\n      <td>0</td>\n      <td>0</td>\n      <td>1</td>\n      <td>0</td>\n      <td>410</td>\n      <td>21</td>\n      <td>40</td>\n      <td>0</td>\n      <td>14</td>\n      <td>...</td>\n      <td>9</td>\n      <td>7</td>\n      <td>11</td>\n      <td>392</td>\n      <td>0</td>\n      <td>38</td>\n      <td>41</td>\n      <td>0</td>\n      <td>0</td>\n      <td>False</td>\n    </tr>\n    <tr>\n      <th>1</th>\n      <td>0</td>\n      <td>222</td>\n      <td>202</td>\n      <td>0</td>\n      <td>145</td>\n      <td>0</td>\n      <td>195</td>\n      <td>160</td>\n      <td>151</td>\n      <td>213</td>\n      <td>...</td>\n      <td>0</td>\n      <td>17</td>\n      <td>222</td>\n      <td>169</td>\n      <td>4</td>\n      <td>164</td>\n      <td>147</td>\n      <td>3</td>\n      <td>12</td>\n      <td>False</td>\n    </tr>\n    <tr>\n      <th>2</th>\n      <td>53</td>\n      <td>147</td>\n      <td>133</td>\n      <td>39</td>\n      <td>143</td>\n      <td>0</td>\n      <td>137</td>\n      <td>106</td>\n      <td>142</td>\n      <td>145</td>\n      <td>...</td>\n      <td>34</td>\n      <td>61</td>\n      <td>148</td>\n      <td>31</td>\n      <td>61</td>\n      <td>113</td>\n      <td>73</td>\n      <td>59</td>\n      <td>58</td>\n      <td>False</td>\n    </tr>\n    <tr>\n      <th>3</th>\n      <td>0</td>\n      <td>0</td>\n      <td>4</td>\n      <td>0</td>\n      <td>0</td>\n      <td>437</td>\n      <td>15</td>\n      <td>24</td>\n      <td>0</td>\n      <td>11</td>\n      <td>...</td>\n      <td>0</td>\n      <td>42</td>\n      <td>9</td>\n      <td>453</td>\n      <td>0</td>\n      <td>23</td>\n      <td>10</td>\n      <td>0</td>\n      <td>27</td>\n      <td>True</td>\n    </tr>\n    <tr>\n      <th>4</th>\n      <td>2</td>\n      <td>0</td>\n      <td>0</td>\n      <td>0</td>\n      <td>0</td>\n      <td>470</td>\n      <td>21</td>\n      <td>24</td>\n      <td>0</td>\n      <td>16</td>\n      <td>...</td>\n      <td>0</td>\n      <td>3</td>\n      <td>13</td>\n      <td>431</td>\n      <td>0</td>\n      <td>25</td>\n      <td>13</td>\n      <td>0</td>\n      <td>0</td>\n      <td>True</td>\n    </tr>\n    <tr>\n      <th>...</th>\n      <td>...</td>\n      <td>...</td>\n      <td>...</td>\n      <td>...</td>\n      <td>...</td>\n      <td>...</td>\n      <td>...</td>\n      <td>...</td>\n      <td>...</td>\n      <td>...</td>\n      <td>...</td>\n      <td>...</td>\n      <td>...</td>\n      <td>...</td>\n      <td>...</td>\n      <td>...</td>\n      <td>...</td>\n      <td>...</td>\n      <td>...</td>\n      <td>...</td>\n      <td>...</td>\n    </tr>\n    <tr>\n      <th>95</th>\n      <td>92</td>\n      <td>261</td>\n      <td>254</td>\n      <td>86</td>\n      <td>297</td>\n      <td>0</td>\n      <td>274</td>\n      <td>254</td>\n      <td>298</td>\n      <td>282</td>\n      <td>...</td>\n      <td>77</td>\n      <td>102</td>\n      <td>287</td>\n      <td>101</td>\n      <td>88</td>\n      <td>257</td>\n      <td>230</td>\n      <td>86</td>\n      <td>97</td>\n      <td>False</td>\n    </tr>\n    <tr>\n      <th>96</th>\n      <td>109</td>\n      <td>134</td>\n      <td>121</td>\n      <td>69</td>\n      <td>148</td>\n      <td>145</td>\n      <td>193</td>\n      <td>170</td>\n      <td>150</td>\n      <td>203</td>\n      <td>...</td>\n      <td>68</td>\n      <td>91</td>\n      <td>206</td>\n      <td>130</td>\n      <td>101</td>\n      <td>173</td>\n      <td>153</td>\n      <td>101</td>\n      <td>89</td>\n      <td>False</td>\n    </tr>\n    <tr>\n      <th>97</th>\n      <td>0</td>\n      <td>0</td>\n      <td>0</td>\n      <td>15</td>\n      <td>0</td>\n      <td>263</td>\n      <td>17</td>\n      <td>0</td>\n      <td>0</td>\n      <td>20</td>\n      <td>...</td>\n      <td>5</td>\n      <td>87</td>\n      <td>19</td>\n      <td>308</td>\n      <td>0</td>\n      <td>1</td>\n      <td>0</td>\n      <td>0</td>\n      <td>95</td>\n      <td>True</td>\n    </tr>\n    <tr>\n      <th>98</th>\n      <td>0</td>\n      <td>4</td>\n      <td>9</td>\n      <td>0</td>\n      <td>9</td>\n      <td>388</td>\n      <td>83</td>\n      <td>75</td>\n      <td>8</td>\n      <td>80</td>\n      <td>...</td>\n      <td>0</td>\n      <td>0</td>\n      <td>78</td>\n      <td>323</td>\n      <td>0</td>\n      <td>79</td>\n      <td>50</td>\n      <td>0</td>\n      <td>0</td>\n      <td>True</td>\n    </tr>\n    <tr>\n      <th>99</th>\n      <td>0</td>\n      <td>0</td>\n      <td>1</td>\n      <td>46</td>\n      <td>0</td>\n      <td>277</td>\n      <td>55</td>\n      <td>25</td>\n      <td>0</td>\n      <td>55</td>\n      <td>...</td>\n      <td>39</td>\n      <td>143</td>\n      <td>53</td>\n      <td>366</td>\n      <td>0</td>\n      <td>33</td>\n      <td>0</td>\n      <td>0</td>\n      <td>155</td>\n      <td>False</td>\n    </tr>\n  </tbody>\n</table>\n<p>100 rows × 121 columns</p>\n</div>"
     },
     "execution_count": 82,
     "metadata": {},
     "output_type": "execute_result"
    }
   ],
   "source": [
    "arcene_valid_filtered = skb.transform(arcene_valid)\n",
    "\n",
    "arcene_valid_filtered = pd.DataFrame(arcene_valid_filtered)\n",
    "\n",
    "arcene_valid_filtered_concatinated = pd.concat([arcene_valid_filtered, arcene_valid_labels], axis=1, ignore_index=True)\n",
    "\n",
    "arcene_valid_filtered_concatinated"
   ],
   "metadata": {
    "collapsed": false,
    "ExecuteTime": {
     "end_time": "2023-12-11T14:50:06.425480300Z",
     "start_time": "2023-12-11T14:50:06.255072500Z"
    }
   },
   "id": "310d31866bb66f92"
  },
  {
   "cell_type": "code",
   "execution_count": 83,
   "outputs": [
    {
     "data": {
      "text/plain": "     0    1    2    3    4    5    6    7    8    9    ...  110  111  112  \\\n0      0   16   15   16    7  203   56   38    7   51  ...    9   15   92   \n1     69  141  139   66  129    0  140  131  130  145  ...   71   63   86   \n2      0  180  160    4  263  241  216  183  276  233  ...    0    5   10   \n3      0    0    0    0    0  500   69   72    0   56  ...    0    0    7   \n4     84  112  101   78  135  156  133  117  139  143  ...   59   74   86   \n..   ...  ...  ...  ...  ...  ...  ...  ...  ...  ...  ...  ...  ...  ...   \n695   55  144  133    0  174    0  136  115  175  143  ...    0    0   10   \n696   30  127  121   46  137   57  119  101  138  128  ...   38   45   54   \n697   18  214  190   44  218    0  206  166  222  220  ...   62   41   73   \n698   38   30   34   28   57  477   27   19   69   33  ...    8   35   57   \n699   18  215  193   64  243    0  182  140  247  197  ...   79   60   84   \n\n     113  114  115  116  117  118  119  \n0     47  332    0   45    5    0   99  \n1    149  208   80  133  123   81   82  \n2    242  147    0  187  152    0    1  \n3     47  406    0   75   44    0    4  \n4    149  140   87  119   99   86   87  \n..   ...  ...  ...  ...  ...  ...  ...  \n695  146  149   53  119   95   52    4  \n696  133   90   44  104   80   43   51  \n697  227   56   65  174  127   65   69  \n698   37  383   20   21    1   21   46  \n699  204   96   30  147  106   30   85  \n\n[700 rows x 120 columns]",
      "text/html": "<div>\n<style scoped>\n    .dataframe tbody tr th:only-of-type {\n        vertical-align: middle;\n    }\n\n    .dataframe tbody tr th {\n        vertical-align: top;\n    }\n\n    .dataframe thead th {\n        text-align: right;\n    }\n</style>\n<table border=\"1\" class=\"dataframe\">\n  <thead>\n    <tr style=\"text-align: right;\">\n      <th></th>\n      <th>0</th>\n      <th>1</th>\n      <th>2</th>\n      <th>3</th>\n      <th>4</th>\n      <th>5</th>\n      <th>6</th>\n      <th>7</th>\n      <th>8</th>\n      <th>9</th>\n      <th>...</th>\n      <th>110</th>\n      <th>111</th>\n      <th>112</th>\n      <th>113</th>\n      <th>114</th>\n      <th>115</th>\n      <th>116</th>\n      <th>117</th>\n      <th>118</th>\n      <th>119</th>\n    </tr>\n  </thead>\n  <tbody>\n    <tr>\n      <th>0</th>\n      <td>0</td>\n      <td>16</td>\n      <td>15</td>\n      <td>16</td>\n      <td>7</td>\n      <td>203</td>\n      <td>56</td>\n      <td>38</td>\n      <td>7</td>\n      <td>51</td>\n      <td>...</td>\n      <td>9</td>\n      <td>15</td>\n      <td>92</td>\n      <td>47</td>\n      <td>332</td>\n      <td>0</td>\n      <td>45</td>\n      <td>5</td>\n      <td>0</td>\n      <td>99</td>\n    </tr>\n    <tr>\n      <th>1</th>\n      <td>69</td>\n      <td>141</td>\n      <td>139</td>\n      <td>66</td>\n      <td>129</td>\n      <td>0</td>\n      <td>140</td>\n      <td>131</td>\n      <td>130</td>\n      <td>145</td>\n      <td>...</td>\n      <td>71</td>\n      <td>63</td>\n      <td>86</td>\n      <td>149</td>\n      <td>208</td>\n      <td>80</td>\n      <td>133</td>\n      <td>123</td>\n      <td>81</td>\n      <td>82</td>\n    </tr>\n    <tr>\n      <th>2</th>\n      <td>0</td>\n      <td>180</td>\n      <td>160</td>\n      <td>4</td>\n      <td>263</td>\n      <td>241</td>\n      <td>216</td>\n      <td>183</td>\n      <td>276</td>\n      <td>233</td>\n      <td>...</td>\n      <td>0</td>\n      <td>5</td>\n      <td>10</td>\n      <td>242</td>\n      <td>147</td>\n      <td>0</td>\n      <td>187</td>\n      <td>152</td>\n      <td>0</td>\n      <td>1</td>\n    </tr>\n    <tr>\n      <th>3</th>\n      <td>0</td>\n      <td>0</td>\n      <td>0</td>\n      <td>0</td>\n      <td>0</td>\n      <td>500</td>\n      <td>69</td>\n      <td>72</td>\n      <td>0</td>\n      <td>56</td>\n      <td>...</td>\n      <td>0</td>\n      <td>0</td>\n      <td>7</td>\n      <td>47</td>\n      <td>406</td>\n      <td>0</td>\n      <td>75</td>\n      <td>44</td>\n      <td>0</td>\n      <td>4</td>\n    </tr>\n    <tr>\n      <th>4</th>\n      <td>84</td>\n      <td>112</td>\n      <td>101</td>\n      <td>78</td>\n      <td>135</td>\n      <td>156</td>\n      <td>133</td>\n      <td>117</td>\n      <td>139</td>\n      <td>143</td>\n      <td>...</td>\n      <td>59</td>\n      <td>74</td>\n      <td>86</td>\n      <td>149</td>\n      <td>140</td>\n      <td>87</td>\n      <td>119</td>\n      <td>99</td>\n      <td>86</td>\n      <td>87</td>\n    </tr>\n    <tr>\n      <th>...</th>\n      <td>...</td>\n      <td>...</td>\n      <td>...</td>\n      <td>...</td>\n      <td>...</td>\n      <td>...</td>\n      <td>...</td>\n      <td>...</td>\n      <td>...</td>\n      <td>...</td>\n      <td>...</td>\n      <td>...</td>\n      <td>...</td>\n      <td>...</td>\n      <td>...</td>\n      <td>...</td>\n      <td>...</td>\n      <td>...</td>\n      <td>...</td>\n      <td>...</td>\n      <td>...</td>\n    </tr>\n    <tr>\n      <th>695</th>\n      <td>55</td>\n      <td>144</td>\n      <td>133</td>\n      <td>0</td>\n      <td>174</td>\n      <td>0</td>\n      <td>136</td>\n      <td>115</td>\n      <td>175</td>\n      <td>143</td>\n      <td>...</td>\n      <td>0</td>\n      <td>0</td>\n      <td>10</td>\n      <td>146</td>\n      <td>149</td>\n      <td>53</td>\n      <td>119</td>\n      <td>95</td>\n      <td>52</td>\n      <td>4</td>\n    </tr>\n    <tr>\n      <th>696</th>\n      <td>30</td>\n      <td>127</td>\n      <td>121</td>\n      <td>46</td>\n      <td>137</td>\n      <td>57</td>\n      <td>119</td>\n      <td>101</td>\n      <td>138</td>\n      <td>128</td>\n      <td>...</td>\n      <td>38</td>\n      <td>45</td>\n      <td>54</td>\n      <td>133</td>\n      <td>90</td>\n      <td>44</td>\n      <td>104</td>\n      <td>80</td>\n      <td>43</td>\n      <td>51</td>\n    </tr>\n    <tr>\n      <th>697</th>\n      <td>18</td>\n      <td>214</td>\n      <td>190</td>\n      <td>44</td>\n      <td>218</td>\n      <td>0</td>\n      <td>206</td>\n      <td>166</td>\n      <td>222</td>\n      <td>220</td>\n      <td>...</td>\n      <td>62</td>\n      <td>41</td>\n      <td>73</td>\n      <td>227</td>\n      <td>56</td>\n      <td>65</td>\n      <td>174</td>\n      <td>127</td>\n      <td>65</td>\n      <td>69</td>\n    </tr>\n    <tr>\n      <th>698</th>\n      <td>38</td>\n      <td>30</td>\n      <td>34</td>\n      <td>28</td>\n      <td>57</td>\n      <td>477</td>\n      <td>27</td>\n      <td>19</td>\n      <td>69</td>\n      <td>33</td>\n      <td>...</td>\n      <td>8</td>\n      <td>35</td>\n      <td>57</td>\n      <td>37</td>\n      <td>383</td>\n      <td>20</td>\n      <td>21</td>\n      <td>1</td>\n      <td>21</td>\n      <td>46</td>\n    </tr>\n    <tr>\n      <th>699</th>\n      <td>18</td>\n      <td>215</td>\n      <td>193</td>\n      <td>64</td>\n      <td>243</td>\n      <td>0</td>\n      <td>182</td>\n      <td>140</td>\n      <td>247</td>\n      <td>197</td>\n      <td>...</td>\n      <td>79</td>\n      <td>60</td>\n      <td>84</td>\n      <td>204</td>\n      <td>96</td>\n      <td>30</td>\n      <td>147</td>\n      <td>106</td>\n      <td>30</td>\n      <td>85</td>\n    </tr>\n  </tbody>\n</table>\n<p>700 rows × 120 columns</p>\n</div>"
     },
     "execution_count": 83,
     "metadata": {},
     "output_type": "execute_result"
    }
   ],
   "source": [
    "arcene_test_filtered = skb.transform(arcene_test)\n",
    "\n",
    "arcene_test_filtered = pd.DataFrame(arcene_test_filtered)\n",
    "\n",
    "arcene_test_filtered"
   ],
   "metadata": {
    "collapsed": false,
    "ExecuteTime": {
     "end_time": "2023-12-11T14:50:06.584022800Z",
     "start_time": "2023-12-11T14:50:06.354438Z"
    }
   },
   "id": "d9bf316261eee62"
  },
  {
   "cell_type": "markdown",
   "source": [
    "# Implementation de l'algorithme Naive Bayes"
   ],
   "metadata": {
    "collapsed": false
   },
   "id": "fba1c6128ac4e59"
  },
  {
   "cell_type": "code",
   "execution_count": 84,
   "outputs": [],
   "source": [
    "def encode_class(mydata):\n",
    "\tclasses = []\n",
    "\tfor i in range(len(mydata)):\n",
    "\t\tif mydata[i][-1] not in classes:\n",
    "\t\t\tclasses.append(mydata[i][-1])\n",
    "\tfor i in range(len(classes)):\n",
    "\t\tfor j in range(len(mydata)):\n",
    "\t\t\tif mydata[j][-1] == classes[i]:\n",
    "\t\t\t\tmydata[j][-1] = i\n",
    "\treturn mydata"
   ],
   "metadata": {
    "collapsed": false,
    "ExecuteTime": {
     "end_time": "2023-12-11T14:50:06.585618Z",
     "start_time": "2023-12-11T14:50:06.447850600Z"
    }
   },
   "id": "33a70f73ced56d3b"
  },
  {
   "cell_type": "code",
   "execution_count": 85,
   "outputs": [],
   "source": [
    "def splitting(mydata, ratio):\n",
    "\ttrain_num = int(len(mydata) * ratio)\n",
    "\ttrain = []\n",
    "\ttest = list(mydata)\n",
    "\twhile len(train) < train_num:\n",
    "\t\tindex = random.randrange(len(test))\n",
    "\t\ttrain.append(test.pop(index))\n",
    "\treturn train, test"
   ],
   "metadata": {
    "collapsed": false,
    "ExecuteTime": {
     "end_time": "2023-12-11T14:50:06.588785500Z",
     "start_time": "2023-12-11T14:50:06.452786100Z"
    }
   },
   "id": "964e22cc0ec049d9"
  },
  {
   "cell_type": "code",
   "execution_count": 86,
   "outputs": [],
   "source": [
    "def groupUnderClass(mydata):\n",
    "\tdata_dict = {}\n",
    "\tfor i in range(len(mydata)):\n",
    "\t\tif mydata[i][-1] not in data_dict:\n",
    "\t\t\tdata_dict[mydata[i][-1]] = []\n",
    "\t\tdata_dict[mydata[i][-1]].append(mydata[i])\n",
    "\treturn data_dict"
   ],
   "metadata": {
    "collapsed": false,
    "ExecuteTime": {
     "end_time": "2023-12-11T14:50:06.609853600Z",
     "start_time": "2023-12-11T14:50:06.464387500Z"
    }
   },
   "id": "a1451dbd4b4e02b2"
  },
  {
   "cell_type": "code",
   "execution_count": 87,
   "outputs": [],
   "source": [
    "def MeanAndStdDev(numbers):\n",
    "\tavg = np.mean(numbers)\n",
    "\tstddev = np.std(numbers)\n",
    "\treturn avg, stddev\n",
    "\n",
    "def MeanAndStdDevForClass(mydata):\n",
    "\tinfo = {}\n",
    "\tdata_dict = groupUnderClass(mydata)\n",
    "\tfor classValue, instances in data_dict.items():\n",
    "\t\tinfo[classValue] = [MeanAndStdDev(attribute) for attribute in zip(*instances)]\n",
    "\treturn info"
   ],
   "metadata": {
    "collapsed": false,
    "ExecuteTime": {
     "end_time": "2023-12-11T14:50:06.612936400Z",
     "start_time": "2023-12-11T14:50:06.479844Z"
    }
   },
   "id": "c7298bae340b2d00"
  },
  {
   "cell_type": "code",
   "execution_count": 88,
   "outputs": [],
   "source": [
    "def calculateGaussianProbability(x, mean, stdev):\n",
    "\tepsilon = 1e-10\n",
    "\texpo = math.exp(-(math.pow(x - mean, 2) / (2 * math.pow(stdev + epsilon, 2))))\n",
    "\treturn (1 / (math.sqrt(2 * math.pi) * (stdev + epsilon))) * expo\n",
    "\n",
    "\n",
    "def calculateClassProbabilities(info, test):\n",
    "\tprobabilities = {}\n",
    "\tfor classValue, classSummaries in info.items():\n",
    "\t\tprobabilities[classValue] = 1\n",
    "\t\tfor i in range(len(classSummaries)):\n",
    "\t\t\tmean, std_dev = classSummaries[i]\n",
    "\t\t\tx = test[i]\n",
    "\t\t\tprobabilities[classValue] *= calculateGaussianProbability(x, mean, std_dev)\n",
    "\tprint(probabilities)\n",
    "\treturn probabilities"
   ],
   "metadata": {
    "collapsed": false,
    "ExecuteTime": {
     "end_time": "2023-12-11T14:50:06.630472300Z",
     "start_time": "2023-12-11T14:50:06.492008900Z"
    }
   },
   "id": "1edb534cb07dd46a"
  },
  {
   "cell_type": "code",
   "execution_count": 89,
   "outputs": [],
   "source": [
    "def predict(info, test):\n",
    "\tprobabilities = calculateClassProbabilities(info, test)\n",
    "\tbestLabel = max(probabilities, key=probabilities.get)\n",
    "\treturn bestLabel\n",
    "\n",
    "def getPredictions(info, test):\n",
    "\tpredictions = [predict(info, instance) for instance in test]\n",
    "\tprint(predictions)\n",
    "\treturn predictions"
   ],
   "metadata": {
    "collapsed": false,
    "ExecuteTime": {
     "end_time": "2023-12-11T14:50:06.653306900Z",
     "start_time": "2023-12-11T14:50:06.498802500Z"
    }
   },
   "id": "6565dff4157e873a"
  },
  {
   "cell_type": "code",
   "execution_count": 90,
   "outputs": [],
   "source": [
    "def accuracy_rate(test, predictions):\n",
    "\tcorrect = sum(1 for i in range(len(test)) if test[i][-1] == predictions[i])\n",
    "\treturn (correct / float(len(test))) * 100.0"
   ],
   "metadata": {
    "collapsed": false,
    "ExecuteTime": {
     "end_time": "2023-12-11T14:50:06.655530200Z",
     "start_time": "2023-12-11T14:50:06.509810300Z"
    }
   },
   "id": "52f3fb13fa4617b0"
  },
  {
   "cell_type": "markdown",
   "source": [
    "# Apprentissage et test de l'algorithme"
   ],
   "metadata": {
    "collapsed": false
   },
   "id": "c80da9ca735edfb4"
  },
  {
   "cell_type": "code",
   "execution_count": 91,
   "outputs": [
    {
     "name": "stdout",
     "output_type": "stream",
     "text": [
      "{True: 0.0, False: 1.6039246740998063e-283}\n",
      "{True: 0.0, False: 3.0099820334070873e-287}\n",
      "{True: 0.0, False: 1.3980039967008995e-268}\n",
      "{True: 2.20728110755404e-236, False: 0.0}\n",
      "{True: 2.4643969031066857e-244, False: 0.0}\n",
      "{True: 7.027374345988493e-239, False: 0.0}\n",
      "{True: 0.0, False: 1.3772580437612362e-291}\n",
      "{True: 3.2334053491781066e-245, False: 0.0}\n",
      "{True: 0.0, False: 0.0}\n",
      "{True: 0.0, False: 1.7204182655654697e-268}\n",
      "{True: 0.0, False: 0.0}\n",
      "{True: 0.0, False: 8.110789893030343e-291}\n",
      "{True: 0.0, False: 6.350879578291261e-282}\n",
      "{True: 3.0296413849871043e-232, False: 0.0}\n",
      "{True: 0.0, False: 9.918498967920865e-289}\n",
      "{True: 0.0, False: 4.4355876573188733e-262}\n",
      "{True: 0.0, False: 0.0}\n",
      "{True: 7.049755942990839e-239, False: 0.0}\n",
      "{True: 4.7452131434053393e-240, False: 0.0}\n",
      "{True: 0.0, False: 0.0}\n",
      "{True: 1.8468208819377323e-237, False: 0.0}\n",
      "{True: 0.0, False: 1.5283643563752338e-272}\n",
      "{True: 9.742450202558404e-241, False: 0.0}\n",
      "{True: 0.0, False: 7.332769037250795e-271}\n",
      "{True: 5.740437351011618e-239, False: 0.0}\n",
      "{True: 0.0, False: 2.968177333992277e-284}\n",
      "{True: 0.0, False: 3.026605022413751e-268}\n",
      "{True: 0.0, False: 1.3594733812321871e-289}\n",
      "{True: 0.0, False: 0.0}\n",
      "{True: 0.0, False: 1.2802354082019416e-272}\n",
      "{True: 0.0, False: 0.0}\n",
      "{True: 0.0, False: 2.9065816340975277e-262}\n",
      "{True: 0.0, False: 0.0}\n",
      "{True: 3.417246379197771e-259, False: 0.0}\n",
      "{True: 0.0, False: 0.0}\n",
      "{True: 0.0, False: 6.546657977752904e-274}\n",
      "{True: 0.0, False: 3.1051916595786665e-283}\n",
      "{True: 0.0, False: 6.892287161663101e-281}\n",
      "{True: 4.0403190472445824e-241, False: 0.0}\n",
      "{True: 0.0, False: 3.8576584427020515e-263}\n",
      "{True: 0.0, False: 1.4790910275620168e-264}\n",
      "{True: 5.199579194140957e-259, False: 0.0}\n",
      "{True: 0.0, False: 6.637529389347005e-274}\n",
      "{True: 0.0, False: 3.2438588608934156e-275}\n",
      "{True: 3.3209925822302124e-245, False: 0.0}\n",
      "{True: 0.0, False: 4.962619103554485e-276}\n",
      "{True: 0.0, False: 8.224896143140174e-288}\n",
      "{True: 3.647982240408745e-296, False: 0.0}\n",
      "{True: 2.0121787916719956e-240, False: 0.0}\n",
      "{True: 0.0, False: 1.772337202725982e-297}\n",
      "{True: 0.0, False: 3.4620145975010397e-274}\n",
      "{True: 0.0, False: 0.0}\n",
      "{True: 4.460472496565502e-238, False: 0.0}\n",
      "{True: 0.0, False: 0.0}\n",
      "{True: 0.0, False: 1.6694190563645846e-263}\n",
      "{True: 0.0, False: 2.2810243475571825e-266}\n",
      "{True: 0.0, False: 3.855630940952334e-281}\n",
      "{True: 2.9472398986850153e-240, False: 0.0}\n",
      "{True: 1.1622284503287237e-298, False: 0.0}\n",
      "{True: 1.6628224521641005e-231, False: 0.0}\n",
      "{True: 0.0, False: 3.159811906397171e-277}\n",
      "{True: 5.536827584784785e-242, False: 0.0}\n",
      "{True: 0.0, False: 0.0}\n",
      "{True: 0.0, False: 1.0921421874257603e-272}\n",
      "{True: 0.0, False: 4.127432107774313e-272}\n",
      "{True: 0.0, False: 1.1017396160829243e-281}\n",
      "{True: 0.0, False: 1.3099249840845923e-265}\n",
      "{True: 8.211255265287896e-233, False: 0.0}\n",
      "{True: 0.0, False: 8.791584007070259e-274}\n",
      "{True: 0.0, False: 1.1541342859161077e-279}\n",
      "{True: 1.443265276863873e-233, False: 0.0}\n",
      "{True: 0.0, False: 6.518966643476211e-289}\n",
      "{True: 9.57801367050929e-245, False: 0.0}\n",
      "{True: 0.0, False: 1.2201216134735414e-266}\n",
      "{True: 0.0, False: 0.0}\n",
      "{True: 0.0, False: 0.0}\n",
      "{True: 0.0, False: 9.388161320591748e-280}\n",
      "{True: 0.0, False: 8.26484454756369e-269}\n",
      "{True: 5.901283736847632e-240, False: 0.0}\n",
      "{True: 1.6086474458114203e-241, False: 0.0}\n",
      "{True: 6.655380358817728e-260, False: 0.0}\n",
      "{True: 0.0, False: 4.9776562190545e-310}\n",
      "{True: 0.0, False: 2.085440104760305e-282}\n",
      "{True: 3.807075024512751e-236, False: 0.0}\n",
      "{True: 1.9659699078468905e-235, False: 0.0}\n",
      "{True: 0.0, False: 2.9378998102191687e-265}\n",
      "{True: 1.3592913890366291e-232, False: 0.0}\n",
      "{True: 0.0, False: 0.0}\n",
      "{True: 0.0, False: 1.865331137166285e-282}\n",
      "{True: 0.0, False: 6.907822081390579e-270}\n",
      "{True: 4.20868846773514e-239, False: 0.0}\n",
      "{True: 0.0, False: 8.561875877844948e-271}\n",
      "{True: 1.807054890302432e-239, False: 0.0}\n",
      "{True: 9.038226580817959e-240, False: 0.0}\n",
      "{True: 0.0, False: 2.4069132501564592e-287}\n",
      "{True: 0.0, False: 0.0}\n",
      "{True: 0.0, False: 4.331685098673676e-298}\n",
      "{True: 2.755538123944466e-275, False: 0.0}\n",
      "{True: 1.3497931814988845e-242, False: 0.0}\n",
      "{True: 0.0, False: 5.605481946526591e-289}\n",
      "[False, False, False, True, True, True, False, True, True, False, True, False, False, True, False, False, True, True, True, True, True, False, True, False, True, False, False, False, True, False, True, False, True, True, True, False, False, False, True, False, False, True, False, False, True, False, False, True, True, False, False, True, True, True, False, False, False, True, True, True, False, True, True, False, False, False, False, True, False, False, True, False, True, False, True, True, False, False, True, True, True, False, False, True, True, False, True, True, False, False, True, False, True, True, False, True, False, True, True, False]\n"
     ]
    }
   ],
   "source": [
    "# Apprentissage\n",
    "info = MeanAndStdDevForClass(arcene_train_filtered_concatinated.values)\n",
    "\n",
    "# Test\n",
    "predictions = getPredictions(info, arcene_valid_filtered_concatinated.values)"
   ],
   "metadata": {
    "collapsed": false,
    "ExecuteTime": {
     "end_time": "2023-12-11T14:50:06.781917Z",
     "start_time": "2023-12-11T14:50:06.516645400Z"
    }
   },
   "id": "9c7047d422a25467"
  },
  {
   "cell_type": "markdown",
   "source": [
    "### Matrice de confusion\n",
    "La matrice de confusion est une matrice qui permet de visualiser les performances d'un algorithme de classification. "
   ],
   "metadata": {
    "collapsed": false
   },
   "id": "9630a104c473f839"
  },
  {
   "cell_type": "code",
   "execution_count": 92,
   "outputs": [
    {
     "data": {
      "text/plain": "array([[50,  6],\n       [ 0, 44]], dtype=int64)"
     },
     "execution_count": 92,
     "metadata": {},
     "output_type": "execute_result"
    }
   ],
   "source": [
    "cm = metrics.confusion_matrix(arcene_valid_labels, predictions)\n",
    "\n",
    "cm"
   ],
   "metadata": {
    "collapsed": false,
    "ExecuteTime": {
     "end_time": "2023-12-11T14:50:06.784891500Z",
     "start_time": "2023-12-11T14:50:06.596695300Z"
    }
   },
   "id": "3fbab47a9cb0db06"
  },
  {
   "cell_type": "markdown",
   "source": [
    "### Visualisation de la matrice de confusion"
   ],
   "metadata": {
    "collapsed": false
   },
   "id": "528526a68912fc7b"
  },
  {
   "cell_type": "code",
   "execution_count": 93,
   "outputs": [
    {
     "data": {
      "text/plain": "<Figure size 640x480 with 2 Axes>",
      "image/png": "[encoded data removed]"
     },
     "metadata": {},
     "output_type": "display_data"
    }
   ],
   "source": [
    "disp = metrics.ConfusionMatrixDisplay(confusion_matrix=cm, display_labels=[-1, 1])\n",
    "disp.plot()\n",
    "\n",
    "plt.show()"
   ],
   "metadata": {
    "collapsed": false,
    "ExecuteTime": {
     "end_time": "2023-12-11T14:50:07.103634800Z",
     "start_time": "2023-12-11T14:50:06.611906200Z"
    }
   },
   "id": "908823079deab477"
  },
  {
   "cell_type": "markdown",
   "source": [
    "### Calcul des métriques\n",
    "Les métriques qui seront calculées sont :\n",
    "- Balanced Error Rate\n",
    "- Accuracy\n",
    "- Precision\n",
    "- Recall\n",
    "- F1 Score\n",
    "- AUC Score\n",
    "- ROC Curve\n",
    "\n",
    "Ces metriques on ete conseillees par les juges du challenge Arcene pour evaluer les performances des algorithmes de classification. (https://web.archive.org/web/20130503080434/http://www.nipsfsc.ecs.soton.ac.uk/evaluation)\n",
    "Pour plus d'informations sur ces métriques, veuillez consulter ce lien : https://towardsdatascience.com/understanding-confusion-matrix-a9ad42dcfd62"
   ],
   "metadata": {
    "collapsed": false
   },
   "id": "ab138489583d5ee7"
  },
  {
   "cell_type": "code",
   "execution_count": 94,
   "outputs": [
    {
     "name": "stdout",
     "output_type": "stream",
     "text": [
      "Balanced Error Rate:  0.06000000000000005\n",
      "Accuracy:             0.94\n",
      "Precision:            0.94\n",
      "Recall:               0.9464285714285714\n",
      "F1 Score:             0.939783219590526\n",
      "AUC Score:            0.9464285714285715\n"
     ]
    }
   ],
   "source": [
    "TP = cm[0][0]\n",
    "FP = cm[0][1]\n",
    "FN = cm[1][0]\n",
    "TN = cm[1][1]\n",
    "\n",
    "BER = 1 - (1/2 * ((TP / (TP + FN)) + (TN / (TN + FP))))\n",
    "\n",
    "precision = metrics.precision_score(arcene_valid_labels, predictions, average='macro')\n",
    "\n",
    "recall = metrics.recall_score(arcene_valid_labels, predictions, average='macro')\n",
    "\n",
    "f1_score = metrics.f1_score(arcene_valid_labels, predictions, average='macro')\n",
    "\n",
    "accuracy = metrics.accuracy_score(arcene_valid_labels, predictions)\n",
    "\n",
    "auc_score = metrics.roc_auc_score(arcene_valid_labels, predictions)\n",
    "\n",
    "print('Balanced Error Rate: ', BER)\n",
    "print('Accuracy:            ', accuracy)\n",
    "print('Precision:           ', precision)\n",
    "print('Recall:              ', recall)\n",
    "print('F1 Score:            ', f1_score)\n",
    "print('AUC Score:           ', auc_score)"
   ],
   "metadata": {
    "collapsed": false,
    "ExecuteTime": {
     "end_time": "2023-12-11T14:50:07.188985200Z",
     "start_time": "2023-12-11T14:50:06.880930400Z"
    }
   },
   "id": "1c5803af32ad34aa"
  },
  {
   "cell_type": "markdown",
   "source": [
    "##### Courbe ROC:"
   ],
   "metadata": {
    "collapsed": false
   },
   "id": "87cc3ac522ca4171"
  },
  {
   "cell_type": "code",
   "execution_count": 95,
   "outputs": [
    {
     "data": {
      "text/plain": "<Figure size 640x480 with 1 Axes>",
      "image/png": "[encoded data removed]"
     },
     "metadata": {},
     "output_type": "display_data"
    }
   ],
   "source": [
    "fpr, tpr, thresh = metrics.roc_curve(arcene_valid_labels, predictions, pos_label=1)\n",
    "\n",
    "# plot roc curves\n",
    "plt.plot(fpr, tpr, linestyle='--',color='orange', label='Naive Bayes')\n",
    "# title\n",
    "plt.title('ROC curve')\n",
    "# x label\n",
    "plt.xlabel('False Positive Rate')\n",
    "# y label\n",
    "plt.ylabel('True Positive rate')\n",
    "\n",
    "plt.legend(loc='best')\n",
    "plt.savefig('ROC',dpi=300)\n",
    "plt.show();"
   ],
   "metadata": {
    "collapsed": false,
    "ExecuteTime": {
     "end_time": "2023-12-11T14:50:07.640355600Z",
     "start_time": "2023-12-11T14:50:06.953284300Z"
    }
   },
   "id": "f97a9bc188627774"
  },
  {
   "cell_type": "markdown",
   "source": [
    "Ajouter une colonne inutile au donnees de test just pour pouvoir les tester avec l'algorithme."
   ],
   "metadata": {
    "collapsed": false
   },
   "id": "760a3fffed9dc0b9"
  },
  {
   "cell_type": "code",
   "execution_count": 96,
   "outputs": [],
   "source": [
    "arcene_test_filtered[120] = 0"
   ],
   "metadata": {
    "collapsed": false,
    "ExecuteTime": {
     "end_time": "2023-12-11T14:50:07.667339900Z",
     "start_time": "2023-12-11T14:50:07.644097700Z"
    }
   },
   "id": "e1056a9222ca67c9"
  },
  {
   "cell_type": "markdown",
   "source": [
    "Predire les classes des donnees de test:"
   ],
   "metadata": {
    "collapsed": false
   },
   "id": "8735762ab1b08864"
  },
  {
   "cell_type": "code",
   "execution_count": 97,
   "outputs": [
    {
     "name": "stdout",
     "output_type": "stream",
     "text": [
      "{True: 0.0, False: 9.185158029851641e-271}\n",
      "{True: 0.0, False: 8.308697627013564e-280}\n",
      "{True: 0.0, False: 2.5195626350302223e-291}\n",
      "{True: 0.0, False: 7.618802745283562e-285}\n",
      "{True: 0.0, False: 1.2721960609443858e-281}\n",
      "{True: 0.0, False: 3.597388048651499e-263}\n",
      "{True: 0.0, False: 3.6577140638198676e-278}\n",
      "{True: 0.0, False: 2.814054701699312e-292}\n",
      "{True: 0.0, False: 2.7266431500755856e-270}\n",
      "{True: 0.0, False: 1.9885568017264632e-289}\n",
      "{True: 0.0, False: 0.0}\n",
      "{True: 0.0, False: 1.1478157423057856e-262}\n",
      "{True: 0.0, False: 5.887051599068096e-290}\n",
      "{True: 0.0, False: 2.561782492331327e-292}\n",
      "{True: 0.0, False: 7.272165971938601e-281}\n",
      "{True: 0.0, False: 6.856124956692705e-285}\n",
      "{True: 0.0, False: 2.4246295539489234e-277}\n",
      "{True: 0.0, False: 2.318915233413391e-280}\n",
      "{True: 0.0, False: 3.081897186556936e-267}\n",
      "{True: 0.0, False: 2.4596581830581373e-276}\n",
      "{True: 0.0, False: 7.293263401441386e-289}\n",
      "{True: 0.0, False: 1.0443368870636472e-286}\n",
      "{True: 0.0, False: 6.859245750975895e-278}\n",
      "{True: 0.0, False: 6.542707480603867e-263}\n",
      "{True: 0.0, False: 3.3993612027173913e-286}\n",
      "{True: 0.0, False: 8.422935801109321e-283}\n",
      "{True: 0.0, False: 4.792937707976582e-282}\n",
      "{True: 0.0, False: 6.237807874269706e-280}\n",
      "{True: 0.0, False: 9.13415932737024e-277}\n",
      "{True: 0.0, False: 2.242897590268019e-276}\n",
      "{True: 0.0, False: 4.336006843241782e-286}\n",
      "{True: 0.0, False: 0.0}\n",
      "{True: 0.0, False: 7.989984887865191e-271}\n",
      "{True: 0.0, False: 4.637967835782869e-281}\n",
      "{True: 0.0, False: 3.6711585819991473e-271}\n",
      "{True: 0.0, False: 1.911980087345227e-289}\n",
      "{True: 0.0, False: 1.0925077426110483e-288}\n",
      "{True: 0.0, False: 5.872075630827294e-264}\n",
      "{True: 0.0, False: 1.2660849623867274e-264}\n",
      "{True: 0.0, False: 3.1523231700861614e-276}\n",
      "{True: 0.0, False: 7.748658659361024e-289}\n",
      "{True: 0.0, False: 9.237261288924634e-282}\n",
      "{True: 0.0, False: 6.153778010751449e-284}\n",
      "{True: 0.0, False: 6.513785969722988e-277}\n",
      "{True: 0.0, False: 1.3160642744887217e-289}\n",
      "{True: 0.0, False: 4.598487492925627e-277}\n",
      "{True: 0.0, False: 1.5814710998333702e-266}\n",
      "{True: 0.0, False: 3.2438171459311808e-289}\n",
      "{True: 0.0, False: 0.0}\n",
      "{True: 0.0, False: 7.762608478984405e-291}\n",
      "{True: 0.0, False: 4.141457160243661e-289}\n",
      "{True: 0.0, False: 2.6884949139946823e-287}\n",
      "{True: 0.0, False: 1.1990858148020736e-289}\n",
      "{True: 0.0, False: 2.09402944766115e-310}\n",
      "{True: 0.0, False: 9.821260882316019e-289}\n",
      "{True: 0.0, False: 1.7957949795499392e-284}\n",
      "{True: 0.0, False: 2.611692910496298e-268}\n",
      "{True: 0.0, False: 1.5886194008318503e-283}\n",
      "{True: 0.0, False: 7.580154773584307e-264}\n",
      "{True: 0.0, False: 4.6836367667065564e-279}\n",
      "{True: 0.0, False: 1.0821117012130202e-264}\n",
      "{True: 0.0, False: 1.1584597119369227e-271}\n",
      "{True: 0.0, False: 2.4382110973534843e-285}\n",
      "{True: 0.0, False: 3.0534546524777924e-278}\n",
      "{True: 0.0, False: 7.762755798952953e-292}\n",
      "{True: 0.0, False: 1.2458741861524643e-272}\n",
      "{True: 0.0, False: 6.88385063280766e-278}\n",
      "{True: 0.0, False: 1.299069449128972e-283}\n",
      "{True: 0.0, False: 1.6057266150770524e-286}\n",
      "{True: 0.0, False: 7.91891228840838e-273}\n",
      "{True: 0.0, False: 1.0104842238543213e-263}\n",
      "{True: 0.0, False: 4.4625699235542484e-274}\n",
      "{True: 0.0, False: 6.940472932683621e-287}\n",
      "{True: 0.0, False: 1.8165938062615422e-274}\n",
      "{True: 0.0, False: 5.916507774556832e-274}\n",
      "{True: 0.0, False: 4.9803200554515145e-288}\n",
      "{True: 0.0, False: 1.0698529132137618e-277}\n",
      "{True: 0.0, False: 1.4044499191624024e-290}\n",
      "{True: 0.0, False: 0.0}\n",
      "{True: 0.0, False: 2.089079423697358e-263}\n",
      "{True: 0.0, False: 3.1050313308105557e-280}\n",
      "{True: 0.0, False: 5.467230498066915e-276}\n",
      "{True: 0.0, False: 1.9456840776157977e-281}\n",
      "{True: 0.0, False: 3.895371785886587e-268}\n",
      "{True: 0.0, False: 2.4279072673555087e-286}\n",
      "{True: 0.0, False: 1.0483489041788664e-281}\n",
      "{True: 0.0, False: 2.396535684952824e-268}\n",
      "{True: 0.0, False: 7.14951453849952e-274}\n",
      "{True: 0.0, False: 4.531410608412701e-269}\n",
      "{True: 0.0, False: 2.539968447663568e-270}\n",
      "{True: 0.0, False: 4.541184109045485e-277}\n",
      "{True: 0.0, False: 1.0209085173040132e-296}\n",
      "{True: 0.0, False: 2.039080052121688e-282}\n",
      "{True: 0.0, False: 1.140003840362262e-273}\n",
      "{True: 0.0, False: 1.1951728852502056e-283}\n",
      "{True: 0.0, False: 7.407964715817803e-291}\n",
      "{True: 0.0, False: 6.60732142814706e-291}\n",
      "{True: 0.0, False: 0.0}\n",
      "{True: 0.0, False: 1.7268651148015632e-283}\n",
      "{True: 0.0, False: 8.815426999535898e-286}\n",
      "{True: 0.0, False: 1.7877780333614112e-277}\n",
      "{True: 0.0, False: 4.2973706053029426e-278}\n",
      "{True: 0.0, False: 0.0}\n",
      "{True: 0.0, False: 2.2926756251212713e-271}\n",
      "{True: 0.0, False: 2.0478334917480277e-281}\n",
      "{True: 0.0, False: 2.712380145587298e-279}\n",
      "{True: 0.0, False: 2.685147179417811e-268}\n",
      "{True: 0.0, False: 3.5670619793274643e-283}\n",
      "{True: 0.0, False: 2.300157886117894e-276}\n",
      "{True: 0.0, False: 2.9570734641577114e-277}\n",
      "{True: 0.0, False: 7.38931313134321e-284}\n",
      "{True: 0.0, False: 1.1503788106184083e-278}\n",
      "{True: 0.0, False: 2.6263270457234074e-279}\n",
      "{True: 0.0, False: 6.3940427615424496e-270}\n",
      "{True: 0.0, False: 0.0}\n",
      "{True: 0.0, False: 5.14101408115144e-279}\n",
      "{True: 0.0, False: 2.4590331507164167e-275}\n",
      "{True: 0.0, False: 1.7304890982053276e-287}\n",
      "{True: 0.0, False: 8.913359953037926e-302}\n",
      "{True: 0.0, False: 3.030293964782912e-274}\n",
      "{True: 0.0, False: 3.9477461830114715e-288}\n",
      "{True: 0.0, False: 2.2047054116217596e-293}\n",
      "{True: 0.0, False: 1.9453443252692334e-284}\n",
      "{True: 0.0, False: 5.585285714063675e-274}\n",
      "{True: 0.0, False: 3.4452735792204297e-283}\n",
      "{True: 0.0, False: 1.4711034689732298e-274}\n",
      "{True: 0.0, False: 4.0724164041320345e-291}\n",
      "{True: 0.0, False: 1.5043983288750563e-266}\n",
      "{True: 0.0, False: 3.4157705633645023e-286}\n",
      "{True: 0.0, False: 2.6446774150467025e-281}\n",
      "{True: 0.0, False: 4.1723444015921805e-266}\n",
      "{True: 0.0, False: 6.943625075066216e-270}\n",
      "{True: 0.0, False: 1.96466777109912e-291}\n",
      "{True: 0.0, False: 5.4450743785292724e-301}\n",
      "{True: 0.0, False: 3.762222036434195e-290}\n",
      "{True: 0.0, False: 1.570557845958016e-282}\n",
      "{True: 0.0, False: 5.587413359396163e-277}\n",
      "{True: 0.0, False: 1.7622680023730574e-282}\n",
      "{True: 0.0, False: 3.805905859042597e-290}\n",
      "{True: 0.0, False: 3.115368362923212e-284}\n",
      "{True: 0.0, False: 5.200357600255312e-285}\n",
      "{True: 0.0, False: 6.420842229377101e-291}\n",
      "{True: 0.0, False: 1.311245357128271e-280}\n",
      "{True: 0.0, False: 4.281826705415228e-270}\n",
      "{True: 0.0, False: 0.0}\n",
      "{True: 0.0, False: 6.399282477220083e-282}\n",
      "{True: 0.0, False: 7.475272816467035e-273}\n",
      "{True: 0.0, False: 1.9908090888448124e-288}\n",
      "{True: 0.0, False: 1.0434913559099735e-295}\n",
      "{True: 0.0, False: 6.293939161229664e-290}\n",
      "{True: 0.0, False: 4.931832244724064e-270}\n",
      "{True: 0.0, False: 2.4517622796170447e-279}\n",
      "{True: 0.0, False: 1.450250293938602e-288}\n",
      "{True: 0.0, False: 2.7178190964321276e-277}\n",
      "{True: 0.0, False: 2.7621717530943285e-284}\n",
      "{True: 0.0, False: 5.968840973698951e-284}\n",
      "{True: 0.0, False: 5.733149792577115e-269}\n",
      "{True: 0.0, False: 2.268002790212554e-285}\n",
      "{True: 0.0, False: 8.88048923689482e-275}\n",
      "{True: 0.0, False: 3.531796137924773e-285}\n",
      "{True: 0.0, False: 4.7809599528420354e-272}\n",
      "{True: 0.0, False: 1.5633741207813876e-282}\n",
      "{True: 0.0, False: 1.664835756910146e-286}\n",
      "{True: 0.0, False: 1.2357384470928013e-287}\n",
      "{True: 0.0, False: 1.7721223779456158e-277}\n",
      "{True: 0.0, False: 1.6022932897498408e-285}\n",
      "{True: 0.0, False: 2.4342604154250257e-265}\n",
      "{True: 0.0, False: 1.0883844714294146e-277}\n",
      "{True: 0.0, False: 1.1524484440315002e-277}\n",
      "{True: 0.0, False: 1.3845536279630905e-279}\n",
      "{True: 0.0, False: 6.685592688470898e-270}\n",
      "{True: 0.0, False: 3.253503124359261e-269}\n",
      "{True: 0.0, False: 3.3831769762311556e-271}\n",
      "{True: 0.0, False: 1.3461686624775234e-274}\n",
      "{True: 0.0, False: 1.4448328038727725e-285}\n",
      "{True: 0.0, False: 3.694646725133996e-278}\n",
      "{True: 0.0, False: 1.0700004153492231e-271}\n",
      "{True: 0.0, False: 4.926587700967873e-282}\n",
      "{True: 0.0, False: 3.2417840456428164e-278}\n",
      "{True: 0.0, False: 0.0}\n",
      "{True: 0.0, False: 6.284320243889754e-304}\n",
      "{True: 0.0, False: 1.7300217063462426e-289}\n",
      "{True: 0.0, False: 1.135851283997159e-291}\n",
      "{True: 0.0, False: 3.337172118878757e-275}\n",
      "{True: 0.0, False: 0.0}\n",
      "{True: 0.0, False: 7.78764949819017e-275}\n",
      "{True: 0.0, False: 1.265690933776965e-273}\n",
      "{True: 0.0, False: 4.67171521923782e-276}\n",
      "{True: 0.0, False: 1.2942511440888972e-286}\n",
      "{True: 0.0, False: 5.709689322341259e-272}\n",
      "{True: 0.0, False: 2.961297035014749e-283}\n",
      "{True: 0.0, False: 2.918998715957942e-274}\n",
      "{True: 0.0, False: 4.452577442043081e-276}\n",
      "{True: 0.0, False: 1.498764304054283e-290}\n",
      "{True: 0.0, False: 1.3625975959387122e-306}\n",
      "{True: 0.0, False: 3.7101611097028984e-275}\n",
      "{True: 0.0, False: 5.464573584361088e-288}\n",
      "{True: 0.0, False: 7.783255916281639e-281}\n",
      "{True: 0.0, False: 1.2221311432271459e-284}\n",
      "{True: 0.0, False: 1.8209677134266945e-284}\n",
      "{True: 0.0, False: 4.461675349257064e-274}\n",
      "{True: 0.0, False: 4.6087307982071436e-282}\n",
      "{True: 0.0, False: 3.3093773541741284e-285}\n",
      "{True: 0.0, False: 1.3439696504849466e-274}\n",
      "{True: 0.0, False: 7.669137431040216e-284}\n",
      "{True: 0.0, False: 1.6832350912672665e-290}\n",
      "{True: 0.0, False: 1.9540992079452092e-279}\n",
      "{True: 0.0, False: 4.4141022590083517e-268}\n",
      "{True: 0.0, False: 5.6066162474643505e-289}\n",
      "{True: 0.0, False: 2.90734553284043e-301}\n",
      "{True: 0.0, False: 3.6831231046124654e-281}\n",
      "{True: 0.0, False: 6.785085861408368e-288}\n",
      "{True: 0.0, False: 0.0}\n",
      "{True: 0.0, False: 4.839652412106871e-269}\n",
      "{True: 0.0, False: 6.079870712948336e-286}\n",
      "{True: 0.0, False: 1.1892764738573233e-287}\n",
      "{True: 0.0, False: 2.9371385302378794e-286}\n",
      "{True: 0.0, False: 8.963461890000462e-288}\n",
      "{True: 0.0, False: 7.44513949156104e-285}\n",
      "{True: 0.0, False: 0.0}\n",
      "{True: 0.0, False: 4.487195348374201e-271}\n",
      "{True: 0.0, False: 4.185411934401862e-272}\n",
      "{True: 0.0, False: 1.2253935500856e-310}\n",
      "{True: 0.0, False: 4.536137686058195e-285}\n",
      "{True: 0.0, False: 4.381359469684208e-288}\n",
      "{True: 0.0, False: 0.0}\n",
      "{True: 0.0, False: 1.7930793943810808e-285}\n",
      "{True: 0.0, False: 1.4803773508953013e-285}\n",
      "{True: 0.0, False: 7.007389679078522e-277}\n",
      "{True: 0.0, False: 6.173773163737536e-275}\n",
      "{True: 0.0, False: 4.254327200977868e-290}\n",
      "{True: 0.0, False: 1.0120484170305282e-273}\n",
      "{True: 0.0, False: 8.580425459019221e-272}\n",
      "{True: 0.0, False: 0.0}\n",
      "{True: 0.0, False: 5.68737962405748e-286}\n",
      "{True: 0.0, False: 8.534261562058739e-273}\n",
      "{True: 0.0, False: 3.638042423734324e-265}\n",
      "{True: 0.0, False: 7.271603629241736e-285}\n",
      "{True: 0.0, False: 1.3874259763461659e-275}\n",
      "{True: 0.0, False: 2.847306216826623e-302}\n",
      "{True: 0.0, False: 6.277539102976981e-276}\n",
      "{True: 0.0, False: 4.952950117262235e-266}\n",
      "{True: 0.0, False: 3.0807133796331926e-272}\n",
      "{True: 0.0, False: 3.8067562927095955e-276}\n",
      "{True: 0.0, False: 2.159284968678777e-287}\n",
      "{True: 0.0, False: 4.3058510964684656e-278}\n",
      "{True: 0.0, False: 2.1021740872419666e-290}\n",
      "{True: 0.0, False: 5.65558330319179e-285}\n",
      "{True: 0.0, False: 5.7288341435974595e-279}\n",
      "{True: 0.0, False: 3.1745679034488967e-273}\n",
      "{True: 0.0, False: 2.305797055282755e-280}\n",
      "{True: 0.0, False: 2.6627430855384e-268}\n",
      "{True: 0.0, False: 1.971036754e-314}\n",
      "{True: 0.0, False: 1.068273229874133e-296}\n",
      "{True: 0.0, False: 4.5266213994072227e-272}\n",
      "{True: 0.0, False: 1.2667722381950491e-269}\n",
      "{True: 0.0, False: 1.2217154396498018e-279}\n",
      "{True: 0.0, False: 1.791672409567e-311}\n",
      "{True: 0.0, False: 1.9366341876217954e-281}\n",
      "{True: 0.0, False: 4.787272578539215e-289}\n",
      "{True: 0.0, False: 1.6777902558924798e-292}\n",
      "{True: 0.0, False: 7.11881001447353e-278}\n",
      "{True: 0.0, False: 1.4454454190680413e-282}\n",
      "{True: 0.0, False: 9.914314087081114e-277}\n",
      "{True: 0.0, False: 9.259232477079543e-290}\n",
      "{True: 0.0, False: 3.1635537040450874e-275}\n",
      "{True: 0.0, False: 6.28560700702808e-275}\n",
      "{True: 0.0, False: 7.980720494937087e-293}\n",
      "{True: 0.0, False: 4.191364348008333e-264}\n",
      "{True: 0.0, False: 2.7694400473428616e-277}\n",
      "{True: 0.0, False: 3.658123612450107e-268}\n",
      "{True: 0.0, False: 3.3539828567671233e-276}\n",
      "{True: 0.0, False: 1.10289092263794e-284}\n",
      "{True: 0.0, False: 4.5604380721418775e-284}\n",
      "{True: 0.0, False: 1.1282629839553085e-302}\n",
      "{True: 0.0, False: 2.6295177514113617e-275}\n",
      "{True: 0.0, False: 6.545219041959218e-283}\n",
      "{True: 0.0, False: 6.170162267819374e-274}\n",
      "{True: 0.0, False: 8.895815001384114e-281}\n",
      "{True: 0.0, False: 4.4174675864834296e-263}\n",
      "{True: 0.0, False: 1.98199776125913e-280}\n",
      "{True: 0.0, False: 3.615739632879036e-270}\n",
      "{True: 0.0, False: 1.2490245661378782e-271}\n",
      "{True: 0.0, False: 2.556394345750613e-281}\n",
      "{True: 0.0, False: 0.0}\n",
      "{True: 0.0, False: 3.159048030225043e-285}\n",
      "{True: 0.0, False: 2.8309835962129205e-291}\n",
      "{True: 0.0, False: 6.557823091849225e-289}\n",
      "{True: 0.0, False: 1.7513162342367457e-305}\n",
      "{True: 0.0, False: 6.415190568777279e-273}\n",
      "{True: 0.0, False: 5.148750945370504e-283}\n",
      "{True: 0.0, False: 1.920850477492081e-279}\n",
      "{True: 0.0, False: 6.207050131141383e-274}\n",
      "{True: 0.0, False: 2.9648883251047248e-269}\n",
      "{True: 0.0, False: 6.49927556096817e-269}\n",
      "{True: 0.0, False: 3.5377145878660676e-290}\n",
      "{True: 0.0, False: 8.753747452514649e-292}\n",
      "{True: 0.0, False: 1.0058130758989333e-264}\n",
      "{True: 0.0, False: 8.541686442700928e-276}\n",
      "{True: 0.0, False: 2.8031469173659046e-281}\n",
      "{True: 0.0, False: 1.6732368131712047e-282}\n",
      "{True: 0.0, False: 1.3438739958730573e-271}\n",
      "{True: 0.0, False: 5.045288338799024e-280}\n",
      "{True: 0.0, False: 6.079946990818193e-275}\n",
      "{True: 0.0, False: 2.1135280307423254e-284}\n",
      "{True: 0.0, False: 4.9075810439169404e-275}\n",
      "{True: 0.0, False: 1.7029297187442453e-279}\n",
      "{True: 0.0, False: 3.5399761636639336e-276}\n",
      "{True: 0.0, False: 3.7252403240410776e-288}\n",
      "{True: 0.0, False: 1.3003971810418445e-277}\n",
      "{True: 0.0, False: 1.6208335443012e-289}\n",
      "{True: 0.0, False: 1.9303042543675505e-263}\n",
      "{True: 0.0, False: 1.0794536797093725e-288}\n",
      "{True: 0.0, False: 2.3379416080183526e-263}\n",
      "{True: 0.0, False: 3.961741389668405e-285}\n",
      "{True: 0.0, False: 2.404138573309574e-308}\n",
      "{True: 0.0, False: 1.7465678244123908e-279}\n",
      "{True: 0.0, False: 7.142389650985834e-280}\n",
      "{True: 0.0, False: 0.0}\n",
      "{True: 0.0, False: 3.3353346161520554e-280}\n",
      "{True: 0.0, False: 8.865281147407535e-290}\n",
      "{True: 0.0, False: 1.5040631816261411e-274}\n",
      "{True: 0.0, False: 4.2133854775163767e-281}\n",
      "{True: 0.0, False: 3.1226006696174195e-279}\n",
      "{True: 0.0, False: 7.919180131879013e-282}\n",
      "{True: 0.0, False: 1.867261979966018e-280}\n",
      "{True: 0.0, False: 0.0}\n",
      "{True: 0.0, False: 5.816990704949815e-281}\n",
      "{True: 0.0, False: 1.1669147163916275e-290}\n",
      "{True: 0.0, False: 1.1979806322282996e-274}\n",
      "{True: 0.0, False: 8.309031555055941e-291}\n",
      "{True: 0.0, False: 3.2771678354459054e-273}\n",
      "{True: 0.0, False: 6.724288656769186e-282}\n",
      "{True: 0.0, False: 1.1053886486293318e-285}\n",
      "{True: 0.0, False: 6.493024768750846e-281}\n",
      "{True: 0.0, False: 0.0}\n",
      "{True: 0.0, False: 2.609198807757758e-289}\n",
      "{True: 0.0, False: 1.3118892458329872e-306}\n",
      "{True: 0.0, False: 2.5715538030161905e-269}\n",
      "{True: 0.0, False: 8.716187841651358e-277}\n",
      "{True: 0.0, False: 3.501876064976708e-269}\n",
      "{True: 0.0, False: 4.285788268907368e-282}\n",
      "{True: 0.0, False: 3.4027961588009865e-284}\n",
      "{True: 0.0, False: 1.7666518254145866e-261}\n",
      "{True: 0.0, False: 1.7940331432076894e-263}\n",
      "{True: 0.0, False: 7.871164167918528e-265}\n",
      "{True: 0.0, False: 5.643537470698344e-281}\n",
      "{True: 0.0, False: 1.3049718776056907e-273}\n",
      "{True: 0.0, False: 7.823255656880634e-275}\n",
      "{True: 0.0, False: 4.916885143488419e-274}\n",
      "{True: 0.0, False: 1.0064721764530136e-273}\n",
      "{True: 0.0, False: 2.6074438499087567e-282}\n",
      "{True: 0.0, False: 1.1932539996008637e-287}\n",
      "{True: 0.0, False: 1.833064181404e-312}\n",
      "{True: 0.0, False: 2.6611742731850476e-268}\n",
      "{True: 0.0, False: 9.30048178627715e-283}\n",
      "{True: 0.0, False: 2.192426884887656e-282}\n",
      "{True: 0.0, False: 1.8368515217836939e-274}\n",
      "{True: 0.0, False: 2.2379132103052394e-278}\n",
      "{True: 0.0, False: 8.324127455559601e-271}\n",
      "{True: 0.0, False: 8.57182202996908e-309}\n",
      "{True: 0.0, False: 3.818722300680291e-279}\n",
      "{True: 0.0, False: 1.2689780853318674e-286}\n",
      "{True: 0.0, False: 5.7691245241074014e-276}\n",
      "{True: 0.0, False: 2.5937535874331563e-288}\n",
      "{True: 0.0, False: 5.319632148816766e-288}\n",
      "{True: 0.0, False: 3.4671882957188797e-280}\n",
      "{True: 0.0, False: 1.886660986349443e-277}\n",
      "{True: 0.0, False: 2.211443480876654e-287}\n",
      "{True: 0.0, False: 1.5652305164090706e-278}\n",
      "{True: 0.0, False: 1.8072210022892274e-273}\n",
      "{True: 0.0, False: 1.0244739909576386e-285}\n",
      "{True: 0.0, False: 2.5395800123763986e-281}\n",
      "{True: 0.0, False: 2.0957664163204546e-274}\n",
      "{True: 0.0, False: 1.8929162787187526e-289}\n",
      "{True: 0.0, False: 1.9997375846597951e-289}\n",
      "{True: 0.0, False: 7.574681956268872e-294}\n",
      "{True: 0.0, False: 1.7470187610214927e-291}\n",
      "{True: 0.0, False: 1.859367863993659e-306}\n",
      "{True: 0.0, False: 3.557496528988584e-294}\n",
      "{True: 0.0, False: 4.29335780028874e-277}\n",
      "{True: 0.0, False: 1.5435570875442155e-284}\n",
      "{True: 0.0, False: 9.271979657092084e-281}\n",
      "{True: 0.0, False: 1.2699679630606315e-280}\n",
      "{True: 0.0, False: 5.928934374336841e-281}\n",
      "{True: 0.0, False: 2.13392835527014e-281}\n",
      "{True: 0.0, False: 1.8925023330795255e-287}\n",
      "{True: 0.0, False: 8.3255508807405e-291}\n",
      "{True: 0.0, False: 0.0}\n",
      "{True: 0.0, False: 5.395067885546706e-278}\n",
      "{True: 0.0, False: 3.64998691458765e-289}\n",
      "{True: 0.0, False: 1.8929205183102626e-288}\n",
      "{True: 0.0, False: 1.6026297639443062e-277}\n",
      "{True: 0.0, False: 2.7298300423088363e-285}\n",
      "{True: 0.0, False: 3.207557088671863e-271}\n",
      "{True: 0.0, False: 4.902223051376271e-283}\n",
      "{True: 0.0, False: 4.475132996669372e-290}\n",
      "{True: 0.0, False: 1.3029163423087791e-281}\n",
      "{True: 0.0, False: 8.916914393077003e-285}\n",
      "{True: 0.0, False: 2.2417613231043646e-281}\n",
      "{True: 0.0, False: 6.142648646429727e-287}\n",
      "{True: 0.0, False: 8.529838200496894e-287}\n",
      "{True: 0.0, False: 1.5525548803656463e-283}\n",
      "{True: 0.0, False: 4.824228029381308e-277}\n",
      "{True: 0.0, False: 8.763184099741835e-273}\n",
      "{True: 0.0, False: 8.012298228793131e-291}\n",
      "{True: 0.0, False: 3.551757255554628e-286}\n",
      "{True: 0.0, False: 4.901894972185587e-304}\n",
      "{True: 0.0, False: 4.101838289933573e-273}\n",
      "{True: 0.0, False: 6.675565572835448e-277}\n",
      "{True: 0.0, False: 1.0254560783073772e-277}\n",
      "{True: 0.0, False: 5.712679127650168e-269}\n",
      "{True: 0.0, False: 7.566529543425976e-273}\n",
      "{True: 0.0, False: 2.3902843718707295e-275}\n",
      "{True: 0.0, False: 6.27737756514095e-309}\n",
      "{True: 0.0, False: 5.991910892461506e-263}\n",
      "{True: 0.0, False: 1.0973098776529648e-296}\n",
      "{True: 0.0, False: 6.788741417351994e-286}\n",
      "{True: 0.0, False: 9.417105035765219e-278}\n",
      "{True: 0.0, False: 1.1808271066218416e-283}\n",
      "{True: 0.0, False: 1.9198837372657105e-262}\n",
      "{True: 0.0, False: 1.232424426388752e-281}\n",
      "{True: 0.0, False: 1.516178414166355e-284}\n",
      "{True: 0.0, False: 3.146557017438387e-284}\n",
      "{True: 0.0, False: 6.8171226846512265e-279}\n",
      "{True: 0.0, False: 9.367690710940473e-275}\n",
      "{True: 0.0, False: 6.271134464152193e-274}\n",
      "{True: 0.0, False: 5.8000876226611145e-276}\n",
      "{True: 0.0, False: 4.828303629286478e-271}\n",
      "{True: 0.0, False: 6.517774438049086e-265}\n",
      "{True: 0.0, False: 4.001304521294289e-271}\n",
      "{True: 0.0, False: 8.829778639697757e-265}\n",
      "{True: 0.0, False: 3.3969229520564865e-287}\n",
      "{True: 0.0, False: 1.1348416081710195e-290}\n",
      "{True: 0.0, False: 2.7453935631759554e-284}\n",
      "{True: 0.0, False: 1.2903469821420486e-283}\n",
      "{True: 0.0, False: 1.4057273062652695e-271}\n",
      "{True: 0.0, False: 2.2057901384280902e-288}\n",
      "{True: 0.0, False: 0.0}\n",
      "{True: 0.0, False: 1.3910444805689853e-288}\n",
      "{True: 0.0, False: 2.0125197652131183e-283}\n",
      "{True: 0.0, False: 1.6786551131579934e-269}\n",
      "{True: 0.0, False: 2.0101098325462565e-269}\n",
      "{True: 0.0, False: 1.1418706839996756e-289}\n",
      "{True: 0.0, False: 0.0}\n",
      "{True: 0.0, False: 4.5727133391385074e-291}\n",
      "{True: 0.0, False: 8.294553471916723e-282}\n",
      "{True: 0.0, False: 3.648210868521274e-273}\n",
      "{True: 0.0, False: 2.487009312754067e-287}\n",
      "{True: 0.0, False: 1.4631018181318722e-282}\n",
      "{True: 0.0, False: 7.538612058292465e-282}\n",
      "{True: 0.0, False: 1.3823435358028896e-286}\n",
      "{True: 0.0, False: 6.420759186563993e-281}\n",
      "{True: 0.0, False: 8.054763515219309e-283}\n",
      "{True: 0.0, False: 3.47824913940013e-309}\n",
      "{True: 0.0, False: 5.184724557213286e-276}\n",
      "{True: 0.0, False: 1.6660598182577037e-276}\n",
      "{True: 0.0, False: 7.041977336203547e-266}\n",
      "{True: 0.0, False: 3.879538958120054e-289}\n",
      "{True: 0.0, False: 4.0678899908124315e-279}\n",
      "{True: 0.0, False: 8.245956811557028e-290}\n",
      "{True: 0.0, False: 5.551413659319123e-277}\n",
      "{True: 0.0, False: 3.5399384947766676e-269}\n",
      "{True: 0.0, False: 3.129138310516089e-262}\n",
      "{True: 0.0, False: 4.226831039919212e-284}\n",
      "{True: 0.0, False: 0.0}\n",
      "{True: 0.0, False: 2.3883443268346336e-270}\n",
      "{True: 0.0, False: 3.401792528309662e-286}\n",
      "{True: 0.0, False: 5.419929642107431e-281}\n",
      "{True: 0.0, False: 2.404042992751096e-274}\n",
      "{True: 0.0, False: 8.884236306955855e-289}\n",
      "{True: 0.0, False: 9.136717772644092e-277}\n",
      "{True: 0.0, False: 1.712584774197456e-269}\n",
      "{True: 0.0, False: 2.6373804639666096e-277}\n",
      "{True: 0.0, False: 3.6916116641479374e-279}\n",
      "{True: 0.0, False: 4.436920347698977e-283}\n",
      "{True: 0.0, False: 0.0}\n",
      "{True: 0.0, False: 1.729969372478903e-281}\n",
      "{True: 0.0, False: 1.6988172962807653e-277}\n",
      "{True: 0.0, False: 3.740279129170616e-288}\n",
      "{True: 0.0, False: 3.9935288474792057e-283}\n",
      "{True: 0.0, False: 3.9897194416069766e-289}\n",
      "{True: 0.0, False: 2.664575405641747e-290}\n",
      "{True: 0.0, False: 9.939289654523317e-277}\n",
      "{True: 0.0, False: 0.0}\n",
      "{True: 0.0, False: 4.809294704987173e-288}\n",
      "{True: 0.0, False: 2.253472760887187e-275}\n",
      "{True: 0.0, False: 7.543498816490331e-271}\n",
      "{True: 0.0, False: 1.7565638841379538e-265}\n",
      "{True: 0.0, False: 1.162197238730695e-287}\n",
      "{True: 0.0, False: 7.277104992952133e-274}\n",
      "{True: 0.0, False: 6.989425034724254e-286}\n",
      "{True: 0.0, False: 3.545445016362843e-284}\n",
      "{True: 0.0, False: 3.475685493191895e-281}\n",
      "{True: 0.0, False: 2.1976154614700388e-275}\n",
      "{True: 0.0, False: 5.696501142371079e-280}\n",
      "{True: 0.0, False: 3.480280425153555e-278}\n",
      "{True: 0.0, False: 1.93547432381042e-285}\n",
      "{True: 0.0, False: 3.664894539307374e-275}\n",
      "{True: 0.0, False: 1.8699991595279507e-287}\n",
      "{True: 0.0, False: 0.0}\n",
      "{True: 0.0, False: 2.215699165012822e-278}\n",
      "{True: 0.0, False: 4.730757308905897e-285}\n",
      "{True: 0.0, False: 1.8244269739210417e-291}\n",
      "{True: 0.0, False: 1.4631883101360483e-298}\n",
      "{True: 0.0, False: 5.712619225045857e-274}\n",
      "{True: 0.0, False: 6.905112304334158e-279}\n",
      "{True: 0.0, False: 3.482838503688941e-284}\n",
      "{True: 0.0, False: 0.0}\n",
      "{True: 0.0, False: 1.2657043153038424e-282}\n",
      "{True: 0.0, False: 6.941900353549728e-272}\n",
      "{True: 0.0, False: 3.0987598783540264e-292}\n",
      "{True: 0.0, False: 9.725802933474875e-265}\n",
      "{True: 0.0, False: 5.922348818718681e-291}\n",
      "{True: 0.0, False: 4.9878841007659103e-290}\n",
      "{True: 0.0, False: 4.355333811139045e-280}\n",
      "{True: 0.0, False: 6.349993684247083e-274}\n",
      "{True: 0.0, False: 1.652928699061147e-299}\n",
      "{True: 0.0, False: 3.063483658502889e-281}\n",
      "{True: 0.0, False: 1.0112718531384118e-275}\n",
      "{True: 0.0, False: 3.2420088786196882e-288}\n",
      "{True: 0.0, False: 3.4622165342237582e-264}\n",
      "{True: 0.0, False: 5.32864516812908e-266}\n",
      "{True: 0.0, False: 1.2757983411251594e-266}\n",
      "{True: 0.0, False: 2.019854728467157e-280}\n",
      "{True: 0.0, False: 1.721537521238573e-276}\n",
      "{True: 0.0, False: 4.2491441670772806e-283}\n",
      "{True: 0.0, False: 0.0}\n",
      "{True: 0.0, False: 1.0780722821844147e-275}\n",
      "{True: 0.0, False: 8.045253086694638e-269}\n",
      "{True: 0.0, False: 4.1645413305076346e-282}\n",
      "{True: 0.0, False: 1.1912634359394393e-275}\n",
      "{True: 0.0, False: 5.7820477699436625e-288}\n",
      "{True: 0.0, False: 1.9797725016848203e-288}\n",
      "{True: 0.0, False: 4.284887521166538e-289}\n",
      "{True: 0.0, False: 3.724539686030021e-274}\n",
      "{True: 0.0, False: 8.840421678145844e-269}\n",
      "{True: 0.0, False: 3.91057961123389e-282}\n",
      "{True: 0.0, False: 9.052841167845588e-275}\n",
      "{True: 0.0, False: 0.0}\n",
      "{True: 0.0, False: 1.4462903891356108e-291}\n",
      "{True: 0.0, False: 3.402823834481111e-279}\n",
      "{True: 0.0, False: 6.403903313065184e-279}\n",
      "{True: 0.0, False: 2.7923890556112017e-276}\n",
      "{True: 0.0, False: 2.9433208029282395e-263}\n",
      "{True: 0.0, False: 1.4661207722357437e-276}\n",
      "{True: 0.0, False: 7.328612370752363e-280}\n",
      "{True: 0.0, False: 5.6910012124175384e-285}\n",
      "{True: 0.0, False: 3.043893942479688e-269}\n",
      "{True: 0.0, False: 0.0}\n",
      "{True: 0.0, False: 2.675043115091005e-285}\n",
      "{True: 0.0, False: 1.1075744991781203e-265}\n",
      "{True: 0.0, False: 1.438250621528152e-268}\n",
      "{True: 0.0, False: 1.2136365424766107e-303}\n",
      "{True: 0.0, False: 1.5780237487589637e-283}\n",
      "{True: 0.0, False: 2.2094228351253275e-273}\n",
      "{True: 0.0, False: 1.313618402437488e-284}\n",
      "{True: 0.0, False: 7.467601302291348e-275}\n",
      "{True: 0.0, False: 1.9428293591466652e-283}\n",
      "{True: 0.0, False: 4.1223622165190177e-269}\n",
      "{True: 0.0, False: 4.930021464109311e-290}\n",
      "{True: 0.0, False: 6.204441382236152e-279}\n",
      "{True: 0.0, False: 2.5876556365866035e-289}\n",
      "{True: 0.0, False: 3.983319397069798e-268}\n",
      "{True: 0.0, False: 9.86734316648372e-280}\n",
      "{True: 0.0, False: 1.242027729061403e-291}\n",
      "{True: 0.0, False: 5.296576491676527e-264}\n",
      "{True: 0.0, False: 1.688912132220956e-290}\n",
      "{True: 0.0, False: 9.73834300709452e-282}\n",
      "{True: 0.0, False: 7.884147017e-314}\n",
      "{True: 0.0, False: 8.376210189192518e-294}\n",
      "{True: 0.0, False: 2.9363210586203238e-279}\n",
      "{True: 0.0, False: 1.4811034112597216e-280}\n",
      "{True: 0.0, False: 2.3593540618194996e-305}\n",
      "{True: 0.0, False: 3.603125804308102e-284}\n",
      "{True: 0.0, False: 3.827948472215701e-281}\n",
      "{True: 0.0, False: 6.411701022797709e-276}\n",
      "{True: 0.0, False: 4.667018798260723e-269}\n",
      "{True: 0.0, False: 1.2603057832108172e-300}\n",
      "{True: 0.0, False: 6.301129075043352e-287}\n",
      "{True: 0.0, False: 5.312502755595876e-277}\n",
      "{True: 0.0, False: 0.0}\n",
      "{True: 0.0, False: 5.228312474879214e-285}\n",
      "{True: 0.0, False: 4.730951205591352e-283}\n",
      "{True: 0.0, False: 5.150558024694436e-290}\n",
      "{True: 0.0, False: 5.930690241530145e-296}\n",
      "{True: 0.0, False: 4.007056981819102e-269}\n",
      "{True: 0.0, False: 1.2309368718071346e-283}\n",
      "{True: 0.0, False: 7.30450896234037e-287}\n",
      "{True: 0.0, False: 7.144585740995081e-280}\n",
      "{True: 0.0, False: 2.2457590685847094e-307}\n",
      "{True: 0.0, False: 2.2478992092774335e-284}\n",
      "{True: 0.0, False: 9.377823700379256e-288}\n",
      "{True: 0.0, False: 5.203895413308653e-286}\n",
      "{True: 0.0, False: 4.064902210659814e-278}\n",
      "{True: 0.0, False: 5.899836577236542e-284}\n",
      "{True: 0.0, False: 4.339555081441967e-284}\n",
      "{True: 0.0, False: 5.569043706134052e-265}\n",
      "{True: 0.0, False: 1.39943609548e-312}\n",
      "{True: 0.0, False: 5.51336076871936e-276}\n",
      "{True: 0.0, False: 1.775505966109073e-307}\n",
      "{True: 0.0, False: 5.4046055338693596e-282}\n",
      "{True: 0.0, False: 7.464643248698848e-288}\n",
      "{True: 0.0, False: 1.748111540840266e-286}\n",
      "{True: 0.0, False: 2.100968644820683e-280}\n",
      "{True: 0.0, False: 6.66280287121267e-286}\n",
      "{True: 0.0, False: 5.649602981141904e-276}\n",
      "{True: 0.0, False: 1.8008356944127332e-277}\n",
      "{True: 0.0, False: 2.3690768606405096e-271}\n",
      "{True: 0.0, False: 3.4118787427231567e-290}\n",
      "{True: 0.0, False: 1.3215291052290409e-282}\n",
      "{True: 0.0, False: 4.717533723683005e-283}\n",
      "{True: 0.0, False: 3.23100212839439e-291}\n",
      "{True: 0.0, False: 5.110236352727364e-277}\n",
      "{True: 0.0, False: 2.828102548709555e-282}\n",
      "{True: 0.0, False: 2.143019639822032e-278}\n",
      "{True: 0.0, False: 4.1829176501846044e-264}\n",
      "{True: 0.0, False: 1.7162661353338888e-286}\n",
      "{True: 0.0, False: 1.4010035284135583e-286}\n",
      "{True: 0.0, False: 1.5325545224981557e-269}\n",
      "{True: 0.0, False: 2.449757756646182e-290}\n",
      "{True: 0.0, False: 2.2639770361324172e-286}\n",
      "{True: 0.0, False: 6.905180026323234e-266}\n",
      "{True: 0.0, False: 1.8290492996726193e-285}\n",
      "{True: 0.0, False: 9.750541614547773e-295}\n",
      "{True: 0.0, False: 1.6256307829052833e-292}\n",
      "{True: 0.0, False: 1.2969350309505365e-279}\n",
      "{True: 0.0, False: 2.9024431904267586e-288}\n",
      "{True: 0.0, False: 1.53912071943613e-275}\n",
      "{True: 0.0, False: 1.8077343043696634e-288}\n",
      "{True: 0.0, False: 7.883445014207151e-286}\n",
      "{True: 0.0, False: 7.042309346967377e-286}\n",
      "{True: 0.0, False: 1.6516288327013718e-290}\n",
      "{True: 0.0, False: 8.539492615907607e-282}\n",
      "{True: 0.0, False: 4.915721381513397e-279}\n",
      "{True: 0.0, False: 4.9792620701671275e-285}\n",
      "{True: 0.0, False: 1.0827110857165945e-272}\n",
      "{True: 0.0, False: 8.792694007156837e-287}\n",
      "{True: 0.0, False: 2.1280795868997847e-290}\n",
      "{True: 0.0, False: 1.4569050457021208e-270}\n",
      "{True: 0.0, False: 1.4179994548983558e-264}\n",
      "{True: 0.0, False: 1.1826220525e-313}\n",
      "{True: 0.0, False: 1.9191397029126614e-267}\n",
      "{True: 0.0, False: 2.1905618604313757e-279}\n",
      "{True: 0.0, False: 3.1762132019334875e-285}\n",
      "{True: 0.0, False: 1.5311998681117066e-278}\n",
      "{True: 0.0, False: 4.3036547677795725e-279}\n",
      "{True: 0.0, False: 9.588080831387581e-272}\n",
      "{True: 0.0, False: 3.308583032380367e-288}\n",
      "{True: 0.0, False: 1.3909702196746934e-276}\n",
      "{True: 0.0, False: 2.772171103256769e-289}\n",
      "{True: 0.0, False: 2.7152001894210834e-277}\n",
      "{True: 0.0, False: 2.5426375790067122e-288}\n",
      "{True: 0.0, False: 3.979794309091422e-277}\n",
      "{True: 0.0, False: 2.9504948855579618e-279}\n",
      "{True: 0.0, False: 9.135650009642127e-281}\n",
      "{True: 0.0, False: 3.6177023559336874e-280}\n",
      "{True: 0.0, False: 2.2976371713444578e-284}\n",
      "{True: 0.0, False: 1.0055634891991105e-276}\n",
      "{True: 0.0, False: 4.0078020653391985e-276}\n",
      "{True: 0.0, False: 2.288299594281602e-283}\n",
      "{True: 0.0, False: 7.090436388088666e-271}\n",
      "{True: 0.0, False: 3.462895827924482e-274}\n",
      "{True: 0.0, False: 4.30152076554195e-280}\n",
      "{True: 0.0, False: 1.610198750045976e-289}\n",
      "{True: 0.0, False: 0.0}\n",
      "{True: 0.0, False: 2.453940758978e-311}\n",
      "{True: 0.0, False: 1.1572609312856356e-277}\n",
      "{True: 0.0, False: 1.2709623093972932e-273}\n",
      "{True: 0.0, False: 1.395007479753112e-288}\n",
      "{True: 0.0, False: 3.965722621621642e-268}\n",
      "{True: 0.0, False: 1.2883289633176437e-267}\n",
      "{True: 0.0, False: 1.0755841638411558e-273}\n",
      "{True: 0.0, False: 1.0486420084992386e-275}\n",
      "{True: 0.0, False: 4.627239297713607e-276}\n",
      "{True: 0.0, False: 3.6884008753918155e-290}\n",
      "{True: 0.0, False: 2.730965028689055e-288}\n",
      "{True: 0.0, False: 7.50566010627529e-275}\n",
      "{True: 0.0, False: 2.195323347709772e-270}\n",
      "{True: 0.0, False: 1.1342402943189579e-284}\n",
      "{True: 0.0, False: 6.883232138803232e-270}\n",
      "{True: 0.0, False: 6.402697114709053e-285}\n",
      "{True: 0.0, False: 3.0010665297687692e-291}\n",
      "{True: 0.0, False: 2.981389548376323e-286}\n",
      "{True: 0.0, False: 4.288038848771376e-301}\n",
      "{True: 0.0, False: 3.79753283066091e-273}\n",
      "{True: 0.0, False: 1.4024633956728012e-282}\n",
      "{True: 0.0, False: 7.595934328830296e-288}\n",
      "{True: 0.0, False: 5.563953577982314e-278}\n",
      "{True: 0.0, False: 1.5067200317050356e-275}\n",
      "{True: 0.0, False: 8.69065425905034e-307}\n",
      "{True: 0.0, False: 6.897668189549487e-277}\n",
      "{True: 0.0, False: 1.1107852847041945e-274}\n",
      "{True: 0.0, False: 3.4091180189331124e-264}\n",
      "{True: 0.0, False: 2.185293328164632e-283}\n",
      "{True: 0.0, False: 1.2064480581543484e-275}\n",
      "{True: 0.0, False: 5.407062833404497e-264}\n",
      "{True: 0.0, False: 2.7450847351584973e-280}\n",
      "{True: 0.0, False: 1.1103611273510393e-269}\n",
      "{True: 0.0, False: 1.1494305063258527e-280}\n",
      "[False, False, False, False, False, False, False, False, False, False, True, False, False, False, False, False, False, False, False, False, False, False, False, False, False, False, False, False, False, False, False, True, False, False, False, False, False, False, False, False, False, False, False, False, False, False, False, False, True, False, False, False, False, False, False, False, False, False, False, False, False, False, False, False, False, False, False, False, False, False, False, False, False, False, False, False, False, False, True, False, False, False, False, False, False, False, False, False, False, False, False, False, False, False, False, False, False, True, False, False, False, False, True, False, False, False, False, False, False, False, False, False, False, False, True, False, False, False, False, False, False, False, False, False, False, False, False, False, False, False, False, False, False, False, False, False, False, False, False, False, False, False, False, False, True, False, False, False, False, False, False, False, False, False, False, False, False, False, False, False, False, False, False, False, False, False, False, False, False, False, False, False, False, False, False, False, False, False, False, True, False, False, False, False, True, False, False, False, False, False, False, False, False, False, False, False, False, False, False, False, False, False, False, False, False, False, False, False, False, False, False, False, True, False, False, False, False, False, False, True, False, False, False, False, False, True, False, False, False, False, False, False, False, True, False, False, False, False, False, False, False, False, False, False, False, False, False, False, False, False, False, False, False, False, False, False, False, False, False, False, False, False, False, False, False, False, False, False, False, False, False, False, False, False, False, False, False, False, False, False, False, False, False, False, True, False, False, False, False, False, False, False, False, False, False, False, False, False, False, False, False, False, False, False, False, False, False, False, False, False, False, False, False, False, False, False, False, False, True, False, False, False, False, False, False, False, True, False, False, False, False, False, False, False, False, True, False, False, False, False, False, False, False, False, False, False, False, False, False, False, False, False, False, False, False, False, False, False, False, False, False, False, False, False, False, False, False, False, False, False, False, False, False, False, False, False, False, False, False, False, False, False, False, False, False, False, False, False, True, False, False, False, False, False, False, False, False, False, False, False, False, False, False, False, False, False, False, False, False, False, False, False, False, False, False, False, False, False, False, False, False, False, False, False, False, False, False, False, False, False, False, False, False, False, False, False, False, False, True, False, False, False, False, False, True, False, False, False, False, False, False, False, False, False, False, False, False, False, False, False, False, False, False, False, False, True, False, False, False, False, False, False, False, False, False, False, True, False, False, False, False, False, False, False, True, False, False, False, False, False, False, False, False, False, False, False, False, False, False, False, True, False, False, False, False, False, False, False, True, False, False, False, False, False, False, False, False, False, False, False, False, False, False, False, False, False, False, True, False, False, False, False, False, False, False, False, False, False, False, True, False, False, False, False, False, False, False, False, False, True, False, False, False, False, False, False, False, False, False, False, False, False, False, False, False, False, False, False, False, False, False, False, False, False, False, False, False, False, False, False, False, True, False, False, False, False, False, False, False, False, False, False, False, False, False, False, False, False, False, False, False, False, False, False, False, False, False, False, False, False, False, False, False, False, False, False, False, False, False, False, False, False, False, False, False, False, False, False, False, False, False, False, False, False, False, False, False, False, False, False, False, False, False, False, False, False, False, False, False, False, False, False, False, False, False, False, False, False, False, False, False, False, False, False, False, True, False, False, False, False, False, False, False, False, False, False, False, False, False, False, False, False, False, False, False, False, False, False, False, False, False, False, False, False, False, False, False, False, False, False]\n"
     ]
    }
   ],
   "source": [
    "test_pred = getPredictions(info, arcene_test_filtered.values)"
   ],
   "metadata": {
    "collapsed": false,
    "ExecuteTime": {
     "end_time": "2023-12-11T14:50:08.070940700Z",
     "start_time": "2023-12-11T14:50:07.651495600Z"
    }
   },
   "id": "51c15aeb333c9a35"
  },
  {
   "cell_type": "markdown",
   "source": [
    "### Visualisation des classes predites"
   ],
   "metadata": {
    "collapsed": false
   },
   "id": "6f43b42f1ad95f18"
  },
  {
   "cell_type": "code",
   "execution_count": 98,
   "outputs": [
    {
     "name": "stdout",
     "output_type": "stream",
     "text": [
      "       0  count\n",
      "0  False    669\n",
      "1   True     31\n"
     ]
    },
    {
     "data": {
      "text/plain": "<Axes: xlabel='0', ylabel='count'>"
     },
     "execution_count": 98,
     "metadata": {},
     "output_type": "execute_result"
    },
    {
     "data": {
      "text/plain": "<Figure size 640x480 with 1 Axes>",
      "image/png": "[encoded data removed]"
     },
     "metadata": {},
     "output_type": "display_data"
    }
   ],
   "source": [
    "test_pred = pd.DataFrame(test_pred)\n",
    "\n",
    "yy = test_pred.value_counts().reset_index()\n",
    "print(yy)\n",
    "sns.barplot(x=0, y='count', data=yy)"
   ],
   "metadata": {
    "collapsed": false,
    "ExecuteTime": {
     "end_time": "2023-12-11T14:50:08.290022100Z",
     "start_time": "2023-12-11T14:50:08.070940700Z"
    }
   },
   "id": "9b263709e5cbf934"
  },
  {
   "cell_type": "markdown",
   "source": [
    "# Comparaison avec l'algorithme Naive Bayes de sklearn\n",
    "Maintenant on va comparer les resultats obtenus avec notre algorithme avec ceux obtenus avec l'algorithme Naive Bayes de sklearn."
   ],
   "metadata": {
    "collapsed": false
   },
   "id": "8261f2c468a976cb"
  },
  {
   "cell_type": "code",
   "execution_count": 99,
   "outputs": [
    {
     "name": "stdout",
     "output_type": "stream",
     "text": [
      "Nombre de points mal étiquetés sur un total de 100 points : 30\n"
     ]
    }
   ],
   "source": [
    "gnb = GaussianNB()\n",
    "\n",
    "arcene_train_labels_serie = arcene_train_labels.squeeze()\n",
    "\n",
    "gnb.fit(arcene_train_filtered, arcene_train_labels_serie)\n",
    "\n",
    "y_pred = gnb.predict(arcene_valid_filtered)\n",
    "\n",
    "pred_len = len(y_pred)\n",
    "\n",
    "y_pred = y_pred.reshape(pred_len, 1)\n",
    "\n",
    "print(\"Nombre de points mal étiquetés sur un total de %d points : %d\" % (arcene_valid.shape[0], (arcene_valid_labels != y_pred).sum().iloc[0]))"
   ],
   "metadata": {
    "collapsed": false,
    "ExecuteTime": {
     "end_time": "2023-12-11T14:50:08.412360900Z",
     "start_time": "2023-12-11T14:50:08.293398300Z"
    }
   },
   "id": "5024e1f8c6b56191"
  },
  {
   "cell_type": "markdown",
   "source": [
    "### Matrice de confusion"
   ],
   "metadata": {
    "collapsed": false
   },
   "id": "2f152eafc24fe467"
  },
  {
   "cell_type": "code",
   "execution_count": 100,
   "outputs": [
    {
     "data": {
      "text/plain": "array([[37, 19],\n       [11, 33]], dtype=int64)"
     },
     "execution_count": 100,
     "metadata": {},
     "output_type": "execute_result"
    }
   ],
   "source": [
    "cm_with_sklearn = metrics.confusion_matrix(arcene_valid_labels, y_pred)\n",
    "\n",
    "cm_with_sklearn"
   ],
   "metadata": {
    "collapsed": false,
    "ExecuteTime": {
     "end_time": "2023-12-11T14:50:08.415597500Z",
     "start_time": "2023-12-11T14:50:08.312712900Z"
    }
   },
   "id": "fe71c81617ca3e17"
  },
  {
   "cell_type": "markdown",
   "source": [
    "### Visualisation de la matrice de confusion"
   ],
   "metadata": {
    "collapsed": false
   },
   "id": "cb0e41b601ea4033"
  },
  {
   "cell_type": "code",
   "execution_count": 101,
   "outputs": [
    {
     "data": {
      "text/plain": "<Figure size 640x480 with 2 Axes>",
      "image/png": "[encoded data removed]"
     },
     "metadata": {},
     "output_type": "display_data"
    }
   ],
   "source": [
    "disp = metrics.ConfusionMatrixDisplay(confusion_matrix=cm_with_sklearn, display_labels=[-1, 1])\n",
    "disp.plot()\n",
    "\n",
    "plt.show()"
   ],
   "metadata": {
    "collapsed": false,
    "ExecuteTime": {
     "end_time": "2023-12-11T14:50:08.548388300Z",
     "start_time": "2023-12-11T14:50:08.329660400Z"
    }
   },
   "id": "585f3491a2c50ab1"
  },
  {
   "cell_type": "markdown",
   "source": [],
   "metadata": {
    "collapsed": false
   },
   "id": "bb86c3f16fee649e"
  },
  {
   "cell_type": "markdown",
   "source": [
    "### Calcul des métriques\n",
    "Les métriques qui seront calculées sont :\n",
    "- Balanced Error Rate\n",
    "- Accuracy\n",
    "- Precision\n",
    "- Recall\n",
    "- F1 Score\n",
    "- AUC Score\n",
    "- ROC Curve"
   ],
   "metadata": {
    "collapsed": false
   },
   "id": "f72d1668d9978928"
  },
  {
   "cell_type": "code",
   "execution_count": 102,
   "outputs": [
    {
     "name": "stdout",
     "output_type": "stream",
     "text": [
      "Balanced Error Rate:  0.29727564102564097\n",
      "Accuracy:             0.7\n",
      "Precision:            0.702724358974359\n",
      "Recall:               0.7053571428571428\n",
      "F1 Score:             0.6995192307692308\n",
      "AUC Score:            0.7053571428571428\n"
     ]
    }
   ],
   "source": [
    "TP_with_sklearn = cm_with_sklearn[0][0]\n",
    "FP_with_sklearn = cm_with_sklearn[0][1]\n",
    "FN_with_sklearn = cm_with_sklearn[1][0]\n",
    "TN_with_sklearn = cm_with_sklearn[1][1]\n",
    "\n",
    "BER_with_sklearn = 1 - (1/2 * ((TP_with_sklearn / (TP_with_sklearn + FN_with_sklearn)) + (TN_with_sklearn / (TN_with_sklearn + FP_with_sklearn))))\n",
    "\n",
    "precision_with_sklearn = metrics.precision_score(arcene_valid_labels, y_pred, average='macro')\n",
    "\n",
    "recall_with_sklearn = metrics.recall_score(arcene_valid_labels, y_pred, average='macro')\n",
    "\n",
    "f1_score_with_sklearn = metrics.f1_score(arcene_valid_labels, y_pred, average='macro')\n",
    "\n",
    "accuracy_with_sklearn = metrics.accuracy_score(arcene_valid_labels, y_pred)\n",
    "\n",
    "auc_score_with_sklearn = metrics.roc_auc_score(arcene_valid_labels, y_pred)\n",
    "\n",
    "print('Balanced Error Rate: ', BER_with_sklearn)\n",
    "print('Accuracy:            ', accuracy_with_sklearn)\n",
    "print('Precision:           ', precision_with_sklearn)\n",
    "print('Recall:              ', recall_with_sklearn)\n",
    "print('F1 Score:            ', f1_score_with_sklearn)\n",
    "print('AUC Score:           ', auc_score_with_sklearn)"
   ],
   "metadata": {
    "collapsed": false,
    "ExecuteTime": {
     "end_time": "2023-12-11T14:50:08.630287800Z",
     "start_time": "2023-12-11T14:50:08.548906Z"
    }
   },
   "id": "108c51a8ec612361"
  },
  {
   "cell_type": "markdown",
   "source": [
    "##### Courbe ROC:"
   ],
   "metadata": {
    "collapsed": false
   },
   "id": "91a6166fd9a34808"
  },
  {
   "cell_type": "code",
   "execution_count": 103,
   "outputs": [
    {
     "data": {
      "text/plain": "<Figure size 640x480 with 1 Axes>",
      "image/png": "[encoded data removed]"
     },
     "metadata": {},
     "output_type": "display_data"
    }
   ],
   "source": [
    "fpr_with_sklearn, tpr_with_sklearn, thresh_with_sklearn = metrics.roc_curve(arcene_valid_labels, y_pred, pos_label=1)\n",
    "\n",
    "# plot roc curves\n",
    "plt.plot(fpr_with_sklearn, tpr_with_sklearn, linestyle='--',color='orange', label='Naive Bayes')\n",
    "# title\n",
    "plt.title('ROC curve')\n",
    "# x label\n",
    "plt.xlabel('False Positive Rate')\n",
    "# y label\n",
    "plt.ylabel('True Positive rate')\n",
    "\n",
    "plt.legend(loc='best')\n",
    "plt.savefig('ROC',dpi=300)\n",
    "plt.show();"
   ],
   "metadata": {
    "collapsed": false,
    "ExecuteTime": {
     "end_time": "2023-12-11T14:50:09.172402Z",
     "start_time": "2023-12-11T14:50:08.597794800Z"
    }
   },
   "id": "91ba5425ad07731e"
  },
  {
   "cell_type": "markdown",
   "source": [],
   "metadata": {
    "collapsed": false
   },
   "id": "7947bcdee8268ddc"
  },
  {
   "cell_type": "markdown",
   "source": [
    "Predire les classes des donnees de test:"
   ],
   "metadata": {
    "collapsed": false
   },
   "id": "f2e3738365ce4db"
  },
  {
   "cell_type": "code",
   "execution_count": 104,
   "outputs": [],
   "source": [
    "arcene_test_filtered_serie = arcene_test_filtered.drop([120], axis=1).squeeze()\n",
    "\n",
    "test_pred_with_sklearn = gnb.predict(arcene_test_filtered_serie)"
   ],
   "metadata": {
    "collapsed": false,
    "ExecuteTime": {
     "end_time": "2023-12-11T14:50:09.193615600Z",
     "start_time": "2023-12-11T14:50:09.172402Z"
    }
   },
   "id": "7a2412c086aed79d"
  },
  {
   "cell_type": "markdown",
   "source": [
    "### Visualisation des classes predites"
   ],
   "metadata": {
    "collapsed": false
   },
   "id": "e7f11ccbc35facbb"
  },
  {
   "cell_type": "code",
   "execution_count": 105,
   "outputs": [
    {
     "name": "stdout",
     "output_type": "stream",
     "text": [
      "       0  count\n",
      "0   True    432\n",
      "1  False    268\n"
     ]
    },
    {
     "data": {
      "text/plain": "<Axes: xlabel='0', ylabel='count'>"
     },
     "execution_count": 105,
     "metadata": {},
     "output_type": "execute_result"
    },
    {
     "data": {
      "text/plain": "<Figure size 640x480 with 1 Axes>",
      "image/png": "[encoded data removed]"
     },
     "metadata": {},
     "output_type": "display_data"
    }
   ],
   "source": [
    "test_pred_with_sklearn = pd.DataFrame(test_pred_with_sklearn)\n",
    "\n",
    "yy_with_sklearn = test_pred_with_sklearn.value_counts().reset_index()\n",
    "print(yy_with_sklearn)\n",
    "sns.barplot(x=0, y='count', data=yy_with_sklearn)"
   ],
   "metadata": {
    "collapsed": false,
    "ExecuteTime": {
     "end_time": "2023-12-11T14:50:09.390729900Z",
     "start_time": "2023-12-11T14:50:09.189891Z"
    }
   },
   "id": "c8f5e8ec820d75c6"
  },
  {
   "cell_type": "markdown",
   "source": [
    "# Implementation de l'algorithme Extreme Gradient Boosting (XGBoost):"
   ],
   "metadata": {
    "collapsed": false
   },
   "id": "99fcd2b18067cbb1"
  },
  {
   "cell_type": "code",
   "execution_count": 106,
   "outputs": [],
   "source": [
    "# from sklearn.feature_selection import RFE\n",
    "# \n",
    "# model = XGBoostClassifier()\n",
    "# \n",
    "# rfe = RFE(estimator=model, n_features_to_select=5)\n",
    "# \n",
    "# rfe = rfe.fit(arcene_train, arcene_train_labels)\n",
    "# \n",
    "# rfe.support_\n",
    "# \n",
    "# rfe.ranking_\n",
    "# \n",
    "# arcene_train_filtered_2 = rfe.transform(arcene_train)\n",
    "# \n",
    "# arcene_train_filtered_2 = pd.DataFrame(arcene_train_filtered_2)\n",
    "# \n",
    "# arcene_valid_filtered_2 = rfe.transform(arcene_valid)\n",
    "# \n",
    "# arcene_valid_filtered_2 = pd.DataFrame(arcene_valid_filtered_2)\n",
    "# \n",
    "# y_pred = model.fit(arcene_train_filtered_2, arcene_train_labels).predict(arcene_valid_filtered_2)\n",
    "# \n",
    "# pred_len = len(y_pred)\n",
    "# \n",
    "# y_pred = y_pred.reshape(pred_len, 1)\n",
    "# \n",
    "# print(\"Number of mislabeled points out of a total %d points : %d\" % (arcene_valid.shape[0], (arcene_valid_labels != y_pred).sum()))"
   ],
   "metadata": {
    "collapsed": false,
    "ExecuteTime": {
     "end_time": "2023-12-11T14:50:09.417873300Z",
     "start_time": "2023-12-11T14:50:09.396209100Z"
    }
   },
   "id": "37a91bec5a4f52a0"
  },
  {
   "cell_type": "code",
   "execution_count": 106,
   "outputs": [],
   "source": [],
   "metadata": {
    "collapsed": false,
    "ExecuteTime": {
     "end_time": "2023-12-11T14:50:09.434489Z",
     "start_time": "2023-12-11T14:50:09.401229100Z"
    }
   },
   "id": "a4d13f42e8a03d3"
  }
 ],
 "metadata": {
  "kernelspec": {
   "display_name": "Python 3",
   "language": "python",
   "name": "python3"
  },
  "language_info": {
   "codemirror_mode": {
    "name": "ipython",
    "version": 2
   },
   "file_extension": ".py",
   "mimetype": "text/x-python",
   "name": "python",
   "nbconvert_exporter": "python",
   "pygments_lexer": "ipython2",
   "version": "2.7.6"
  }
 },
 "nbformat": 4,
 "nbformat_minor": 5
}
