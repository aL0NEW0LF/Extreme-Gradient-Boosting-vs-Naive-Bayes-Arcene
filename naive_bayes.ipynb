{
 "cells": [
  {
   "cell_type": "code",
   "execution_count": 91,
   "id": "initial_id",
   "metadata": {
    "collapsed": true,
    "ExecuteTime": {
     "end_time": "2023-12-09T12:07:25.951645900Z",
     "start_time": "2023-12-09T12:07:25.922189500Z"
    }
   },
   "outputs": [],
   "source": [
    "import os\n",
    "import pandas as pd\n",
    "import numpy as np\n",
    "from scipy import stats\n",
    "import matplotlib.pyplot as plt\n",
    "import seaborn as sns\n",
    "from sklearn import metrics\n",
    "from random import seed\n",
    "from random import randrange\n",
    "from math import sqrt\n",
    "from math import exp\n",
    "from math import pi"
   ]
  },
  {
   "cell_type": "code",
   "execution_count": 92,
   "outputs": [],
   "source": [
    "arcene_train = pd.read_csv(\"./data/ARCENE/arcene_train.data\", sep=\" \", header=None).drop([10000], axis=1)\n",
    "arcene_train_labels = pd.read_csv(\"./data/ARCENE/arcene_train.labels\", sep=\" \", header=None)\n",
    "arcene_valid = pd.read_csv(\"./data/ARCENE/arcene_valid.data\", sep=\" \", header=None).drop([10000], axis=1)\n",
    "arcene_valid_labels = pd.read_csv(\"./data/arcene_valid.labels\", sep=\" \", header=None)"
   ],
   "metadata": {
    "collapsed": false,
    "ExecuteTime": {
     "end_time": "2023-12-09T12:07:26.612633100Z",
     "start_time": "2023-12-09T12:07:25.957167700Z"
    }
   },
   "id": "faac2bbffa7cdeae"
  },
  {
   "cell_type": "code",
   "execution_count": 93,
   "outputs": [
    {
     "name": "stdout",
     "output_type": "stream",
     "text": [
      "    0     1     2     3     4     5     6     7     8     9     ...  9990  \\\n",
      "0      0    71     0    95     0   538   404    20     0     0  ...   255   \n",
      "1      0    41    82   165    60   554   379     0    71     0  ...   213   \n",
      "2      0     0     1    40     0   451   402     0     0     0  ...   235   \n",
      "3      0    56    44   275    14   511   470     0     0     0  ...    91   \n",
      "4    105     0   141   348     0   268   329     0     0     1  ...   813   \n",
      "..   ...   ...   ...   ...   ...   ...   ...   ...   ...   ...  ...   ...   \n",
      "95    24    26     0   461     0   545     0    17   159   177  ...   275   \n",
      "96    40     0     0   419    71   502     0    39    93   163  ...   277   \n",
      "97     2    15    48   677     0   434   442     0    43     0  ...   211   \n",
      "98     8     0    38   205    69   419   454     0   113     3  ...   193   \n",
      "99     0     0     0   148     0   583     0     6   130   112  ...   271   \n",
      "\n",
      "    9991  9992  9993  9994  9995  9996  9997  9998  9999  \n",
      "0    570    86     0    36     0    80     0     0   524  \n",
      "1    605    69     7   473     0    57     0   284   423  \n",
      "2    593    28     0    24     0    90     0    34   508  \n",
      "3    600     0    26    86     0   102     0     0   469  \n",
      "4      0     0     0     0   190   301     0     0   354  \n",
      "..   ...   ...   ...   ...   ...   ...   ...   ...   ...  \n",
      "95   460    22    26   130   306   182     0    94   336  \n",
      "96   436     0    68    61   295   133     0     0   292  \n",
      "97   628     0     7   228     0   105     0     0   453  \n",
      "98   587   148    27   656     0   133     0   189   403  \n",
      "99   477     0     0   111   414   210     0    10   365  \n",
      "\n",
      "[100 rows x 10000 columns]\n"
     ]
    }
   ],
   "source": [
    "print(arcene_train)"
   ],
   "metadata": {
    "collapsed": false,
    "ExecuteTime": {
     "end_time": "2023-12-09T12:07:26.628112600Z",
     "start_time": "2023-12-09T12:07:26.618508100Z"
    }
   },
   "id": "dec6a0bcf24b7516"
  },
  {
   "cell_type": "code",
   "execution_count": 94,
   "outputs": [
    {
     "data": {
      "text/plain": "        0\n0    True\n1   False\n2    True\n3    True\n4   False\n..    ...\n95  False\n96  False\n97   True\n98  False\n99   True\n\n[100 rows x 1 columns]",
      "text/html": "<div>\n<style scoped>\n    .dataframe tbody tr th:only-of-type {\n        vertical-align: middle;\n    }\n\n    .dataframe tbody tr th {\n        vertical-align: top;\n    }\n\n    .dataframe thead th {\n        text-align: right;\n    }\n</style>\n<table border=\"1\" class=\"dataframe\">\n  <thead>\n    <tr style=\"text-align: right;\">\n      <th></th>\n      <th>0</th>\n    </tr>\n  </thead>\n  <tbody>\n    <tr>\n      <th>0</th>\n      <td>True</td>\n    </tr>\n    <tr>\n      <th>1</th>\n      <td>False</td>\n    </tr>\n    <tr>\n      <th>2</th>\n      <td>True</td>\n    </tr>\n    <tr>\n      <th>3</th>\n      <td>True</td>\n    </tr>\n    <tr>\n      <th>4</th>\n      <td>False</td>\n    </tr>\n    <tr>\n      <th>...</th>\n      <td>...</td>\n    </tr>\n    <tr>\n      <th>95</th>\n      <td>False</td>\n    </tr>\n    <tr>\n      <th>96</th>\n      <td>False</td>\n    </tr>\n    <tr>\n      <th>97</th>\n      <td>True</td>\n    </tr>\n    <tr>\n      <th>98</th>\n      <td>False</td>\n    </tr>\n    <tr>\n      <th>99</th>\n      <td>True</td>\n    </tr>\n  </tbody>\n</table>\n<p>100 rows × 1 columns</p>\n</div>"
     },
     "execution_count": 94,
     "metadata": {},
     "output_type": "execute_result"
    }
   ],
   "source": [
    "arcene_valid_labels = arcene_valid_labels.replace({1: True, -1: False})\n",
    "\n",
    "arcene_train_labels = arcene_train_labels.replace({1: True, -1: False})\n",
    "\n",
    "arcene_train_labels"
   ],
   "metadata": {
    "collapsed": false,
    "ExecuteTime": {
     "end_time": "2023-12-09T12:07:26.676257400Z",
     "start_time": "2023-12-09T12:07:26.630638600Z"
    }
   },
   "id": "1dbaa3334315b5c1"
  },
  {
   "cell_type": "code",
   "execution_count": 95,
   "outputs": [
    {
     "name": "stdout",
     "output_type": "stream",
     "text": [
      "    0      1      2      3      4      5      6      7      8      9      ...  \\\n",
      "0       0     71      0     95      0    538    404     20      0      0  ...   \n",
      "1       0     41     82    165     60    554    379      0     71      0  ...   \n",
      "2       0      0      1     40      0    451    402      0      0      0  ...   \n",
      "3       0     56     44    275     14    511    470      0      0      0  ...   \n",
      "4     105      0    141    348      0    268    329      0      0      1  ...   \n",
      "..    ...    ...    ...    ...    ...    ...    ...    ...    ...    ...  ...   \n",
      "95     24     26      0    461      0    545      0     17    159    177  ...   \n",
      "96     40      0      0    419     71    502      0     39     93    163  ...   \n",
      "97      2     15     48    677      0    434    442      0     43      0  ...   \n",
      "98      8      0     38    205     69    419    454      0    113      3  ...   \n",
      "99      0      0      0    148      0    583      0      6    130    112  ...   \n",
      "\n",
      "    9991   9992   9993   9994   9995   9996   9997   9998   9999   10000  \n",
      "0     570     86      0     36      0     80      0      0    524   True  \n",
      "1     605     69      7    473      0     57      0    284    423  False  \n",
      "2     593     28      0     24      0     90      0     34    508   True  \n",
      "3     600      0     26     86      0    102      0      0    469   True  \n",
      "4       0      0      0      0    190    301      0      0    354  False  \n",
      "..    ...    ...    ...    ...    ...    ...    ...    ...    ...    ...  \n",
      "95    460     22     26    130    306    182      0     94    336  False  \n",
      "96    436      0     68     61    295    133      0      0    292  False  \n",
      "97    628      0      7    228      0    105      0      0    453   True  \n",
      "98    587    148     27    656      0    133      0    189    403  False  \n",
      "99    477      0      0    111    414    210      0     10    365   True  \n",
      "\n",
      "[100 rows x 10001 columns]\n"
     ]
    }
   ],
   "source": [
    "arcene_train_concatinated = pd.concat([arcene_train, arcene_train_labels], axis=1, ignore_index=True)\n",
    "\n",
    "print(arcene_train_concatinated)"
   ],
   "metadata": {
    "collapsed": false,
    "ExecuteTime": {
     "end_time": "2023-12-09T12:07:26.695858400Z",
     "start_time": "2023-12-09T12:07:26.668158800Z"
    }
   },
   "id": "236870536f8e29e1"
  },
  {
   "cell_type": "code",
   "execution_count": 96,
   "outputs": [
    {
     "name": "stdout",
     "output_type": "stream",
     "text": [
      "       0  count\n",
      "0  False     56\n",
      "1   True     44\n"
     ]
    },
    {
     "data": {
      "text/plain": "<Axes: xlabel='0', ylabel='count'>"
     },
     "execution_count": 96,
     "metadata": {},
     "output_type": "execute_result"
    },
    {
     "data": {
      "text/plain": "<Figure size 640x480 with 1 Axes>",
      "image/png": "[encoded data removed]"
     },
     "metadata": {},
     "output_type": "display_data"
    }
   ],
   "source": [
    "xx = arcene_train_labels[0].value_counts().reset_index()\n",
    "print(xx)\n",
    "sns.barplot(x=0, y='count', data=xx)"
   ],
   "metadata": {
    "collapsed": false,
    "ExecuteTime": {
     "end_time": "2023-12-09T12:07:26.924104Z",
     "start_time": "2023-12-09T12:07:26.699411200Z"
    }
   },
   "id": "68fb99db926266c4"
  },
  {
   "cell_type": "code",
   "execution_count": 97,
   "outputs": [],
   "source": [
    "# # Naive Bayes On The Iris Dataset\n",
    "# \n",
    "# # Convert string column to float\n",
    "# def str_column_to_float(dataset, column):\n",
    "# \tfor row in dataset:\n",
    "# \t\trow[column] = float(row[column].strip())\n",
    "# \n",
    "# # Convert string column to integer\n",
    "# def str_column_to_int(dataset, column):\n",
    "# \tclass_values = [row[column] for row in dataset]\n",
    "# \tunique = set(class_values)\n",
    "# \tlookup = dict()\n",
    "# \tfor i, value in enumerate(unique):\n",
    "# \t\tlookup[value] = i\n",
    "# \tfor row in dataset:\n",
    "# \t\trow[column] = lookup[row[column]]\n",
    "# \treturn lookup\n",
    "# \n",
    "# # Split a dataset into k folds\n",
    "# def cross_validation_split(dataset, n_folds):\n",
    "# \tdataset_split = list()\n",
    "# \tdataset_copy = list(dataset)\n",
    "# \tfold_size = int(len(dataset) / n_folds)\n",
    "# \tfor _ in range(n_folds):\n",
    "# \t\tfold = list()\n",
    "# \t\twhile len(fold) < fold_size:\n",
    "# \t\t\tindex = randrange(len(dataset_copy))\n",
    "# \t\t\tfold.append(dataset_copy.pop(index))\n",
    "# \t\tdataset_split.append(fold)\n",
    "# \treturn dataset_split\n",
    "# \n",
    "# # Calculate accuracy percentage\n",
    "# def accuracy_metric(actual, predicted):\n",
    "# \tcorrect = 0\n",
    "# \tfor i in range(len(actual)):\n",
    "# \t\tif actual[i] == predicted[i]:\n",
    "# \t\t\tcorrect += 1\n",
    "# \treturn correct / float(len(actual)) * 100.0\n",
    "# \n",
    "# # Evaluate an algorithm using a cross validation split\n",
    "# def evaluate_algorithm(dataset, algorithm, n_folds, *args):\n",
    "# \tfolds = cross_validation_split(dataset, n_folds)\n",
    "# \tscores = list()\n",
    "# \tfor fold in folds:\n",
    "# \t\ttrain_set = list(folds)\n",
    "# \t\ttrain_set.remove(fold)\n",
    "# \t\ttrain_set = sum(train_set, [])\n",
    "# \t\ttest_set = list()\n",
    "# \t\tfor row in fold:\n",
    "# \t\t\trow_copy = list(row)\n",
    "# \t\t\ttest_set.append(row_copy)\n",
    "# \t\t\trow_copy[-1] = None\n",
    "# \t\tpredicted = algorithm(train_set, test_set, *args)\n",
    "# \t\tactual = [row[-1] for row in fold]\n",
    "# \t\taccuracy = accuracy_metric(actual, predicted)\n",
    "# \t\tscores.append(accuracy)\n",
    "# \treturn scores\n",
    "# \n",
    "# # Split the dataset by class values, returns a dictionary\n",
    "# def separate_by_class(dataset):\n",
    "# \tseparated = dict()\n",
    "# \tfor i in range(len(dataset)):\n",
    "# \t\tvector = dataset[i]\n",
    "# \t\tclass_value = vector[-1]\n",
    "# \t\tif (class_value not in separated):\n",
    "# \t\t\tseparated[class_value] = list()\n",
    "# \t\tseparated[class_value].append(vector)\n",
    "# \treturn separated\n",
    "# \n",
    "# # Calculate the mean of a list of numbers\n",
    "# def mean(numbers):\n",
    "# \treturn sum(numbers)/float(len(numbers))\n",
    "# \n",
    "# # Calculate the standard deviation of a list of numbers\n",
    "# def stdev(numbers):\n",
    "# \tavg = mean(numbers)\n",
    "# \tvariance = sum([(x-avg)**2 for x in numbers]) / float(len(numbers)-1)\n",
    "# \treturn sqrt(variance)\n",
    "# \n",
    "# # Calculate the mean, stdev and count for each column in a dataset\n",
    "# def summarize_dataset(dataset):\n",
    "# \tsummaries = [(mean(column), stdev(column), len(column)) for column in zip(*dataset)]\n",
    "# \tdel(summaries[-1])\n",
    "# \treturn summaries\n",
    "# \n",
    "# # Split dataset by class then calculate statistics for each row\n",
    "# def summarize_by_class(dataset):\n",
    "# \tseparated = separate_by_class(dataset)\n",
    "# \tsummaries = dict()\n",
    "# \tfor class_value, rows in separated.items():\n",
    "# \t\tsummaries[class_value] = summarize_dataset(rows)\n",
    "# \treturn summaries\n",
    "# \n",
    "# # Calculate the Gaussian probability distribution function for x\n",
    "# def calculate_probability(x, mean, stdev):\n",
    "# \texponent = exp(-((x-mean)**2 / (2 * stdev**2 )))\n",
    "# \treturn (1 / (sqrt(2 * pi) * stdev)) * exponent\n",
    "# \n",
    "# # Calculate the probabilities of predicting each class for a given row\n",
    "# def calculate_class_probabilities(summaries, row):\n",
    "# \ttotal_rows = sum([summaries[label][0][2] for label in summaries])\n",
    "# \tprobabilities = dict()\n",
    "# \tfor class_value, class_summaries in summaries.items():\n",
    "# \t\tprobabilities[class_value] = summaries[class_value][0][2]/float(total_rows)\n",
    "# \t\tfor i in range(len(class_summaries)):\n",
    "# \t\t\tmean, stdev, _ = class_summaries[i]\n",
    "# \t\t\tprobabilities[class_value] *= calculate_probability(row[i], mean, stdev)\n",
    "# \treturn probabilities\n",
    "# \n",
    "# # Predict the class for a given row\n",
    "# def predict(summaries, row):\n",
    "# \tprobabilities = calculate_class_probabilities(summaries, row)\n",
    "# \tbest_label, best_prob = None, -1\n",
    "# \tfor class_value, probability in probabilities.items():\n",
    "# \t\tif best_label is None or probability > best_prob:\n",
    "# \t\t\tbest_prob = probability\n",
    "# \t\t\tbest_label = class_value\n",
    "# \treturn best_label\n",
    "# \n",
    "# # Naive Bayes Algorithm\n",
    "# def naive_bayes(train, test):\n",
    "# \tsummarize = summarize_by_class(train)\n",
    "# \tpredictions = list()\n",
    "# \tfor row in test:\n",
    "# \t\toutput = predict(summarize, row)\n",
    "# \t\tpredictions.append(output)\n",
    "# \treturn(predictions)"
   ],
   "metadata": {
    "collapsed": false,
    "ExecuteTime": {
     "end_time": "2023-12-09T12:07:26.925103400Z",
     "start_time": "2023-12-09T12:07:26.908361500Z"
    }
   },
   "id": "ea47e56e53cf5e43"
  },
  {
   "cell_type": "code",
   "execution_count": 98,
   "outputs": [],
   "source": [
    "# model = summarize_by_class(arcene_train_concatinated)"
   ],
   "metadata": {
    "collapsed": false,
    "ExecuteTime": {
     "end_time": "2023-12-09T12:07:27.035141700Z",
     "start_time": "2023-12-09T12:07:26.915393900Z"
    }
   },
   "id": "fba5392e2b4a1fc6"
  },
  {
   "cell_type": "code",
   "execution_count": 99,
   "outputs": [
    {
     "name": "stdout",
     "output_type": "stream",
     "text": [
      "            0          1          2           3          4           5     \\\n",
      "10000                                                                       \n",
      "False  37.964286  32.607143  50.517857  329.125000  25.839286  415.821429   \n",
      "True   35.909091  38.795455  64.113636  330.795455   6.000000  407.340909   \n",
      "\n",
      "             6         7          8          9     ...        9990  \\\n",
      "10000                                              ...               \n",
      "False  176.553571  7.071429  60.178571  93.232143  ...  357.589286   \n",
      "True   303.318182  5.795455  32.886364  26.090909  ...  371.659091   \n",
      "\n",
      "             9991       9992       9993        9994        9995        9996  \\\n",
      "10000                                                                         \n",
      "False  396.125000  49.767857  22.928571  112.785714  179.107143  194.910714   \n",
      "True   396.931818  41.022727  12.204545   97.522727  147.840909  201.136364   \n",
      "\n",
      "           9997        9998        9999  \n",
      "10000                                    \n",
      "False  0.589286  104.125000  340.875000  \n",
      "True   0.068182   68.681818  397.409091  \n",
      "\n",
      "[2 rows x 10000 columns]\n",
      "            0          1          2           3          4           5     \\\n",
      "10000                                                                       \n",
      "False  54.182508  32.427642  64.859005  161.595574  28.866953  110.082962   \n",
      "True   44.091774  43.631959  73.217172  169.473134  17.519424  107.237607   \n",
      "\n",
      "             6          7          8           9     ...        9990  \\\n",
      "10000                                                ...               \n",
      "False  171.558198  13.429760  59.606927  105.765777  ...  246.541000   \n",
      "True   181.351230  12.901378  51.706783   49.371783  ...  284.100944   \n",
      "\n",
      "             9991       9992       9993        9994        9995        9996  \\\n",
      "10000                                                                         \n",
      "False  216.510177  44.777020  25.945297  158.277284  131.114201  106.005022   \n",
      "True   255.384926  51.682613  19.742033  118.669658  161.593222  122.746779   \n",
      "\n",
      "           9997        9998        9999  \n",
      "10000                                    \n",
      "False  2.794649  114.308524  105.565157  \n",
      "True   0.333949  101.355642   99.048336  \n",
      "\n",
      "[2 rows x 10000 columns]\n"
     ]
    }
   ],
   "source": [
    "mean_dataSet = arcene_train_concatinated.groupby(10000).mean()\n",
    "std_dataSet = arcene_train_concatinated.groupby(10000).std()\n",
    "print(mean_dataSet)\n",
    "print(std_dataSet)"
   ],
   "metadata": {
    "collapsed": false,
    "ExecuteTime": {
     "end_time": "2023-12-09T12:07:27.082791200Z",
     "start_time": "2023-12-09T12:07:26.923109500Z"
    }
   },
   "id": "54dd841ecca99173"
  },
  {
   "cell_type": "code",
   "execution_count": 100,
   "outputs": [
    {
     "data": {
      "text/plain": "{True: 0.44, False: 0.56}"
     },
     "execution_count": 100,
     "metadata": {},
     "output_type": "execute_result"
    }
   ],
   "source": [
    "nbresParClass = arcene_train_concatinated[10000].value_counts()\n",
    "probApriori = {label: float(nbresParClass[label]) / arcene_train_concatinated.shape[0] for label in arcene_train_concatinated[10000].unique()}\n",
    "probApriori"
   ],
   "metadata": {
    "collapsed": false,
    "ExecuteTime": {
     "end_time": "2023-12-09T12:07:27.083851600Z",
     "start_time": "2023-12-09T12:07:27.022845400Z"
    }
   },
   "id": "4fa8e4b8ed95cbc4"
  },
  {
   "cell_type": "code",
   "execution_count": 130,
   "outputs": [],
   "source": [
    "arcene_valid_concatinated = pd.concat([arcene_valid, arcene_valid_labels], axis=1, ignore_index=True)"
   ],
   "metadata": {
    "collapsed": false,
    "ExecuteTime": {
     "end_time": "2023-12-09T12:29:14.745198100Z",
     "start_time": "2023-12-09T12:29:14.707379200Z"
    }
   },
   "id": "9f7d8ccdfed6c6b9"
  },
  {
   "cell_type": "code",
   "execution_count": 131,
   "outputs": [
    {
     "name": "stdout",
     "output_type": "stream",
     "text": [
      "    0      1      2      3      4      5      6      7      8      9      ...  \\\n",
      "0       0      0    156    138      2    635    444      0      1      0  ...   \n",
      "1       0      7      0      7      0    251      0      0     22    222  ...   \n",
      "2       0     32      0    470     53    493      0      0    140    147  ...   \n",
      "3       0     77      0    202      0    432    472      0     60      0  ...   \n",
      "4       0     34    102    522      2    474    473      0     39      0  ...   \n",
      "..    ...    ...    ...    ...    ...    ...    ...    ...    ...    ...  ...   \n",
      "95     24     73      0    436     92    400      0      0    139    261  ...   \n",
      "96     11     58     50    332    109    393    122      0     75    134  ...   \n",
      "97     93     32    137    319      0    264    231     21      0      0  ...   \n",
      "98    119     12    198    339      0    289    410      0      0      4  ...   \n",
      "99    112     19    171    334      0    282    208      0      0      0  ...   \n",
      "\n",
      "    9991   9992   9993   9994   9995   9996   9997   9998   9999   10000  \n",
      "0     692     42      0     50     67     87      0      0    465  False  \n",
      "1     673      0      0     18    201    317      0     34    199  False  \n",
      "2     461     20     34    165    225     53      0     47    219  False  \n",
      "3     555     13      0    488      0     71      0    177    487   True  \n",
      "4     630      0     29    192      0     74      0      5    416   True  \n",
      "..    ...    ...    ...    ...    ...    ...    ...    ...    ...    ...  \n",
      "95    540      0     86    130    365     58     17      3     37  False  \n",
      "96    355    156     77     26    277    265      0     36    261  False  \n",
      "97      9      0      0      0    244    309      0    276    312   True  \n",
      "98      0     37      0      0    256    402      0      0    350   True  \n",
      "99      0    118      0      0    226    379      0      0    367  False  \n",
      "\n",
      "[100 rows x 10001 columns]\n"
     ]
    }
   ],
   "source": [
    "print(arcene_valid_concatinated)"
   ],
   "metadata": {
    "collapsed": false,
    "ExecuteTime": {
     "end_time": "2023-12-09T12:29:15.192791Z",
     "start_time": "2023-12-09T12:29:15.178602900Z"
    }
   },
   "id": "a9f8b72fcd0ac78b"
  },
  {
   "cell_type": "code",
   "execution_count": 138,
   "outputs": [],
   "source": [
    "# Des fonctions\n",
    "# P(xi/wj)\n",
    "def p_xi_wj(xi, wj, attrib):\n",
    "    mean = mean_dataSet.loc[wj, attrib]\n",
    "    std = std_dataSet.loc[wj, attrib]\n",
    "    epsilon = 1e-10  # Small constant to avoid division by zero\n",
    "    return stats.norm.pdf(xi, loc=mean, scale=std + epsilon)\n",
    "\n",
    "\n",
    "# P(X/wj) * P(wj)\n",
    "def p_X_wj(exemple, wj):\n",
    "\tprob = probApriori[wj]\n",
    "\tfor attrib, valeur in exemple.items():\n",
    "\t\tprint(f'P({attrib}={valeur}|{wj}) = {p_xi_wj(valeur, wj, attrib)}')\n",
    "\t\tprob *= p_xi_wj(valeur, wj, attrib)\n",
    "\treturn round(prob, 15)"
   ],
   "metadata": {
    "collapsed": false,
    "ExecuteTime": {
     "end_time": "2023-12-09T12:35:57.734361100Z",
     "start_time": "2023-12-09T12:35:57.710730600Z"
    }
   },
   "id": "981242a57ad27719"
  },
  {
   "cell_type": "code",
   "execution_count": 139,
   "outputs": [
    {
     "name": "stdout",
     "output_type": "stream",
     "text": [
      "P(0=0|True) = 0.006494177280719141\n",
      "P(1=0|True) = 0.006157870346172801\n",
      "P(2=0|True) = 0.0037135678776850562\n",
      "P(3=0|True) = 0.0003503424438426723\n",
      "P(4=0|True) = 0.02147439431683984\n",
      "P(5=89|True) = 4.539313083680255e-05\n",
      "P(6=28|True) = 0.0006948863011748524\n",
      "P(7=0|True) = 0.027954742639359747\n",
      "P(8=0|True) = 0.006302644577019169\n",
      "P(9=109|True) = 0.001972783610129914\n",
      "P(10=0|True) = 0.006164003792132489\n",
      "P(11=4|True) = 0.06645118574171066\n",
      "P(12=89|True) = 0.0025980618475903443\n",
      "P(13=115|True) = 1.3101169219509898e-12\n",
      "P(14=0|True) = 9.649409116700201e-07\n",
      "P(15=10|True) = 0.00598550979063676\n",
      "P(16=46|True) = 2.4944902649843307e-09\n",
      "P(17=0|True) = 0.3737689318588722\n",
      "P(18=0|True) = 0.0011376889462591932\n",
      "P(19=21|True) = 0.016550419674576433\n",
      "P(20=0|True) = 0.02885215312696428\n",
      "P(21=5|True) = 0.01064569093533009\n",
      "P(22=0|True) = 0.014875709043819829\n",
      "P(23=0|True) = 0.014578627227324916\n",
      "P(24=127|True) = 0.004465290516934301\n",
      "P(25=0|True) = 0.0002839725732712411\n",
      "P(26=35|True) = 0.009977453616335862\n",
      "P(27=0|True) = 0.0013696035316243646\n",
      "P(28=0|True) = 4.5813149679524357e-10\n",
      "P(29=136|True) = 0.0032524088269166003\n",
      "P(30=24|True) = 0.006171457580077181\n",
      "P(31=21|True) = 0.002913360469516683\n",
      "P(32=0|True) = 0.00470920648231374\n",
      "P(33=0|True) = 0.011900040170579778\n",
      "P(34=135|True) = 2.6976795935289957e-07\n",
      "P(35=7|True) = 0.027387819331961886\n",
      "P(36=0|True) = 0.009806772528505264\n",
      "P(37=0|True) = 0.12625779737724083\n",
      "P(38=83|True) = 0.005502666504422605\n",
      "P(39=14|True) = 0.0037947703425268995\n",
      "P(40=0|True) = 0.011031640681038735\n",
      "P(41=0|True) = 0.03272264886042531\n",
      "P(42=33|True) = 0.005647683277074721\n",
      "P(43=61|True) = 0.0006878552930844308\n",
      "P(44=114|True) = 0.0020037574719156143\n",
      "P(45=194|True) = 8.351715992013218e-07\n",
      "P(46=0|True) = 0.017109674482493783\n",
      "P(47=0|True) = 0.007760809859049017\n",
      "P(48=45|True) = 0.003020270212134713\n",
      "P(49=13|True) = 0.003345938898200725\n",
      "P(50=14|True) = 0.017315638429766127\n",
      "P(51=0|True) = 3989422804.014327\n",
      "P(52=65|True) = 0.007512394674994431\n",
      "P(53=6|True) = 0.0013483681105128573\n",
      "P(54=17|True) = 0.00441199347320261\n",
      "P(55=27|True) = 0.0014807403689788908\n",
      "P(56=18|True) = 0.010880528506564726\n",
      "P(57=0|True) = 0.009560748455483324\n",
      "P(58=147|True) = 2.9063669029404985e-94\n",
      "P(59=122|True) = 0.003270865223732505\n",
      "P(60=0|True) = 0.0011056607364930062\n",
      "P(61=0|True) = 0.00396092408752131\n",
      "P(62=37|True) = 0.0014220827522807877\n",
      "P(63=18|True) = 0.005025694448622939\n",
      "P(64=1|True) = 0.01398113209820436\n",
      "P(65=0|True) = 0.0071835352763233405\n",
      "P(66=7|True) = 0.01246576403202895\n",
      "P(67=71|True) = 0.005801525662853075\n",
      "P(68=0|True) = 6.476268082577875e-07\n",
      "P(69=4|True) = 0.007004071126618241\n",
      "P(70=122|True) = 0.004106869249404429\n",
      "P(71=0|True) = 0.019749733070299924\n",
      "P(72=128|True) = 1.5276495642241943e-11\n",
      "P(73=0|True) = 0.0009885415987430798\n",
      "P(74=0|True) = 0.007441329892987361\n",
      "P(75=17|True) = 0.004007592990371514\n",
      "P(76=10|True) = 0.016235313669273214\n",
      "P(77=15|True) = 0.019607888047337586\n",
      "P(78=141|True) = 2.748976544011904e-09\n",
      "P(79=0|True) = 0.018065492865300445\n",
      "P(80=48|True) = 0.005726677148540704\n",
      "P(81=0|True) = 0.015692563051226877\n",
      "P(82=7|True) = 0.0012879707447161688\n",
      "P(83=0|True) = 0.01218057067277783\n",
      "P(84=0|True) = 0.05742465035819434\n",
      "P(85=34|True) = 0.005604898796986571\n",
      "P(86=114|True) = 4.981462638225032e-09\n",
      "P(87=0|True) = 0.012714036291095009\n",
      "P(88=130|True) = 2.936269103954537e-20\n",
      "P(89=10|True) = 0.004825023088200761\n",
      "P(90=0|True) = 0.00039282942247694164\n",
      "P(91=53|True) = 0.0022235658000790415\n",
      "P(92=14|True) = 0.005732875924870652\n",
      "P(93=57|True) = 0.006764461375305821\n",
      "P(94=0|True) = 0.007296080736725062\n",
      "P(95=24|True) = 0.01551801919692501\n",
      "P(96=11|True) = 0.015482904486195178\n",
      "P(97=93|True) = 0.003595539637655614\n",
      "P(98=119|True) = 1.8360634829091268e-09\n",
      "P(99=112|True) = 6.588228669986798e-25\n",
      "0.0\n",
      "P(0=0|False) = 0.005760282109305599\n",
      "P(1=0|False) = 0.007420561963348188\n",
      "P(2=0|False) = 0.00454154947476227\n",
      "P(3=0|False) = 0.00031024437735937014\n",
      "P(4=0|False) = 0.009258134148308166\n",
      "P(5=89|False) = 4.417940283222761e-05\n",
      "P(6=28|False) = 0.00159838873830339\n",
      "P(7=0|False) = 0.025860498031952818\n",
      "P(8=0|False) = 0.004020509887961389\n",
      "P(9=109|False) = 0.0037302561504795034\n",
      "P(10=0|False) = 0.004339625426280389\n",
      "P(11=4|False) = 0.0352215498012788\n",
      "P(12=89|False) = 0.003206193547917621\n",
      "P(13=115|False) = 8.742328662892063e-22\n",
      "P(14=0|False) = 2.068911702197468e-06\n",
      "P(15=10|False) = 0.003513475741220084\n",
      "P(16=46|False) = 0.0002601688786697003\n",
      "P(17=0|False) = 0.7397184630085397\n",
      "P(18=0|False) = 0.0009253047063352953\n",
      "P(19=21|False) = 0.00872235707359581\n",
      "P(20=0|False) = 0.013382421700712924\n",
      "P(21=5|False) = 0.01898678874720155\n",
      "P(22=0|False) = 0.014730083790535769\n",
      "P(23=0|False) = 0.0057537548903759134\n",
      "P(24=127|False) = 0.0042569015150091365\n",
      "P(25=0|False) = 0.0001609868764589474\n",
      "P(26=35|False) = 0.011488394515873971\n",
      "P(27=0|False) = 0.0024076157524663615\n",
      "P(28=0|False) = 1.9576323552543165e-09\n",
      "P(29=136|False) = 0.0040319955143012275\n",
      "P(30=24|False) = 0.00920485987833556\n",
      "P(31=21|False) = 0.0035074246124134323\n",
      "P(32=0|False) = 0.0037718448500381426\n",
      "P(33=0|False) = 0.004886529004632919\n",
      "P(34=135|False) = 0.00037783814275886346\n",
      "P(35=7|False) = 0.017353332399980836\n",
      "P(36=0|False) = 0.021687152250889966\n",
      "P(37=0|False) = 0.035290581096863845\n",
      "P(38=83|False) = 0.0025008942417264887\n",
      "P(39=14|False) = 0.005039181870812808\n",
      "P(40=0|False) = 0.012643476870421472\n",
      "P(41=0|False) = 0.03137554449936145\n",
      "P(42=33|False) = 0.003069113336023078\n",
      "P(43=61|False) = 5.570541493681222e-07\n",
      "P(44=114|False) = 0.001342403229548842\n",
      "P(45=194|False) = 1.0661994627236162e-07\n",
      "P(46=0|False) = 0.008293150605336995\n",
      "P(47=0|False) = 0.0049922866019557685\n",
      "P(48=45|False) = 0.010138800630401448\n",
      "P(49=13|False) = 0.003252834740229772\n",
      "P(50=14|False) = 0.010863055346332237\n",
      "P(51=0|False) = 0.03574093710611865\n",
      "P(52=65|False) = 0.008499050453879437\n",
      "P(53=6|False) = 0.0019365691110184457\n",
      "P(54=17|False) = 0.005399841053389701\n",
      "P(55=27|False) = 0.0017449823523197146\n",
      "P(56=18|False) = 0.01806166790613451\n",
      "P(57=0|False) = 0.01056285304983293\n",
      "P(58=147|False) = 3.581814161076768e-60\n",
      "P(59=122|False) = 0.003507335780739812\n",
      "P(60=0|False) = 0.0007087283968140188\n",
      "P(61=0|False) = 0.004717822125173231\n",
      "P(62=37|False) = 0.0005784758978823874\n",
      "P(63=18|False) = 0.006215543048102641\n",
      "P(64=1|False) = 0.011359191751258844\n",
      "P(65=0|False) = 0.002717413594470265\n",
      "P(66=7|False) = 0.02270160319625302\n",
      "P(67=71|False) = 0.006023540814089791\n",
      "P(68=0|False) = 1.393783553645917e-06\n",
      "P(69=4|False) = 0.012489978584285268\n",
      "P(70=122|False) = 0.004126117627715276\n",
      "P(71=0|False) = 0.02491223534863406\n",
      "P(72=128|False) = 9.79323559928631e-07\n",
      "P(73=0|False) = 0.0022139821590071154\n",
      "P(74=0|False) = 0.0057247828381473305\n",
      "P(75=17|False) = 0.004629356389906928\n",
      "P(76=10|False) = 0.015729977214792832\n",
      "P(77=15|False) = 9.03805028196336e-06\n",
      "P(78=141|False) = 1.8684252148469098e-07\n",
      "P(79=0|False) = 0.0301952217462386\n",
      "P(80=48|False) = 0.010122081984076929\n",
      "P(81=0|False) = 0.013488390865384826\n",
      "P(82=7|False) = 0.0009722822433410533\n",
      "P(83=0|False) = 0.013427169021474365\n",
      "P(84=0|False) = 0.085413772686745\n",
      "P(85=34|False) = 0.014276219817009633\n",
      "P(86=114|False) = 1.6618334063959097e-06\n",
      "P(87=0|False) = 0.016555591575438015\n",
      "P(88=130|False) = 8.24271309515523e-12\n",
      "P(89=10|False) = 0.0029996829018866834\n",
      "P(90=0|False) = 0.0002095517068583405\n",
      "P(91=53|False) = 0.0013907934453337703\n",
      "P(92=14|False) = 0.005608142126659992\n",
      "P(93=57|False) = 0.005742885194604374\n",
      "P(94=0|False) = 0.033365144522744965\n",
      "P(95=24|False) = 0.016999741248583073\n",
      "P(96=11|False) = 0.007441765449142824\n",
      "P(97=93|False) = 0.0038598340332812006\n",
      "P(98=119|False) = 6.410239742454623e-08\n",
      "P(99=112|False) = 4.644712826863484e-21\n",
      "0.0\n"
     ]
    }
   ],
   "source": [
    "print(p_X_wj(arcene_valid_concatinated[0], True))\n",
    "\n",
    "print(p_X_wj(arcene_valid_concatinated[0], False))"
   ],
   "metadata": {
    "collapsed": false,
    "ExecuteTime": {
     "end_time": "2023-12-09T12:35:58.663795500Z",
     "start_time": "2023-12-09T12:35:58.553702100Z"
    }
   },
   "id": "1943aa43c415313c"
  },
  {
   "cell_type": "code",
   "execution_count": 129,
   "outputs": [
    {
     "name": "stdout",
     "output_type": "stream",
     "text": [
      "Exemple 0: 0         0\n",
      "1         0\n",
      "2       156\n",
      "3       138\n",
      "4         2\n",
      "       ... \n",
      "9995     67\n",
      "9996     87\n",
      "9997      0\n",
      "9998      0\n",
      "9999    465\n",
      "Name: 0, Length: 10000, dtype: int64 | [ True False]\n",
      "Individual probabilities: [0.0, 0.0]\n",
      "0.0\n",
      "Exemple 1: 0         0\n",
      "1         7\n",
      "2         0\n",
      "3         7\n",
      "4         0\n",
      "       ... \n",
      "9995    201\n",
      "9996    317\n",
      "9997      0\n",
      "9998     34\n",
      "9999    199\n",
      "Name: 1, Length: 10000, dtype: int64 | [ True False]\n"
     ]
    },
    {
     "name": "stderr",
     "output_type": "stream",
     "text": [
      "C:\\Users\\legion\\AppData\\Local\\Temp\\ipykernel_20660\\2497832759.py:18: FutureWarning: Setting an item of incompatible dtype is deprecated and will raise in a future error of pandas. Value 'True' has dtype incompatible with float64, please explicitly cast to a compatible dtype first.\n",
      "  arcene_valid_concatinated.loc[index, 'classe calculée'] = labels[probCond.index(max(probCond))]\n",
      "C:\\Users\\legion\\AppData\\Local\\Temp\\ipykernel_20660\\2497832759.py:21: RuntimeWarning: invalid value encountered in scalar divide\n",
      "  arcene_valid_concatinated.loc[index, labels[i]] = probCond[i] / total_prob\n"
     ]
    },
    {
     "name": "stdout",
     "output_type": "stream",
     "text": [
      "Individual probabilities: [0.0, 0.0]\n",
      "0.0\n",
      "Exemple 2: 0         0\n",
      "1        32\n",
      "2         0\n",
      "3       470\n",
      "4        53\n",
      "       ... \n",
      "9995    225\n",
      "9996     53\n",
      "9997      0\n",
      "9998     47\n",
      "9999    219\n",
      "Name: 2, Length: 10000, dtype: int64 | [ True False]\n",
      "Individual probabilities: [0.0, 0.0]\n",
      "0.0\n",
      "Exemple 3: 0         0\n",
      "1        77\n",
      "2         0\n",
      "3       202\n",
      "4         0\n",
      "       ... \n",
      "9995      0\n",
      "9996     71\n",
      "9997      0\n",
      "9998    177\n",
      "9999    487\n",
      "Name: 3, Length: 10000, dtype: int64 | [ True False]\n",
      "Individual probabilities: [0.0, 0.0]\n",
      "0.0\n",
      "Exemple 4: 0         0\n",
      "1        34\n",
      "2       102\n",
      "3       522\n",
      "4         2\n",
      "       ... \n",
      "9995      0\n",
      "9996     74\n",
      "9997      0\n",
      "9998      5\n",
      "9999    416\n",
      "Name: 4, Length: 10000, dtype: int64 | [ True False]\n",
      "Individual probabilities: [0.0, 0.0]\n",
      "0.0\n",
      "Exemple 5: 0        89\n",
      "1        31\n",
      "2       156\n",
      "3       334\n",
      "4         0\n",
      "       ... \n",
      "9995    212\n",
      "9996    345\n",
      "9997      0\n",
      "9998    390\n",
      "9999    356\n",
      "Name: 5, Length: 10000, dtype: int64 | [ True False]\n",
      "Individual probabilities: [0.0, 0.0]\n",
      "0.0\n",
      "Exemple 6: 0        28\n",
      "1         1\n",
      "2         0\n",
      "3       400\n",
      "4       101\n",
      "       ... \n",
      "9995    275\n",
      "9996     11\n",
      "9997      0\n",
      "9998    174\n",
      "9999    256\n",
      "Name: 6, Length: 10000, dtype: int64 | [ True False]\n",
      "Individual probabilities: [0.0, 0.0]\n",
      "0.0\n",
      "Exemple 7: 0         0\n",
      "1        24\n",
      "2         0\n",
      "3       501\n",
      "4         0\n",
      "       ... \n",
      "9995    509\n",
      "9996    229\n",
      "9997      0\n",
      "9998     32\n",
      "9999    272\n",
      "Name: 7, Length: 10000, dtype: int64 | [ True False]\n",
      "Individual probabilities: [0.0, 0.0]\n",
      "0.0\n",
      "Exemple 8: 0         0\n",
      "1        23\n",
      "2         0\n",
      "3       441\n",
      "4        73\n",
      "       ... \n",
      "9995    285\n",
      "9996    194\n",
      "9997      0\n",
      "9998      0\n",
      "9999    218\n",
      "Name: 8, Length: 10000, dtype: int64 | [ True False]\n",
      "Individual probabilities: [0.0, 0.0]"
     ]
    },
    {
     "ename": "KeyboardInterrupt",
     "evalue": "",
     "output_type": "error",
     "traceback": [
      "\u001B[1;31m---------------------------------------------------------------------------\u001B[0m",
      "\u001B[1;31mKeyboardInterrupt\u001B[0m                         Traceback (most recent call last)",
      "Cell \u001B[1;32mIn[129], line 15\u001B[0m\n\u001B[0;32m     13\u001B[0m \u001B[38;5;28mprint\u001B[39m(\u001B[38;5;124mf\u001B[39m\u001B[38;5;124m'\u001B[39m\u001B[38;5;124mExemple \u001B[39m\u001B[38;5;132;01m{\u001B[39;00mindex\u001B[38;5;132;01m}\u001B[39;00m\u001B[38;5;124m: \u001B[39m\u001B[38;5;132;01m{\u001B[39;00mrow\u001B[38;5;132;01m}\u001B[39;00m\u001B[38;5;124m | \u001B[39m\u001B[38;5;132;01m{\u001B[39;00mlabels\u001B[38;5;132;01m}\u001B[39;00m\u001B[38;5;124m'\u001B[39m)\n\u001B[0;32m     14\u001B[0m probCond \u001B[38;5;241m=\u001B[39m [p_X_wj(row, label) \u001B[38;5;28;01mfor\u001B[39;00m label \u001B[38;5;129;01min\u001B[39;00m labels]\n\u001B[1;32m---> 15\u001B[0m \u001B[38;5;28mprint\u001B[39m(\u001B[38;5;124mf\u001B[39m\u001B[38;5;124m'\u001B[39m\u001B[38;5;124mIndividual probabilities: \u001B[39m\u001B[38;5;132;01m{\u001B[39;00mprobCond\u001B[38;5;132;01m}\u001B[39;00m\u001B[38;5;124m'\u001B[39m)\n\u001B[0;32m     16\u001B[0m total_prob \u001B[38;5;241m=\u001B[39m \u001B[38;5;28msum\u001B[39m(probCond)\n\u001B[0;32m     17\u001B[0m \u001B[38;5;28mprint\u001B[39m(total_prob)\n",
      "File \u001B[1;32mD:\\FST\\MST - AIDS\\S1\\ML\\PROJECTS\\DEVOIR2\\venv\\Lib\\site-packages\\ipykernel\\iostream.py:662\u001B[0m, in \u001B[0;36mOutStream.write\u001B[1;34m(self, string)\u001B[0m\n\u001B[0;32m    660\u001B[0m     \u001B[38;5;28mself\u001B[39m\u001B[38;5;241m.\u001B[39mpub_thread\u001B[38;5;241m.\u001B[39mschedule(\u001B[38;5;28mself\u001B[39m\u001B[38;5;241m.\u001B[39m_flush)\n\u001B[0;32m    661\u001B[0m \u001B[38;5;28;01melse\u001B[39;00m:\n\u001B[1;32m--> 662\u001B[0m     \u001B[38;5;28;43mself\u001B[39;49m\u001B[38;5;241;43m.\u001B[39;49m\u001B[43m_schedule_flush\u001B[49m\u001B[43m(\u001B[49m\u001B[43m)\u001B[49m\n\u001B[0;32m    664\u001B[0m \u001B[38;5;28;01mreturn\u001B[39;00m \u001B[38;5;28mlen\u001B[39m(string)\n",
      "File \u001B[1;32mD:\\FST\\MST - AIDS\\S1\\ML\\PROJECTS\\DEVOIR2\\venv\\Lib\\site-packages\\ipykernel\\iostream.py:559\u001B[0m, in \u001B[0;36mOutStream._schedule_flush\u001B[1;34m(self)\u001B[0m\n\u001B[0;32m    556\u001B[0m \u001B[38;5;28;01mdef\u001B[39;00m \u001B[38;5;21m_schedule_in_thread\u001B[39m():\n\u001B[0;32m    557\u001B[0m     \u001B[38;5;28mself\u001B[39m\u001B[38;5;241m.\u001B[39m_io_loop\u001B[38;5;241m.\u001B[39mcall_later(\u001B[38;5;28mself\u001B[39m\u001B[38;5;241m.\u001B[39mflush_interval, \u001B[38;5;28mself\u001B[39m\u001B[38;5;241m.\u001B[39m_flush)\n\u001B[1;32m--> 559\u001B[0m \u001B[38;5;28;43mself\u001B[39;49m\u001B[38;5;241;43m.\u001B[39;49m\u001B[43mpub_thread\u001B[49m\u001B[38;5;241;43m.\u001B[39;49m\u001B[43mschedule\u001B[49m\u001B[43m(\u001B[49m\u001B[43m_schedule_in_thread\u001B[49m\u001B[43m)\u001B[49m\n",
      "File \u001B[1;32mD:\\FST\\MST - AIDS\\S1\\ML\\PROJECTS\\DEVOIR2\\venv\\Lib\\site-packages\\ipykernel\\iostream.py:266\u001B[0m, in \u001B[0;36mIOPubThread.schedule\u001B[1;34m(self, f)\u001B[0m\n\u001B[0;32m    264\u001B[0m     \u001B[38;5;28mself\u001B[39m\u001B[38;5;241m.\u001B[39m_events\u001B[38;5;241m.\u001B[39mappend(f)\n\u001B[0;32m    265\u001B[0m     \u001B[38;5;66;03m# wake event thread (message content is ignored)\u001B[39;00m\n\u001B[1;32m--> 266\u001B[0m     \u001B[38;5;28;43mself\u001B[39;49m\u001B[38;5;241;43m.\u001B[39;49m\u001B[43m_event_pipe\u001B[49m\u001B[38;5;241;43m.\u001B[39;49m\u001B[43msend\u001B[49m\u001B[43m(\u001B[49m\u001B[38;5;124;43mb\u001B[39;49m\u001B[38;5;124;43m\"\u001B[39;49m\u001B[38;5;124;43m\"\u001B[39;49m\u001B[43m)\u001B[49m\n\u001B[0;32m    267\u001B[0m \u001B[38;5;28;01melse\u001B[39;00m:\n\u001B[0;32m    268\u001B[0m     f()\n",
      "File \u001B[1;32mD:\\FST\\MST - AIDS\\S1\\ML\\PROJECTS\\DEVOIR2\\venv\\Lib\\site-packages\\zmq\\sugar\\socket.py:696\u001B[0m, in \u001B[0;36mSocket.send\u001B[1;34m(self, data, flags, copy, track, routing_id, group)\u001B[0m\n\u001B[0;32m    689\u001B[0m         data \u001B[38;5;241m=\u001B[39m zmq\u001B[38;5;241m.\u001B[39mFrame(\n\u001B[0;32m    690\u001B[0m             data,\n\u001B[0;32m    691\u001B[0m             track\u001B[38;5;241m=\u001B[39mtrack,\n\u001B[0;32m    692\u001B[0m             copy\u001B[38;5;241m=\u001B[39mcopy \u001B[38;5;129;01mor\u001B[39;00m \u001B[38;5;28;01mNone\u001B[39;00m,\n\u001B[0;32m    693\u001B[0m             copy_threshold\u001B[38;5;241m=\u001B[39m\u001B[38;5;28mself\u001B[39m\u001B[38;5;241m.\u001B[39mcopy_threshold,\n\u001B[0;32m    694\u001B[0m         )\n\u001B[0;32m    695\u001B[0m     data\u001B[38;5;241m.\u001B[39mgroup \u001B[38;5;241m=\u001B[39m group\n\u001B[1;32m--> 696\u001B[0m \u001B[38;5;28;01mreturn\u001B[39;00m \u001B[38;5;28;43msuper\u001B[39;49m\u001B[43m(\u001B[49m\u001B[43m)\u001B[49m\u001B[38;5;241;43m.\u001B[39;49m\u001B[43msend\u001B[49m\u001B[43m(\u001B[49m\u001B[43mdata\u001B[49m\u001B[43m,\u001B[49m\u001B[43m \u001B[49m\u001B[43mflags\u001B[49m\u001B[38;5;241;43m=\u001B[39;49m\u001B[43mflags\u001B[49m\u001B[43m,\u001B[49m\u001B[43m \u001B[49m\u001B[43mcopy\u001B[49m\u001B[38;5;241;43m=\u001B[39;49m\u001B[43mcopy\u001B[49m\u001B[43m,\u001B[49m\u001B[43m \u001B[49m\u001B[43mtrack\u001B[49m\u001B[38;5;241;43m=\u001B[39;49m\u001B[43mtrack\u001B[49m\u001B[43m)\u001B[49m\n",
      "File \u001B[1;32mzmq\\\\backend\\\\cython\\\\socket.pyx:742\u001B[0m, in \u001B[0;36mzmq.backend.cython.socket.Socket.send\u001B[1;34m()\u001B[0m\n",
      "File \u001B[1;32mzmq\\\\backend\\\\cython\\\\socket.pyx:789\u001B[0m, in \u001B[0;36mzmq.backend.cython.socket.Socket.send\u001B[1;34m()\u001B[0m\n",
      "File \u001B[1;32mzmq\\\\backend\\\\cython\\\\socket.pyx:250\u001B[0m, in \u001B[0;36mzmq.backend.cython.socket._send_copy\u001B[1;34m()\u001B[0m\n",
      "File \u001B[1;32mD:\\FST\\MST - AIDS\\S1\\ML\\PROJECTS\\DEVOIR2\\venv\\Lib\\site-packages\\zmq\\backend\\cython\\checkrc.pxd:13\u001B[0m, in \u001B[0;36mzmq.backend.cython.checkrc._check_rc\u001B[1;34m()\u001B[0m\n",
      "\u001B[1;31mKeyboardInterrupt\u001B[0m: "
     ]
    }
   ],
   "source": [
    "labels = arcene_train_concatinated[10000].unique()\n",
    "\n",
    "# Extraire les colonnes sans classes\n",
    "data = arcene_valid_concatinated.drop([10000], axis=1)\n",
    "\n",
    "total_prob = 0\n",
    "\n",
    "arcene_valid_concatinated['classe calculée'] = np.nan\n",
    "for i in range(len(labels)):\n",
    "\tarcene_valid_concatinated[labels[i]] = np.nan\n",
    "# Faire pour chaque exemple test\n",
    "for index, row in data.iterrows():\n",
    "\tprint(f'Exemple {index}: {row} | {labels}')\n",
    "\tprobCond = [p_X_wj(row, label) for label in labels]\n",
    "\tprint(f'Individual probabilities: {probCond}')\n",
    "\ttotal_prob = sum(probCond)\n",
    "\tprint(total_prob)\n",
    "\tarcene_valid_concatinated.loc[index, 'classe calculée'] = labels[probCond.index(max(probCond))]\n",
    "\tfor i in range(len(labels)):\n",
    "\t\tif probCond[i] == max(probCond):\n",
    "\t\t\tarcene_valid_concatinated.loc[index, labels[i]] = probCond[i] / total_prob\n",
    "\t\telse:\n",
    "\t\t\tarcene_valid_concatinated.loc[index, labels[i]] = 0"
   ],
   "metadata": {
    "collapsed": false,
    "ExecuteTime": {
     "end_time": "2023-12-09T12:28:53.519787900Z",
     "start_time": "2023-12-09T12:28:28.536367600Z"
    }
   },
   "id": "5f9eb490bbf4efda"
  },
  {
   "cell_type": "code",
   "execution_count": null,
   "outputs": [],
   "source": [
    "print(arcene_valid_concatinated)"
   ],
   "metadata": {
    "collapsed": false,
    "ExecuteTime": {
     "start_time": "2023-12-09T12:28:53.513780200Z"
    }
   },
   "id": "cd971c1b5b1b1369"
  },
  {
   "cell_type": "code",
   "execution_count": null,
   "outputs": [],
   "source": [
    "arcene_valid_concatinated = arcene_valid_concatinated.drop([-1], axis=1)\n",
    "# arcene_valid_concatinated = arcene_valid.fillna(arcene_valid_concatinated.mean())"
   ],
   "metadata": {
    "collapsed": false,
    "ExecuteTime": {
     "start_time": "2023-12-09T12:28:53.516818Z"
    }
   },
   "id": "7bebfa81ff0787f2"
  },
  {
   "cell_type": "code",
   "execution_count": null,
   "outputs": [],
   "source": [
    "print(arcene_valid_concatinated)"
   ],
   "metadata": {
    "collapsed": false,
    "ExecuteTime": {
     "start_time": "2023-12-09T12:28:53.521812700Z"
    }
   },
   "id": "4ec16d265b414cd9"
  },
  {
   "cell_type": "code",
   "execution_count": null,
   "outputs": [],
   "source": [
    "metrics.accuracy_score(arcene_valid_concatinated[10000], arcene_valid_concatinated['classe calculée'])"
   ],
   "metadata": {
    "collapsed": false,
    "ExecuteTime": {
     "start_time": "2023-12-09T12:28:53.523437700Z"
    }
   },
   "id": "5d3d86a6c2ea9130"
  },
  {
   "cell_type": "code",
   "execution_count": null,
   "outputs": [],
   "source": [
    "cm = metrics.confusion_matrix(arcene_valid_concatinated[10000], arcene_valid_concatinated['classe calculée'])\n",
    "\n",
    "cm"
   ],
   "metadata": {
    "collapsed": false,
    "ExecuteTime": {
     "end_time": "2023-12-09T12:28:53.528557300Z",
     "start_time": "2023-12-09T12:28:53.524526600Z"
    }
   },
   "id": "dc8776679b50d1b1"
  },
  {
   "cell_type": "code",
   "execution_count": null,
   "outputs": [],
   "source": [
    "disp = metrics.ConfusionMatrixDisplay(confusion_matrix=cm, display_labels=[-1, 1])\n",
    "disp.plot()\n",
    "\n",
    "plt.show()"
   ],
   "metadata": {
    "collapsed": false,
    "ExecuteTime": {
     "start_time": "2023-12-09T12:28:53.527516800Z"
    }
   },
   "id": "f5d4befa7fc1b75d"
  },
  {
   "cell_type": "code",
   "execution_count": null,
   "outputs": [],
   "source": [],
   "metadata": {
    "collapsed": false,
    "ExecuteTime": {
     "end_time": "2023-12-09T12:28:53.530038800Z",
     "start_time": "2023-12-09T12:28:53.529523Z"
    }
   },
   "id": "2cd0195c81ddd9ae"
  }
 ],
 "metadata": {
  "kernelspec": {
   "display_name": "Python 3",
   "language": "python",
   "name": "python3"
  },
  "language_info": {
   "codemirror_mode": {
    "name": "ipython",
    "version": 2
   },
   "file_extension": ".py",
   "mimetype": "text/x-python",
   "name": "python",
   "nbconvert_exporter": "python",
   "pygments_lexer": "ipython2",
   "version": "2.7.6"
  }
 },
 "nbformat": 4,
 "nbformat_minor": 5
}
